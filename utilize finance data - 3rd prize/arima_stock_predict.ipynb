{
 "cells": [
  {
   "cell_type": "code",
   "execution_count": 105,
   "id": "73e72d39",
   "metadata": {},
   "outputs": [],
   "source": [
    "import pandas as pd\n",
    "import os\n",
    "import FinanceDataReader as fdr\n",
    "import numpy as np\n",
    "import math\n",
    "import datetime\n",
    "import matplotlib.pyplot as plt\n",
    "from tqdm import tqdm\n",
    "from pmdarima.arima import auto_arima"
   ]
  },
  {
   "cell_type": "code",
   "execution_count": 106,
   "id": "fe9149a0",
   "metadata": {},
   "outputs": [],
   "source": [
    "path = './'\n",
    "list_name = 'stock_list.csv'\n",
    "stock_list = pd.read_csv(os.path.join(path,list_name))\n",
    "stock_list['종목코드'] = stock_list['종목코드'].apply(lambda x : str(x).zfill(6))\n",
    "stock_list = stock_list.sort_values(\"종목코드\")"
   ]
  },
  {
   "cell_type": "code",
   "execution_count": 107,
   "id": "c9465c63",
   "metadata": {},
   "outputs": [],
   "source": [
    "data = pd.DataFrame()\n",
    "volume = pd.DataFrame()\n",
    "high = pd.DataFrame()\n",
    "low = pd.DataFrame()\n",
    "data2 = pd.DataFrame()\n",
    "volume2 = pd.DataFrame()\n",
    "high2 = pd.DataFrame()\n",
    "low2 = pd.DataFrame()\n",
    "\n",
    "start_date = '20160104'\n",
    "end_date = '20200214'\n",
    "start_date2 = '20200608'\n",
    "end_date2 = '20211126'\n",
    "\n",
    "for stock_code in stock_list[\"종목코드\"]:\n",
    "    stock = fdr.DataReader(stock_code, start = start_date, end = end_date)\n",
    "    data = pd.concat([data,stock[\"Close\"]], axis=1)\n",
    "    volume = pd.concat([volume, stock[\"Volume\"]], axis=1)\n",
    "    high = pd.concat([high,stock[\"High\"]], axis=1)\n",
    "    low = pd.concat([low,stock[\"Low\"]], axis=1)\n",
    "\n",
    "for stock_code in stock_list[\"종목코드\"]:\n",
    "    stock = fdr.DataReader(stock_code, start = start_date2, end = end_date2)\n",
    "    data2 = pd.concat([data2,stock[\"Close\"]], axis=1)\n",
    "    volume2 = pd.concat([volume2, stock[\"Volume\"]], axis=1)\n",
    "    high2 = pd.concat([high2,stock[\"High\"]], axis=1)\n",
    "    low2 = pd.concat([low2,stock[\"Low\"]], axis=1)\n",
    "\n",
    "data = pd.concat([data,data2], axis=0)\n",
    "volume = pd.concat([volume, volume2], axis=0)\n",
    "high = pd.concat([high,high2], axis=0)\n",
    "low = pd.concat([low,low2], axis=0)\n",
    "\n",
    "data.columns = stock_list[\"종목코드\"]\n",
    "volume.columns = stock_list[\"종목코드\"]\n",
    "high.columns = stock_list[\"종목코드\"]\n",
    "low.columns = stock_list[\"종목코드\"]"
   ]
  },
  {
   "cell_type": "code",
   "execution_count": 108,
   "id": "ebee4a63",
   "metadata": {},
   "outputs": [],
   "source": [
    "from pmdarima.arima import auto_arima\n",
    "data_diff = data.iloc[1:, :] - data.iloc[:-1, :].values\n",
    "\n",
    "def dr_outlier(df): \n",
    "    quartile_1 = df.quantile(0.25) \n",
    "    quartile_3 = df.quantile(0.75) \n",
    "    IQR = quartile_3 - quartile_1 \n",
    "    condition = (df < (quartile_1 - 1.5 * IQR)) | (df > (quartile_3 + 1.5 * IQR)) \n",
    "    search_df = df[condition] \n",
    "    return df.drop(search_df.index, axis=0)\n",
    "\n",
    "from pmdarima.arima import ndiffs\n",
    "from sklearn.linear_model import LinearRegression\n",
    "\n",
    "def arima_pred_model(train):\n",
    "    if train.isnull().sum() > 0:\n",
    "        train = train.dropna(axis=0)\n",
    "    kpss_diffs = ndiffs(train, alpha=0.1, test='kpss', max_d=6)\n",
    "    adf_diffs = ndiffs(train, alpha=0.1, test='adf', max_d=6)\n",
    "    n_diffs = max(adf_diffs, kpss_diffs)\n",
    "    m = auto_arima(train, d=n_diffs, error_action='ignore', start_p=1, start_q=1, max_p=3, max_q=3)\n",
    "    pred = m.predict(n_periods=5)\n",
    "    return pred\n",
    "\n",
    "result = []\n",
    "for index in tqdm(range(370)):\n",
    "    train = data_diff.iloc[:, index]\n",
    "    train = dr_outlier(train)\n",
    "    pred = arima_pred_model(train)\n",
    "    result.append(pred)\n",
    "\n",
    "sub = pd.read_csv(\"sample_submission.csv\")\n",
    "result = pd.DataFrame(result).T\n",
    "for i in range(1,371):\n",
    "    for j in range(5):\n",
    "        result_sum = result.iloc[:j+1, i-1].sum()\n",
    "        sub.iloc[j + 5, i] = np.pad(result_sum + data.iloc[-1, i - 1], (5, 0), 'constant', constant_values=0)\n",
    "sub[\"031390\"] = 0\n",
    "sub.to_csv(\"arima_final2.csv\", index=0)"
   ]
  },
  {
   "cell_type": "code",
   "execution_count": null,
   "id": "c2558724",
   "metadata": {},
   "outputs": [],
   "source": []
  },
  {
   "cell_type": "code",
   "execution_count": null,
   "id": "eb897e6f",
   "metadata": {},
   "outputs": [],
   "source": [
    "'''2658.6630261375826 2623.8937971427777 2712.1626005471353 2702.7738540248515\n",
    "'''\n"
   ]
  }
 ],
 "metadata": {
  "kernelspec": {
   "display_name": "Python 3 (ipykernel)",
   "language": "python",
   "name": "python3"
  },
  "language_info": {
   "codemirror_mode": {
    "name": "ipython",
    "version": 3
   },
   "file_extension": ".py",
   "mimetype": "text/x-python",
   "name": "python",
   "nbconvert_exporter": "python",
   "pygments_lexer": "ipython3",
   "version": "3.9.7"
  }
 },
 "nbformat": 4,
 "nbformat_minor": 5
}
