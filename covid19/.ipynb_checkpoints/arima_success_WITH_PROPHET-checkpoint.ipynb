{
 "cells": [
  {
   "cell_type": "code",
   "execution_count": 5,
   "metadata": {},
   "outputs": [],
   "source": [
    "from fbprophet import Prophet"
   ]
  },
  {
   "cell_type": "code",
   "execution_count": 6,
   "metadata": {},
   "outputs": [],
   "source": [
    "import pandas as pd\n",
    "import numpy as np\n",
    "import matplotlib.pyplot as plt\n",
    "\n",
    "%matplotlib inline\n",
    "\n",
    "import warnings\n",
    "warnings.filterwarnings('ignore')"
   ]
  },
  {
   "cell_type": "code",
   "execution_count": 7,
   "metadata": {
    "scrolled": true
   },
   "outputs": [
    {
     "data": {
      "text/plain": [
       "DatetimeIndex(['2020-01-20', '2020-01-21', '2020-01-22', '2020-01-23',\n",
       "               '2020-01-24', '2020-01-25', '2020-01-26', '2020-01-27',\n",
       "               '2020-01-28', '2020-01-29', '2020-01-30', '2020-01-31',\n",
       "               '2020-02-01', '2020-02-02', '2020-02-03', '2020-02-04',\n",
       "               '2020-02-05', '2020-02-06', '2020-02-07', '2020-02-08',\n",
       "               '2020-02-09', '2020-02-10', '2020-02-11', '2020-02-12',\n",
       "               '2020-02-13', '2020-02-14', '2020-02-15', '2020-02-16',\n",
       "               '2020-02-17', '2020-02-18', '2020-02-19', '2020-02-20',\n",
       "               '2020-02-21', '2020-02-22', '2020-02-23', '2020-02-24',\n",
       "               '2020-02-25', '2020-02-26', '2020-02-27', '2020-02-28'],\n",
       "              dtype='datetime64[ns]', freq='D')"
      ]
     },
     "execution_count": 7,
     "metadata": {},
     "output_type": "execute_result"
    }
   ],
   "source": [
    "data = pd.read_csv(\"patient.csv\", parse_dates = True)\n",
    "\n",
    "pd.date_range(start=\"2020-1-20\", end=\"2020-2-28\", freq=\"D\")"
   ]
  },
  {
   "cell_type": "code",
   "execution_count": 8,
   "metadata": {},
   "outputs": [
    {
     "data": {
      "text/plain": [
       "0       2020-01-20\n",
       "1       2020-01-24\n",
       "2       2020-01-26\n",
       "3       2020-01-27\n",
       "4       2020-01-30\n",
       "           ...    \n",
       "4807    2020-03-02\n",
       "4808    2020-03-02\n",
       "4809    2020-03-02\n",
       "4810    2020-03-02\n",
       "4811    2020-03-02\n",
       "Name: confirmed_date, Length: 4812, dtype: object"
      ]
     },
     "execution_count": 8,
     "metadata": {},
     "output_type": "execute_result"
    }
   ],
   "source": [
    "data[\"confirmed_date\"]"
   ]
  },
  {
   "cell_type": "code",
   "execution_count": 9,
   "metadata": {},
   "outputs": [],
   "source": [
    "a = pd.to_datetime(data[\"confirmed_date\"])\n",
    "data[\"confirmed_date\"] = a"
   ]
  },
  {
   "cell_type": "code",
   "execution_count": 10,
   "metadata": {},
   "outputs": [
    {
     "name": "stdout",
     "output_type": "stream",
     "text": [
      "<class 'pandas.core.frame.DataFrame'>\n",
      "RangeIndex: 4812 entries, 0 to 4811\n",
      "Data columns (total 14 columns):\n",
      " #   Column            Non-Null Count  Dtype         \n",
      "---  ------            --------------  -----         \n",
      " 0   id                4812 non-null   int64         \n",
      " 1   sex               326 non-null    object        \n",
      " 2   birth_year        299 non-null    float64       \n",
      " 3   country           4812 non-null   object        \n",
      " 4   region            313 non-null    object        \n",
      " 5   group             76 non-null     object        \n",
      " 6   infection_reason  130 non-null    object        \n",
      " 7   infection_order   35 non-null     float64       \n",
      " 8   infected_by       62 non-null     float64       \n",
      " 9   contact_number    32 non-null     float64       \n",
      " 10  confirmed_date    4812 non-null   datetime64[ns]\n",
      " 11  released_date     28 non-null     object        \n",
      " 12  deceased_date     20 non-null     object        \n",
      " 13  state             4812 non-null   object        \n",
      "dtypes: datetime64[ns](1), float64(4), int64(1), object(8)\n",
      "memory usage: 526.4+ KB\n"
     ]
    }
   ],
   "source": [
    "data.info()"
   ]
  },
  {
   "cell_type": "code",
   "execution_count": 11,
   "metadata": {
    "scrolled": false
   },
   "outputs": [
    {
     "data": {
      "text/plain": [
       "Text(0.5, 1.0, 'corona')"
      ]
     },
     "execution_count": 11,
     "metadata": {},
     "output_type": "execute_result"
    },
    {
     "data": {
      "image/png": "[encoded data removed]",
      "text/plain": [
       "<Figure size 432x288 with 1 Axes>"
      ]
     },
     "metadata": {
      "needs_background": "light"
     },
     "output_type": "display_data"
    }
   ],
   "source": [
    "\n",
    "\n",
    "list = pd.date_range(start=\"2020-1-20\", end=\"2020-2-28\", freq=\"D\")\n",
    "list = pd.DataFrame(list)\n",
    "list[\"y\"] = 0\n",
    "list.columns = [\"ds\",\"y\"]\n",
    "\n",
    "count = data.groupby(data[\"confirmed_date\"]).id.count()\n",
    "accumulate = count.cumsum()    \n",
    "\n",
    "count.plot()\n",
    "plt.title(\"corona\")\n"
   ]
  },
  {
   "cell_type": "code",
   "execution_count": 12,
   "metadata": {},
   "outputs": [
    {
     "data": {
      "text/plain": [
       "Text(0.5, 1.0, 'accumulate')"
      ]
     },
     "execution_count": 12,
     "metadata": {},
     "output_type": "execute_result"
    },
    {
     "data": {
      "image/png": "[encoded data removed]",
      "text/plain": [
       "<Figure size 432x288 with 1 Axes>"
      ]
     },
     "metadata": {
      "needs_background": "light"
     },
     "output_type": "display_data"
    }
   ],
   "source": [
    "accumulate.plot()\n",
    "plt.title(\"accumulate\")\n"
   ]
  },
  {
   "cell_type": "code",
   "execution_count": 13,
   "metadata": {},
   "outputs": [
    {
     "data": {
      "text/plain": [
       "DatetimeIndex(['2020-02-17', '2020-02-18', '2020-02-19', '2020-02-20',\n",
       "               '2020-02-21', '2020-02-22', '2020-02-23', '2020-02-24',\n",
       "               '2020-02-25', '2020-02-26', '2020-02-27', '2020-02-28',\n",
       "               '2020-02-29', '2020-03-01', '2020-03-02'],\n",
       "              dtype='datetime64[ns]', name='confirmed_date', freq='D')"
      ]
     },
     "execution_count": 13,
     "metadata": {},
     "output_type": "execute_result"
    }
   ],
   "source": [
    "data = count.resample(\"D\").first().fillna(0).cumsum()\n",
    "data = data[28:]\n",
    "\n",
    "data.values\n",
    "data.index"
   ]
  },
  {
   "cell_type": "code",
   "execution_count": 14,
   "metadata": {},
   "outputs": [],
   "source": [
    "dataFrame = pd.DataFrame(data.index)\n"
   ]
  },
  {
   "cell_type": "code",
   "execution_count": 15,
   "metadata": {},
   "outputs": [
    {
     "data": {
      "text/html": [
       "<div>\n",
       "<style scoped>\n",
       "    .dataframe tbody tr th:only-of-type {\n",
       "        vertical-align: middle;\n",
       "    }\n",
       "\n",
       "    .dataframe tbody tr th {\n",
       "        vertical-align: top;\n",
       "    }\n",
       "\n",
       "    .dataframe thead th {\n",
       "        text-align: right;\n",
       "    }\n",
       "</style>\n",
       "<table border=\"1\" class=\"dataframe\">\n",
       "  <thead>\n",
       "    <tr style=\"text-align: right;\">\n",
       "      <th></th>\n",
       "      <th>ds</th>\n",
       "      <th>y</th>\n",
       "    </tr>\n",
       "  </thead>\n",
       "  <tbody>\n",
       "    <tr>\n",
       "      <th>0</th>\n",
       "      <td>2020-02-17</td>\n",
       "      <td>30.0</td>\n",
       "    </tr>\n",
       "    <tr>\n",
       "      <th>1</th>\n",
       "      <td>2020-02-18</td>\n",
       "      <td>39.0</td>\n",
       "    </tr>\n",
       "    <tr>\n",
       "      <th>2</th>\n",
       "      <td>2020-02-19</td>\n",
       "      <td>65.0</td>\n",
       "    </tr>\n",
       "    <tr>\n",
       "      <th>3</th>\n",
       "      <td>2020-02-20</td>\n",
       "      <td>104.0</td>\n",
       "    </tr>\n",
       "    <tr>\n",
       "      <th>4</th>\n",
       "      <td>2020-02-21</td>\n",
       "      <td>204.0</td>\n",
       "    </tr>\n",
       "    <tr>\n",
       "      <th>5</th>\n",
       "      <td>2020-02-22</td>\n",
       "      <td>433.0</td>\n",
       "    </tr>\n",
       "    <tr>\n",
       "      <th>6</th>\n",
       "      <td>2020-02-23</td>\n",
       "      <td>602.0</td>\n",
       "    </tr>\n",
       "    <tr>\n",
       "      <th>7</th>\n",
       "      <td>2020-02-24</td>\n",
       "      <td>833.0</td>\n",
       "    </tr>\n",
       "    <tr>\n",
       "      <th>8</th>\n",
       "      <td>2020-02-25</td>\n",
       "      <td>976.0</td>\n",
       "    </tr>\n",
       "    <tr>\n",
       "      <th>9</th>\n",
       "      <td>2020-02-26</td>\n",
       "      <td>1261.0</td>\n",
       "    </tr>\n",
       "    <tr>\n",
       "      <th>10</th>\n",
       "      <td>2020-02-27</td>\n",
       "      <td>1766.0</td>\n",
       "    </tr>\n",
       "    <tr>\n",
       "      <th>11</th>\n",
       "      <td>2020-02-28</td>\n",
       "      <td>2337.0</td>\n",
       "    </tr>\n",
       "    <tr>\n",
       "      <th>12</th>\n",
       "      <td>2020-02-29</td>\n",
       "      <td>3150.0</td>\n",
       "    </tr>\n",
       "    <tr>\n",
       "      <th>13</th>\n",
       "      <td>2020-03-01</td>\n",
       "      <td>4212.0</td>\n",
       "    </tr>\n",
       "    <tr>\n",
       "      <th>14</th>\n",
       "      <td>2020-03-02</td>\n",
       "      <td>4812.0</td>\n",
       "    </tr>\n",
       "  </tbody>\n",
       "</table>\n",
       "</div>"
      ],
      "text/plain": [
       "           ds       y\n",
       "0  2020-02-17    30.0\n",
       "1  2020-02-18    39.0\n",
       "2  2020-02-19    65.0\n",
       "3  2020-02-20   104.0\n",
       "4  2020-02-21   204.0\n",
       "5  2020-02-22   433.0\n",
       "6  2020-02-23   602.0\n",
       "7  2020-02-24   833.0\n",
       "8  2020-02-25   976.0\n",
       "9  2020-02-26  1261.0\n",
       "10 2020-02-27  1766.0\n",
       "11 2020-02-28  2337.0\n",
       "12 2020-02-29  3150.0\n",
       "13 2020-03-01  4212.0\n",
       "14 2020-03-02  4812.0"
      ]
     },
     "execution_count": 15,
     "metadata": {},
     "output_type": "execute_result"
    }
   ],
   "source": [
    "dataFrame[\"y\"] = data.values\n",
    "dataFrame.columns = [\"ds\",\"y\"]\n",
    "dataFrame"
   ]
  },
  {
   "cell_type": "code",
   "execution_count": 16,
   "metadata": {},
   "outputs": [
    {
     "name": "stderr",
     "output_type": "stream",
     "text": [
      "INFO:fbprophet:Disabling yearly seasonality. Run prophet with yearly_seasonality=True to override this.\n",
      "INFO:fbprophet:Disabling daily seasonality. Run prophet with daily_seasonality=True to override this.\n",
      "INFO:fbprophet:n_changepoints greater than number of observations. Using 11.\n"
     ]
    },
    {
     "data": {
      "text/plain": [
       "<fbprophet.forecaster.Prophet at 0x1e9b74ad788>"
      ]
     },
     "execution_count": 16,
     "metadata": {},
     "output_type": "execute_result"
    }
   ],
   "source": [
    "model = Prophet()\n",
    "model.fit(dataFrame)"
   ]
  },
  {
   "cell_type": "code",
   "execution_count": 17,
   "metadata": {},
   "outputs": [
    {
     "data": {
      "text/html": [
       "<div>\n",
       "<style scoped>\n",
       "    .dataframe tbody tr th:only-of-type {\n",
       "        vertical-align: middle;\n",
       "    }\n",
       "\n",
       "    .dataframe tbody tr th {\n",
       "        vertical-align: top;\n",
       "    }\n",
       "\n",
       "    .dataframe thead th {\n",
       "        text-align: right;\n",
       "    }\n",
       "</style>\n",
       "<table border=\"1\" class=\"dataframe\">\n",
       "  <thead>\n",
       "    <tr style=\"text-align: right;\">\n",
       "      <th></th>\n",
       "      <th>ds</th>\n",
       "    </tr>\n",
       "  </thead>\n",
       "  <tbody>\n",
       "    <tr>\n",
       "      <th>110</th>\n",
       "      <td>2020-06-06</td>\n",
       "    </tr>\n",
       "    <tr>\n",
       "      <th>111</th>\n",
       "      <td>2020-06-07</td>\n",
       "    </tr>\n",
       "    <tr>\n",
       "      <th>112</th>\n",
       "      <td>2020-06-08</td>\n",
       "    </tr>\n",
       "    <tr>\n",
       "      <th>113</th>\n",
       "      <td>2020-06-09</td>\n",
       "    </tr>\n",
       "    <tr>\n",
       "      <th>114</th>\n",
       "      <td>2020-06-10</td>\n",
       "    </tr>\n",
       "  </tbody>\n",
       "</table>\n",
       "</div>"
      ],
      "text/plain": [
       "            ds\n",
       "110 2020-06-06\n",
       "111 2020-06-07\n",
       "112 2020-06-08\n",
       "113 2020-06-09\n",
       "114 2020-06-10"
      ]
     },
     "execution_count": 17,
     "metadata": {},
     "output_type": "execute_result"
    }
   ],
   "source": [
    "future = model.make_future_dataframe(periods=100)\n",
    "future.tail()"
   ]
  },
  {
   "cell_type": "code",
   "execution_count": 18,
   "metadata": {},
   "outputs": [],
   "source": [
    "# "
   ]
  },
  {
   "cell_type": "code",
   "execution_count": null,
   "metadata": {},
   "outputs": [],
   "source": []
  },
  {
   "cell_type": "code",
   "execution_count": 22,
   "metadata": {},
   "outputs": [],
   "source": [
    "predict=model.predict(future)"
   ]
  },
  {
   "cell_type": "code",
   "execution_count": 23,
   "metadata": {},
   "outputs": [
    {
     "data": {
      "text/html": [
       "<div>\n",
       "<style scoped>\n",
       "    .dataframe tbody tr th:only-of-type {\n",
       "        vertical-align: middle;\n",
       "    }\n",
       "\n",
       "    .dataframe tbody tr th {\n",
       "        vertical-align: top;\n",
       "    }\n",
       "\n",
       "    .dataframe thead th {\n",
       "        text-align: right;\n",
       "    }\n",
       "</style>\n",
       "<table border=\"1\" class=\"dataframe\">\n",
       "  <thead>\n",
       "    <tr style=\"text-align: right;\">\n",
       "      <th></th>\n",
       "      <th>ds</th>\n",
       "      <th>trend</th>\n",
       "      <th>yhat_lower</th>\n",
       "      <th>yhat_upper</th>\n",
       "      <th>trend_lower</th>\n",
       "      <th>trend_upper</th>\n",
       "      <th>additive_terms</th>\n",
       "      <th>additive_terms_lower</th>\n",
       "      <th>additive_terms_upper</th>\n",
       "      <th>weekly</th>\n",
       "      <th>weekly_lower</th>\n",
       "      <th>weekly_upper</th>\n",
       "      <th>multiplicative_terms</th>\n",
       "      <th>multiplicative_terms_lower</th>\n",
       "      <th>multiplicative_terms_upper</th>\n",
       "      <th>yhat</th>\n",
       "    </tr>\n",
       "  </thead>\n",
       "  <tbody>\n",
       "    <tr>\n",
       "      <th>0</th>\n",
       "      <td>2020-02-17</td>\n",
       "      <td>-828.548352</td>\n",
       "      <td>-980.737050</td>\n",
       "      <td>429.933042</td>\n",
       "      <td>-828.548352</td>\n",
       "      <td>-828.548352</td>\n",
       "      <td>539.319919</td>\n",
       "      <td>539.319919</td>\n",
       "      <td>539.319919</td>\n",
       "      <td>539.319919</td>\n",
       "      <td>539.319919</td>\n",
       "      <td>539.319919</td>\n",
       "      <td>0.0</td>\n",
       "      <td>0.0</td>\n",
       "      <td>0.0</td>\n",
       "      <td>-289.228433</td>\n",
       "    </tr>\n",
       "    <tr>\n",
       "      <th>1</th>\n",
       "      <td>2020-02-18</td>\n",
       "      <td>-517.003672</td>\n",
       "      <td>-1273.516198</td>\n",
       "      <td>121.399695</td>\n",
       "      <td>-517.003672</td>\n",
       "      <td>-517.003672</td>\n",
       "      <td>-65.901433</td>\n",
       "      <td>-65.901433</td>\n",
       "      <td>-65.901433</td>\n",
       "      <td>-65.901433</td>\n",
       "      <td>-65.901433</td>\n",
       "      <td>-65.901433</td>\n",
       "      <td>0.0</td>\n",
       "      <td>0.0</td>\n",
       "      <td>0.0</td>\n",
       "      <td>-582.905105</td>\n",
       "    </tr>\n",
       "    <tr>\n",
       "      <th>2</th>\n",
       "      <td>2020-02-19</td>\n",
       "      <td>-205.458992</td>\n",
       "      <td>-1136.451849</td>\n",
       "      <td>252.036164</td>\n",
       "      <td>-205.458992</td>\n",
       "      <td>-205.458992</td>\n",
       "      <td>-221.959184</td>\n",
       "      <td>-221.959184</td>\n",
       "      <td>-221.959184</td>\n",
       "      <td>-221.959184</td>\n",
       "      <td>-221.959184</td>\n",
       "      <td>-221.959184</td>\n",
       "      <td>0.0</td>\n",
       "      <td>0.0</td>\n",
       "      <td>0.0</td>\n",
       "      <td>-427.418176</td>\n",
       "    </tr>\n",
       "    <tr>\n",
       "      <th>3</th>\n",
       "      <td>2020-02-20</td>\n",
       "      <td>106.085688</td>\n",
       "      <td>-810.613967</td>\n",
       "      <td>618.052761</td>\n",
       "      <td>106.085688</td>\n",
       "      <td>106.085688</td>\n",
       "      <td>-261.519403</td>\n",
       "      <td>-261.519403</td>\n",
       "      <td>-261.519403</td>\n",
       "      <td>-261.519403</td>\n",
       "      <td>-261.519403</td>\n",
       "      <td>-261.519403</td>\n",
       "      <td>0.0</td>\n",
       "      <td>0.0</td>\n",
       "      <td>0.0</td>\n",
       "      <td>-155.433716</td>\n",
       "    </tr>\n",
       "    <tr>\n",
       "      <th>4</th>\n",
       "      <td>2020-02-21</td>\n",
       "      <td>417.630367</td>\n",
       "      <td>-524.299605</td>\n",
       "      <td>912.929698</td>\n",
       "      <td>417.630367</td>\n",
       "      <td>417.630367</td>\n",
       "      <td>-237.580875</td>\n",
       "      <td>-237.580875</td>\n",
       "      <td>-237.580875</td>\n",
       "      <td>-237.580875</td>\n",
       "      <td>-237.580875</td>\n",
       "      <td>-237.580875</td>\n",
       "      <td>0.0</td>\n",
       "      <td>0.0</td>\n",
       "      <td>0.0</td>\n",
       "      <td>180.049492</td>\n",
       "    </tr>\n",
       "    <tr>\n",
       "      <th>...</th>\n",
       "      <td>...</td>\n",
       "      <td>...</td>\n",
       "      <td>...</td>\n",
       "      <td>...</td>\n",
       "      <td>...</td>\n",
       "      <td>...</td>\n",
       "      <td>...</td>\n",
       "      <td>...</td>\n",
       "      <td>...</td>\n",
       "      <td>...</td>\n",
       "      <td>...</td>\n",
       "      <td>...</td>\n",
       "      <td>...</td>\n",
       "      <td>...</td>\n",
       "      <td>...</td>\n",
       "      <td>...</td>\n",
       "    </tr>\n",
       "    <tr>\n",
       "      <th>110</th>\n",
       "      <td>2020-06-06</td>\n",
       "      <td>33444.652431</td>\n",
       "      <td>32746.209238</td>\n",
       "      <td>34112.868062</td>\n",
       "      <td>33441.997943</td>\n",
       "      <td>33446.923194</td>\n",
       "      <td>-28.146011</td>\n",
       "      <td>-28.146011</td>\n",
       "      <td>-28.146011</td>\n",
       "      <td>-28.146011</td>\n",
       "      <td>-28.146011</td>\n",
       "      <td>-28.146011</td>\n",
       "      <td>0.0</td>\n",
       "      <td>0.0</td>\n",
       "      <td>0.0</td>\n",
       "      <td>33416.506420</td>\n",
       "    </tr>\n",
       "    <tr>\n",
       "      <th>111</th>\n",
       "      <td>2020-06-07</td>\n",
       "      <td>33756.228711</td>\n",
       "      <td>33324.828947</td>\n",
       "      <td>34787.973124</td>\n",
       "      <td>33753.562543</td>\n",
       "      <td>33758.523076</td>\n",
       "      <td>275.786987</td>\n",
       "      <td>275.786987</td>\n",
       "      <td>275.786987</td>\n",
       "      <td>275.786987</td>\n",
       "      <td>275.786987</td>\n",
       "      <td>275.786987</td>\n",
       "      <td>0.0</td>\n",
       "      <td>0.0</td>\n",
       "      <td>0.0</td>\n",
       "      <td>34032.015698</td>\n",
       "    </tr>\n",
       "    <tr>\n",
       "      <th>112</th>\n",
       "      <td>2020-06-08</td>\n",
       "      <td>34067.804990</td>\n",
       "      <td>33939.725364</td>\n",
       "      <td>35355.727228</td>\n",
       "      <td>34065.093434</td>\n",
       "      <td>34070.141547</td>\n",
       "      <td>539.319919</td>\n",
       "      <td>539.319919</td>\n",
       "      <td>539.319919</td>\n",
       "      <td>539.319919</td>\n",
       "      <td>539.319919</td>\n",
       "      <td>539.319919</td>\n",
       "      <td>0.0</td>\n",
       "      <td>0.0</td>\n",
       "      <td>0.0</td>\n",
       "      <td>34607.124909</td>\n",
       "    </tr>\n",
       "    <tr>\n",
       "      <th>113</th>\n",
       "      <td>2020-06-09</td>\n",
       "      <td>34379.381270</td>\n",
       "      <td>33605.191841</td>\n",
       "      <td>35055.874388</td>\n",
       "      <td>34376.622683</td>\n",
       "      <td>34381.742832</td>\n",
       "      <td>-65.901433</td>\n",
       "      <td>-65.901433</td>\n",
       "      <td>-65.901433</td>\n",
       "      <td>-65.901433</td>\n",
       "      <td>-65.901433</td>\n",
       "      <td>-65.901433</td>\n",
       "      <td>0.0</td>\n",
       "      <td>0.0</td>\n",
       "      <td>0.0</td>\n",
       "      <td>34313.479837</td>\n",
       "    </tr>\n",
       "    <tr>\n",
       "      <th>114</th>\n",
       "      <td>2020-06-10</td>\n",
       "      <td>34690.957550</td>\n",
       "      <td>33808.187321</td>\n",
       "      <td>35219.211174</td>\n",
       "      <td>34688.159792</td>\n",
       "      <td>34693.353282</td>\n",
       "      <td>-221.959184</td>\n",
       "      <td>-221.959184</td>\n",
       "      <td>-221.959184</td>\n",
       "      <td>-221.959184</td>\n",
       "      <td>-221.959184</td>\n",
       "      <td>-221.959184</td>\n",
       "      <td>0.0</td>\n",
       "      <td>0.0</td>\n",
       "      <td>0.0</td>\n",
       "      <td>34468.998366</td>\n",
       "    </tr>\n",
       "  </tbody>\n",
       "</table>\n",
       "<p>115 rows × 16 columns</p>\n",
       "</div>"
      ],
      "text/plain": [
       "            ds         trend    yhat_lower    yhat_upper   trend_lower  \\\n",
       "0   2020-02-17   -828.548352   -980.737050    429.933042   -828.548352   \n",
       "1   2020-02-18   -517.003672  -1273.516198    121.399695   -517.003672   \n",
       "2   2020-02-19   -205.458992  -1136.451849    252.036164   -205.458992   \n",
       "3   2020-02-20    106.085688   -810.613967    618.052761    106.085688   \n",
       "4   2020-02-21    417.630367   -524.299605    912.929698    417.630367   \n",
       "..         ...           ...           ...           ...           ...   \n",
       "110 2020-06-06  33444.652431  32746.209238  34112.868062  33441.997943   \n",
       "111 2020-06-07  33756.228711  33324.828947  34787.973124  33753.562543   \n",
       "112 2020-06-08  34067.804990  33939.725364  35355.727228  34065.093434   \n",
       "113 2020-06-09  34379.381270  33605.191841  35055.874388  34376.622683   \n",
       "114 2020-06-10  34690.957550  33808.187321  35219.211174  34688.159792   \n",
       "\n",
       "      trend_upper  additive_terms  additive_terms_lower  additive_terms_upper  \\\n",
       "0     -828.548352      539.319919            539.319919            539.319919   \n",
       "1     -517.003672      -65.901433            -65.901433            -65.901433   \n",
       "2     -205.458992     -221.959184           -221.959184           -221.959184   \n",
       "3      106.085688     -261.519403           -261.519403           -261.519403   \n",
       "4      417.630367     -237.580875           -237.580875           -237.580875   \n",
       "..            ...             ...                   ...                   ...   \n",
       "110  33446.923194      -28.146011            -28.146011            -28.146011   \n",
       "111  33758.523076      275.786987            275.786987            275.786987   \n",
       "112  34070.141547      539.319919            539.319919            539.319919   \n",
       "113  34381.742832      -65.901433            -65.901433            -65.901433   \n",
       "114  34693.353282     -221.959184           -221.959184           -221.959184   \n",
       "\n",
       "         weekly  weekly_lower  weekly_upper  multiplicative_terms  \\\n",
       "0    539.319919    539.319919    539.319919                   0.0   \n",
       "1    -65.901433    -65.901433    -65.901433                   0.0   \n",
       "2   -221.959184   -221.959184   -221.959184                   0.0   \n",
       "3   -261.519403   -261.519403   -261.519403                   0.0   \n",
       "4   -237.580875   -237.580875   -237.580875                   0.0   \n",
       "..          ...           ...           ...                   ...   \n",
       "110  -28.146011    -28.146011    -28.146011                   0.0   \n",
       "111  275.786987    275.786987    275.786987                   0.0   \n",
       "112  539.319919    539.319919    539.319919                   0.0   \n",
       "113  -65.901433    -65.901433    -65.901433                   0.0   \n",
       "114 -221.959184   -221.959184   -221.959184                   0.0   \n",
       "\n",
       "     multiplicative_terms_lower  multiplicative_terms_upper          yhat  \n",
       "0                           0.0                         0.0   -289.228433  \n",
       "1                           0.0                         0.0   -582.905105  \n",
       "2                           0.0                         0.0   -427.418176  \n",
       "3                           0.0                         0.0   -155.433716  \n",
       "4                           0.0                         0.0    180.049492  \n",
       "..                          ...                         ...           ...  \n",
       "110                         0.0                         0.0  33416.506420  \n",
       "111                         0.0                         0.0  34032.015698  \n",
       "112                         0.0                         0.0  34607.124909  \n",
       "113                         0.0                         0.0  34313.479837  \n",
       "114                         0.0                         0.0  34468.998366  \n",
       "\n",
       "[115 rows x 16 columns]"
      ]
     },
     "execution_count": 23,
     "metadata": {},
     "output_type": "execute_result"
    }
   ],
   "source": [
    "predict"
   ]
  },
  {
   "cell_type": "code",
   "execution_count": 25,
   "metadata": {},
   "outputs": [
    {
     "data": {
      "text/plain": [
       "<matplotlib.axes._subplots.AxesSubplot at 0x1e9d01a4448>"
      ]
     },
     "execution_count": 25,
     "metadata": {},
     "output_type": "execute_result"
    },
    {
     "data": {
      "image/png": "[encoded data removed]",
      "text/plain": [
       "<Figure size 432x288 with 1 Axes>"
      ]
     },
     "metadata": {
      "needs_background": "light"
     },
     "output_type": "display_data"
    }
   ],
   "source": [
    "predict[\"yhat\"].plot()"
   ]
  },
  {
   "cell_type": "code",
   "execution_count": null,
   "metadata": {},
   "outputs": [],
   "source": []
  }
 ],
 "metadata": {
  "kernelspec": {
   "display_name": "Python 3",
   "language": "python",
   "name": "python3"
  },
  "language_info": {
   "codemirror_mode": {
    "name": "ipython",
    "version": 3
   },
   "file_extension": ".py",
   "mimetype": "text/x-python",
   "name": "python",
   "nbconvert_exporter": "python",
   "pygments_lexer": "ipython3",
   "version": "3.7.5"
  }
 },
 "nbformat": 4,
 "nbformat_minor": 2
}
