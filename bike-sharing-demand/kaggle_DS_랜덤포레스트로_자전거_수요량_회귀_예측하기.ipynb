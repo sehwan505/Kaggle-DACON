{
 "cells": [
  {
   "cell_type": "markdown",
   "metadata": {
    "colab_type": "text",
    "id": "dxnPwFl1Rb4U"
   },
   "source": [
    "< 출처 : 박조은 강사님 [Github](https://github.com/corazzon/KaggleStruggle/blob/master/kaggle-survey-2017/Kaggle-ML-DS-survey-2017-EDA-FAQ.ipynb) >"
   ]
  },
  {
   "cell_type": "markdown",
   "metadata": {
    "colab_type": "text",
    "id": "sMYMPQL4R1dk"
   },
   "source": [
    "#Load Dataset"
   ]
  },
  {
   "cell_type": "code",
   "execution_count": 0,
   "metadata": {
    "colab": {},
    "colab_type": "code",
    "id": "JyCDsGo9TPVc"
   },
   "outputs": [],
   "source": [
    "import pandas as pd\n",
    "import numpy as np\n",
    "\n",
    "import matplotlib as mpl\n",
    "import matplotlib.pyplot as plt\n",
    "import seaborn as sns\n",
    "\n",
    "# 노트북 안에 그래프를 그리기 위해\n",
    "%matplotlib inline\n",
    "\n",
    "# 그래프에서 마이너스 폰트 깨지는 문제에 대한 대처\n",
    "mpl.rcParams['axes.unicode_minus'] = False\n",
    "\n",
    "import warnings\n",
    "warnings.filterwarnings('ignore')"
   ]
  },
  {
   "cell_type": "code",
   "execution_count": 0,
   "metadata": {
    "colab": {},
    "colab_type": "code",
    "id": "iWj1xTt9aG9j"
   },
   "outputs": [],
   "source": [
    "#구글 드라이브 연동하기\n",
    "#구글 드라이브에 데이터를 올린 후 사용할 경우에만 실행\n",
    "from google.colab import drive\n",
    "drive.mount('/content/drive')"
   ]
  },
  {
   "cell_type": "code",
   "execution_count": 0,
   "metadata": {
    "colab": {
     "base_uri": "https://localhost:8080/",
     "height": 35
    },
    "colab_type": "code",
    "id": "fUNjVq49NK_s",
    "outputId": "f4d02a16-9a38-47c5-87b1-1d2a254247d6"
   },
   "outputs": [
    {
     "data": {
      "text/plain": [
       "(10886, 12)"
      ]
     },
     "execution_count": 7,
     "metadata": {
      "tags": []
     },
     "output_type": "execute_result"
    }
   ],
   "source": [
    "train = pd.read_csv(\"/content/drive/My Drive/Colab Notebooks/data/bike/train.csv\", parse_dates=[\"datetime\"])\n",
    "train.shape"
   ]
  },
  {
   "cell_type": "code",
   "execution_count": 0,
   "metadata": {
    "colab": {
     "base_uri": "https://localhost:8080/",
     "height": 35
    },
    "colab_type": "code",
    "id": "tonVrKsyOOEa",
    "outputId": "98215445-e806-4fa5-d77a-c61789005fed"
   },
   "outputs": [
    {
     "data": {
      "text/plain": [
       "(6493, 9)"
      ]
     },
     "execution_count": 8,
     "metadata": {
      "tags": []
     },
     "output_type": "execute_result"
    }
   ],
   "source": [
    "test = pd.read_csv(\"/content/drive/My Drive/Colab Notebooks/data/bike/test.csv\", parse_dates=[\"datetime\"])\n",
    "test.shape"
   ]
  },
  {
   "cell_type": "markdown",
   "metadata": {
    "colab_type": "text",
    "id": "E9v6AHV-aT_e"
   },
   "source": [
    "#Feature Engineering"
   ]
  },
  {
   "cell_type": "code",
   "execution_count": 0,
   "metadata": {
    "colab": {
     "base_uri": "https://localhost:8080/",
     "height": 35
    },
    "colab_type": "code",
    "id": "stBNAT1EaU1a",
    "outputId": "c5f033f5-0500-4332-cccb-d7a25f4b5379"
   },
   "outputs": [
    {
     "data": {
      "text/plain": [
       "(10886, 19)"
      ]
     },
     "execution_count": 9,
     "metadata": {
      "tags": []
     },
     "output_type": "execute_result"
    }
   ],
   "source": [
    "train[\"year\"] = train[\"datetime\"].dt.year\n",
    "train[\"month\"] = train[\"datetime\"].dt.month\n",
    "train[\"day\"] = train[\"datetime\"].dt.day\n",
    "train[\"hour\"] = train[\"datetime\"].dt.hour\n",
    "train[\"minute\"] = train[\"datetime\"].dt.minute\n",
    "train[\"second\"] = train[\"datetime\"].dt.second\n",
    "train[\"dayofweek\"] = train[\"datetime\"].dt.dayofweek\n",
    "train.shape"
   ]
  },
  {
   "cell_type": "code",
   "execution_count": 0,
   "metadata": {
    "colab": {
     "base_uri": "https://localhost:8080/",
     "height": 35
    },
    "colab_type": "code",
    "id": "5XGcmkr3aW3B",
    "outputId": "60f0b315-4ce5-4bfb-aca0-3b89b15572c6"
   },
   "outputs": [
    {
     "data": {
      "text/plain": [
       "(6493, 16)"
      ]
     },
     "execution_count": 10,
     "metadata": {
      "tags": []
     },
     "output_type": "execute_result"
    }
   ],
   "source": [
    "test[\"year\"] = test[\"datetime\"].dt.year\n",
    "test[\"month\"] = test[\"datetime\"].dt.month\n",
    "test[\"day\"] = test[\"datetime\"].dt.day\n",
    "test[\"hour\"] = test[\"datetime\"].dt.hour\n",
    "test[\"minute\"] = test[\"datetime\"].dt.minute\n",
    "test[\"second\"] = test[\"datetime\"].dt.second\n",
    "test[\"dayofweek\"] = test[\"datetime\"].dt.dayofweek\n",
    "test.shape"
   ]
  },
  {
   "cell_type": "code",
   "execution_count": 14,
   "metadata": {
    "colab": {
     "base_uri": "https://localhost:8080/",
     "height": 693
    },
    "colab_type": "code",
    "id": "tEYNyQe8aYR9",
    "outputId": "dc32e68c-088e-4efa-e7c3-d71553baf5da"
   },
   "outputs": [
    {
     "ename": "ValueError",
     "evalue": "Could not interpret input 'Cabin'",
     "output_type": "error",
     "traceback": [
      "\u001b[1;31m---------------------------------------------------------------------------\u001b[0m",
      "\u001b[1;31mValueError\u001b[0m                                Traceback (most recent call last)",
      "\u001b[1;32m<ipython-input-14-605ac0edc229>\u001b[0m in \u001b[0;36m<module>\u001b[1;34m\u001b[0m\n\u001b[0;32m      8\u001b[0m \u001b[0mplt\u001b[0m\u001b[1;33m.\u001b[0m\u001b[0mxticks\u001b[0m\u001b[1;33m(\u001b[0m\u001b[0mrotation\u001b[0m\u001b[1;33m=\u001b[0m\u001b[1;36m30\u001b[0m\u001b[1;33m,\u001b[0m \u001b[0mha\u001b[0m\u001b[1;33m=\u001b[0m\u001b[1;34m'right'\u001b[0m\u001b[1;33m)\u001b[0m\u001b[1;33m\u001b[0m\u001b[1;33m\u001b[0m\u001b[0m\n\u001b[0;32m      9\u001b[0m \u001b[0maxes\u001b[0m\u001b[1;33m[\u001b[0m\u001b[1;36m0\u001b[0m\u001b[1;33m]\u001b[0m\u001b[1;33m.\u001b[0m\u001b[0mset\u001b[0m\u001b[1;33m(\u001b[0m\u001b[0mylabel\u001b[0m\u001b[1;33m=\u001b[0m\u001b[1;34m'Count'\u001b[0m\u001b[1;33m,\u001b[0m\u001b[0mtitle\u001b[0m\u001b[1;33m=\u001b[0m\u001b[1;34m\"train windspeed\"\u001b[0m\u001b[1;33m)\u001b[0m\u001b[1;33m\u001b[0m\u001b[1;33m\u001b[0m\u001b[0m\n\u001b[1;32m---> 10\u001b[1;33m \u001b[0msns\u001b[0m\u001b[1;33m.\u001b[0m\u001b[0mcountplot\u001b[0m\u001b[1;33m(\u001b[0m\u001b[0mdata\u001b[0m\u001b[1;33m=\u001b[0m\u001b[0mtrain\u001b[0m\u001b[1;33m,\u001b[0m \u001b[0mx\u001b[0m\u001b[1;33m=\u001b[0m\u001b[1;34m\"Cabin\"\u001b[0m\u001b[1;33m,\u001b[0m \u001b[0max\u001b[0m\u001b[1;33m=\u001b[0m\u001b[0maxes\u001b[0m\u001b[1;33m[\u001b[0m\u001b[1;36m0\u001b[0m\u001b[1;33m]\u001b[0m\u001b[1;33m)\u001b[0m\u001b[1;33m\u001b[0m\u001b[1;33m\u001b[0m\u001b[0m\n\u001b[0m\u001b[0;32m     11\u001b[0m \u001b[1;33m\u001b[0m\u001b[0m\n\u001b[0;32m     12\u001b[0m \u001b[0mplt\u001b[0m\u001b[1;33m.\u001b[0m\u001b[0msca\u001b[0m\u001b[1;33m(\u001b[0m\u001b[0maxes\u001b[0m\u001b[1;33m[\u001b[0m\u001b[1;36m1\u001b[0m\u001b[1;33m]\u001b[0m\u001b[1;33m)\u001b[0m\u001b[1;33m\u001b[0m\u001b[1;33m\u001b[0m\u001b[0m\n",
      "\u001b[1;32m~\\Anaconda3\\envs\\sehwan\\lib\\site-packages\\seaborn\\categorical.py\u001b[0m in \u001b[0;36mcountplot\u001b[1;34m(x, y, hue, data, order, hue_order, orient, color, palette, saturation, dodge, ax, **kwargs)\u001b[0m\n\u001b[0;32m   3553\u001b[0m                           \u001b[0mestimator\u001b[0m\u001b[1;33m,\u001b[0m \u001b[0mci\u001b[0m\u001b[1;33m,\u001b[0m \u001b[0mn_boot\u001b[0m\u001b[1;33m,\u001b[0m \u001b[0munits\u001b[0m\u001b[1;33m,\u001b[0m \u001b[0mseed\u001b[0m\u001b[1;33m,\u001b[0m\u001b[1;33m\u001b[0m\u001b[1;33m\u001b[0m\u001b[0m\n\u001b[0;32m   3554\u001b[0m                           \u001b[0morient\u001b[0m\u001b[1;33m,\u001b[0m \u001b[0mcolor\u001b[0m\u001b[1;33m,\u001b[0m \u001b[0mpalette\u001b[0m\u001b[1;33m,\u001b[0m \u001b[0msaturation\u001b[0m\u001b[1;33m,\u001b[0m\u001b[1;33m\u001b[0m\u001b[1;33m\u001b[0m\u001b[0m\n\u001b[1;32m-> 3555\u001b[1;33m                           errcolor, errwidth, capsize, dodge)\n\u001b[0m\u001b[0;32m   3556\u001b[0m \u001b[1;33m\u001b[0m\u001b[0m\n\u001b[0;32m   3557\u001b[0m     \u001b[0mplotter\u001b[0m\u001b[1;33m.\u001b[0m\u001b[0mvalue_label\u001b[0m \u001b[1;33m=\u001b[0m \u001b[1;34m\"count\"\u001b[0m\u001b[1;33m\u001b[0m\u001b[1;33m\u001b[0m\u001b[0m\n",
      "\u001b[1;32m~\\Anaconda3\\envs\\sehwan\\lib\\site-packages\\seaborn\\categorical.py\u001b[0m in \u001b[0;36m__init__\u001b[1;34m(self, x, y, hue, data, order, hue_order, estimator, ci, n_boot, units, seed, orient, color, palette, saturation, errcolor, errwidth, capsize, dodge)\u001b[0m\n\u001b[0;32m   1613\u001b[0m         \u001b[1;34m\"\"\"Initialize the plotter.\"\"\"\u001b[0m\u001b[1;33m\u001b[0m\u001b[1;33m\u001b[0m\u001b[0m\n\u001b[0;32m   1614\u001b[0m         self.establish_variables(x, y, hue, data, orient,\n\u001b[1;32m-> 1615\u001b[1;33m                                  order, hue_order, units)\n\u001b[0m\u001b[0;32m   1616\u001b[0m         \u001b[0mself\u001b[0m\u001b[1;33m.\u001b[0m\u001b[0mestablish_colors\u001b[0m\u001b[1;33m(\u001b[0m\u001b[0mcolor\u001b[0m\u001b[1;33m,\u001b[0m \u001b[0mpalette\u001b[0m\u001b[1;33m,\u001b[0m \u001b[0msaturation\u001b[0m\u001b[1;33m)\u001b[0m\u001b[1;33m\u001b[0m\u001b[1;33m\u001b[0m\u001b[0m\n\u001b[0;32m   1617\u001b[0m         \u001b[0mself\u001b[0m\u001b[1;33m.\u001b[0m\u001b[0mestimate_statistic\u001b[0m\u001b[1;33m(\u001b[0m\u001b[0mestimator\u001b[0m\u001b[1;33m,\u001b[0m \u001b[0mci\u001b[0m\u001b[1;33m,\u001b[0m \u001b[0mn_boot\u001b[0m\u001b[1;33m,\u001b[0m \u001b[0mseed\u001b[0m\u001b[1;33m)\u001b[0m\u001b[1;33m\u001b[0m\u001b[1;33m\u001b[0m\u001b[0m\n",
      "\u001b[1;32m~\\Anaconda3\\envs\\sehwan\\lib\\site-packages\\seaborn\\categorical.py\u001b[0m in \u001b[0;36mestablish_variables\u001b[1;34m(self, x, y, hue, data, orient, order, hue_order, units)\u001b[0m\n\u001b[0;32m    150\u001b[0m                 \u001b[1;32mif\u001b[0m \u001b[0misinstance\u001b[0m\u001b[1;33m(\u001b[0m\u001b[0mvar\u001b[0m\u001b[1;33m,\u001b[0m \u001b[0mstr\u001b[0m\u001b[1;33m)\u001b[0m\u001b[1;33m:\u001b[0m\u001b[1;33m\u001b[0m\u001b[1;33m\u001b[0m\u001b[0m\n\u001b[0;32m    151\u001b[0m                     \u001b[0merr\u001b[0m \u001b[1;33m=\u001b[0m \u001b[1;34m\"Could not interpret input '{}'\"\u001b[0m\u001b[1;33m.\u001b[0m\u001b[0mformat\u001b[0m\u001b[1;33m(\u001b[0m\u001b[0mvar\u001b[0m\u001b[1;33m)\u001b[0m\u001b[1;33m\u001b[0m\u001b[1;33m\u001b[0m\u001b[0m\n\u001b[1;32m--> 152\u001b[1;33m                     \u001b[1;32mraise\u001b[0m \u001b[0mValueError\u001b[0m\u001b[1;33m(\u001b[0m\u001b[0merr\u001b[0m\u001b[1;33m)\u001b[0m\u001b[1;33m\u001b[0m\u001b[1;33m\u001b[0m\u001b[0m\n\u001b[0m\u001b[0;32m    153\u001b[0m \u001b[1;33m\u001b[0m\u001b[0m\n\u001b[0;32m    154\u001b[0m             \u001b[1;31m# Figure out the plotting orientation\u001b[0m\u001b[1;33m\u001b[0m\u001b[1;33m\u001b[0m\u001b[1;33m\u001b[0m\u001b[0m\n",
      "\u001b[1;31mValueError\u001b[0m: Could not interpret input 'Cabin'"
     ]
    },
    {
     "data": {
      "image/png": "[encoded data removed]",
      "text/plain": [
       "<Figure size 1296x720 with 2 Axes>"
      ]
     },
     "metadata": {
      "needs_background": "light"
     },
     "output_type": "display_data"
    }
   ],
   "source": [
    "# widspeed 풍속에 0 값이 가장 많다. => 잘못 기록된 데이터를 고쳐 줄 필요가 있음\n",
    "fig, axes = plt.subplots(nrows=2)\n",
    "fig.set_size_inches(18,10)\n",
    "\n",
    "a= pd.merge(train, test)\n",
    "\n",
    "plt.sca(axes[0])\n",
    "plt.xticks(rotation=30, ha='right')\n",
    "axes[0].set(ylabel='Count',title=\"train windspeed\")\n",
    "sns.countplot(data=train, x=\"windspeed\", ax=axes[0])\n",
    "\n",
    "plt.sca(axes[1])\n",
    "plt.xticks(rotation=30, ha='right')\n",
    "axes[1].set(ylabel='Count',title=\"test windspeed\")\n",
    "sns.countplot(data=test, x=\"windspeed\", ax=axes[1])"
   ]
  },
  {
   "cell_type": "code",
   "execution_count": 0,
   "metadata": {
    "colab": {},
    "colab_type": "code",
    "id": "S3-Y9dkWaaE0"
   },
   "outputs": [],
   "source": [
    "# 풍속의 0값에 특정 값을 넣어준다.\n",
    "# 평균을 구해 일괄적으로 넣어줄 수도 있지만, 예측의 정확도를 높이는 데 도움이 될것 같진 않다.\n",
    "# train.loc[train[\"windspeed\"] == 0, \"windspeed\"] = train[\"windspeed\"].mean()\n",
    "# test.loc[train[\"windspeed\"] == 0, \"windspeed\"] = train[\"windspeed\"].mean()"
   ]
  },
  {
   "cell_type": "code",
   "execution_count": 0,
   "metadata": {
    "colab": {
     "base_uri": "https://localhost:8080/",
     "height": 52
    },
    "colab_type": "code",
    "id": "1h1GHIXcab-7",
    "outputId": "57226b02-1457-4d38-d580-52584d39748f"
   },
   "outputs": [
    {
     "name": "stdout",
     "output_type": "stream",
     "text": [
      "(1313, 19)\n",
      "(9573, 19)\n"
     ]
    }
   ],
   "source": [
    "# 풍속이 0인것과 아닌 것의 세트를 나누어 준다.\n",
    "trainWind0 = train.loc[train['windspeed'] == 0]\n",
    "trainWindNot0 = train.loc[train['windspeed'] != 0]\n",
    "print(trainWind0.shape)\n",
    "print(trainWindNot0.shape)\n"
   ]
  },
  {
   "cell_type": "code",
   "execution_count": 0,
   "metadata": {
    "colab": {},
    "colab_type": "code",
    "id": "avomOIusadut"
   },
   "outputs": [],
   "source": [
    "# 그래서 머신러닝으로 예측을 해서 풍속을 넣어주도록 한다.\n",
    "from sklearn.ensemble import RandomForestClassifier\n",
    "\n",
    "def predict_windspeed(data):\n",
    "    \n",
    "    # 풍속이 0인것과 아닌 것을 나누어 준다.\n",
    "    dataWind0 = data.loc[data['windspeed'] == 0]\n",
    "    dataWindNot0 = data.loc[data['windspeed'] != 0]\n",
    "    \n",
    "    # 풍속을 예측할 피처를 선택한다.\n",
    "    wCol = [\"season\", \"weather\", \"humidity\", \"month\", \"temp\", \"year\", \"atemp\"]\n",
    "\n",
    "    # 풍속이 0이 아닌 데이터들의 타입을 스트링으로 바꿔준다.\n",
    "    dataWindNot0[\"windspeed\"] = dataWindNot0[\"windspeed\"].astype(\"str\")\n",
    "\n",
    "    # 랜덤포레스트 분류기를 사용한다.\n",
    "    rfModel_wind = RandomForestClassifier()\n",
    "\n",
    "    # wCol에 있는 피처의 값을 바탕으로 풍속을 학습시킨다.\n",
    "    rfModel_wind.fit(dataWindNot0[wCol], dataWindNot0[\"windspeed\"])\n",
    "\n",
    "    # 학습한 값을 바탕으로 풍속이 0으로 기록 된 데이터의 풍속을 예측한다.\n",
    "    wind0Values = rfModel_wind.predict(X = dataWind0[wCol])\n",
    "\n",
    "    # 값을 다 예측 후 비교해 보기 위해\n",
    "    # 예측한 값을 넣어 줄 데이터 프레임을 새로 만든다.\n",
    "    predictWind0 = dataWind0\n",
    "    predictWindNot0 = dataWindNot0\n",
    "\n",
    "    # 값이 0으로 기록 된 풍속에 대해 예측한 값을 넣어준다.\n",
    "    predictWind0[\"windspeed\"] = wind0Values\n",
    "\n",
    "    # dataWindNot0 0이 아닌 풍속이 있는 데이터프레임에 예측한 값이 있는 데이터프레임을 합쳐준다.\n",
    "    data = predictWindNot0.append(predictWind0)\n",
    "\n",
    "    # 풍속의 데이터타입을 float으로 지정해 준다.\n",
    "    data[\"windspeed\"] = data[\"windspeed\"].astype(\"float\")\n",
    "\n",
    "    data.reset_index(inplace=True)\n",
    "    data.drop('index', inplace=True, axis=1)\n",
    "    \n",
    "    return data"
   ]
  },
  {
   "cell_type": "code",
   "execution_count": 0,
   "metadata": {
    "colab": {
     "base_uri": "https://localhost:8080/",
     "height": 440
    },
    "colab_type": "code",
    "id": "CN4-XTAfagHE",
    "outputId": "d074067f-f331-4070-c359-be8a053208ce"
   },
   "outputs": [
    {
     "data": {
      "text/plain": [
       "<matplotlib.axes._subplots.AxesSubplot at 0x7fc2a04bab70>"
      ]
     },
     "execution_count": 15,
     "metadata": {
      "tags": []
     },
     "output_type": "execute_result"
    },
    {
     "data": {
      "image/png": "[encoded data removed]",
      "text/plain": [
       "<Figure size 1296x432 with 1 Axes>"
      ]
     },
     "metadata": {
      "tags": []
     },
     "output_type": "display_data"
    }
   ],
   "source": [
    "# 0값을 조정한다.\n",
    "train = predict_windspeed(train)\n",
    "# test = predict_windspeed(test)\n",
    "\n",
    "# widspeed 의 0값을 조정한 데이터를 시각화\n",
    "fig, ax1 = plt.subplots()\n",
    "fig.set_size_inches(18,6)\n",
    "\n",
    "plt.sca(ax1)\n",
    "plt.xticks(rotation=30, ha='right')\n",
    "ax1.set(ylabel='Count',title=\"train windspeed\")\n",
    "sns.countplot(data=train, x=\"windspeed\", ax=ax1)"
   ]
  },
  {
   "cell_type": "markdown",
   "metadata": {
    "colab_type": "text",
    "id": "ray_Oa9vak2t"
   },
   "source": [
    "#Feature Selection\n",
    "\n",
    "* 신호와 소음을 구분해야 한다.\n",
    "* 피처가 많다고 해서 무조건 좋은 성능을 내지 않는다.\n",
    "* 피처를 하나씩 추가하고 변경해 가면서 성능이 좋지 않은 피처는 제거하도록 한다."
   ]
  },
  {
   "cell_type": "code",
   "execution_count": 0,
   "metadata": {
    "colab": {},
    "colab_type": "code",
    "id": "Xw8Pu_2raimr"
   },
   "outputs": [],
   "source": [
    "# 연속형 feature와 범주형 feature \n",
    "# 연속형 feature = [\"temp\",\"humidity\",\"windspeed\",\"atemp\"]\n",
    "# 범주형 feature의 type을 category로 변경 해 준다.\n",
    "categorical_feature_names = [\"season\",\"holiday\",\"workingday\",\"weather\",\n",
    "                             \"dayofweek\",\"month\",\"year\",\"hour\"]\n",
    "\n",
    "for var in categorical_feature_names:\n",
    "    train[var] = train[var].astype(\"category\")\n",
    "    test[var] = test[var].astype(\"category\")"
   ]
  },
  {
   "cell_type": "code",
   "execution_count": 0,
   "metadata": {
    "colab": {
     "base_uri": "https://localhost:8080/",
     "height": 210
    },
    "colab_type": "code",
    "id": "JFYjkZ94apuF",
    "outputId": "7b33264a-97e5-4a74-e17d-c0b09ea8346c"
   },
   "outputs": [
    {
     "data": {
      "text/plain": [
       "['season',\n",
       " 'weather',\n",
       " 'temp',\n",
       " 'atemp',\n",
       " 'humidity',\n",
       " 'windspeed',\n",
       " 'year',\n",
       " 'hour',\n",
       " 'dayofweek',\n",
       " 'holiday',\n",
       " 'workingday']"
      ]
     },
     "execution_count": 17,
     "metadata": {
      "tags": []
     },
     "output_type": "execute_result"
    }
   ],
   "source": [
    "feature_names = [\"season\", \"weather\", \"temp\", \"atemp\", \"humidity\", \"windspeed\",\n",
    "                 \"year\", \"hour\", \"dayofweek\", \"holiday\", \"workingday\"]\n",
    "\n",
    "feature_names"
   ]
  },
  {
   "cell_type": "code",
   "execution_count": 0,
   "metadata": {
    "colab": {
     "base_uri": "https://localhost:8080/",
     "height": 208
    },
    "colab_type": "code",
    "id": "8TUnXpESarVc",
    "outputId": "acef2ce9-4fd7-4229-def3-af4654fe6b6c"
   },
   "outputs": [
    {
     "name": "stdout",
     "output_type": "stream",
     "text": [
      "(10886, 11)\n"
     ]
    },
    {
     "data": {
      "text/html": [
       "<div>\n",
       "<style scoped>\n",
       "    .dataframe tbody tr th:only-of-type {\n",
       "        vertical-align: middle;\n",
       "    }\n",
       "\n",
       "    .dataframe tbody tr th {\n",
       "        vertical-align: top;\n",
       "    }\n",
       "\n",
       "    .dataframe thead th {\n",
       "        text-align: right;\n",
       "    }\n",
       "</style>\n",
       "<table border=\"1\" class=\"dataframe\">\n",
       "  <thead>\n",
       "    <tr style=\"text-align: right;\">\n",
       "      <th></th>\n",
       "      <th>season</th>\n",
       "      <th>weather</th>\n",
       "      <th>temp</th>\n",
       "      <th>atemp</th>\n",
       "      <th>humidity</th>\n",
       "      <th>windspeed</th>\n",
       "      <th>year</th>\n",
       "      <th>hour</th>\n",
       "      <th>dayofweek</th>\n",
       "      <th>holiday</th>\n",
       "      <th>workingday</th>\n",
       "    </tr>\n",
       "  </thead>\n",
       "  <tbody>\n",
       "    <tr>\n",
       "      <th>0</th>\n",
       "      <td>1</td>\n",
       "      <td>2</td>\n",
       "      <td>9.84</td>\n",
       "      <td>12.880</td>\n",
       "      <td>75</td>\n",
       "      <td>6.0032</td>\n",
       "      <td>2011</td>\n",
       "      <td>5</td>\n",
       "      <td>5</td>\n",
       "      <td>0</td>\n",
       "      <td>0</td>\n",
       "    </tr>\n",
       "    <tr>\n",
       "      <th>1</th>\n",
       "      <td>1</td>\n",
       "      <td>1</td>\n",
       "      <td>15.58</td>\n",
       "      <td>19.695</td>\n",
       "      <td>76</td>\n",
       "      <td>16.9979</td>\n",
       "      <td>2011</td>\n",
       "      <td>10</td>\n",
       "      <td>5</td>\n",
       "      <td>0</td>\n",
       "      <td>0</td>\n",
       "    </tr>\n",
       "    <tr>\n",
       "      <th>2</th>\n",
       "      <td>1</td>\n",
       "      <td>1</td>\n",
       "      <td>14.76</td>\n",
       "      <td>16.665</td>\n",
       "      <td>81</td>\n",
       "      <td>19.0012</td>\n",
       "      <td>2011</td>\n",
       "      <td>11</td>\n",
       "      <td>5</td>\n",
       "      <td>0</td>\n",
       "      <td>0</td>\n",
       "    </tr>\n",
       "    <tr>\n",
       "      <th>3</th>\n",
       "      <td>1</td>\n",
       "      <td>1</td>\n",
       "      <td>17.22</td>\n",
       "      <td>21.210</td>\n",
       "      <td>77</td>\n",
       "      <td>19.0012</td>\n",
       "      <td>2011</td>\n",
       "      <td>12</td>\n",
       "      <td>5</td>\n",
       "      <td>0</td>\n",
       "      <td>0</td>\n",
       "    </tr>\n",
       "    <tr>\n",
       "      <th>4</th>\n",
       "      <td>1</td>\n",
       "      <td>2</td>\n",
       "      <td>18.86</td>\n",
       "      <td>22.725</td>\n",
       "      <td>72</td>\n",
       "      <td>19.9995</td>\n",
       "      <td>2011</td>\n",
       "      <td>13</td>\n",
       "      <td>5</td>\n",
       "      <td>0</td>\n",
       "      <td>0</td>\n",
       "    </tr>\n",
       "  </tbody>\n",
       "</table>\n",
       "</div>"
      ],
      "text/plain": [
       "  season weather   temp   atemp  ...  hour  dayofweek holiday workingday\n",
       "0      1       2   9.84  12.880  ...     5          5       0          0\n",
       "1      1       1  15.58  19.695  ...    10          5       0          0\n",
       "2      1       1  14.76  16.665  ...    11          5       0          0\n",
       "3      1       1  17.22  21.210  ...    12          5       0          0\n",
       "4      1       2  18.86  22.725  ...    13          5       0          0\n",
       "\n",
       "[5 rows x 11 columns]"
      ]
     },
     "execution_count": 18,
     "metadata": {
      "tags": []
     },
     "output_type": "execute_result"
    }
   ],
   "source": [
    "X_train = train[feature_names]\n",
    "\n",
    "print(X_train.shape)\n",
    "X_train.head()"
   ]
  },
  {
   "cell_type": "code",
   "execution_count": 0,
   "metadata": {
    "colab": {
     "base_uri": "https://localhost:8080/",
     "height": 208
    },
    "colab_type": "code",
    "id": "7e_25Fxbas_Y",
    "outputId": "9d330881-8be9-4746-a2a2-5814bb476121"
   },
   "outputs": [
    {
     "name": "stdout",
     "output_type": "stream",
     "text": [
      "(6493, 11)\n"
     ]
    },
    {
     "data": {
      "text/html": [
       "<div>\n",
       "<style scoped>\n",
       "    .dataframe tbody tr th:only-of-type {\n",
       "        vertical-align: middle;\n",
       "    }\n",
       "\n",
       "    .dataframe tbody tr th {\n",
       "        vertical-align: top;\n",
       "    }\n",
       "\n",
       "    .dataframe thead th {\n",
       "        text-align: right;\n",
       "    }\n",
       "</style>\n",
       "<table border=\"1\" class=\"dataframe\">\n",
       "  <thead>\n",
       "    <tr style=\"text-align: right;\">\n",
       "      <th></th>\n",
       "      <th>season</th>\n",
       "      <th>weather</th>\n",
       "      <th>temp</th>\n",
       "      <th>atemp</th>\n",
       "      <th>humidity</th>\n",
       "      <th>windspeed</th>\n",
       "      <th>year</th>\n",
       "      <th>hour</th>\n",
       "      <th>dayofweek</th>\n",
       "      <th>holiday</th>\n",
       "      <th>workingday</th>\n",
       "    </tr>\n",
       "  </thead>\n",
       "  <tbody>\n",
       "    <tr>\n",
       "      <th>0</th>\n",
       "      <td>1</td>\n",
       "      <td>1</td>\n",
       "      <td>10.66</td>\n",
       "      <td>11.365</td>\n",
       "      <td>56</td>\n",
       "      <td>26.0027</td>\n",
       "      <td>2011</td>\n",
       "      <td>0</td>\n",
       "      <td>3</td>\n",
       "      <td>0</td>\n",
       "      <td>1</td>\n",
       "    </tr>\n",
       "    <tr>\n",
       "      <th>1</th>\n",
       "      <td>1</td>\n",
       "      <td>1</td>\n",
       "      <td>10.66</td>\n",
       "      <td>13.635</td>\n",
       "      <td>56</td>\n",
       "      <td>0.0000</td>\n",
       "      <td>2011</td>\n",
       "      <td>1</td>\n",
       "      <td>3</td>\n",
       "      <td>0</td>\n",
       "      <td>1</td>\n",
       "    </tr>\n",
       "    <tr>\n",
       "      <th>2</th>\n",
       "      <td>1</td>\n",
       "      <td>1</td>\n",
       "      <td>10.66</td>\n",
       "      <td>13.635</td>\n",
       "      <td>56</td>\n",
       "      <td>0.0000</td>\n",
       "      <td>2011</td>\n",
       "      <td>2</td>\n",
       "      <td>3</td>\n",
       "      <td>0</td>\n",
       "      <td>1</td>\n",
       "    </tr>\n",
       "    <tr>\n",
       "      <th>3</th>\n",
       "      <td>1</td>\n",
       "      <td>1</td>\n",
       "      <td>10.66</td>\n",
       "      <td>12.880</td>\n",
       "      <td>56</td>\n",
       "      <td>11.0014</td>\n",
       "      <td>2011</td>\n",
       "      <td>3</td>\n",
       "      <td>3</td>\n",
       "      <td>0</td>\n",
       "      <td>1</td>\n",
       "    </tr>\n",
       "    <tr>\n",
       "      <th>4</th>\n",
       "      <td>1</td>\n",
       "      <td>1</td>\n",
       "      <td>10.66</td>\n",
       "      <td>12.880</td>\n",
       "      <td>56</td>\n",
       "      <td>11.0014</td>\n",
       "      <td>2011</td>\n",
       "      <td>4</td>\n",
       "      <td>3</td>\n",
       "      <td>0</td>\n",
       "      <td>1</td>\n",
       "    </tr>\n",
       "  </tbody>\n",
       "</table>\n",
       "</div>"
      ],
      "text/plain": [
       "  season weather   temp   atemp  ...  hour  dayofweek holiday workingday\n",
       "0      1       1  10.66  11.365  ...     0          3       0          1\n",
       "1      1       1  10.66  13.635  ...     1          3       0          1\n",
       "2      1       1  10.66  13.635  ...     2          3       0          1\n",
       "3      1       1  10.66  12.880  ...     3          3       0          1\n",
       "4      1       1  10.66  12.880  ...     4          3       0          1\n",
       "\n",
       "[5 rows x 11 columns]"
      ]
     },
     "execution_count": 19,
     "metadata": {
      "tags": []
     },
     "output_type": "execute_result"
    }
   ],
   "source": [
    "X_test = test[feature_names]\n",
    "\n",
    "print(X_test.shape)\n",
    "X_test.head()"
   ]
  },
  {
   "cell_type": "code",
   "execution_count": 0,
   "metadata": {
    "colab": {
     "base_uri": "https://localhost:8080/",
     "height": 140
    },
    "colab_type": "code",
    "id": "J1x3kQeraufe",
    "outputId": "973d89b4-3da2-435c-b0f0-96537055e9c6"
   },
   "outputs": [
    {
     "name": "stdout",
     "output_type": "stream",
     "text": [
      "(10886,)\n"
     ]
    },
    {
     "data": {
      "text/plain": [
       "0     1\n",
       "1    36\n",
       "2    56\n",
       "3    84\n",
       "4    94\n",
       "Name: count, dtype: int64"
      ]
     },
     "execution_count": 20,
     "metadata": {
      "tags": []
     },
     "output_type": "execute_result"
    }
   ],
   "source": [
    "label_name = \"count\"\n",
    "\n",
    "y_train = train[label_name]\n",
    "\n",
    "print(y_train.shape)\n",
    "y_train.head()"
   ]
  },
  {
   "cell_type": "markdown",
   "metadata": {
    "colab_type": "text",
    "id": "oQ-CTExka1sY"
   },
   "source": [
    "#Score\n",
    "\n",
    "##RMSLE\n",
    "\n",
    "과대평가 된 항목보다는 과소평가 된 항목에 패널티를 준다.\n",
    "\n",
    "오차(Error)를 제곱(Square)해서 평균(Mean)한 값의 제곱근(Root) 으로 값이 작을 수록 정밀도가 높다.\n",
    "\n",
    "0에 가까운 값이 나올 수록 정밀도가 높은 값이다.\n",
    "\n",
    "Submissions are evaluated one the Root Mean Squared Logarithmic Error (RMSLE)\n",
    "\n",
    " \n",
    " \n",
    "$ \\sqrt{ \\frac{1}{n} \\sum_{i=1}^{n}{ (\\log( p_i + 1) - \\log(a_i + 1))^2} } $\n",
    "$ = \\sqrt{ \\frac{1}{n} \\sum_{i=1}^{n}{ (\\log \\frac {p_i + 1} {a_i + 1} )^2} } $\n",
    " \n",
    "\n",
    " \n",
    "n  is the number of hours in the test set\n",
    "\n",
    "p_i  is your predicted count\n",
    "\n",
    "a_i  is the actual count\n",
    "\n",
    "log(x) is the natural logarithm\n",
    "\n",
    "좀 더 자세한 설명은 : [RMSLE cost function](https://www.slideshare.net/KhorSoonHin/rmsle-cost-function)\n",
    "\n",
    "\n",
    "잔차(residual)에 대한 평균에 로그를 씌운 값이다. \n",
    "=> 과대평가 된 항목보다 과소 평가 된 항목에 패널티를 주기위해 정답에 대한 오류를 숫자로 나타낸 값으로 값이 클 수록 오차가 크다는 의미다.\n",
    "\n",
    "값이 작을 수록 오류가 적다는 의미를 나타낸다.\n",
    "\n",
    "![image.png](data:image/png;base64,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)\n",
    "\n",
    "image.png이미지 출처 : 위키피디아 https://ko.wikipedia.org/wiki/로그"
   ]
  },
  {
   "cell_type": "code",
   "execution_count": 0,
   "metadata": {
    "colab": {
     "base_uri": "https://localhost:8080/",
     "height": 35
    },
    "colab_type": "code",
    "id": "rHBV68PrdKK8",
    "outputId": "791df21a-afed-4452-dd44-28c3b1f83c66"
   },
   "outputs": [
    {
     "data": {
      "text/plain": [
       "make_scorer(rmsle)"
      ]
     },
     "execution_count": 21,
     "metadata": {
      "tags": []
     },
     "output_type": "execute_result"
    }
   ],
   "source": [
    "from sklearn.metrics import make_scorer\n",
    "\n",
    "def rmsle(predicted_values, actual_values):\n",
    "    # 넘파이로 배열 형태로 바꿔준다.\n",
    "    predicted_values = np.array(predicted_values)\n",
    "    actual_values = np.array(actual_values)\n",
    "    \n",
    "    # 예측값과 실제 값에 1을 더하고 로그를 씌워준다.\n",
    "    # 1을 더하는 이유는 0일때 마이너스 무한대가 되기 때문에 1을 더해주고 로그를 씌운다.\n",
    "    log_predict = np.log(predicted_values + 1)\n",
    "    log_actual = np.log(actual_values + 1)\n",
    "    \n",
    "    # 위에서 계산한 예측값에서 실제값을 빼주고 제곱을 해준다.\n",
    "    difference = log_predict - log_actual\n",
    "    # difference = (log_predict - log_actual) ** 2\n",
    "    difference = np.square(difference)\n",
    "    \n",
    "    # 평균을 낸다.\n",
    "    mean_difference = difference.mean()\n",
    "    \n",
    "    # 다시 루트를 씌운다.\n",
    "    score = np.sqrt(mean_difference)\n",
    "    \n",
    "    return score\n",
    "\n",
    "rmsle_scorer = make_scorer(rmsle)\n",
    "rmsle_scorer"
   ]
  },
  {
   "cell_type": "markdown",
   "metadata": {
    "colab_type": "text",
    "id": "GSiJw8msdlUi"
   },
   "source": [
    "##Cross Validation 교차 검증\n",
    "\n",
    "* 일반화 성능을 측정하기 위해 데이터를 여러 번 반복해서 나누고 여러 모델을 학습한다.\n",
    "![image.png](data:image/png;base64,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)\n",
    "\n",
    "이미지 출처 : https://www.researchgate.net/figure/228403467_fig2_Figure-4-k-fold-cross-validation-scheme-example\n",
    "\n",
    "\n",
    "* KFold 교차검증\n",
    "  * 데이터를 폴드라 부르는 비슷한 크기의 부분집합(n_splits)으로 나누고 각각의 폴드 정확도를 측정한다.\n",
    "  * 첫 번째 폴드를 테스트 세트로 사용하고 나머지 폴드를 훈련세트로 사용하여 학습한다.\n",
    "  * 나머지 훈련세트로 만들어진 세트의 정확도를 첫 번째 폴드로 평가한다.\n",
    "  * 다음은 두 번째 폴드가 테스트 세트가 되고 나머지 폴드의 훈련세트를 두 번째 폴드로 정확도를 측정한다.\n",
    "  * 이 과정을 마지막 폴드까지 반복한다.\n",
    "  * 이렇게 훈련세트와 테스트세트로 나누는 N개의 분할마다 정확도를 측정하여 평균 값을 낸게 정확도가 된다."
   ]
  },
  {
   "cell_type": "code",
   "execution_count": 0,
   "metadata": {
    "colab": {},
    "colab_type": "code",
    "id": "KIKXmcrGdila"
   },
   "outputs": [],
   "source": [
    "from sklearn.model_selection import KFold\n",
    "from sklearn.model_selection import cross_val_score\n",
    "\n",
    "k_fold = KFold(n_splits=10, shuffle=True, random_state=0)"
   ]
  },
  {
   "cell_type": "markdown",
   "metadata": {
    "colab_type": "text",
    "id": "8rN4-4bHeLrA"
   },
   "source": [
    "#RandomForest"
   ]
  },
  {
   "cell_type": "code",
   "execution_count": 0,
   "metadata": {
    "colab": {
     "base_uri": "https://localhost:8080/",
     "height": 140
    },
    "colab_type": "code",
    "id": "zfKbbxdpeHTV",
    "outputId": "9fb4414f-c894-4d02-bb27-7f5a1cb93902"
   },
   "outputs": [
    {
     "data": {
      "text/plain": [
       "RandomForestRegressor(bootstrap=True, criterion='mse', max_depth=None,\n",
       "                      max_features='auto', max_leaf_nodes=None,\n",
       "                      min_impurity_decrease=0.0, min_impurity_split=None,\n",
       "                      min_samples_leaf=1, min_samples_split=2,\n",
       "                      min_weight_fraction_leaf=0.0, n_estimators=100, n_jobs=-1,\n",
       "                      oob_score=False, random_state=0, verbose=0,\n",
       "                      warm_start=False)"
      ]
     },
     "execution_count": 24,
     "metadata": {
      "tags": []
     },
     "output_type": "execute_result"
    }
   ],
   "source": [
    "from sklearn.ensemble import RandomForestRegressor\n",
    "\n",
    "max_depth_list = []\n",
    "\n",
    "model = RandomForestRegressor(n_estimators=100,\n",
    "                              n_jobs=-1,\n",
    "                              random_state=0)\n",
    "model"
   ]
  },
  {
   "cell_type": "code",
   "execution_count": 0,
   "metadata": {
    "colab": {
     "base_uri": "https://localhost:8080/",
     "height": 70
    },
    "colab_type": "code",
    "id": "8Ya7YEoBePoR",
    "outputId": "70290633-5514-4ff0-f264-1cac460391fa"
   },
   "outputs": [
    {
     "name": "stdout",
     "output_type": "stream",
     "text": [
      "CPU times: user 4.84 s, sys: 1.26 s, total: 6.1 s\n",
      "Wall time: 46.1 s\n",
      "Score= 0.33171\n"
     ]
    }
   ],
   "source": [
    "%time score = cross_val_score(model, X_train, y_train, cv=k_fold, scoring=rmsle_scorer)\n",
    "score = score.mean()\n",
    "# 0에 근접할수록 좋은 데이터\n",
    "print(\"Score= {0:.5f}\".format(score))"
   ]
  },
  {
   "cell_type": "markdown",
   "metadata": {
    "colab_type": "text",
    "id": "qWrC2jrWeS4u"
   },
   "source": [
    "##Train"
   ]
  },
  {
   "cell_type": "code",
   "execution_count": 0,
   "metadata": {
    "colab": {
     "base_uri": "https://localhost:8080/",
     "height": 140
    },
    "colab_type": "code",
    "id": "Yc6TQDOzeQ4a",
    "outputId": "4c61306a-ad1f-4b41-c2ec-cb80d5f03383"
   },
   "outputs": [
    {
     "data": {
      "text/plain": [
       "RandomForestRegressor(bootstrap=True, criterion='mse', max_depth=None,\n",
       "                      max_features='auto', max_leaf_nodes=None,\n",
       "                      min_impurity_decrease=0.0, min_impurity_split=None,\n",
       "                      min_samples_leaf=1, min_samples_split=2,\n",
       "                      min_weight_fraction_leaf=0.0, n_estimators=100, n_jobs=-1,\n",
       "                      oob_score=False, random_state=0, verbose=0,\n",
       "                      warm_start=False)"
      ]
     },
     "execution_count": 26,
     "metadata": {
      "tags": []
     },
     "output_type": "execute_result"
    }
   ],
   "source": [
    "# 학습시킴, 피팅(옷을 맞출 때 사용하는 피팅을 생각함) - 피처와 레이블을 넣어주면 알아서 학습을 함\n",
    "model.fit(X_train, y_train)"
   ]
  },
  {
   "cell_type": "code",
   "execution_count": 0,
   "metadata": {
    "colab": {
     "base_uri": "https://localhost:8080/",
     "height": 70
    },
    "colab_type": "code",
    "id": "wzmxMUPteUyv",
    "outputId": "4fc55cd5-32c3-4294-b9a4-be94289d8afd"
   },
   "outputs": [
    {
     "name": "stdout",
     "output_type": "stream",
     "text": [
      "(6493,)\n"
     ]
    },
    {
     "data": {
      "text/plain": [
       "array([ 12.54,   5.13,   4.32,   3.55,   3.17,   6.28,  38.41, 104.64,\n",
       "       236.64, 137.09])"
      ]
     },
     "execution_count": 27,
     "metadata": {
      "tags": []
     },
     "output_type": "execute_result"
    }
   ],
   "source": [
    "# 예측\n",
    "predictions = model.predict(X_test)\n",
    "\n",
    "print(predictions.shape)\n",
    "predictions[0:10]"
   ]
  },
  {
   "cell_type": "code",
   "execution_count": 0,
   "metadata": {
    "colab": {
     "base_uri": "https://localhost:8080/",
     "height": 367
    },
    "colab_type": "code",
    "id": "BWuKvjS5eWHp",
    "outputId": "6ece64ad-c651-44de-8b12-9dcca9d03d85"
   },
   "outputs": [
    {
     "data": {
      "text/plain": [
       "[Text(0.5, 1.0, 'test')]"
      ]
     },
     "execution_count": 28,
     "metadata": {
      "tags": []
     },
     "output_type": "execute_result"
    },
    {
     "data": {
      "image/png": "[encoded data removed]",
      "text/plain": [
       "<Figure size 864x360 with 2 Axes>"
      ]
     },
     "metadata": {
      "tags": []
     },
     "output_type": "display_data"
    }
   ],
   "source": [
    "# 예측한 데이터를 시각화 해본다. \n",
    "fig,(ax1,ax2)= plt.subplots(ncols=2)\n",
    "fig.set_size_inches(12,5)\n",
    "sns.distplot(y_train,ax=ax1,bins=50)\n",
    "ax1.set(title=\"train\")\n",
    "sns.distplot(predictions,ax=ax2,bins=50)\n",
    "ax2.set(title=\"test\")"
   ]
  },
  {
   "cell_type": "markdown",
   "metadata": {
    "colab_type": "text",
    "id": "hVU7g26aedhD"
   },
   "source": [
    "##Submit"
   ]
  },
  {
   "cell_type": "code",
   "execution_count": 15,
   "metadata": {
    "colab": {
     "base_uri": "https://localhost:8080/",
     "height": 208
    },
    "colab_type": "code",
    "id": "s319uZeVeYr6",
    "outputId": "4705b175-bc31-4c72-f837-4ac1d8e544cf"
   },
   "outputs": [
    {
     "ename": "FileNotFoundError",
     "evalue": "[Errno 2] File /content/drive/My Drive/Colab Notebooks/data/bike/sampleSubmission.csv does not exist: '/content/drive/My Drive/Colab Notebooks/data/bike/sampleSubmission.csv'",
     "output_type": "error",
     "traceback": [
      "\u001b[1;31m---------------------------------------------------------------------------\u001b[0m",
      "\u001b[1;31mFileNotFoundError\u001b[0m                         Traceback (most recent call last)",
      "\u001b[1;32m<ipython-input-15-f67ec5fc0cd3>\u001b[0m in \u001b[0;36m<module>\u001b[1;34m\u001b[0m\n\u001b[1;32m----> 1\u001b[1;33m \u001b[0msubmission\u001b[0m \u001b[1;33m=\u001b[0m \u001b[0mpd\u001b[0m\u001b[1;33m.\u001b[0m\u001b[0mread_csv\u001b[0m\u001b[1;33m(\u001b[0m\u001b[1;34m\"/content/drive/My Drive/Colab Notebooks/data/bike/sampleSubmission.csv\"\u001b[0m\u001b[1;33m)\u001b[0m\u001b[1;33m\u001b[0m\u001b[1;33m\u001b[0m\u001b[0m\n\u001b[0m\u001b[0;32m      2\u001b[0m \u001b[0msubmission\u001b[0m\u001b[1;33m\u001b[0m\u001b[1;33m\u001b[0m\u001b[0m\n\u001b[0;32m      3\u001b[0m \u001b[1;33m\u001b[0m\u001b[0m\n\u001b[0;32m      4\u001b[0m \u001b[0msubmission\u001b[0m\u001b[1;33m[\u001b[0m\u001b[1;34m\"Survived\"\u001b[0m\u001b[1;33m]\u001b[0m \u001b[1;33m=\u001b[0m \u001b[0mpredict\u001b[0m\u001b[1;33m\u001b[0m\u001b[1;33m\u001b[0m\u001b[0m\n\u001b[0;32m      5\u001b[0m \u001b[1;33m\u001b[0m\u001b[0m\n",
      "\u001b[1;32m~\\Anaconda3\\envs\\sehwan\\lib\\site-packages\\pandas\\io\\parsers.py\u001b[0m in \u001b[0;36mparser_f\u001b[1;34m(filepath_or_buffer, sep, delimiter, header, names, index_col, usecols, squeeze, prefix, mangle_dupe_cols, dtype, engine, converters, true_values, false_values, skipinitialspace, skiprows, skipfooter, nrows, na_values, keep_default_na, na_filter, verbose, skip_blank_lines, parse_dates, infer_datetime_format, keep_date_col, date_parser, dayfirst, cache_dates, iterator, chunksize, compression, thousands, decimal, lineterminator, quotechar, quoting, doublequote, escapechar, comment, encoding, dialect, error_bad_lines, warn_bad_lines, delim_whitespace, low_memory, memory_map, float_precision)\u001b[0m\n\u001b[0;32m    674\u001b[0m         )\n\u001b[0;32m    675\u001b[0m \u001b[1;33m\u001b[0m\u001b[0m\n\u001b[1;32m--> 676\u001b[1;33m         \u001b[1;32mreturn\u001b[0m \u001b[0m_read\u001b[0m\u001b[1;33m(\u001b[0m\u001b[0mfilepath_or_buffer\u001b[0m\u001b[1;33m,\u001b[0m \u001b[0mkwds\u001b[0m\u001b[1;33m)\u001b[0m\u001b[1;33m\u001b[0m\u001b[1;33m\u001b[0m\u001b[0m\n\u001b[0m\u001b[0;32m    677\u001b[0m \u001b[1;33m\u001b[0m\u001b[0m\n\u001b[0;32m    678\u001b[0m     \u001b[0mparser_f\u001b[0m\u001b[1;33m.\u001b[0m\u001b[0m__name__\u001b[0m \u001b[1;33m=\u001b[0m \u001b[0mname\u001b[0m\u001b[1;33m\u001b[0m\u001b[1;33m\u001b[0m\u001b[0m\n",
      "\u001b[1;32m~\\Anaconda3\\envs\\sehwan\\lib\\site-packages\\pandas\\io\\parsers.py\u001b[0m in \u001b[0;36m_read\u001b[1;34m(filepath_or_buffer, kwds)\u001b[0m\n\u001b[0;32m    446\u001b[0m \u001b[1;33m\u001b[0m\u001b[0m\n\u001b[0;32m    447\u001b[0m     \u001b[1;31m# Create the parser.\u001b[0m\u001b[1;33m\u001b[0m\u001b[1;33m\u001b[0m\u001b[1;33m\u001b[0m\u001b[0m\n\u001b[1;32m--> 448\u001b[1;33m     \u001b[0mparser\u001b[0m \u001b[1;33m=\u001b[0m \u001b[0mTextFileReader\u001b[0m\u001b[1;33m(\u001b[0m\u001b[0mfp_or_buf\u001b[0m\u001b[1;33m,\u001b[0m \u001b[1;33m**\u001b[0m\u001b[0mkwds\u001b[0m\u001b[1;33m)\u001b[0m\u001b[1;33m\u001b[0m\u001b[1;33m\u001b[0m\u001b[0m\n\u001b[0m\u001b[0;32m    449\u001b[0m \u001b[1;33m\u001b[0m\u001b[0m\n\u001b[0;32m    450\u001b[0m     \u001b[1;32mif\u001b[0m \u001b[0mchunksize\u001b[0m \u001b[1;32mor\u001b[0m \u001b[0miterator\u001b[0m\u001b[1;33m:\u001b[0m\u001b[1;33m\u001b[0m\u001b[1;33m\u001b[0m\u001b[0m\n",
      "\u001b[1;32m~\\Anaconda3\\envs\\sehwan\\lib\\site-packages\\pandas\\io\\parsers.py\u001b[0m in \u001b[0;36m__init__\u001b[1;34m(self, f, engine, **kwds)\u001b[0m\n\u001b[0;32m    878\u001b[0m             \u001b[0mself\u001b[0m\u001b[1;33m.\u001b[0m\u001b[0moptions\u001b[0m\u001b[1;33m[\u001b[0m\u001b[1;34m\"has_index_names\"\u001b[0m\u001b[1;33m]\u001b[0m \u001b[1;33m=\u001b[0m \u001b[0mkwds\u001b[0m\u001b[1;33m[\u001b[0m\u001b[1;34m\"has_index_names\"\u001b[0m\u001b[1;33m]\u001b[0m\u001b[1;33m\u001b[0m\u001b[1;33m\u001b[0m\u001b[0m\n\u001b[0;32m    879\u001b[0m \u001b[1;33m\u001b[0m\u001b[0m\n\u001b[1;32m--> 880\u001b[1;33m         \u001b[0mself\u001b[0m\u001b[1;33m.\u001b[0m\u001b[0m_make_engine\u001b[0m\u001b[1;33m(\u001b[0m\u001b[0mself\u001b[0m\u001b[1;33m.\u001b[0m\u001b[0mengine\u001b[0m\u001b[1;33m)\u001b[0m\u001b[1;33m\u001b[0m\u001b[1;33m\u001b[0m\u001b[0m\n\u001b[0m\u001b[0;32m    881\u001b[0m \u001b[1;33m\u001b[0m\u001b[0m\n\u001b[0;32m    882\u001b[0m     \u001b[1;32mdef\u001b[0m \u001b[0mclose\u001b[0m\u001b[1;33m(\u001b[0m\u001b[0mself\u001b[0m\u001b[1;33m)\u001b[0m\u001b[1;33m:\u001b[0m\u001b[1;33m\u001b[0m\u001b[1;33m\u001b[0m\u001b[0m\n",
      "\u001b[1;32m~\\Anaconda3\\envs\\sehwan\\lib\\site-packages\\pandas\\io\\parsers.py\u001b[0m in \u001b[0;36m_make_engine\u001b[1;34m(self, engine)\u001b[0m\n\u001b[0;32m   1112\u001b[0m     \u001b[1;32mdef\u001b[0m \u001b[0m_make_engine\u001b[0m\u001b[1;33m(\u001b[0m\u001b[0mself\u001b[0m\u001b[1;33m,\u001b[0m \u001b[0mengine\u001b[0m\u001b[1;33m=\u001b[0m\u001b[1;34m\"c\"\u001b[0m\u001b[1;33m)\u001b[0m\u001b[1;33m:\u001b[0m\u001b[1;33m\u001b[0m\u001b[1;33m\u001b[0m\u001b[0m\n\u001b[0;32m   1113\u001b[0m         \u001b[1;32mif\u001b[0m \u001b[0mengine\u001b[0m \u001b[1;33m==\u001b[0m \u001b[1;34m\"c\"\u001b[0m\u001b[1;33m:\u001b[0m\u001b[1;33m\u001b[0m\u001b[1;33m\u001b[0m\u001b[0m\n\u001b[1;32m-> 1114\u001b[1;33m             \u001b[0mself\u001b[0m\u001b[1;33m.\u001b[0m\u001b[0m_engine\u001b[0m \u001b[1;33m=\u001b[0m \u001b[0mCParserWrapper\u001b[0m\u001b[1;33m(\u001b[0m\u001b[0mself\u001b[0m\u001b[1;33m.\u001b[0m\u001b[0mf\u001b[0m\u001b[1;33m,\u001b[0m \u001b[1;33m**\u001b[0m\u001b[0mself\u001b[0m\u001b[1;33m.\u001b[0m\u001b[0moptions\u001b[0m\u001b[1;33m)\u001b[0m\u001b[1;33m\u001b[0m\u001b[1;33m\u001b[0m\u001b[0m\n\u001b[0m\u001b[0;32m   1115\u001b[0m         \u001b[1;32melse\u001b[0m\u001b[1;33m:\u001b[0m\u001b[1;33m\u001b[0m\u001b[1;33m\u001b[0m\u001b[0m\n\u001b[0;32m   1116\u001b[0m             \u001b[1;32mif\u001b[0m \u001b[0mengine\u001b[0m \u001b[1;33m==\u001b[0m \u001b[1;34m\"python\"\u001b[0m\u001b[1;33m:\u001b[0m\u001b[1;33m\u001b[0m\u001b[1;33m\u001b[0m\u001b[0m\n",
      "\u001b[1;32m~\\Anaconda3\\envs\\sehwan\\lib\\site-packages\\pandas\\io\\parsers.py\u001b[0m in \u001b[0;36m__init__\u001b[1;34m(self, src, **kwds)\u001b[0m\n\u001b[0;32m   1889\u001b[0m         \u001b[0mkwds\u001b[0m\u001b[1;33m[\u001b[0m\u001b[1;34m\"usecols\"\u001b[0m\u001b[1;33m]\u001b[0m \u001b[1;33m=\u001b[0m \u001b[0mself\u001b[0m\u001b[1;33m.\u001b[0m\u001b[0musecols\u001b[0m\u001b[1;33m\u001b[0m\u001b[1;33m\u001b[0m\u001b[0m\n\u001b[0;32m   1890\u001b[0m \u001b[1;33m\u001b[0m\u001b[0m\n\u001b[1;32m-> 1891\u001b[1;33m         \u001b[0mself\u001b[0m\u001b[1;33m.\u001b[0m\u001b[0m_reader\u001b[0m \u001b[1;33m=\u001b[0m \u001b[0mparsers\u001b[0m\u001b[1;33m.\u001b[0m\u001b[0mTextReader\u001b[0m\u001b[1;33m(\u001b[0m\u001b[0msrc\u001b[0m\u001b[1;33m,\u001b[0m \u001b[1;33m**\u001b[0m\u001b[0mkwds\u001b[0m\u001b[1;33m)\u001b[0m\u001b[1;33m\u001b[0m\u001b[1;33m\u001b[0m\u001b[0m\n\u001b[0m\u001b[0;32m   1892\u001b[0m         \u001b[0mself\u001b[0m\u001b[1;33m.\u001b[0m\u001b[0munnamed_cols\u001b[0m \u001b[1;33m=\u001b[0m \u001b[0mself\u001b[0m\u001b[1;33m.\u001b[0m\u001b[0m_reader\u001b[0m\u001b[1;33m.\u001b[0m\u001b[0munnamed_cols\u001b[0m\u001b[1;33m\u001b[0m\u001b[1;33m\u001b[0m\u001b[0m\n\u001b[0;32m   1893\u001b[0m \u001b[1;33m\u001b[0m\u001b[0m\n",
      "\u001b[1;32mpandas\\_libs\\parsers.pyx\u001b[0m in \u001b[0;36mpandas._libs.parsers.TextReader.__cinit__\u001b[1;34m()\u001b[0m\n",
      "\u001b[1;32mpandas\\_libs\\parsers.pyx\u001b[0m in \u001b[0;36mpandas._libs.parsers.TextReader._setup_parser_source\u001b[1;34m()\u001b[0m\n",
      "\u001b[1;31mFileNotFoundError\u001b[0m: [Errno 2] File /content/drive/My Drive/Colab Notebooks/data/bike/sampleSubmission.csv does not exist: '/content/drive/My Drive/Colab Notebooks/data/bike/sampleSubmission.csv'"
     ]
    }
   ],
   "source": [
    "submission = pd.read_csv(\"/content/drive/My Drive/Colab Notebooks/data/bike/sampleSubmission.csv\")\n",
    "submission\n",
    "\n",
    "submission[\"count\"] = predictions\n",
    "\n",
    "print(submission.shape)\n",
    "submission.head()"
   ]
  },
  {
   "cell_type": "code",
   "execution_count": 0,
   "metadata": {
    "colab": {},
    "colab_type": "code",
    "id": "2QP3mY0heiOr"
   },
   "outputs": [],
   "source": [
    "submission.to_csv(\"/content/drive/My Drive/Colab Notebooks/data/bike/Score_{0:.5f}_submission.csv\".format(score), index=False)"
   ]
  },
  {
   "cell_type": "markdown",
   "metadata": {
    "colab_type": "text",
    "id": "p1NASWPQe7rr"
   },
   "source": [
    "참고 :\n",
    "\n",
    "*  [EDA & Ensemble Model (Top 10 Percentile) | Kaggle](https://www.kaggle.com/viveksrinivasan/eda-ensemble-model-top-10-percentile)\n",
    "*  [How to finish top 10 percentile in Bike Sharing Demand Competition In Kaggle? (part -1)](https://colab.research.google.com/drive/1aD1AWEshSX3VuCMvH2_emUuv7EKcc9eu#scrollTo=p1NASWPQe7rr&line=3&uniqifier=1)\n",
    "*  [How to finish top 10 percentile in Bike Sharing Demand Competition In Kaggle? (part -2)](https://medium.com/@viveksrinivasan/how-to-finish-top-10-percentile-in-bike-sharing-demand-competition-in-kaggle-part-2-29e854aaab7d)"
   ]
  }
 ],
 "metadata": {
  "colab": {
   "collapsed_sections": [],
   "name": "kaggle_DS_랜덤포레스트로 자전거 수요량 회귀 예측하기.ipynb",
   "provenance": []
  },
  "kernelspec": {
   "display_name": "Python 3",
   "language": "python",
   "name": "python3"
  },
  "language_info": {
   "codemirror_mode": {
    "name": "ipython",
    "version": 3
   },
   "file_extension": ".py",
   "mimetype": "text/x-python",
   "name": "python",
   "nbconvert_exporter": "python",
   "pygments_lexer": "ipython3",
   "version": "3.7.5"
  }
 },
 "nbformat": 4,
 "nbformat_minor": 1
}
