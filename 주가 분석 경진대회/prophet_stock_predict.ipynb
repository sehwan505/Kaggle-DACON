{
 "cells": [
  {
   "cell_type": "code",
   "execution_count": 73,
   "id": "73e72d39",
   "metadata": {},
   "outputs": [],
   "source": [
    "import pandas as pd\n",
    "import os\n",
    "import FinanceDataReader as fdr\n",
    "import numpy as np\n",
    "import math\n",
    "import sklearn\n",
    "import sklearn.preprocessing\n",
    "import datetime\n",
    "import matplotlib.pyplot as plt\n",
    "import tensorflow as tf\n",
    "from tqdm import tqdm\n"
   ]
  },
  {
   "cell_type": "code",
   "execution_count": 74,
   "id": "fe9149a0",
   "metadata": {},
   "outputs": [
    {
     "data": {
      "text/html": [
       "<div>\n",
       "<style scoped>\n",
       "    .dataframe tbody tr th:only-of-type {\n",
       "        vertical-align: middle;\n",
       "    }\n",
       "\n",
       "    .dataframe tbody tr th {\n",
       "        vertical-align: top;\n",
       "    }\n",
       "\n",
       "    .dataframe thead th {\n",
       "        text-align: right;\n",
       "    }\n",
       "</style>\n",
       "<table border=\"1\" class=\"dataframe\">\n",
       "  <thead>\n",
       "    <tr style=\"text-align: right;\">\n",
       "      <th></th>\n",
       "      <th>종목명</th>\n",
       "      <th>종목코드</th>\n",
       "      <th>상장시장</th>\n",
       "    </tr>\n",
       "  </thead>\n",
       "  <tbody>\n",
       "    <tr>\n",
       "      <th>109</th>\n",
       "      <td>메리츠화재</td>\n",
       "      <td>000060</td>\n",
       "      <td>KOSPI</td>\n",
       "    </tr>\n",
       "    <tr>\n",
       "      <th>126</th>\n",
       "      <td>하이트진로</td>\n",
       "      <td>000080</td>\n",
       "      <td>KOSPI</td>\n",
       "    </tr>\n",
       "    <tr>\n",
       "      <th>67</th>\n",
       "      <td>유한양행</td>\n",
       "      <td>000100</td>\n",
       "      <td>KOSPI</td>\n",
       "    </tr>\n",
       "    <tr>\n",
       "      <th>69</th>\n",
       "      <td>CJ대한통운</td>\n",
       "      <td>000120</td>\n",
       "      <td>KOSPI</td>\n",
       "    </tr>\n",
       "    <tr>\n",
       "      <th>156</th>\n",
       "      <td>두산</td>\n",
       "      <td>000150</td>\n",
       "      <td>KOSPI</td>\n",
       "    </tr>\n",
       "    <tr>\n",
       "      <th>...</th>\n",
       "      <td>...</td>\n",
       "      <td>...</td>\n",
       "      <td>...</td>\n",
       "    </tr>\n",
       "    <tr>\n",
       "      <th>328</th>\n",
       "      <td>넥스틴</td>\n",
       "      <td>348210</td>\n",
       "      <td>KOSDAQ</td>\n",
       "    </tr>\n",
       "    <tr>\n",
       "      <th>31</th>\n",
       "      <td>하이브</td>\n",
       "      <td>352820</td>\n",
       "      <td>KOSPI</td>\n",
       "    </tr>\n",
       "    <tr>\n",
       "      <th>199</th>\n",
       "      <td>솔브레인</td>\n",
       "      <td>357780</td>\n",
       "      <td>KOSDAQ</td>\n",
       "    </tr>\n",
       "    <tr>\n",
       "      <th>176</th>\n",
       "      <td>티와이홀딩스</td>\n",
       "      <td>363280</td>\n",
       "      <td>KOSPI</td>\n",
       "    </tr>\n",
       "    <tr>\n",
       "      <th>241</th>\n",
       "      <td>엑세스바이오</td>\n",
       "      <td>950130</td>\n",
       "      <td>KOSDAQ</td>\n",
       "    </tr>\n",
       "  </tbody>\n",
       "</table>\n",
       "<p>370 rows × 3 columns</p>\n",
       "</div>"
      ],
      "text/plain": [
       "        종목명    종목코드    상장시장\n",
       "109   메리츠화재  000060   KOSPI\n",
       "126   하이트진로  000080   KOSPI\n",
       "67     유한양행  000100   KOSPI\n",
       "69   CJ대한통운  000120   KOSPI\n",
       "156      두산  000150   KOSPI\n",
       "..      ...     ...     ...\n",
       "328     넥스틴  348210  KOSDAQ\n",
       "31      하이브  352820   KOSPI\n",
       "199    솔브레인  357780  KOSDAQ\n",
       "176  티와이홀딩스  363280   KOSPI\n",
       "241  엑세스바이오  950130  KOSDAQ\n",
       "\n",
       "[370 rows x 3 columns]"
      ]
     },
     "execution_count": 74,
     "metadata": {},
     "output_type": "execute_result"
    }
   ],
   "source": [
    "path = './'\n",
    "list_name = 'stock_list.csv'\n",
    "stock_list = pd.read_csv(os.path.join(path,list_name))\n",
    "stock_list['종목코드'] = stock_list['종목코드'].apply(lambda x : str(x).zfill(6))\n",
    "stock_list = stock_list.sort_values(\"종목코드\")\n",
    "stock_list"
   ]
  },
  {
   "cell_type": "code",
   "execution_count": 75,
   "id": "c9465c63",
   "metadata": {},
   "outputs": [],
   "source": [
    "data = pd.DataFrame()\n",
    "volume = pd.DataFrame()\n",
    "high = pd.DataFrame()\n",
    "low = pd.DataFrame()\n",
    "\n",
    "start_date = '20160104'\n",
    "end_date = '20211106'\n",
    "for stock_code in stock_list[\"종목코드\"]:\n",
    "    stock = fdr.DataReader(stock_code, start = start_date, end = end_date)\n",
    "    data = pd.concat([data,stock[\"Close\"]], axis=1)\n",
    "    volume = pd.concat([volume, stock[\"Volume\"]], axis=1)\n",
    "    high = pd.concat([high,stock[\"High\"]], axis=1)\n",
    "    low = pd.concat([low,stock[\"Low\"]], axis=1)\n",
    "\n",
    "data.columns = stock_list[\"종목코드\"]\n",
    "volume.columns = stock_list[\"종목코드\"]\n",
    "high.columns = stock_list[\"종목코드\"]\n",
    "low.columns = stock_list[\"종목코드\"]"
   ]
  },
  {
   "cell_type": "code",
   "execution_count": 76,
   "id": "ebee4a63",
   "metadata": {},
   "outputs": [],
   "source": [
    "data_diff = data.iloc[1:, :].values - data.iloc[:-1, :]"
   ]
  },
  {
   "cell_type": "code",
   "execution_count": 77,
   "id": "e390147f",
   "metadata": {},
   "outputs": [],
   "source": [
    "from prophet import Prophet"
   ]
  },
  {
   "cell_type": "code",
   "execution_count": 78,
   "id": "1f1d147b",
   "metadata": {},
   "outputs": [],
   "source": [
    "def prophet_pred_model(train):\n",
    "    if train[\"y\"].isnull().sum() > 0:\n",
    "        train = train.dropna(axis=0)\n",
    "    m = Prophet(daily_seasonality=True, yearly_seasonality=True)\n",
    "    m.fit(train)\n",
    "    future_prices = m.make_future_dataframe(periods=7)\n",
    "    pred = m.predict(future_prices[-5:])\n",
    "#     m.plot_components(pred)\n",
    "    return pred[\"yhat\"]"
   ]
  },
  {
   "cell_type": "code",
   "execution_count": 79,
   "id": "5a55613c",
   "metadata": {},
   "outputs": [
    {
     "name": "stderr",
     "output_type": "stream",
     "text": [
      "\r",
      "  0%|          | 0/370 [00:00<?, ?it/s]"
     ]
    },
    {
     "name": "stdout",
     "output_type": "stream",
     "text": [
      "Initial log joint probability = -11.5925\n",
      "    Iter      log prob        ||dx||      ||grad||       alpha      alpha0  # evals  Notes \n",
      "      99       2544.72   0.000922892       104.672        6.59       0.659      131   \n",
      "    Iter      log prob        ||dx||      ||grad||       alpha      alpha0  # evals  Notes \n",
      "     106       2544.79   0.000333305        74.558   3.682e-06       0.001      177  LS failed, Hessian reset \n",
      "     182       2544.81   2.96139e-05       69.5246   3.071e-07       0.001      307  LS failed, Hessian reset \n",
      "     199       2544.81   1.31638e-06       73.0057      0.7532      0.7532      330   \n",
      "    Iter      log prob        ||dx||      ||grad||       alpha      alpha0  # evals  Notes \n",
      "     208       2544.81   2.19477e-07       77.2337      0.5549      0.5549      341   \n",
      "Optimization terminated normally: \n",
      "  Convergence detected: relative gradient magnitude is below tolerance\n"
     ]
    },
    {
     "name": "stderr",
     "output_type": "stream",
     "text": [
      "\r",
      "  0%|          | 1/370 [00:01<07:10,  1.17s/it]"
     ]
    },
    {
     "name": "stdout",
     "output_type": "stream",
     "text": [
      "Initial log joint probability = -42.607\n",
      "    Iter      log prob        ||dx||      ||grad||       alpha      alpha0  # evals  Notes \n",
      "      98       1664.31   0.000738999       96.7859   5.403e-06       0.001      166  LS failed, Hessian reset \n",
      "      99       1664.33   0.000395484       92.8831           1           1      167   \n",
      "    Iter      log prob        ||dx||      ||grad||       alpha      alpha0  # evals  Notes \n",
      "     199       1665.83   0.000278753       93.3191           1           1      295   \n",
      "    Iter      log prob        ||dx||      ||grad||       alpha      alpha0  # evals  Notes \n",
      "     239       1665.84   1.06983e-07       86.7304      0.2723      0.7342      352   \n",
      "Optimization terminated normally: \n",
      "  Convergence detected: relative gradient magnitude is below tolerance\n"
     ]
    },
    {
     "name": "stderr",
     "output_type": "stream",
     "text": [
      "\r",
      "  1%|          | 2/370 [00:02<07:10,  1.17s/it]"
     ]
    },
    {
     "name": "stdout",
     "output_type": "stream",
     "text": [
      "Initial log joint probability = -11.2699\n",
      "    Iter      log prob        ||dx||      ||grad||       alpha      alpha0  # evals  Notes \n",
      "      99       2466.66   2.67131e-05       89.9565           1           1      129   \n",
      "    Iter      log prob        ||dx||      ||grad||       alpha      alpha0  # evals  Notes \n",
      "     115       2466.73   0.000450207       82.4006   4.451e-06       0.001      184  LS failed, Hessian reset \n",
      "     198       2466.79   6.56511e-05       100.523   6.368e-07       0.001      319  LS failed, Hessian reset \n",
      "     199        2466.8   2.24068e-05       94.7906      0.8852      0.8852      320   \n",
      "    Iter      log prob        ||dx||      ||grad||       alpha      alpha0  # evals  Notes \n",
      "     235        2466.8   8.71441e-08       94.8508      0.3761           1      369   \n",
      "Optimization terminated normally: \n",
      "  Convergence detected: relative gradient magnitude is below tolerance\n"
     ]
    },
    {
     "name": "stderr",
     "output_type": "stream",
     "text": [
      "\r",
      "  1%|          | 3/370 [00:03<07:11,  1.18s/it]"
     ]
    },
    {
     "name": "stdout",
     "output_type": "stream",
     "text": [
      "Initial log joint probability = -249.155\n",
      "    Iter      log prob        ||dx||      ||grad||       alpha      alpha0  # evals  Notes \n",
      "      99       1577.46     0.0212436       121.494           1           1      129   \n",
      "    Iter      log prob        ||dx||      ||grad||       alpha      alpha0  # evals  Notes \n",
      "     176       1582.33   0.000336869       88.5011   3.733e-06       0.001      260  LS failed, Hessian reset \n",
      "     199       1582.39   0.000219933       81.2031           1           1      286   \n",
      "    Iter      log prob        ||dx||      ||grad||       alpha      alpha0  # evals  Notes \n",
      "     243       1582.85    0.00149414       103.929   1.333e-05       0.001      374  LS failed, Hessian reset \n",
      "     299       1583.04   0.000120114       105.017           1           1      439   \n",
      "    Iter      log prob        ||dx||      ||grad||       alpha      alpha0  # evals  Notes \n",
      "     320       1583.06   4.13267e-05        91.735   3.966e-07       0.001      500  LS failed, Hessian reset \n",
      "     344       1583.06   4.73304e-08        98.553      0.3871           1      531   \n",
      "Optimization terminated normally: \n",
      "  Convergence detected: relative gradient magnitude is below tolerance\n"
     ]
    },
    {
     "name": "stderr",
     "output_type": "stream",
     "text": [
      "\r",
      "  1%|          | 4/370 [00:04<07:47,  1.28s/it]"
     ]
    },
    {
     "name": "stdout",
     "output_type": "stream",
     "text": [
      "Initial log joint probability = -79.3723\n",
      "    Iter      log prob        ||dx||      ||grad||       alpha      alpha0  # evals  Notes \n",
      "      99       2183.56    0.00176353       85.6263           1           1      129   \n",
      "    Iter      log prob        ||dx||      ||grad||       alpha      alpha0  # evals  Notes \n",
      "     160       2187.28    0.00116325       111.083   1.506e-05       0.001      253  LS failed, Hessian reset \n",
      "     199       2187.59    5.1066e-06       60.0972       0.607       0.607      304   \n",
      "    Iter      log prob        ||dx||      ||grad||       alpha      alpha0  # evals  Notes \n",
      "     234       2187.59   1.39121e-05       65.0794   1.883e-07       0.001      379  LS failed, Hessian reset \n",
      "     271       2187.59   5.79495e-09       74.9312    0.009795    0.009795      428   \n",
      "Optimization terminated normally: \n",
      "  Convergence detected: absolute parameter change was below tolerance\n"
     ]
    },
    {
     "name": "stderr",
     "output_type": "stream",
     "text": [
      "\r",
      "  1%|▏         | 5/370 [00:06<07:38,  1.26s/it]"
     ]
    },
    {
     "name": "stdout",
     "output_type": "stream",
     "text": [
      "Initial log joint probability = -9.9977\n",
      "    Iter      log prob        ||dx||      ||grad||       alpha      alpha0  # evals  Notes \n",
      "      99       2742.68    0.00133727       97.1121      0.5466      0.5466      125   \n",
      "    Iter      log prob        ||dx||      ||grad||       alpha      alpha0  # evals  Notes \n",
      "     199       2742.98   2.64885e-07       50.3518      0.2833           1      264   \n",
      "    Iter      log prob        ||dx||      ||grad||       alpha      alpha0  # evals  Notes \n",
      "     278          2743   6.34036e-06       69.5572   8.401e-08       0.001      404  LS failed, Hessian reset \n",
      "     299          2743      3.99e-07       59.1632      0.3622           1      433   \n",
      "    Iter      log prob        ||dx||      ||grad||       alpha      alpha0  # evals  Notes \n",
      "     304          2743   1.08792e-07        67.444      0.5114      0.5114      439   \n",
      "Optimization terminated normally: \n",
      "  Convergence detected: relative gradient magnitude is below tolerance\n"
     ]
    },
    {
     "name": "stderr",
     "output_type": "stream",
     "text": [
      "\r",
      "  2%|▏         | 6/370 [00:07<07:33,  1.25s/it]"
     ]
    },
    {
     "name": "stdout",
     "output_type": "stream",
     "text": [
      "Initial log joint probability = -5.80705\n",
      "    Iter      log prob        ||dx||      ||grad||       alpha      alpha0  # evals  Notes \n",
      "      89       3055.84   2.73419e-05       110.016    3.04e-07       0.001      172  LS failed, Hessian reset \n",
      "      99       3055.84   8.99491e-07        88.951      0.2231           1      186   \n",
      "    Iter      log prob        ||dx||      ||grad||       alpha      alpha0  # evals  Notes \n",
      "     113       3055.84    1.5445e-07       99.0625      0.7926      0.7926      203   \n",
      "Optimization terminated normally: \n",
      "  Convergence detected: relative gradient magnitude is below tolerance\n"
     ]
    },
    {
     "name": "stderr",
     "output_type": "stream",
     "text": [
      "\r",
      "  2%|▏         | 7/370 [00:08<07:12,  1.19s/it]"
     ]
    },
    {
     "name": "stdout",
     "output_type": "stream",
     "text": [
      "Initial log joint probability = -6.62794\n",
      "    Iter      log prob        ||dx||      ||grad||       alpha      alpha0  # evals  Notes \n",
      "      99       3041.94   0.000284983       90.6857      0.8441      0.8441      127   \n",
      "    Iter      log prob        ||dx||      ||grad||       alpha      alpha0  # evals  Notes \n",
      "     159       3041.97    1.4077e-07        97.457      0.2748           1      202   \n",
      "Optimization terminated normally: \n",
      "  Convergence detected: relative gradient magnitude is below tolerance\n"
     ]
    },
    {
     "name": "stderr",
     "output_type": "stream",
     "text": [
      "\r",
      "  2%|▏         | 8/370 [00:09<07:16,  1.21s/it]"
     ]
    },
    {
     "name": "stdout",
     "output_type": "stream",
     "text": [
      "Initial log joint probability = -20.4084\n",
      "    Iter      log prob        ||dx||      ||grad||       alpha      alpha0  # evals  Notes \n",
      "      99       2013.21    7.3287e-08       94.9164      0.4653      0.4653      129   \n",
      "    Iter      log prob        ||dx||      ||grad||       alpha      alpha0  # evals  Notes \n",
      "     104       2013.21   4.27113e-08       92.4214      0.6407      0.6407      134   \n",
      "Optimization terminated normally: \n",
      "  Convergence detected: relative gradient magnitude is below tolerance\n"
     ]
    },
    {
     "name": "stderr",
     "output_type": "stream",
     "text": [
      "\r",
      "  2%|▏         | 9/370 [00:10<06:57,  1.16s/it]"
     ]
    },
    {
     "name": "stdout",
     "output_type": "stream",
     "text": [
      "Initial log joint probability = -7.86752\n",
      "    Iter      log prob        ||dx||      ||grad||       alpha      alpha0  # evals  Notes \n",
      "      75       2784.17   1.13639e-07       59.1793       0.139           1      106   \n",
      "Optimization terminated normally: \n",
      "  Convergence detected: relative gradient magnitude is below tolerance\n"
     ]
    },
    {
     "name": "stderr",
     "output_type": "stream",
     "text": [
      "\r",
      "  3%|▎         | 10/370 [00:11<06:44,  1.12s/it]"
     ]
    },
    {
     "name": "stdout",
     "output_type": "stream",
     "text": [
      "Initial log joint probability = -6.29466\n",
      "    Iter      log prob        ||dx||      ||grad||       alpha      alpha0  # evals  Notes \n",
      "      69       3070.97   0.000161742       148.618   1.366e-06       0.001      131  LS failed, Hessian reset \n",
      "      99       3071.14   0.000700107       88.7703      0.9503      0.9503      169   \n",
      "    Iter      log prob        ||dx||      ||grad||       alpha      alpha0  # evals  Notes \n",
      "     107       3071.26   0.000129896       142.958   1.096e-06       0.001      214  LS failed, Hessian reset \n",
      "     188        3071.4   2.32964e-06       69.5549   2.656e-08       0.001      340  LS failed, Hessian reset \n",
      "     197        3071.4   6.52494e-08       71.3212      0.3273           1      353   \n",
      "Optimization terminated normally: \n",
      "  Convergence detected: relative gradient magnitude is below tolerance\n"
     ]
    },
    {
     "name": "stderr",
     "output_type": "stream",
     "text": [
      "\r",
      "  3%|▎         | 11/370 [00:12<06:48,  1.14s/it]"
     ]
    },
    {
     "name": "stdout",
     "output_type": "stream",
     "text": [
      "Initial log joint probability = -39.59\n",
      "    Iter      log prob        ||dx||      ||grad||       alpha      alpha0  # evals  Notes \n",
      "      99       1810.42   3.40358e-07       87.9925           1           1      126   \n",
      "    Iter      log prob        ||dx||      ||grad||       alpha      alpha0  # evals  Notes \n",
      "     135       1810.42   2.15371e-06       97.3159   2.389e-08       0.001      212  LS failed, Hessian reset \n",
      "     150       1810.42   6.98771e-08       85.5547           1           1      234   \n",
      "Optimization terminated normally: \n",
      "  Convergence detected: relative gradient magnitude is below tolerance\n"
     ]
    },
    {
     "name": "stderr",
     "output_type": "stream",
     "text": [
      "\r",
      "  3%|▎         | 12/370 [00:14<06:58,  1.17s/it]"
     ]
    },
    {
     "name": "stdout",
     "output_type": "stream",
     "text": [
      "Initial log joint probability = -11.5474\n",
      "    Iter      log prob        ||dx||      ||grad||       alpha      alpha0  # evals  Notes \n",
      "      77       2423.38   0.000159535        76.239     1.9e-06       0.001      138  LS failed, Hessian reset \n",
      "      99       2423.39   2.16768e-07       62.0817      0.2807      0.2807      170   \n",
      "    Iter      log prob        ||dx||      ||grad||       alpha      alpha0  # evals  Notes \n",
      "     108       2423.39   1.47178e-07       65.0473      0.3193           1      184   \n",
      "Optimization terminated normally: \n",
      "  Convergence detected: relative gradient magnitude is below tolerance\n"
     ]
    },
    {
     "name": "stderr",
     "output_type": "stream",
     "text": [
      "\r",
      "  4%|▎         | 13/370 [00:15<06:47,  1.14s/it]"
     ]
    },
    {
     "name": "stdout",
     "output_type": "stream",
     "text": [
      "Initial log joint probability = -22.8533\n",
      "    Iter      log prob        ||dx||      ||grad||       alpha      alpha0  # evals  Notes \n",
      "      83       2067.88   0.000167956       87.4524   1.758e-06       0.001      142  LS failed, Hessian reset \n",
      "      99       2067.89   1.21065e-05       93.9809           1           1      161   \n",
      "    Iter      log prob        ||dx||      ||grad||       alpha      alpha0  # evals  Notes \n",
      "     114       2067.89   1.81069e-07       83.1424           1           1      181   \n",
      "Optimization terminated normally: \n",
      "  Convergence detected: relative gradient magnitude is below tolerance\n"
     ]
    },
    {
     "name": "stderr",
     "output_type": "stream",
     "text": [
      "\r",
      "  4%|▍         | 14/370 [00:16<06:39,  1.12s/it]"
     ]
    },
    {
     "name": "stdout",
     "output_type": "stream",
     "text": [
      "Initial log joint probability = -30.395\n",
      "    Iter      log prob        ||dx||      ||grad||       alpha      alpha0  # evals  Notes \n",
      "      99       2376.45    0.00148446       69.0546      0.8922      0.8922      125   \n",
      "    Iter      log prob        ||dx||      ||grad||       alpha      alpha0  # evals  Notes \n",
      "     162       2377.14   8.98589e-06       71.3068   1.168e-07       0.001      244  LS failed, Hessian reset \n",
      "     196       2377.14    3.3251e-07        62.993      0.2087       0.735      292   \n",
      "Optimization terminated normally: \n",
      "  Convergence detected: relative gradient magnitude is below tolerance\n"
     ]
    },
    {
     "name": "stderr",
     "output_type": "stream",
     "text": [
      "\r",
      "  4%|▍         | 15/370 [00:17<06:38,  1.12s/it]"
     ]
    },
    {
     "name": "stdout",
     "output_type": "stream",
     "text": [
      "Initial log joint probability = -5.98054\n",
      "    Iter      log prob        ||dx||      ||grad||       alpha      alpha0  # evals  Notes \n",
      "      99       3082.57   0.000166759       56.2151      0.4929      0.4929      130   \n",
      "    Iter      log prob        ||dx||      ||grad||       alpha      alpha0  # evals  Notes \n",
      "     128       3082.73   0.000127153       137.881   1.259e-06       0.001      209  LS failed, Hessian reset \n",
      "     168       3082.75   3.49615e-06       66.9041   6.696e-08       0.001      299  LS failed, Hessian reset \n",
      "     171       3082.75   7.39484e-08        28.702     0.09031           1      305   \n",
      "Optimization terminated normally: \n",
      "  Convergence detected: relative gradient magnitude is below tolerance\n"
     ]
    },
    {
     "name": "stderr",
     "output_type": "stream",
     "text": [
      "\r",
      "  4%|▍         | 16/370 [00:18<06:39,  1.13s/it]"
     ]
    },
    {
     "name": "stdout",
     "output_type": "stream",
     "text": [
      "Initial log joint probability = -52.2757\n",
      "    Iter      log prob        ||dx||      ||grad||       alpha      alpha0  # evals  Notes \n",
      "      99       1835.65   6.49958e-06       96.4671           1           1      139   \n",
      "    Iter      log prob        ||dx||      ||grad||       alpha      alpha0  # evals  Notes \n",
      "     101       1835.65   4.58195e-06       82.4206   4.675e-08       0.001      183  LS failed, Hessian reset \n",
      "     114       1835.65   5.86692e-08       72.8352      0.3027           1      201   \n",
      "Optimization terminated normally: \n",
      "  Convergence detected: relative gradient magnitude is below tolerance\n"
     ]
    },
    {
     "name": "stderr",
     "output_type": "stream",
     "text": [
      "\r",
      "  5%|▍         | 17/370 [00:19<06:54,  1.17s/it]"
     ]
    },
    {
     "name": "stdout",
     "output_type": "stream",
     "text": [
      "Initial log joint probability = -11.6919\n",
      "    Iter      log prob        ||dx||      ||grad||       alpha      alpha0  # evals  Notes \n",
      "      99       2441.65   1.07736e-05       68.2153           1           1      134   \n",
      "    Iter      log prob        ||dx||      ||grad||       alpha      alpha0  # evals  Notes \n",
      "     177       2441.68   7.52352e-08       79.6056      0.4364           1      238   \n",
      "Optimization terminated normally: \n",
      "  Convergence detected: relative gradient magnitude is below tolerance\n"
     ]
    },
    {
     "name": "stderr",
     "output_type": "stream",
     "text": [
      "\r",
      "  5%|▍         | 18/370 [00:21<06:45,  1.15s/it]"
     ]
    },
    {
     "name": "stdout",
     "output_type": "stream",
     "text": [
      "Initial log joint probability = -11.0946\n",
      "    Iter      log prob        ||dx||      ||grad||       alpha      alpha0  # evals  Notes \n",
      "      99       2501.67   9.37411e-05       55.3933           1           1      132   \n",
      "    Iter      log prob        ||dx||      ||grad||       alpha      alpha0  # evals  Notes \n",
      "     104       2501.68   3.77214e-05       66.0493   4.606e-07       0.001      181  LS failed, Hessian reset \n",
      "     129       2501.68   1.13785e-07        57.642      0.0439           1      220   \n",
      "Optimization terminated normally: \n",
      "  Convergence detected: relative gradient magnitude is below tolerance\n"
     ]
    },
    {
     "name": "stderr",
     "output_type": "stream",
     "text": [
      "\r",
      "  5%|▌         | 19/370 [00:22<06:38,  1.14s/it]"
     ]
    },
    {
     "name": "stdout",
     "output_type": "stream",
     "text": [
      "Initial log joint probability = -29.2167\n",
      "    Iter      log prob        ||dx||      ||grad||       alpha      alpha0  # evals  Notes \n",
      "      99       1744.26   1.39228e-05       75.9862           1           1      123   \n",
      "    Iter      log prob        ||dx||      ||grad||       alpha      alpha0  # evals  Notes \n",
      "     131       1744.26     7.932e-08       76.4512      0.2707           1      165   \n",
      "Optimization terminated normally: \n",
      "  Convergence detected: relative gradient magnitude is below tolerance\n"
     ]
    },
    {
     "name": "stderr",
     "output_type": "stream",
     "text": [
      "\r",
      "  5%|▌         | 20/370 [00:23<06:29,  1.11s/it]"
     ]
    },
    {
     "name": "stdout",
     "output_type": "stream",
     "text": [
      "Initial log joint probability = -10.165\n",
      "    Iter      log prob        ||dx||      ||grad||       alpha      alpha0  # evals  Notes \n",
      "      99       2519.65   2.23987e-07       94.6269      0.0618           1      138   \n",
      "    Iter      log prob        ||dx||      ||grad||       alpha      alpha0  # evals  Notes \n",
      "     100       2519.65   5.14008e-07       92.8508   5.432e-09       0.001      176  LS failed, Hessian reset \n",
      "     106       2519.65   9.03701e-08       84.8795       0.456       0.456      183   \n",
      "Optimization terminated normally: \n",
      "  Convergence detected: relative gradient magnitude is below tolerance\n"
     ]
    },
    {
     "name": "stderr",
     "output_type": "stream",
     "text": [
      "\r",
      "  6%|▌         | 21/370 [00:24<06:38,  1.14s/it]"
     ]
    },
    {
     "name": "stdout",
     "output_type": "stream",
     "text": [
      "Initial log joint probability = -4.14052\n",
      "    Iter      log prob        ||dx||      ||grad||       alpha      alpha0  # evals  Notes \n",
      "      99       3503.61   7.33984e-05       74.0971       0.509       0.509      122   \n",
      "    Iter      log prob        ||dx||      ||grad||       alpha      alpha0  # evals  Notes \n",
      "     106       3503.61   6.52916e-06       51.7495   9.662e-08       0.001      168  LS failed, Hessian reset \n",
      "     158       3503.61   3.75028e-06       86.3934    4.13e-08       0.001      273  LS failed, Hessian reset \n",
      "     170       3503.61   2.74633e-07       51.2355           1           1      291   \n",
      "Optimization terminated normally: \n",
      "  Convergence detected: relative gradient magnitude is below tolerance\n"
     ]
    },
    {
     "name": "stderr",
     "output_type": "stream",
     "text": [
      "\r",
      "  6%|▌         | 22/370 [00:25<06:36,  1.14s/it]"
     ]
    },
    {
     "name": "stdout",
     "output_type": "stream",
     "text": [
      "Initial log joint probability = -26.5911\n",
      "    Iter      log prob        ||dx||      ||grad||       alpha      alpha0  # evals  Notes \n",
      "      99       1134.88   3.50394e-06       103.729      0.5375      0.5375      117   \n",
      "    Iter      log prob        ||dx||      ||grad||       alpha      alpha0  # evals  Notes \n",
      "     126       1134.89   5.86394e-05       106.918   5.835e-07       0.001      208  LS failed, Hessian reset \n",
      "     170        1134.9   2.52172e-08       100.235      0.5084      0.5084      265   \n",
      "Optimization terminated normally: \n",
      "  Convergence detected: relative gradient magnitude is below tolerance\n"
     ]
    },
    {
     "name": "stderr",
     "output_type": "stream",
     "text": [
      "\r",
      "  6%|▌         | 23/370 [00:26<06:28,  1.12s/it]"
     ]
    },
    {
     "name": "stdout",
     "output_type": "stream",
     "text": [
      "Initial log joint probability = -6.69964\n",
      "    Iter      log prob        ||dx||      ||grad||       alpha      alpha0  # evals  Notes \n",
      "      99       3019.93   1.22816e-06       72.7089      0.3781      0.3781      134   \n",
      "    Iter      log prob        ||dx||      ||grad||       alpha      alpha0  # evals  Notes \n",
      "     113       3019.93   1.04202e-07       81.8425      0.3205           1      152   \n",
      "Optimization terminated normally: \n",
      "  Convergence detected: relative gradient magnitude is below tolerance\n"
     ]
    },
    {
     "name": "stderr",
     "output_type": "stream",
     "text": [
      "\r",
      "  6%|▋         | 24/370 [00:27<06:20,  1.10s/it]"
     ]
    },
    {
     "name": "stdout",
     "output_type": "stream",
     "text": [
      "Initial log joint probability = -20.3103\n",
      "    Iter      log prob        ||dx||      ||grad||       alpha      alpha0  # evals  Notes \n",
      "      54       2111.41   0.000139566       67.1165   1.591e-06       0.001      107  LS failed, Hessian reset \n",
      "      80       2111.41   4.48426e-08       66.4824      0.1699           1      142   \n",
      "Optimization terminated normally: \n",
      "  Convergence detected: relative gradient magnitude is below tolerance\n"
     ]
    },
    {
     "name": "stderr",
     "output_type": "stream",
     "text": [
      "\r",
      "  7%|▋         | 25/370 [00:28<06:15,  1.09s/it]"
     ]
    },
    {
     "name": "stdout",
     "output_type": "stream",
     "text": [
      "Initial log joint probability = -27.5333\n",
      "    Iter      log prob        ||dx||      ||grad||       alpha      alpha0  # evals  Notes \n",
      "      99       2120.67   0.000795851       97.6809           1           1      120   \n",
      "    Iter      log prob        ||dx||      ||grad||       alpha      alpha0  # evals  Notes \n",
      "     159       2120.88   0.000116682       101.728   1.079e-06       0.001      227  LS failed, Hessian reset \n",
      "     188       2120.89    3.8302e-08        86.123      0.3573      0.3573      267   \n",
      "Optimization terminated normally: \n",
      "  Convergence detected: relative gradient magnitude is below tolerance\n"
     ]
    },
    {
     "name": "stderr",
     "output_type": "stream",
     "text": [
      "\r",
      "  7%|▋         | 26/370 [00:29<06:32,  1.14s/it]"
     ]
    },
    {
     "name": "stdout",
     "output_type": "stream",
     "text": [
      "Initial log joint probability = -5.34765\n",
      "    Iter      log prob        ||dx||      ||grad||       alpha      alpha0  # evals  Notes \n",
      "      99       3487.96   0.000248086       109.521      0.3095           1      123   \n",
      "    Iter      log prob        ||dx||      ||grad||       alpha      alpha0  # evals  Notes \n",
      "     107       3488.01    0.00028808       103.241   3.087e-06       0.001      163  LS failed, Hessian reset \n",
      "     162       3488.09   0.000251926       254.022   1.816e-06       0.001      286  LS failed, Hessian reset \n",
      "     199       3488.14    5.7672e-06       79.0457      0.2894      0.9917      332   \n",
      "    Iter      log prob        ||dx||      ||grad||       alpha      alpha0  # evals  Notes \n",
      "     215       3488.14   6.12194e-08        85.031      0.2364      0.9322      350   \n",
      "Optimization terminated normally: \n",
      "  Convergence detected: relative gradient magnitude is below tolerance\n"
     ]
    },
    {
     "name": "stderr",
     "output_type": "stream",
     "text": [
      "\r",
      "  7%|▋         | 27/370 [00:31<06:33,  1.15s/it]"
     ]
    },
    {
     "name": "stdout",
     "output_type": "stream",
     "text": [
      "Initial log joint probability = -81.3945\n",
      "    Iter      log prob        ||dx||      ||grad||       alpha      alpha0  # evals  Notes \n",
      "      99        2265.1    0.00338993       160.246           1           1      119   \n",
      "    Iter      log prob        ||dx||      ||grad||       alpha      alpha0  # evals  Notes \n",
      "     179       2270.04    0.00077829       120.573   8.744e-06       0.001      255  LS failed, Hessian reset \n",
      "     199       2270.22   0.000112315       72.8218           1           1      280   \n",
      "    Iter      log prob        ||dx||      ||grad||       alpha      alpha0  # evals  Notes \n",
      "     287       2270.27   1.76363e-07        75.557      0.2787           1      398   \n",
      "Optimization terminated normally: \n",
      "  Convergence detected: relative gradient magnitude is below tolerance\n"
     ]
    },
    {
     "name": "stderr",
     "output_type": "stream",
     "text": [
      "\r",
      "  8%|▊         | 28/370 [00:32<06:36,  1.16s/it]"
     ]
    },
    {
     "name": "stdout",
     "output_type": "stream",
     "text": [
      "Initial log joint probability = -18.1009\n",
      "    Iter      log prob        ||dx||      ||grad||       alpha      alpha0  # evals  Notes \n",
      "      99        2293.2   0.000230404       98.8619      0.4292      0.4292      126   \n",
      "    Iter      log prob        ||dx||      ||grad||       alpha      alpha0  # evals  Notes \n",
      "     135       2293.24   8.46258e-05       62.3803   1.271e-06       0.001      207  LS failed, Hessian reset \n",
      "     199       2293.26   5.76155e-06       75.7842       0.776       0.776      289   \n",
      "    Iter      log prob        ||dx||      ||grad||       alpha      alpha0  # evals  Notes \n",
      "     276       2293.29   1.35314e-07       72.7279      0.2999      0.9108      388   \n",
      "Optimization terminated normally: \n",
      "  Convergence detected: relative gradient magnitude is below tolerance\n"
     ]
    },
    {
     "name": "stderr",
     "output_type": "stream",
     "text": [
      "\r",
      "  8%|▊         | 29/370 [00:33<06:37,  1.17s/it]"
     ]
    },
    {
     "name": "stdout",
     "output_type": "stream",
     "text": [
      "Initial log joint probability = -23.0906\n",
      "    Iter      log prob        ||dx||      ||grad||       alpha      alpha0  # evals  Notes \n",
      "      99       2009.59   0.000265831       99.3944      0.3288           1      121   \n",
      "    Iter      log prob        ||dx||      ||grad||       alpha      alpha0  # evals  Notes \n",
      "     127       2009.83   0.000168843       73.4209   1.904e-06       0.001      199  LS failed, Hessian reset \n",
      "     199       2009.91    1.8943e-07       95.8213      0.5554      0.5554      288   \n",
      "    Iter      log prob        ||dx||      ||grad||       alpha      alpha0  # evals  Notes \n",
      "     208       2009.91    1.3998e-07       89.3632      0.3032           1      299   \n",
      "Optimization terminated normally: \n",
      "  Convergence detected: relative gradient magnitude is below tolerance\n"
     ]
    },
    {
     "name": "stderr",
     "output_type": "stream",
     "text": [
      "\r",
      "  8%|▊         | 30/370 [00:34<06:34,  1.16s/it]"
     ]
    },
    {
     "name": "stdout",
     "output_type": "stream",
     "text": [
      "Initial log joint probability = -29.3144\n",
      "    Iter      log prob        ||dx||      ||grad||       alpha      alpha0  # evals  Notes \n",
      "      99        2224.6    0.00276243       120.842           1           1      133   \n",
      "    Iter      log prob        ||dx||      ||grad||       alpha      alpha0  # evals  Notes \n",
      "     199       2226.49   5.32145e-05       96.3209      0.7836      0.7836      250   \n",
      "    Iter      log prob        ||dx||      ||grad||       alpha      alpha0  # evals  Notes \n",
      "     220       2226.62   0.000467592       140.022   3.503e-06       0.001      335  LS failed, Hessian reset \n",
      "     291       2226.86    0.00036721       147.754   2.694e-06       0.001      460  LS failed, Hessian reset \n",
      "     299       2226.89   6.50353e-05       88.3786           1           1      470   \n",
      "    Iter      log prob        ||dx||      ||grad||       alpha      alpha0  # evals  Notes \n",
      "     338       2226.89   1.06213e-07       88.6923           1           1      518   \n",
      "Optimization terminated normally: \n",
      "  Convergence detected: relative gradient magnitude is below tolerance\n"
     ]
    },
    {
     "name": "stderr",
     "output_type": "stream",
     "text": [
      "\r",
      "  8%|▊         | 31/370 [00:36<06:57,  1.23s/it]"
     ]
    },
    {
     "name": "stdout",
     "output_type": "stream",
     "text": [
      "Initial log joint probability = -5.61174\n",
      "    Iter      log prob        ||dx||      ||grad||       alpha      alpha0  # evals  Notes \n",
      "      99       3115.04    8.9526e-06       58.2818      0.1724           1      132   \n",
      "    Iter      log prob        ||dx||      ||grad||       alpha      alpha0  # evals  Notes \n",
      "     134       3115.05   3.45105e-07       96.3034           1           1      183   \n",
      "Optimization terminated normally: \n",
      "  Convergence detected: relative gradient magnitude is below tolerance\n"
     ]
    },
    {
     "name": "stderr",
     "output_type": "stream",
     "text": [
      "\r",
      "  9%|▊         | 32/370 [00:37<06:40,  1.18s/it]"
     ]
    },
    {
     "name": "stdout",
     "output_type": "stream",
     "text": [
      "Initial log joint probability = -7.26408\n",
      "    Iter      log prob        ||dx||      ||grad||       alpha      alpha0  # evals  Notes \n",
      "      99       2926.98   5.83486e-05       91.1819       0.113           1      126   \n",
      "    Iter      log prob        ||dx||      ||grad||       alpha      alpha0  # evals  Notes \n",
      "     100       2926.98   2.10164e-05       99.4196   2.305e-07       0.001      170  LS failed, Hessian reset \n",
      "     143       2926.98   2.14141e-06       79.6711   2.643e-08       0.001      261  LS failed, Hessian reset \n",
      "     164       2926.98   2.98087e-07       78.5932      0.5456           1      287   \n",
      "Optimization terminated normally: \n",
      "  Convergence detected: relative gradient magnitude is below tolerance\n"
     ]
    },
    {
     "name": "stderr",
     "output_type": "stream",
     "text": [
      "\r",
      "  9%|▉         | 33/370 [00:38<06:33,  1.17s/it]"
     ]
    },
    {
     "name": "stdout",
     "output_type": "stream",
     "text": [
      "Initial log joint probability = -13.6647\n",
      "    Iter      log prob        ||dx||      ||grad||       alpha      alpha0  # evals  Notes \n",
      "      99        2334.5   1.04185e-05       94.3539           1           1      122   \n",
      "    Iter      log prob        ||dx||      ||grad||       alpha      alpha0  # evals  Notes \n",
      "     119       2334.53   7.23315e-05       88.3627   6.858e-07       0.001      185  LS failed, Hessian reset \n",
      "     180       2334.55   1.12646e-07       88.5259       0.883       0.883      265   \n",
      "Optimization terminated normally: \n",
      "  Convergence detected: relative gradient magnitude is below tolerance\n"
     ]
    },
    {
     "name": "stderr",
     "output_type": "stream",
     "text": [
      "\r",
      "  9%|▉         | 34/370 [00:39<06:27,  1.15s/it]"
     ]
    },
    {
     "name": "stdout",
     "output_type": "stream",
     "text": [
      "Initial log joint probability = -6.77456\n",
      "    Iter      log prob        ||dx||      ||grad||       alpha      alpha0  # evals  Notes \n",
      "      97       2969.88   0.000157073       133.542   1.095e-06       0.001      156  LS failed, Hessian reset \n",
      "      99       2969.89   0.000198109       83.1703           1           1      158   \n",
      "    Iter      log prob        ||dx||      ||grad||       alpha      alpha0  # evals  Notes \n",
      "     155       2970.13   0.000193116       120.368   1.686e-06       0.001      254  LS failed, Hessian reset \n",
      "     199       2970.18   7.38546e-06       95.5573      0.3755      0.3755      309   \n",
      "    Iter      log prob        ||dx||      ||grad||       alpha      alpha0  # evals  Notes \n",
      "     222       2970.18   1.38244e-05       89.8472   1.617e-07       0.001      369  LS failed, Hessian reset \n",
      "     246       2970.18   5.18897e-08       81.7107      0.3585      0.3585      404   \n",
      "Optimization terminated normally: \n",
      "  Convergence detected: relative gradient magnitude is below tolerance\n"
     ]
    },
    {
     "name": "stderr",
     "output_type": "stream",
     "text": [
      "\r",
      "  9%|▉         | 35/370 [00:40<06:30,  1.16s/it]"
     ]
    },
    {
     "name": "stdout",
     "output_type": "stream",
     "text": [
      "Initial log joint probability = -31.4134\n",
      "    Iter      log prob        ||dx||      ||grad||       alpha      alpha0  # evals  Notes \n",
      "      99       1951.57   1.48346e-05        68.631      0.9055      0.9055      128   \n",
      "    Iter      log prob        ||dx||      ||grad||       alpha      alpha0  # evals  Notes \n",
      "     175       1951.59   1.09785e-07       87.7539       0.305           1      230   \n",
      "Optimization terminated normally: \n",
      "  Convergence detected: relative gradient magnitude is below tolerance\n"
     ]
    },
    {
     "name": "stderr",
     "output_type": "stream",
     "text": [
      "\r",
      " 10%|▉         | 36/370 [00:41<06:37,  1.19s/it]"
     ]
    },
    {
     "name": "stdout",
     "output_type": "stream",
     "text": [
      "Initial log joint probability = -106.227\n",
      "    Iter      log prob        ||dx||      ||grad||       alpha      alpha0  # evals  Notes \n",
      "      87       2003.86     0.0007763       174.345   5.175e-06       0.001      143  LS failed, Hessian reset \n",
      "      99        2004.5   0.000821223       83.9142           1           1      157   \n",
      "    Iter      log prob        ||dx||      ||grad||       alpha      alpha0  # evals  Notes \n",
      "     175       2005.95    0.00503159       197.742   4.109e-05       0.001      297  LS failed, Hessian reset \n",
      "     199       2006.63     0.0015174       87.9156      0.9234      0.9234      324   \n",
      "    Iter      log prob        ||dx||      ||grad||       alpha      alpha0  # evals  Notes \n",
      "     247       2007.02   0.000659269       168.073   3.399e-06       0.001      420  LS failed, Hessian reset \n",
      "     299       2007.22   0.000348814        88.279           1           1      481   \n",
      "    Iter      log prob        ||dx||      ||grad||       alpha      alpha0  # evals  Notes \n",
      "     317       2007.84    0.00231643       284.708    1.64e-05       0.001      534  LS failed, Hessian reset \n",
      "     364        2008.2   2.68362e-05       93.8601   2.911e-07       0.001      633  LS failed, Hessian reset \n",
      "     393        2008.2   4.40848e-08       76.5681      0.3647      0.3647      670   \n",
      "Optimization terminated normally: \n",
      "  Convergence detected: relative gradient magnitude is below tolerance\n"
     ]
    },
    {
     "name": "stderr",
     "output_type": "stream",
     "text": [
      "\r",
      " 10%|█         | 37/370 [00:43<06:52,  1.24s/it]"
     ]
    },
    {
     "name": "stdout",
     "output_type": "stream",
     "text": [
      "Initial log joint probability = -6.78663\n",
      "    Iter      log prob        ||dx||      ||grad||       alpha      alpha0  # evals  Notes \n",
      "      99       2902.96   0.000134002       73.9296      0.4754           1      125   \n",
      "    Iter      log prob        ||dx||      ||grad||       alpha      alpha0  # evals  Notes \n",
      "     119       2902.97   2.64756e-05       84.2706    2.84e-07       0.001      190  LS failed, Hessian reset \n",
      "     155       2902.97   1.59962e-07       86.5974      0.9389      0.9389      235   \n",
      "Optimization terminated normally: \n",
      "  Convergence detected: relative gradient magnitude is below tolerance\n"
     ]
    },
    {
     "name": "stderr",
     "output_type": "stream",
     "text": [
      "\r",
      " 10%|█         | 38/370 [00:44<06:39,  1.20s/it]"
     ]
    },
    {
     "name": "stdout",
     "output_type": "stream",
     "text": [
      "Initial log joint probability = -9.27057\n",
      "    Iter      log prob        ||dx||      ||grad||       alpha      alpha0  # evals  Notes \n",
      "      99       2640.13   0.000192115       81.0101      0.2937      0.2937      126   \n",
      "    Iter      log prob        ||dx||      ||grad||       alpha      alpha0  # evals  Notes \n",
      "     150       2640.16   1.59643e-07       68.9807           1           1      192   \n",
      "Optimization terminated normally: \n",
      "  Convergence detected: relative gradient magnitude is below tolerance\n"
     ]
    },
    {
     "name": "stderr",
     "output_type": "stream",
     "text": [
      "\r",
      " 11%|█         | 39/370 [00:45<06:40,  1.21s/it]"
     ]
    },
    {
     "name": "stdout",
     "output_type": "stream",
     "text": [
      "Initial log joint probability = -18.6007\n",
      "    Iter      log prob        ||dx||      ||grad||       alpha      alpha0  # evals  Notes \n",
      "      88       2051.85   0.000257531       107.266    2.71e-06       0.001      154  LS failed, Hessian reset \n",
      "      99       2051.87    7.1888e-06       95.5291      0.4148           1      167   \n",
      "    Iter      log prob        ||dx||      ||grad||       alpha      alpha0  # evals  Notes \n",
      "     123       2051.87   6.92871e-08       90.8391      0.8488      0.8488      196   \n",
      "Optimization terminated normally: \n",
      "  Convergence detected: relative gradient magnitude is below tolerance\n"
     ]
    },
    {
     "name": "stderr",
     "output_type": "stream",
     "text": [
      "\r",
      " 11%|█         | 40/370 [00:46<06:27,  1.17s/it]"
     ]
    },
    {
     "name": "stdout",
     "output_type": "stream",
     "text": [
      "Initial log joint probability = -93.8892\n",
      "    Iter      log prob        ||dx||      ||grad||       alpha      alpha0  # evals  Notes \n",
      "      99       1354.96     0.0051808       74.5513      0.2516           1      131   \n",
      "    Iter      log prob        ||dx||      ||grad||       alpha      alpha0  # evals  Notes \n",
      "     101       1355.05    0.00180203       83.8487   2.405e-05       0.001      169  LS failed, Hessian reset \n",
      "     188       1355.37   8.60799e-05       87.1026   1.045e-06       0.001      318  LS failed, Hessian reset \n",
      "     199       1355.38   2.47836e-06       84.5549      0.2295      0.2295      335   \n",
      "    Iter      log prob        ||dx||      ||grad||       alpha      alpha0  # evals  Notes \n",
      "     262       1355.38   1.71384e-07       73.6175           1           1      414   \n",
      "Optimization terminated normally: \n",
      "  Convergence detected: relative gradient magnitude is below tolerance\n"
     ]
    },
    {
     "name": "stderr",
     "output_type": "stream",
     "text": [
      "\r",
      " 11%|█         | 41/370 [00:47<06:30,  1.19s/it]"
     ]
    },
    {
     "name": "stdout",
     "output_type": "stream",
     "text": [
      "Initial log joint probability = -58.8159\n",
      "    Iter      log prob        ||dx||      ||grad||       alpha      alpha0  # evals  Notes \n",
      "      99       1397.04    9.0588e-05       83.4497       2.897      0.2897      125   \n",
      "    Iter      log prob        ||dx||      ||grad||       alpha      alpha0  # evals  Notes \n",
      "     175       1397.07   8.11128e-08       78.0035           1           1      217   \n",
      "Optimization terminated normally: \n",
      "  Convergence detected: relative gradient magnitude is below tolerance\n"
     ]
    },
    {
     "name": "stderr",
     "output_type": "stream",
     "text": [
      "\r",
      " 11%|█▏        | 42/370 [00:48<06:19,  1.16s/it]"
     ]
    },
    {
     "name": "stdout",
     "output_type": "stream",
     "text": [
      "Initial log joint probability = -26.7319\n",
      "    Iter      log prob        ||dx||      ||grad||       alpha      alpha0  # evals  Notes \n",
      "      79       2554.66   0.000265682        112.01   1.322e-06       0.001      143  LS failed, Hessian reset \n",
      "      99       2555.33   0.000423179       102.722      0.4099           1      170   \n",
      "    Iter      log prob        ||dx||      ||grad||       alpha      alpha0  # evals  Notes \n",
      "     145       2555.66   0.000566033       215.987   6.857e-06       0.001      259  LS failed, Hessian reset \n",
      "     199       2555.74   2.14823e-05       84.5364           1           1      326   \n",
      "    Iter      log prob        ||dx||      ||grad||       alpha      alpha0  # evals  Notes \n",
      "     219       2555.74   5.26297e-06       78.9108   5.775e-08       0.001      385  LS failed, Hessian reset \n",
      "     239       2555.74   1.80631e-07       75.2232      0.2072           1      413   \n",
      "Optimization terminated normally: \n",
      "  Convergence detected: relative gradient magnitude is below tolerance\n"
     ]
    },
    {
     "name": "stderr",
     "output_type": "stream",
     "text": [
      "\r",
      " 12%|█▏        | 43/370 [00:50<06:22,  1.17s/it]"
     ]
    },
    {
     "name": "stdout",
     "output_type": "stream",
     "text": [
      "Initial log joint probability = -18.0023\n",
      "    Iter      log prob        ||dx||      ||grad||       alpha      alpha0  # evals  Notes \n",
      "      81       2078.53   0.000189945       91.2746   2.008e-06       0.001      127  LS failed, Hessian reset \n",
      "      99       2078.54   6.08908e-06       76.7011           1           1      149   \n",
      "    Iter      log prob        ||dx||      ||grad||       alpha      alpha0  # evals  Notes \n",
      "     125       2078.54   2.49092e-07       81.8359      0.1452           1      181   \n",
      "Optimization terminated normally: \n",
      "  Convergence detected: relative gradient magnitude is below tolerance\n"
     ]
    },
    {
     "name": "stderr",
     "output_type": "stream",
     "text": [
      "\r",
      " 12%|█▏        | 44/370 [00:51<06:25,  1.18s/it]"
     ]
    },
    {
     "name": "stdout",
     "output_type": "stream",
     "text": [
      "Initial log joint probability = -32.2535\n",
      "    Iter      log prob        ||dx||      ||grad||       alpha      alpha0  # evals  Notes \n",
      "      65       1612.05   0.000285334       89.6685   3.064e-06       0.001      127  LS failed, Hessian reset \n",
      "      99       1612.06   5.90734e-08       86.2026      0.4978      0.4978      169   \n",
      "    Iter      log prob        ||dx||      ||grad||       alpha      alpha0  # evals  Notes \n",
      "     102       1612.06    8.6167e-08       90.1679      0.9188      0.9188      173   \n",
      "Optimization terminated normally: \n",
      "  Convergence detected: relative gradient magnitude is below tolerance\n"
     ]
    },
    {
     "name": "stderr",
     "output_type": "stream",
     "text": [
      "\r",
      " 12%|█▏        | 45/370 [00:52<06:13,  1.15s/it]"
     ]
    },
    {
     "name": "stdout",
     "output_type": "stream",
     "text": [
      "Initial log joint probability = -27.675\n",
      "    Iter      log prob        ||dx||      ||grad||       alpha      alpha0  # evals  Notes \n",
      "      99       1690.67   8.09667e-06        77.254           1           1      127   \n",
      "    Iter      log prob        ||dx||      ||grad||       alpha      alpha0  # evals  Notes \n",
      "     136       1690.68   5.09214e-05         78.58   5.438e-07       0.001      209  LS failed, Hessian reset \n",
      "     165       1690.69   1.05567e-07       61.9235           1           1      253   \n",
      "Optimization terminated normally: \n",
      "  Convergence detected: relative gradient magnitude is below tolerance\n"
     ]
    },
    {
     "name": "stderr",
     "output_type": "stream",
     "text": [
      "\r",
      " 12%|█▏        | 46/370 [00:53<06:08,  1.14s/it]"
     ]
    },
    {
     "name": "stdout",
     "output_type": "stream",
     "text": [
      "Initial log joint probability = -26.1041\n",
      "    Iter      log prob        ||dx||      ||grad||       alpha      alpha0  # evals  Notes \n",
      "      99       1978.33   7.05142e-05       74.6755      0.4027      0.4027      122   \n",
      "    Iter      log prob        ||dx||      ||grad||       alpha      alpha0  # evals  Notes \n",
      "     142       1978.36   0.000108712       67.4736   1.206e-06       0.001      229  LS failed, Hessian reset \n",
      "     192       1978.36   2.77181e-06       77.7091   4.048e-08       0.001      337  LS failed, Hessian reset \n",
      "     199       1978.36   4.35216e-07       77.4413      0.9094      0.9094      346   \n",
      "    Iter      log prob        ||dx||      ||grad||       alpha      alpha0  # evals  Notes \n",
      "     207       1978.36   1.13107e-07       79.7991      0.6969      0.6969      355   \n",
      "Optimization terminated normally: \n",
      "  Convergence detected: relative gradient magnitude is below tolerance\n"
     ]
    },
    {
     "name": "stderr",
     "output_type": "stream",
     "text": [
      "\r",
      " 13%|█▎        | 47/370 [00:54<06:24,  1.19s/it]"
     ]
    },
    {
     "name": "stdout",
     "output_type": "stream",
     "text": [
      "Initial log joint probability = -11.3832\n",
      "    Iter      log prob        ||dx||      ||grad||       alpha      alpha0  # evals  Notes \n",
      "      99       2604.82    0.00146657       97.7626      0.9087      0.9087      126   \n",
      "    Iter      log prob        ||dx||      ||grad||       alpha      alpha0  # evals  Notes \n",
      "     190       2605.57   4.33672e-05       94.5822   4.716e-07       0.001      269  LS failed, Hessian reset \n",
      "     199       2605.58     3.576e-07       78.4778      0.2938      0.2938      281   \n",
      "    Iter      log prob        ||dx||      ||grad||       alpha      alpha0  # evals  Notes \n",
      "     225       2605.58   7.98686e-08       86.3813      0.3419      0.8133      314   \n",
      "Optimization terminated normally: \n",
      "  Convergence detected: relative gradient magnitude is below tolerance\n"
     ]
    },
    {
     "name": "stderr",
     "output_type": "stream",
     "text": [
      "\r",
      " 13%|█▎        | 48/370 [00:55<06:18,  1.18s/it]"
     ]
    },
    {
     "name": "stdout",
     "output_type": "stream",
     "text": [
      "Initial log joint probability = -18.9658\n",
      "    Iter      log prob        ||dx||      ||grad||       alpha      alpha0  # evals  Notes \n",
      "      99       2052.18   2.93095e-06       73.0748     0.06478           1      120   \n",
      "    Iter      log prob        ||dx||      ||grad||       alpha      alpha0  # evals  Notes \n",
      "     134        2052.2   3.20071e-05       94.0216   5.317e-07       0.001      214  LS failed, Hessian reset \n",
      "     184        2052.2   1.60004e-07       66.5564      0.6284      0.6284      275   \n",
      "Optimization terminated normally: \n",
      "  Convergence detected: relative gradient magnitude is below tolerance\n"
     ]
    },
    {
     "name": "stderr",
     "output_type": "stream",
     "text": [
      "\r",
      " 13%|█▎        | 49/370 [00:57<06:12,  1.16s/it]"
     ]
    },
    {
     "name": "stdout",
     "output_type": "stream",
     "text": [
      "Initial log joint probability = -22.6589\n",
      "    Iter      log prob        ||dx||      ||grad||       alpha      alpha0  # evals  Notes \n",
      "      63       1925.81   1.33741e-07       93.0982     0.05196      0.2038       83   \n",
      "Optimization terminated normally: \n",
      "  Convergence detected: relative change in objective function was below tolerance\n"
     ]
    },
    {
     "name": "stderr",
     "output_type": "stream",
     "text": [
      "\r",
      " 14%|█▎        | 50/370 [00:58<05:58,  1.12s/it]"
     ]
    },
    {
     "name": "stdout",
     "output_type": "stream",
     "text": [
      "Initial log joint probability = -10.9257\n",
      "    Iter      log prob        ||dx||      ||grad||       alpha      alpha0  # evals  Notes \n",
      "      83       2703.88   0.000208602       123.904   2.516e-06       0.001      143  LS failed, Hessian reset \n",
      "      99       2703.92   6.12508e-05       71.8276           1           1      161   \n",
      "    Iter      log prob        ||dx||      ||grad||       alpha      alpha0  # evals  Notes \n",
      "     126       2704.01   0.000685094        138.16   6.276e-06       0.001      236  LS failed, Hessian reset \n",
      "     167       2704.06   1.20271e-07       80.1924      0.4626      0.4626      291   \n",
      "Optimization terminated normally: \n",
      "  Convergence detected: relative gradient magnitude is below tolerance\n"
     ]
    },
    {
     "name": "stderr",
     "output_type": "stream",
     "text": [
      "\r",
      " 14%|█▍        | 51/370 [00:59<05:58,  1.12s/it]"
     ]
    },
    {
     "name": "stdout",
     "output_type": "stream",
     "text": [
      "Initial log joint probability = -53.4215\n",
      "    Iter      log prob        ||dx||      ||grad||       alpha      alpha0  # evals  Notes \n",
      "      82       1673.27     0.0014125       120.183   1.447e-05       0.001      150  LS failed, Hessian reset \n",
      "      99       1673.43   3.51184e-05       102.177      0.2057           1      176   \n",
      "    Iter      log prob        ||dx||      ||grad||       alpha      alpha0  # evals  Notes \n",
      "     141       1673.76    0.00111302       92.9505   1.374e-05       0.001      267  LS failed, Hessian reset \n",
      "     199       1674.33   6.81707e-05       93.3897      0.2416      0.9014      334   \n",
      "    Iter      log prob        ||dx||      ||grad||       alpha      alpha0  # evals  Notes \n",
      "     275        1674.5    0.00042243       93.4656   4.715e-06       0.001      483  LS failed, Hessian reset \n",
      "     299       1674.65   0.000430493       105.907           1           1      510   \n",
      "    Iter      log prob        ||dx||      ||grad||       alpha      alpha0  # evals  Notes \n",
      "     358       1674.88    4.2767e-06       94.2163   4.533e-08       0.001      628  LS failed, Hessian reset \n",
      "     382       1674.88   4.75524e-08       81.7671       0.293           1      660   \n",
      "Optimization terminated normally: \n",
      "  Convergence detected: relative gradient magnitude is below tolerance\n"
     ]
    },
    {
     "name": "stderr",
     "output_type": "stream",
     "text": [
      "\r",
      " 14%|█▍        | 52/370 [01:00<06:30,  1.23s/it]"
     ]
    },
    {
     "name": "stdout",
     "output_type": "stream",
     "text": [
      "Initial log joint probability = -13.6325\n",
      "    Iter      log prob        ||dx||      ||grad||       alpha      alpha0  # evals  Notes \n",
      "      99       2255.29   6.38804e-05       90.7141      0.5464      0.5464      117   \n",
      "    Iter      log prob        ||dx||      ||grad||       alpha      alpha0  # evals  Notes \n",
      "     172       2255.33   1.38781e-05       102.916   1.403e-07       0.001      250  LS failed, Hessian reset \n",
      "     191       2255.34    5.2696e-08       78.4661      0.5251      0.5251      275   \n",
      "Optimization terminated normally: \n",
      "  Convergence detected: relative gradient magnitude is below tolerance\n"
     ]
    },
    {
     "name": "stderr",
     "output_type": "stream",
     "text": [
      "\r",
      " 14%|█▍        | 53/370 [01:01<06:19,  1.20s/it]"
     ]
    },
    {
     "name": "stdout",
     "output_type": "stream",
     "text": [
      "Initial log joint probability = -12.1107\n",
      "    Iter      log prob        ||dx||      ||grad||       alpha      alpha0  # evals  Notes \n",
      "      99       2597.24    0.00129407       102.109           1           1      126   \n",
      "    Iter      log prob        ||dx||      ||grad||       alpha      alpha0  # evals  Notes \n",
      "     160       2597.26   1.62854e-07       81.6098           1           1      204   \n",
      "Optimization terminated normally: \n",
      "  Convergence detected: relative gradient magnitude is below tolerance\n"
     ]
    },
    {
     "name": "stderr",
     "output_type": "stream",
     "text": [
      "\r",
      " 15%|█▍        | 54/370 [01:02<06:07,  1.16s/it]"
     ]
    },
    {
     "name": "stdout",
     "output_type": "stream",
     "text": [
      "Initial log joint probability = -8.06862\n",
      "    Iter      log prob        ||dx||      ||grad||       alpha      alpha0  # evals  Notes \n",
      "      58       2720.04    0.00022608       140.256   2.028e-06       0.001      119  LS failed, Hessian reset \n",
      "      99       2720.14   2.27591e-06       83.4937      0.6493      0.6493      171   \n",
      "    Iter      log prob        ||dx||      ||grad||       alpha      alpha0  # evals  Notes \n",
      "     143       2720.33   4.10716e-05       86.1543   5.717e-07       0.001      253  LS failed, Hessian reset \n",
      "     194       2720.34   6.24127e-06       88.8844   7.731e-08       0.001      363  LS failed, Hessian reset \n",
      "     199       2720.34    8.7861e-07       78.1353      0.5893      0.5893      368   \n",
      "    Iter      log prob        ||dx||      ||grad||       alpha      alpha0  # evals  Notes \n",
      "     216       2720.34   2.79639e-07       81.5317      0.2851           1      390   \n",
      "Optimization terminated normally: \n",
      "  Convergence detected: relative gradient magnitude is below tolerance\n"
     ]
    },
    {
     "name": "stderr",
     "output_type": "stream",
     "text": [
      "\r",
      " 15%|█▍        | 55/370 [01:04<06:08,  1.17s/it]"
     ]
    },
    {
     "name": "stdout",
     "output_type": "stream",
     "text": [
      "Initial log joint probability = -4.68375\n",
      "    Iter      log prob        ||dx||      ||grad||       alpha      alpha0  # evals  Notes \n",
      "      99       3315.19   4.96103e-06        75.244           1           1      140   \n",
      "    Iter      log prob        ||dx||      ||grad||       alpha      alpha0  # evals  Notes \n",
      "     113       3315.19   6.47019e-08       64.3487      0.3762      0.3762      160   \n",
      "Optimization terminated normally: \n",
      "  Convergence detected: relative gradient magnitude is below tolerance\n"
     ]
    },
    {
     "name": "stderr",
     "output_type": "stream",
     "text": [
      "\r",
      " 15%|█▌        | 56/370 [01:05<06:10,  1.18s/it]"
     ]
    },
    {
     "name": "stdout",
     "output_type": "stream",
     "text": [
      "Initial log joint probability = -14.6619\n",
      "    Iter      log prob        ||dx||      ||grad||       alpha      alpha0  # evals  Notes \n",
      "      99       2237.57   2.71274e-05       93.0162     0.06741           1      125   \n",
      "    Iter      log prob        ||dx||      ||grad||       alpha      alpha0  # evals  Notes \n",
      "     136       2237.58   2.25542e-05       103.812   2.748e-07       0.001      208  LS failed, Hessian reset \n",
      "     171       2237.58   1.73937e-08       91.8789     0.07221           1      253   \n",
      "Optimization terminated normally: \n",
      "  Convergence detected: relative gradient magnitude is below tolerance\n"
     ]
    },
    {
     "name": "stderr",
     "output_type": "stream",
     "text": [
      "\r",
      " 15%|█▌        | 57/370 [01:06<06:03,  1.16s/it]"
     ]
    },
    {
     "name": "stdout",
     "output_type": "stream",
     "text": [
      "Initial log joint probability = -21.4697\n",
      "    Iter      log prob        ||dx||      ||grad||       alpha      alpha0  # evals  Notes \n",
      "      99        1906.4    1.2224e-06       90.2678      0.7716      0.7716      118   \n",
      "    Iter      log prob        ||dx||      ||grad||       alpha      alpha0  # evals  Notes \n",
      "     132        1906.4   3.83728e-08       88.4496      0.3341      0.9358      162   \n",
      "Optimization terminated normally: \n",
      "  Convergence detected: relative gradient magnitude is below tolerance\n"
     ]
    },
    {
     "name": "stderr",
     "output_type": "stream",
     "text": [
      "\r",
      " 16%|█▌        | 58/370 [01:07<05:53,  1.13s/it]"
     ]
    },
    {
     "name": "stdout",
     "output_type": "stream",
     "text": [
      "Initial log joint probability = -12.8282\n",
      "    Iter      log prob        ||dx||      ||grad||       alpha      alpha0  # evals  Notes \n",
      "      64       2487.54   0.000275569       100.938   2.728e-06       0.001      117  LS failed, Hessian reset \n",
      "      99       2487.58   1.23201e-05        75.318           1           1      164   \n",
      "    Iter      log prob        ||dx||      ||grad||       alpha      alpha0  # evals  Notes \n",
      "     186       2487.75   0.000755214       74.4855   7.048e-06       0.001      308  LS failed, Hessian reset \n",
      "     199       2487.78    5.9537e-05       80.8493     0.06081           1      327   \n",
      "    Iter      log prob        ||dx||      ||grad||       alpha      alpha0  # evals  Notes \n",
      "     267       2487.81    1.3839e-05       91.9264   1.658e-07       0.001      446  LS failed, Hessian reset \n",
      "     299       2487.81   6.90009e-07       92.1596   8.209e-09       0.001      533  LS failed, Hessian reset \n",
      "    Iter      log prob        ||dx||      ||grad||       alpha      alpha0  # evals  Notes \n",
      "     308       2487.81   8.21167e-08       83.4739      0.2346      0.5498      545   \n",
      "Optimization terminated normally: \n",
      "  Convergence detected: relative gradient magnitude is below tolerance\n"
     ]
    },
    {
     "name": "stderr",
     "output_type": "stream",
     "text": [
      "\r",
      " 16%|█▌        | 59/370 [01:08<06:05,  1.17s/it]"
     ]
    },
    {
     "name": "stdout",
     "output_type": "stream",
     "text": [
      "Initial log joint probability = -67.5456\n",
      "    Iter      log prob        ||dx||      ||grad||       alpha      alpha0  # evals  Notes \n",
      "      99       1472.29   4.75725e-07        87.003           1           1      133   \n",
      "    Iter      log prob        ||dx||      ||grad||       alpha      alpha0  # evals  Notes \n",
      "     112        1472.3   4.95423e-05       89.6445    5.48e-07       0.001      199  LS failed, Hessian reset \n",
      "     127        1472.3   5.34467e-05       107.183   5.267e-07       0.001      249  LS failed, Hessian reset \n",
      "     158       1472.31   4.33016e-08       94.9824      0.5866      0.5866      287   \n",
      "Optimization terminated normally: \n",
      "  Convergence detected: relative gradient magnitude is below tolerance\n"
     ]
    },
    {
     "name": "stderr",
     "output_type": "stream",
     "text": [
      "\r",
      " 16%|█▌        | 60/370 [01:10<06:13,  1.20s/it]"
     ]
    },
    {
     "name": "stdout",
     "output_type": "stream",
     "text": [
      "Initial log joint probability = -18.7998\n",
      "    Iter      log prob        ||dx||      ||grad||       alpha      alpha0  # evals  Notes \n",
      "      99       2311.16   3.97514e-07       96.6897           1           1      132   \n",
      "    Iter      log prob        ||dx||      ||grad||       alpha      alpha0  # evals  Notes \n",
      "     105       2311.16   1.49917e-06       102.943   1.986e-08       0.001      185  LS failed, Hessian reset \n",
      "     122       2311.16   1.03984e-07       76.5798           1           1      206   \n",
      "Optimization terminated normally: \n",
      "  Convergence detected: relative gradient magnitude is below tolerance\n"
     ]
    },
    {
     "name": "stderr",
     "output_type": "stream",
     "text": [
      "\r",
      " 16%|█▋        | 61/370 [01:11<06:00,  1.17s/it]"
     ]
    },
    {
     "name": "stdout",
     "output_type": "stream",
     "text": [
      "Initial log joint probability = -7.33334\n",
      "    Iter      log prob        ||dx||      ||grad||       alpha      alpha0  # evals  Notes \n",
      "      76       2827.63   0.000185765       91.5216   2.959e-06       0.001      132  LS failed, Hessian reset \n",
      "      99       2827.65   1.26922e-06        69.486      0.2165           1      160   \n",
      "    Iter      log prob        ||dx||      ||grad||       alpha      alpha0  # evals  Notes \n",
      "     108       2827.65   9.09133e-09        64.635     0.03721      0.4668      177   \n",
      "Optimization terminated normally: \n",
      "  Convergence detected: absolute parameter change was below tolerance\n"
     ]
    },
    {
     "name": "stderr",
     "output_type": "stream",
     "text": [
      "\r",
      " 17%|█▋        | 62/370 [01:12<05:50,  1.14s/it]"
     ]
    },
    {
     "name": "stdout",
     "output_type": "stream",
     "text": [
      "Initial log joint probability = -17.0739\n",
      "    Iter      log prob        ||dx||      ||grad||       alpha      alpha0  # evals  Notes \n",
      "      96       2165.94   3.40779e-06       97.2703   4.002e-08       0.001      157  LS failed, Hessian reset \n",
      "      99       2165.94   6.41874e-07       88.6037       0.624       0.624      160   \n",
      "    Iter      log prob        ||dx||      ||grad||       alpha      alpha0  # evals  Notes \n",
      "     113       2165.94   1.83819e-07       90.0647           1           1      179   \n",
      "Optimization terminated normally: \n",
      "  Convergence detected: relative gradient magnitude is below tolerance\n"
     ]
    },
    {
     "name": "stderr",
     "output_type": "stream",
     "text": [
      "\r",
      " 17%|█▋        | 63/370 [01:13<05:42,  1.12s/it]"
     ]
    },
    {
     "name": "stdout",
     "output_type": "stream",
     "text": [
      "Initial log joint probability = -6.69223\n",
      "    Iter      log prob        ||dx||      ||grad||       alpha      alpha0  # evals  Notes \n",
      "      62       340.084   5.46984e-05       101.191    5.34e-07       0.001      113  LS failed, Hessian reset \n",
      "      94       340.088   7.78685e-09        97.699      0.2754           1      157   \n",
      "Optimization terminated normally: \n",
      "  Convergence detected: absolute parameter change was below tolerance\n"
     ]
    },
    {
     "name": "stderr",
     "output_type": "stream",
     "text": [
      "\r",
      " 17%|█▋        | 64/370 [01:14<05:30,  1.08s/it]"
     ]
    },
    {
     "name": "stdout",
     "output_type": "stream",
     "text": [
      "Initial log joint probability = -21.9192\n",
      "    Iter      log prob        ||dx||      ||grad||       alpha      alpha0  # evals  Notes \n",
      "      99       2078.15   1.05796e-05       87.9085      0.8654      0.8654      137   \n",
      "    Iter      log prob        ||dx||      ||grad||       alpha      alpha0  # evals  Notes \n",
      "     175        2078.2    6.4984e-05       93.2209   7.779e-07       0.001      281  LS failed, Hessian reset \n",
      "     199        2078.2   2.37373e-06       79.3842      0.2636           1      313   \n",
      "    Iter      log prob        ||dx||      ||grad||       alpha      alpha0  # evals  Notes \n",
      "     274       2078.21    1.8036e-07       82.5416       1.032      0.1032      408   \n",
      "Optimization terminated normally: \n",
      "  Convergence detected: relative gradient magnitude is below tolerance\n"
     ]
    },
    {
     "name": "stderr",
     "output_type": "stream",
     "text": [
      "\r",
      " 18%|█▊        | 65/370 [01:15<05:53,  1.16s/it]"
     ]
    },
    {
     "name": "stdout",
     "output_type": "stream",
     "text": [
      "Initial log joint probability = -15.6351\n",
      "    Iter      log prob        ||dx||      ||grad||       alpha      alpha0  # evals  Notes \n",
      "      99       2241.67   7.68119e-05       83.2781      0.8097      0.8097      130   \n",
      "    Iter      log prob        ||dx||      ||grad||       alpha      alpha0  # evals  Notes \n",
      "     151        2241.7   1.25115e-08       88.4533       0.067           1      203   \n",
      "Optimization terminated normally: \n",
      "  Convergence detected: relative gradient magnitude is below tolerance\n"
     ]
    },
    {
     "name": "stderr",
     "output_type": "stream",
     "text": [
      "\r",
      " 18%|█▊        | 66/370 [01:16<05:45,  1.14s/it]"
     ]
    },
    {
     "name": "stdout",
     "output_type": "stream",
     "text": [
      "Initial log joint probability = -22.8385\n",
      "    Iter      log prob        ||dx||      ||grad||       alpha      alpha0  # evals  Notes \n",
      "      99       1939.62   5.61201e-06        65.099      0.2878      0.2878      127   \n",
      "    Iter      log prob        ||dx||      ||grad||       alpha      alpha0  # evals  Notes \n",
      "     156       1939.62   1.08284e-07       82.1808      0.2346           1      204   \n",
      "Optimization terminated normally: \n",
      "  Convergence detected: relative gradient magnitude is below tolerance\n"
     ]
    },
    {
     "name": "stderr",
     "output_type": "stream",
     "text": [
      "\r",
      " 18%|█▊        | 67/370 [01:17<05:39,  1.12s/it]"
     ]
    },
    {
     "name": "stdout",
     "output_type": "stream",
     "text": [
      "Initial log joint probability = -24.6209\n",
      "    Iter      log prob        ||dx||      ||grad||       alpha      alpha0  # evals  Notes \n",
      "      99       1909.69   6.70078e-06       62.1534           1           1      121   \n",
      "    Iter      log prob        ||dx||      ||grad||       alpha      alpha0  # evals  Notes \n",
      "     173        1909.7   1.27555e-07        62.949      0.1879           1      212   \n",
      "Optimization terminated normally: \n",
      "  Convergence detected: relative gradient magnitude is below tolerance\n"
     ]
    },
    {
     "name": "stderr",
     "output_type": "stream",
     "text": [
      "\r",
      " 18%|█▊        | 68/370 [01:18<05:36,  1.12s/it]"
     ]
    },
    {
     "name": "stdout",
     "output_type": "stream",
     "text": [
      "Initial log joint probability = -33.4341\n",
      "    Iter      log prob        ||dx||      ||grad||       alpha      alpha0  # evals  Notes \n",
      "      99       1875.44    0.00103945       106.515      0.2593      0.2593      130   \n",
      "    Iter      log prob        ||dx||      ||grad||       alpha      alpha0  # evals  Notes \n",
      "     152       1875.51   2.47239e-05       95.7625   2.481e-07       0.001      236  LS failed, Hessian reset \n",
      "     184       1875.51    7.4049e-08       81.9986      0.2399      0.7215      276   \n",
      "Optimization terminated normally: \n",
      "  Convergence detected: relative gradient magnitude is below tolerance\n"
     ]
    },
    {
     "name": "stderr",
     "output_type": "stream",
     "text": [
      "\r",
      " 19%|█▊        | 69/370 [01:20<05:50,  1.16s/it]"
     ]
    },
    {
     "name": "stdout",
     "output_type": "stream",
     "text": [
      "Initial log joint probability = -29.7426\n",
      "    Iter      log prob        ||dx||      ||grad||       alpha      alpha0  # evals  Notes \n",
      "      99       1766.88   9.86034e-08       68.1373      0.3284      0.8235      141   \n",
      "    Iter      log prob        ||dx||      ||grad||       alpha      alpha0  # evals  Notes \n",
      "     100       1766.88   4.46594e-08       74.5363      0.2131           1      143   \n",
      "Optimization terminated normally: \n",
      "  Convergence detected: relative gradient magnitude is below tolerance\n"
     ]
    },
    {
     "name": "stderr",
     "output_type": "stream",
     "text": [
      "\r",
      " 19%|█▉        | 70/370 [01:21<05:39,  1.13s/it]"
     ]
    },
    {
     "name": "stdout",
     "output_type": "stream",
     "text": [
      "Initial log joint probability = -9.68411\n",
      "    Iter      log prob        ||dx||      ||grad||       alpha      alpha0  # evals  Notes \n",
      "      99       2742.74    0.00163683       104.818           1           1      118   \n",
      "    Iter      log prob        ||dx||      ||grad||       alpha      alpha0  # evals  Notes \n",
      "     147       2742.82   5.24486e-08       88.6201      0.3053           1      181   \n",
      "Optimization terminated normally: \n",
      "  Convergence detected: relative gradient magnitude is below tolerance\n"
     ]
    },
    {
     "name": "stderr",
     "output_type": "stream",
     "text": [
      "\r",
      " 19%|█▉        | 71/370 [01:22<05:33,  1.12s/it]"
     ]
    },
    {
     "name": "stdout",
     "output_type": "stream",
     "text": [
      "Initial log joint probability = -25.2937\n",
      "    Iter      log prob        ||dx||      ||grad||       alpha      alpha0  # evals  Notes \n",
      "      75        1838.2    0.00160122       104.158   1.687e-05       0.001      123  LS failed, Hessian reset \n",
      "      99       1838.35   0.000516562       81.3622           1           1      148   \n",
      "    Iter      log prob        ||dx||      ||grad||       alpha      alpha0  # evals  Notes \n",
      "     131        1838.6   0.000792559       108.354   8.146e-06       0.001      225  LS failed, Hessian reset \n",
      "     199       1838.67   1.28537e-06       75.7988      0.8093      0.8093      311   \n",
      "    Iter      log prob        ||dx||      ||grad||       alpha      alpha0  # evals  Notes \n",
      "     215       1838.67   5.21164e-06       90.3078   5.364e-08       0.001      363  LS failed, Hessian reset \n",
      "     235       1838.67   1.13841e-07       70.4145      0.7066      0.7066      386   \n",
      "Optimization terminated normally: \n",
      "  Convergence detected: relative gradient magnitude is below tolerance\n"
     ]
    },
    {
     "name": "stderr",
     "output_type": "stream",
     "text": [
      "\r",
      " 19%|█▉        | 72/370 [01:23<05:39,  1.14s/it]"
     ]
    },
    {
     "name": "stdout",
     "output_type": "stream",
     "text": [
      "Initial log joint probability = -47.9448\n",
      "    Iter      log prob        ||dx||      ||grad||       alpha      alpha0  # evals  Notes \n",
      "      99        1515.1   1.08551e-05       64.3125      0.1497      0.4847      121   \n",
      "    Iter      log prob        ||dx||      ||grad||       alpha      alpha0  # evals  Notes \n",
      "     189       1515.13   5.15782e-08       74.3207      0.3386      0.3386      249   \n",
      "Optimization terminated normally: \n",
      "  Convergence detected: relative gradient magnitude is below tolerance\n"
     ]
    },
    {
     "name": "stderr",
     "output_type": "stream",
     "text": [
      "\r",
      " 20%|█▉        | 73/370 [01:24<05:37,  1.13s/it]"
     ]
    },
    {
     "name": "stdout",
     "output_type": "stream",
     "text": [
      "Initial log joint probability = -26.2251\n",
      "    Iter      log prob        ||dx||      ||grad||       alpha      alpha0  # evals  Notes \n",
      "      99       2234.62    0.00034734        74.024           1           1      138   \n",
      "    Iter      log prob        ||dx||      ||grad||       alpha      alpha0  # evals  Notes \n",
      "     102       2234.69   0.000480017       93.9246   4.952e-06       0.001      177  LS failed, Hessian reset \n",
      "     140       2234.72   6.08483e-06       64.6571   7.013e-08       0.001      260  LS failed, Hessian reset \n",
      "     156       2234.72   1.87923e-07       62.0696      0.3195           1      284   \n",
      "Optimization terminated normally: \n",
      "  Convergence detected: relative gradient magnitude is below tolerance\n"
     ]
    },
    {
     "name": "stderr",
     "output_type": "stream",
     "text": [
      "\r",
      " 20%|██        | 74/370 [01:25<05:48,  1.18s/it]"
     ]
    },
    {
     "name": "stdout",
     "output_type": "stream",
     "text": [
      "Initial log joint probability = -10.9766\n",
      "    Iter      log prob        ||dx||      ||grad||       alpha      alpha0  # evals  Notes \n",
      "      65       2457.86   7.95787e-08       101.539      0.4042           1       85   \n",
      "Optimization terminated normally: \n",
      "  Convergence detected: relative gradient magnitude is below tolerance\n"
     ]
    },
    {
     "name": "stderr",
     "output_type": "stream",
     "text": [
      "\r",
      " 20%|██        | 75/370 [01:26<05:32,  1.13s/it]"
     ]
    },
    {
     "name": "stdout",
     "output_type": "stream",
     "text": [
      "Initial log joint probability = -6.76126\n",
      "    Iter      log prob        ||dx||      ||grad||       alpha      alpha0  # evals  Notes \n",
      "      99       3005.14    0.00032933       90.1586           1           1      138   \n",
      "    Iter      log prob        ||dx||      ||grad||       alpha      alpha0  # evals  Notes \n",
      "     144       3005.18   1.70378e-06        77.445     2.3e-08       0.001      239  LS failed, Hessian reset \n",
      "     156       3005.18   6.90728e-08       52.1838      0.2017           1      258   \n",
      "Optimization terminated normally: \n",
      "  Convergence detected: relative gradient magnitude is below tolerance\n"
     ]
    },
    {
     "name": "stderr",
     "output_type": "stream",
     "text": [
      "\r",
      " 21%|██        | 76/370 [01:28<05:30,  1.12s/it]"
     ]
    },
    {
     "name": "stdout",
     "output_type": "stream",
     "text": [
      "Initial log joint probability = -8.69668\n",
      "    Iter      log prob        ||dx||      ||grad||       alpha      alpha0  # evals  Notes \n",
      "      99       2653.99   3.71557e-06        70.339      0.5821      0.5821      130   \n",
      "    Iter      log prob        ||dx||      ||grad||       alpha      alpha0  # evals  Notes \n",
      "     132       2653.99   1.90438e-07       74.5555      0.9555      0.9555      168   \n",
      "Optimization terminated normally: \n",
      "  Convergence detected: relative gradient magnitude is below tolerance\n"
     ]
    },
    {
     "name": "stderr",
     "output_type": "stream",
     "text": [
      "\r",
      " 21%|██        | 77/370 [01:29<05:24,  1.11s/it]"
     ]
    },
    {
     "name": "stdout",
     "output_type": "stream",
     "text": [
      "Initial log joint probability = -6.11364\n",
      "    Iter      log prob        ||dx||      ||grad||       alpha      alpha0  # evals  Notes \n",
      "      89       3017.28   3.20276e-07       82.9433      0.2169           1      117   \n",
      "Optimization terminated normally: \n",
      "  Convergence detected: relative gradient magnitude is below tolerance\n"
     ]
    },
    {
     "name": "stderr",
     "output_type": "stream",
     "text": [
      "\r",
      " 21%|██        | 78/370 [01:30<05:17,  1.09s/it]"
     ]
    },
    {
     "name": "stdout",
     "output_type": "stream",
     "text": [
      "Initial log joint probability = -9.58418\n",
      "    Iter      log prob        ||dx||      ||grad||       alpha      alpha0  # evals  Notes \n",
      "      95       2711.59   7.32811e-05       80.2803   9.362e-07       0.001      160  LS failed, Hessian reset \n",
      "      99       2711.59   3.31497e-05       42.1873       3.822           1      166   \n",
      "    Iter      log prob        ||dx||      ||grad||       alpha      alpha0  # evals  Notes \n",
      "     188        2711.6   1.06726e-07       55.3611      0.3224      0.8717      286   \n",
      "Optimization terminated normally: \n",
      "  Convergence detected: relative gradient magnitude is below tolerance\n"
     ]
    },
    {
     "name": "stderr",
     "output_type": "stream",
     "text": [
      "\r",
      " 21%|██▏       | 79/370 [01:31<05:31,  1.14s/it]"
     ]
    },
    {
     "name": "stdout",
     "output_type": "stream",
     "text": [
      "Initial log joint probability = -20.4777\n",
      "    Iter      log prob        ||dx||      ||grad||       alpha      alpha0  # evals  Notes \n",
      "      99       2065.13   9.95768e-06       91.4298      0.8318      0.8318      123   \n",
      "    Iter      log prob        ||dx||      ||grad||       alpha      alpha0  # evals  Notes \n",
      "     127       2065.22    0.00038197       83.2561   5.172e-06       0.001      192  LS failed, Hessian reset \n",
      "     186       2065.38   0.000104366       104.606   9.585e-07       0.001      298  LS failed, Hessian reset \n",
      "     199       2065.39   1.92979e-06       98.8201      0.2611      0.2611      313   \n",
      "    Iter      log prob        ||dx||      ||grad||       alpha      alpha0  # evals  Notes \n",
      "     220       2065.39   4.84203e-08       97.2479      0.2633           1      341   \n",
      "Optimization terminated normally: \n",
      "  Convergence detected: relative gradient magnitude is below tolerance\n"
     ]
    },
    {
     "name": "stderr",
     "output_type": "stream",
     "text": [
      "\r",
      " 22%|██▏       | 80/370 [01:32<05:32,  1.15s/it]"
     ]
    },
    {
     "name": "stdout",
     "output_type": "stream",
     "text": [
      "Initial log joint probability = -91.6853\n",
      "    Iter      log prob        ||dx||      ||grad||       alpha      alpha0  # evals  Notes \n",
      "      99       1517.69     0.0113369       87.4737           1           1      126   \n",
      "    Iter      log prob        ||dx||      ||grad||       alpha      alpha0  # evals  Notes \n",
      "     157       1519.21   0.000248493       97.4899   2.525e-06       0.001      251  LS failed, Hessian reset \n",
      "     199       1519.24   8.26091e-08       97.3165      0.5989      0.5989      301   \n",
      "    Iter      log prob        ||dx||      ||grad||       alpha      alpha0  # evals  Notes \n",
      "     203       1519.24   2.65657e-08       91.2003      0.2409      0.2409      307   \n",
      "Optimization terminated normally: \n",
      "  Convergence detected: relative gradient magnitude is below tolerance\n"
     ]
    },
    {
     "name": "stderr",
     "output_type": "stream",
     "text": [
      "\r",
      " 22%|██▏       | 81/370 [01:33<05:30,  1.14s/it]"
     ]
    },
    {
     "name": "stdout",
     "output_type": "stream",
     "text": [
      "Initial log joint probability = -6.42568\n",
      "    Iter      log prob        ||dx||      ||grad||       alpha      alpha0  # evals  Notes \n",
      "      99       980.178   1.94538e-06       85.1977      0.4151      0.4151      127   \n",
      "    Iter      log prob        ||dx||      ||grad||       alpha      alpha0  # evals  Notes \n",
      "     134        980.18   1.91111e-05       118.598    2.26e-07       0.001      215  LS failed, Hessian reset \n",
      "     172       980.181    3.8417e-08       78.5848      0.3247      0.3247      262   \n",
      "Optimization terminated normally: \n",
      "  Convergence detected: relative gradient magnitude is below tolerance\n"
     ]
    },
    {
     "name": "stderr",
     "output_type": "stream",
     "text": [
      "\r",
      " 22%|██▏       | 82/370 [01:34<05:18,  1.11s/it]"
     ]
    },
    {
     "name": "stdout",
     "output_type": "stream",
     "text": [
      "Initial log joint probability = -30.1217\n",
      "    Iter      log prob        ||dx||      ||grad||       alpha      alpha0  # evals  Notes \n",
      "      99       2186.21    0.00111616       112.427           1           1      128   \n",
      "    Iter      log prob        ||dx||      ||grad||       alpha      alpha0  # evals  Notes \n",
      "     111        2186.5   0.000837812       119.538   9.775e-06       0.001      175  LS failed, Hessian reset \n",
      "     168       2186.64    5.0285e-06        59.507   7.914e-08       0.001      285  LS failed, Hessian reset \n",
      "     183       2186.64   9.97796e-08       63.4676      0.3779           1      310   \n",
      "Optimization terminated normally: \n",
      "  Convergence detected: relative gradient magnitude is below tolerance\n"
     ]
    },
    {
     "name": "stderr",
     "output_type": "stream",
     "text": [
      "\r",
      " 22%|██▏       | 83/370 [01:35<05:32,  1.16s/it]"
     ]
    },
    {
     "name": "stdout",
     "output_type": "stream",
     "text": [
      "Initial log joint probability = -15.9018\n",
      "    Iter      log prob        ||dx||      ||grad||       alpha      alpha0  # evals  Notes \n",
      "      99       2700.95    0.00426598       189.209      0.4846      0.4846      122   \n",
      "    Iter      log prob        ||dx||      ||grad||       alpha      alpha0  # evals  Notes \n",
      "     154       2702.25   0.000171774        101.34   2.046e-06       0.001      231  LS failed, Hessian reset \n",
      "     199       2702.26   1.48498e-07       77.5415        0.76        0.76      288   \n",
      "    Iter      log prob        ||dx||      ||grad||       alpha      alpha0  # evals  Notes \n",
      "     207       2702.26   1.33487e-06       80.8564    1.58e-08       0.001      334  LS failed, Hessian reset \n",
      "     214       2702.26   1.07666e-07       62.9278      0.7001      0.7001      343   \n",
      "Optimization terminated normally: \n",
      "  Convergence detected: relative gradient magnitude is below tolerance\n"
     ]
    },
    {
     "name": "stderr",
     "output_type": "stream",
     "text": [
      "\r",
      " 23%|██▎       | 84/370 [01:37<05:31,  1.16s/it]"
     ]
    },
    {
     "name": "stdout",
     "output_type": "stream",
     "text": [
      "Initial log joint probability = -45.5584\n",
      "    Iter      log prob        ||dx||      ||grad||       alpha      alpha0  # evals  Notes \n",
      "      76       1590.72    0.00160847        111.28   1.723e-05       0.001      127  LS failed, Hessian reset \n",
      "      99        1590.8   2.25246e-05       41.3224      0.6123      0.6123      155   \n",
      "    Iter      log prob        ||dx||      ||grad||       alpha      alpha0  # evals  Notes \n",
      "     156       1590.86   0.000629286       70.0672   5.814e-06       0.001      269  LS failed, Hessian reset \n",
      "     199       1590.89   5.41293e-05       71.7039           1           1      316   \n",
      "    Iter      log prob        ||dx||      ||grad||       alpha      alpha0  # evals  Notes \n",
      "     242       1591.09    0.00122591       115.884   1.219e-05       0.001      411  LS failed, Hessian reset \n",
      "     299        1591.2   0.000147048       69.0518           1           1      496   \n",
      "    Iter      log prob        ||dx||      ||grad||       alpha      alpha0  # evals  Notes \n",
      "     309       1591.21   0.000103824       59.8571   1.339e-06       0.001      558  LS failed, Hessian reset \n",
      "     321       1591.21   4.93508e-06       55.8818   1.376e-07       0.001      610  LS failed, Hessian reset \n",
      "     387       1591.23   9.41947e-05       81.6363   1.281e-06       0.001      735  LS failed, Hessian reset \n",
      "     399       1591.23   1.00623e-05       71.2225      0.3952           1      750   \n",
      "    Iter      log prob        ||dx||      ||grad||       alpha      alpha0  # evals  Notes \n",
      "     459       1591.23   1.00767e-07       57.1944      0.3566           1      831   \n",
      "Optimization terminated normally: \n",
      "  Convergence detected: relative gradient magnitude is below tolerance\n"
     ]
    },
    {
     "name": "stderr",
     "output_type": "stream",
     "text": [
      "\r",
      " 23%|██▎       | 85/370 [01:38<05:53,  1.24s/it]"
     ]
    },
    {
     "name": "stdout",
     "output_type": "stream",
     "text": [
      "Initial log joint probability = -25.2807\n",
      "    Iter      log prob        ||dx||      ||grad||       alpha      alpha0  # evals  Notes \n",
      "      99       1975.91   0.000152838       84.0752      0.3559           1      123   \n",
      "    Iter      log prob        ||dx||      ||grad||       alpha      alpha0  # evals  Notes \n",
      "     160       1975.98   0.000105798       99.4674   1.315e-06       0.001      239  LS failed, Hessian reset \n",
      "     199       1975.99   3.02339e-07       87.7203      0.3883           1      288   \n",
      "    Iter      log prob        ||dx||      ||grad||       alpha      alpha0  # evals  Notes \n",
      "     210       1975.99    1.2101e-07       92.1031      0.7792      0.7792      301   \n",
      "Optimization terminated normally: \n",
      "  Convergence detected: relative gradient magnitude is below tolerance\n"
     ]
    },
    {
     "name": "stderr",
     "output_type": "stream",
     "text": [
      "\r",
      " 23%|██▎       | 86/370 [01:39<05:43,  1.21s/it]"
     ]
    },
    {
     "name": "stdout",
     "output_type": "stream",
     "text": [
      "Initial log joint probability = -5.84855\n",
      "    Iter      log prob        ||dx||      ||grad||       alpha      alpha0  # evals  Notes \n",
      "      99       3680.04    0.00275424       146.303      0.9856      0.9856      124   \n",
      "    Iter      log prob        ||dx||      ||grad||       alpha      alpha0  # evals  Notes \n",
      "     193       3683.29   0.000109207       233.269   3.387e-07       0.001      275  LS failed, Hessian reset \n",
      "     199       3683.59   0.000729357       394.126           1           1      282   \n",
      "    Iter      log prob        ||dx||      ||grad||       alpha      alpha0  # evals  Notes \n",
      "     299       3684.47   0.000908899        95.976           1           1      405   \n",
      "    Iter      log prob        ||dx||      ||grad||       alpha      alpha0  # evals  Notes \n",
      "     394       3684.71   1.02256e-05       75.2965   1.135e-07       0.001      564  LS failed, Hessian reset \n",
      "     399       3684.71   1.03403e-06       72.5538      0.3052      0.3052      571   \n",
      "    Iter      log prob        ||dx||      ||grad||       alpha      alpha0  # evals  Notes \n",
      "     437       3684.71   5.15195e-08       76.2128      0.2976      0.2976      627   \n",
      "Optimization terminated normally: \n",
      "  Convergence detected: relative gradient magnitude is below tolerance\n"
     ]
    },
    {
     "name": "stderr",
     "output_type": "stream",
     "text": [
      "\r",
      " 24%|██▎       | 87/370 [01:41<05:51,  1.24s/it]"
     ]
    },
    {
     "name": "stdout",
     "output_type": "stream",
     "text": [
      "Initial log joint probability = -26.3363\n",
      "    Iter      log prob        ||dx||      ||grad||       alpha      alpha0  # evals  Notes \n",
      "      99       1722.28   2.59187e-07       104.304           1           1      129   \n",
      "    Iter      log prob        ||dx||      ||grad||       alpha      alpha0  # evals  Notes \n",
      "     102       1722.28   1.57675e-08       84.2274     0.05981           1      134   \n",
      "Optimization terminated normally: \n",
      "  Convergence detected: relative gradient magnitude is below tolerance\n"
     ]
    },
    {
     "name": "stderr",
     "output_type": "stream",
     "text": [
      "\r",
      " 24%|██▍       | 88/370 [01:42<05:45,  1.22s/it]"
     ]
    },
    {
     "name": "stdout",
     "output_type": "stream",
     "text": [
      "Initial log joint probability = -16.6825\n",
      "    Iter      log prob        ||dx||      ||grad||       alpha      alpha0  # evals  Notes \n",
      "      99       2558.92    0.00055011       102.511           1           1      129   \n",
      "    Iter      log prob        ||dx||      ||grad||       alpha      alpha0  # evals  Notes \n",
      "     199       2559.33   1.93504e-07       79.7059           1           1      247   \n",
      "    Iter      log prob        ||dx||      ||grad||       alpha      alpha0  # evals  Notes \n",
      "     206       2559.33   1.81936e-07       85.0213           1           1      255   \n",
      "Optimization terminated normally: \n",
      "  Convergence detected: relative gradient magnitude is below tolerance\n"
     ]
    },
    {
     "name": "stderr",
     "output_type": "stream",
     "text": [
      "\r",
      " 24%|██▍       | 89/370 [01:43<05:34,  1.19s/it]"
     ]
    },
    {
     "name": "stdout",
     "output_type": "stream",
     "text": [
      "Initial log joint probability = -9.96739\n",
      "    Iter      log prob        ||dx||      ||grad||       alpha      alpha0  # evals  Notes \n",
      "      99       2535.71   7.75237e-06       64.5049      0.6419      0.6419      128   \n",
      "    Iter      log prob        ||dx||      ||grad||       alpha      alpha0  # evals  Notes \n",
      "     118       2535.71   8.10186e-08       64.7255      0.3372      0.3372      155   \n",
      "Optimization terminated normally: \n",
      "  Convergence detected: relative gradient magnitude is below tolerance\n"
     ]
    },
    {
     "name": "stderr",
     "output_type": "stream",
     "text": [
      "\r",
      " 24%|██▍       | 90/370 [01:44<05:21,  1.15s/it]"
     ]
    },
    {
     "name": "stdout",
     "output_type": "stream",
     "text": [
      "Initial log joint probability = -18.1362\n",
      "    Iter      log prob        ||dx||      ||grad||       alpha      alpha0  # evals  Notes \n",
      "      99       2051.51   3.86172e-07       86.5787      0.3356      0.3356      119   \n",
      "    Iter      log prob        ||dx||      ||grad||       alpha      alpha0  # evals  Notes \n",
      "     124       2051.51   5.20219e-07       98.8302   5.564e-09       0.001      194  LS failed, Hessian reset \n",
      "     129       2051.51   8.13702e-08       90.7225      0.5693      0.5693      200   \n",
      "Optimization terminated normally: \n",
      "  Convergence detected: relative gradient magnitude is below tolerance\n"
     ]
    },
    {
     "name": "stderr",
     "output_type": "stream",
     "text": [
      "\r",
      " 25%|██▍       | 91/370 [01:45<05:16,  1.14s/it]"
     ]
    },
    {
     "name": "stdout",
     "output_type": "stream",
     "text": [
      "Initial log joint probability = -6.50015\n",
      "    Iter      log prob        ||dx||      ||grad||       alpha      alpha0  # evals  Notes \n",
      "      99       2954.62   0.000125984       99.6172      0.3824           1      118   \n",
      "    Iter      log prob        ||dx||      ||grad||       alpha      alpha0  # evals  Notes \n",
      "     128       2954.62   9.40323e-08       85.8181       0.242           1      164   \n",
      "Optimization terminated normally: \n",
      "  Convergence detected: relative gradient magnitude is below tolerance\n"
     ]
    },
    {
     "name": "stderr",
     "output_type": "stream",
     "text": [
      "\r",
      " 25%|██▍       | 92/370 [01:46<05:21,  1.16s/it]"
     ]
    },
    {
     "name": "stdout",
     "output_type": "stream",
     "text": [
      "Initial log joint probability = -10.7474\n",
      "    Iter      log prob        ||dx||      ||grad||       alpha      alpha0  # evals  Notes \n",
      "      99       2500.82   0.000424653       74.0951           1           1      119   \n",
      "    Iter      log prob        ||dx||      ||grad||       alpha      alpha0  # evals  Notes \n",
      "     166       2500.85   2.32483e-05       67.9618   2.771e-07       0.001      246  LS failed, Hessian reset \n",
      "     184       2500.86   1.07181e-07       67.1988      0.3248           1      271   \n",
      "Optimization terminated normally: \n",
      "  Convergence detected: relative gradient magnitude is below tolerance\n"
     ]
    },
    {
     "name": "stderr",
     "output_type": "stream",
     "text": [
      "\r",
      " 25%|██▌       | 93/370 [01:47<05:17,  1.15s/it]"
     ]
    },
    {
     "name": "stdout",
     "output_type": "stream",
     "text": [
      "Initial log joint probability = -13.5475\n",
      "    Iter      log prob        ||dx||      ||grad||       alpha      alpha0  # evals  Notes \n",
      "      99       2699.94    0.00381615       158.469           1           1      133   \n",
      "    Iter      log prob        ||dx||      ||grad||       alpha      alpha0  # evals  Notes \n",
      "     199       2700.88   8.69755e-07       81.6467      0.3505      0.3505      258   \n",
      "    Iter      log prob        ||dx||      ||grad||       alpha      alpha0  # evals  Notes \n",
      "     244       2700.88    1.0033e-07       83.1493      0.2579           1      314   \n",
      "Optimization terminated normally: \n",
      "  Convergence detected: relative gradient magnitude is below tolerance\n"
     ]
    },
    {
     "name": "stderr",
     "output_type": "stream",
     "text": [
      "\r",
      " 25%|██▌       | 94/370 [01:48<05:16,  1.15s/it]"
     ]
    },
    {
     "name": "stdout",
     "output_type": "stream",
     "text": [
      "Initial log joint probability = -20.0948\n",
      "    Iter      log prob        ||dx||      ||grad||       alpha      alpha0  # evals  Notes \n",
      "      99        2394.9   2.26725e-07        53.876      0.2478           1      134   \n",
      "    Iter      log prob        ||dx||      ||grad||       alpha      alpha0  # evals  Notes \n",
      "     103        2394.9   1.41713e-07       65.3866      0.2811           1      141   \n",
      "Optimization terminated normally: \n",
      "  Convergence detected: relative gradient magnitude is below tolerance\n"
     ]
    },
    {
     "name": "stderr",
     "output_type": "stream",
     "text": [
      "\r",
      " 26%|██▌       | 95/370 [01:49<05:06,  1.12s/it]"
     ]
    },
    {
     "name": "stdout",
     "output_type": "stream",
     "text": [
      "Initial log joint probability = -24.9036\n",
      "    Iter      log prob        ||dx||      ||grad||       alpha      alpha0  # evals  Notes \n",
      "      99          1841   7.95603e-07       55.7612           1           1      123   \n",
      "    Iter      log prob        ||dx||      ||grad||       alpha      alpha0  # evals  Notes \n",
      "     114          1841   5.64123e-08       77.2757      0.3046      0.3046      144   \n",
      "Optimization terminated normally: \n",
      "  Convergence detected: relative gradient magnitude is below tolerance\n"
     ]
    },
    {
     "name": "stderr",
     "output_type": "stream",
     "text": [
      "\r",
      " 26%|██▌       | 96/370 [01:51<05:00,  1.10s/it]"
     ]
    },
    {
     "name": "stdout",
     "output_type": "stream",
     "text": [
      "Initial log joint probability = -67.5908\n",
      "    Iter      log prob        ||dx||      ||grad||       alpha      alpha0  # evals  Notes \n",
      "      99       1458.43    0.00432729       100.326       0.455           1      126   \n",
      "    Iter      log prob        ||dx||      ||grad||       alpha      alpha0  # evals  Notes \n",
      "     154       1458.57   2.90979e-05       77.8223   3.725e-07       0.001      242  LS failed, Hessian reset \n",
      "     177       1458.57   1.36998e-07       76.1292           1           1      272   \n",
      "Optimization terminated normally: \n",
      "  Convergence detected: relative gradient magnitude is below tolerance\n"
     ]
    },
    {
     "name": "stderr",
     "output_type": "stream",
     "text": [
      "\r",
      " 26%|██▌       | 97/370 [01:52<05:12,  1.15s/it]"
     ]
    },
    {
     "name": "stdout",
     "output_type": "stream",
     "text": [
      "Initial log joint probability = -18.6044\n",
      "    Iter      log prob        ||dx||      ||grad||       alpha      alpha0  # evals  Notes \n",
      "      99       2056.78    2.3353e-05        87.598   2.439e-07       0.001      163  LS failed, Hessian reset \n",
      "    Iter      log prob        ||dx||      ||grad||       alpha      alpha0  # evals  Notes \n",
      "     122       2056.78     2.636e-08        78.933      0.3055      0.3055      196   \n",
      "Optimization terminated normally: \n",
      "  Convergence detected: relative gradient magnitude is below tolerance\n"
     ]
    },
    {
     "name": "stderr",
     "output_type": "stream",
     "text": [
      "\r",
      " 26%|██▋       | 98/370 [01:53<05:05,  1.12s/it]"
     ]
    },
    {
     "name": "stdout",
     "output_type": "stream",
     "text": [
      "Initial log joint probability = -5.42199\n",
      "    Iter      log prob        ||dx||      ||grad||       alpha      alpha0  # evals  Notes \n",
      "      99       3160.25   1.27459e-05        69.119           1           1      128   \n",
      "    Iter      log prob        ||dx||      ||grad||       alpha      alpha0  # evals  Notes \n",
      "     173       3160.26    2.4927e-05       79.0781   3.203e-07       0.001      265  LS failed, Hessian reset \n",
      "     199       3160.26   2.68429e-06       92.7588           1           1      298   \n",
      "    Iter      log prob        ||dx||      ||grad||       alpha      alpha0  # evals  Notes \n",
      "     229       3160.26   9.85479e-07       89.7313   1.091e-08       0.001      380  LS failed, Hessian reset \n",
      "     236       3160.26   1.19246e-07       65.6408      0.5483      0.5483      388   \n",
      "Optimization terminated normally: \n",
      "  Convergence detected: relative gradient magnitude is below tolerance\n"
     ]
    },
    {
     "name": "stderr",
     "output_type": "stream",
     "text": [
      "\r",
      " 27%|██▋       | 99/370 [01:54<05:09,  1.14s/it]"
     ]
    },
    {
     "name": "stdout",
     "output_type": "stream",
     "text": [
      "Initial log joint probability = -6.6954\n",
      "    Iter      log prob        ||dx||      ||grad||       alpha      alpha0  # evals  Notes \n",
      "      99       2992.01   3.45273e-06       70.7085      0.1985           1      133   \n",
      "    Iter      log prob        ||dx||      ||grad||       alpha      alpha0  # evals  Notes \n",
      "     115       2992.01   3.29508e-07       88.5641           1           1      156   \n",
      "Optimization terminated normally: \n",
      "  Convergence detected: relative gradient magnitude is below tolerance\n"
     ]
    },
    {
     "name": "stderr",
     "output_type": "stream",
     "text": [
      "\r",
      " 27%|██▋       | 100/370 [01:55<05:01,  1.12s/it]"
     ]
    },
    {
     "name": "stdout",
     "output_type": "stream",
     "text": [
      "Initial log joint probability = -6.1118\n",
      "    Iter      log prob        ||dx||      ||grad||       alpha      alpha0  # evals  Notes \n",
      "      99       1323.46   1.37349e-06       79.3144           1           1      128   \n",
      "    Iter      log prob        ||dx||      ||grad||       alpha      alpha0  # evals  Notes \n",
      "     116       1323.46   4.18414e-08       80.9839     0.06968           1      151   \n",
      "Optimization terminated normally: \n",
      "  Convergence detected: relative gradient magnitude is below tolerance\n"
     ]
    },
    {
     "name": "stderr",
     "output_type": "stream",
     "text": [
      "\r",
      " 27%|██▋       | 101/370 [01:56<04:52,  1.09s/it]"
     ]
    },
    {
     "name": "stdout",
     "output_type": "stream",
     "text": [
      "Initial log joint probability = -20.1669\n",
      "    Iter      log prob        ||dx||      ||grad||       alpha      alpha0  # evals  Notes \n",
      "      99        2015.6   2.42995e-07       81.1276       0.544       0.544      126   \n",
      "    Iter      log prob        ||dx||      ||grad||       alpha      alpha0  # evals  Notes \n",
      "     106        2015.6   7.44908e-08       78.6378      0.3808           1      136   \n",
      "Optimization terminated normally: \n",
      "  Convergence detected: relative gradient magnitude is below tolerance\n"
     ]
    },
    {
     "name": "stderr",
     "output_type": "stream",
     "text": [
      "\r",
      " 28%|██▊       | 102/370 [01:57<05:00,  1.12s/it]"
     ]
    },
    {
     "name": "stdout",
     "output_type": "stream",
     "text": [
      "Initial log joint probability = -23.03\n",
      "    Iter      log prob        ||dx||      ||grad||       alpha      alpha0  # evals  Notes \n",
      "      99       1837.85   9.03827e-08       85.9128      0.4068      0.4068      114   \n",
      "    Iter      log prob        ||dx||      ||grad||       alpha      alpha0  # evals  Notes \n",
      "     102       1837.85   1.08131e-07       87.3692           1           1      117   \n",
      "Optimization terminated normally: \n",
      "  Convergence detected: relative gradient magnitude is below tolerance\n"
     ]
    },
    {
     "name": "stderr",
     "output_type": "stream",
     "text": [
      "\r",
      " 28%|██▊       | 103/370 [01:58<04:53,  1.10s/it]"
     ]
    },
    {
     "name": "stdout",
     "output_type": "stream",
     "text": [
      "Initial log joint probability = -10.7333\n",
      "    Iter      log prob        ||dx||      ||grad||       alpha      alpha0  # evals  Notes \n",
      "      99       2550.46   1.15384e-06       90.8962      0.1838           1      128   \n",
      "    Iter      log prob        ||dx||      ||grad||       alpha      alpha0  # evals  Notes \n",
      "     121       2550.46   3.02464e-06       95.5668   3.426e-08       0.001      192  LS failed, Hessian reset \n",
      "     137       2550.46     7.846e-08        76.079      0.6871      0.6871      214   \n",
      "Optimization terminated normally: \n",
      "  Convergence detected: relative gradient magnitude is below tolerance\n"
     ]
    },
    {
     "name": "stderr",
     "output_type": "stream",
     "text": [
      "\r",
      " 28%|██▊       | 104/370 [01:59<04:51,  1.10s/it]"
     ]
    },
    {
     "name": "stdout",
     "output_type": "stream",
     "text": [
      "Initial log joint probability = -36.5241\n",
      "    Iter      log prob        ||dx||      ||grad||       alpha      alpha0  # evals  Notes \n",
      "      99       1795.61    1.2376e-06       93.2116           1           1      130   \n",
      "    Iter      log prob        ||dx||      ||grad||       alpha      alpha0  # evals  Notes \n",
      "     123       1795.61   1.33008e-07       83.4621           1           1      161   \n",
      "Optimization terminated normally: \n",
      "  Convergence detected: relative gradient magnitude is below tolerance\n"
     ]
    },
    {
     "name": "stderr",
     "output_type": "stream",
     "text": [
      "\r",
      " 28%|██▊       | 105/370 [02:01<04:48,  1.09s/it]"
     ]
    },
    {
     "name": "stdout",
     "output_type": "stream",
     "text": [
      "Initial log joint probability = -9.00975\n",
      "    Iter      log prob        ||dx||      ||grad||       alpha      alpha0  # evals  Notes \n",
      "      99       2714.93   6.06121e-06       64.8737      0.6555      0.6555      132   \n",
      "    Iter      log prob        ||dx||      ||grad||       alpha      alpha0  # evals  Notes \n",
      "     120       2714.93   5.70828e-08       60.6977      0.1553      0.1553      167   \n",
      "Optimization terminated normally: \n",
      "  Convergence detected: relative gradient magnitude is below tolerance\n"
     ]
    },
    {
     "name": "stderr",
     "output_type": "stream",
     "text": [
      "\r",
      " 29%|██▊       | 106/370 [02:02<04:46,  1.08s/it]"
     ]
    },
    {
     "name": "stdout",
     "output_type": "stream",
     "text": [
      "Initial log joint probability = -75.0752\n",
      "    Iter      log prob        ||dx||      ||grad||       alpha      alpha0  # evals  Notes \n",
      "      99       1840.76    0.00753218       93.0343      0.4976      0.9431      126   \n",
      "    Iter      log prob        ||dx||      ||grad||       alpha      alpha0  # evals  Notes \n",
      "     163       1842.84    0.00121757        201.64   6.534e-06       0.001      231  LS failed, Hessian reset \n",
      "     199       1843.87   0.000554722       122.019           1           1      275   \n",
      "    Iter      log prob        ||dx||      ||grad||       alpha      alpha0  # evals  Notes \n",
      "     284       1844.13    0.00124373       66.8639   1.206e-05       0.001      419  LS failed, Hessian reset \n",
      "     299       1844.19   7.38127e-05       80.4635      0.5535      0.5535      438   \n",
      "    Iter      log prob        ||dx||      ||grad||       alpha      alpha0  # evals  Notes \n",
      "     372       1844.27   1.53922e-07       82.7026      0.3646           1      541   \n",
      "Optimization terminated normally: \n",
      "  Convergence detected: relative gradient magnitude is below tolerance\n"
     ]
    },
    {
     "name": "stderr",
     "output_type": "stream",
     "text": [
      "\r",
      " 29%|██▉       | 107/370 [02:03<05:11,  1.19s/it]"
     ]
    },
    {
     "name": "stdout",
     "output_type": "stream",
     "text": [
      "Initial log joint probability = -35.4082\n",
      "    Iter      log prob        ||dx||      ||grad||       alpha      alpha0  # evals  Notes \n",
      "      99       1613.47   3.77683e-05       70.3647           1           1      127   \n",
      "    Iter      log prob        ||dx||      ||grad||       alpha      alpha0  # evals  Notes \n",
      "     157       1613.47   3.18398e-08        65.113       0.278           1      210   \n",
      "Optimization terminated normally: \n",
      "  Convergence detected: relative gradient magnitude is below tolerance\n"
     ]
    },
    {
     "name": "stderr",
     "output_type": "stream",
     "text": [
      "\r",
      " 29%|██▉       | 108/370 [02:04<05:02,  1.16s/it]"
     ]
    },
    {
     "name": "stdout",
     "output_type": "stream",
     "text": [
      "Initial log joint probability = -28.5088\n",
      "    Iter      log prob        ||dx||      ||grad||       alpha      alpha0  # evals  Notes \n",
      "      99       1775.33   0.000389623       78.1532      0.3984           1      124   \n",
      "    Iter      log prob        ||dx||      ||grad||       alpha      alpha0  # evals  Notes \n",
      "     199        1775.4   5.87636e-07       59.2748           1           1      257   \n",
      "    Iter      log prob        ||dx||      ||grad||       alpha      alpha0  # evals  Notes \n",
      "     214        1775.4   1.89921e-07       76.3193      0.4873      0.4873      276   \n",
      "Optimization terminated normally: \n",
      "  Convergence detected: relative gradient magnitude is below tolerance\n"
     ]
    },
    {
     "name": "stderr",
     "output_type": "stream",
     "text": [
      "\r",
      " 29%|██▉       | 109/370 [02:05<04:59,  1.15s/it]"
     ]
    },
    {
     "name": "stdout",
     "output_type": "stream",
     "text": [
      "Initial log joint probability = -8.86769\n",
      "    Iter      log prob        ||dx||      ||grad||       alpha      alpha0  # evals  Notes \n",
      "      59        2712.6   0.000758031        151.16   8.056e-06       0.001      110  LS failed, Hessian reset \n",
      "      91       2712.79   0.000286919       85.2195   3.762e-06       0.001      193  LS failed, Hessian reset \n",
      "      99       2712.82   0.000264459        81.629      0.7209      0.7209      202   \n",
      "    Iter      log prob        ||dx||      ||grad||       alpha      alpha0  # evals  Notes \n",
      "     141          2713    0.00259005       163.359   2.091e-05       0.001      283  LS failed, Hessian reset \n",
      "     199       2713.19   1.13424e-06       99.2236      0.4924      0.4924      353   \n",
      "    Iter      log prob        ||dx||      ||grad||       alpha      alpha0  # evals  Notes \n",
      "     277       2713.26   8.27389e-08       84.7185      0.0686           1      448   \n",
      "Optimization terminated normally: \n",
      "  Convergence detected: relative gradient magnitude is below tolerance\n"
     ]
    },
    {
     "name": "stderr",
     "output_type": "stream",
     "text": [
      "\r",
      " 30%|██▉       | 110/370 [02:06<05:03,  1.17s/it]"
     ]
    },
    {
     "name": "stdout",
     "output_type": "stream",
     "text": [
      "Initial log joint probability = -9.12622\n",
      "    Iter      log prob        ||dx||      ||grad||       alpha      alpha0  # evals  Notes \n",
      "      99          2718   6.95372e-05       71.6282       1.414      0.4958      124   \n",
      "    Iter      log prob        ||dx||      ||grad||       alpha      alpha0  # evals  Notes \n",
      "     127       2718.01   7.56962e-05       86.2608   9.124e-07       0.001      199  LS failed, Hessian reset \n",
      "     167       2718.02   4.05576e-06       86.5963   6.059e-08       0.001      289  LS failed, Hessian reset \n",
      "     184       2718.02   1.65873e-07       80.2357       0.655       0.655      312   \n",
      "Optimization terminated normally: \n",
      "  Convergence detected: relative gradient magnitude is below tolerance\n"
     ]
    },
    {
     "name": "stderr",
     "output_type": "stream",
     "text": [
      "\r",
      " 30%|███       | 111/370 [02:08<05:00,  1.16s/it]"
     ]
    },
    {
     "name": "stdout",
     "output_type": "stream",
     "text": [
      "Initial log joint probability = -19.1415\n",
      "    Iter      log prob        ||dx||      ||grad||       alpha      alpha0  # evals  Notes \n",
      "      40        2050.7   2.47384e-05       87.6491   2.946e-07       0.001       83  LS failed, Hessian reset \n",
      "      63        2050.7   2.52004e-05       85.2582   2.786e-07       0.001      171  LS failed, Hessian reset \n",
      "      90        2050.7   4.16405e-08       83.1795      0.2775           1      208   \n",
      "Optimization terminated normally: \n",
      "  Convergence detected: relative gradient magnitude is below tolerance\n"
     ]
    },
    {
     "name": "stderr",
     "output_type": "stream",
     "text": [
      "\r",
      " 30%|███       | 112/370 [02:09<05:04,  1.18s/it]"
     ]
    },
    {
     "name": "stdout",
     "output_type": "stream",
     "text": [
      "Initial log joint probability = -27.4665\n",
      "    Iter      log prob        ||dx||      ||grad||       alpha      alpha0  # evals  Notes \n",
      "      99       2382.03   8.46974e-05       100.598      0.0836      0.0836      123   \n",
      "    Iter      log prob        ||dx||      ||grad||       alpha      alpha0  # evals  Notes \n",
      "     199       2382.84     0.0001166       98.8899           1           1      254   \n",
      "    Iter      log prob        ||dx||      ||grad||       alpha      alpha0  # evals  Notes \n",
      "     213       2382.86   0.000208665       97.2599   2.421e-06       0.001      308  LS failed, Hessian reset \n",
      "     299       2382.89   2.63541e-06       93.9493      0.7701      0.7701      410   \n",
      "    Iter      log prob        ||dx||      ||grad||       alpha      alpha0  # evals  Notes \n",
      "     359       2382.91   0.000111481       102.361    9.03e-07       0.001      523  LS failed, Hessian reset \n",
      "     399       2382.92   1.50248e-07       94.6721           1           1      574   \n",
      "    Iter      log prob        ||dx||      ||grad||       alpha      alpha0  # evals  Notes \n",
      "     414       2382.92   9.84099e-08       96.2084           1           1      591   \n",
      "Optimization terminated normally: \n",
      "  Convergence detected: relative gradient magnitude is below tolerance\n"
     ]
    },
    {
     "name": "stderr",
     "output_type": "stream",
     "text": [
      "\r",
      " 31%|███       | 113/370 [02:10<05:12,  1.21s/it]"
     ]
    },
    {
     "name": "stdout",
     "output_type": "stream",
     "text": [
      "Initial log joint probability = -6.54024\n",
      "    Iter      log prob        ||dx||      ||grad||       alpha      alpha0  # evals  Notes \n",
      "      99       452.602   1.13107e-07       96.1176      0.7393      0.7393      130   \n",
      "    Iter      log prob        ||dx||      ||grad||       alpha      alpha0  # evals  Notes \n",
      "     111       452.631   0.000265572       101.768   2.524e-06       0.001      183  LS failed, Hessian reset \n",
      "     156       452.653    2.2116e-05       105.494   2.261e-07       0.001      296  LS failed, Hessian reset \n",
      "     187       452.655   2.00815e-08       94.6518           1           1      334   \n",
      "Optimization terminated normally: \n",
      "  Convergence detected: relative gradient magnitude is below tolerance\n"
     ]
    },
    {
     "name": "stderr",
     "output_type": "stream",
     "text": [
      "\r",
      " 31%|███       | 114/370 [02:11<04:54,  1.15s/it]"
     ]
    },
    {
     "name": "stdout",
     "output_type": "stream",
     "text": [
      "Initial log joint probability = -13.4069\n",
      "    Iter      log prob        ||dx||      ||grad||       alpha      alpha0  # evals  Notes \n",
      "      99       2658.93    0.00273251        95.705           1           1      122   \n",
      "    Iter      log prob        ||dx||      ||grad||       alpha      alpha0  # evals  Notes \n",
      "     125       2659.16   0.000684599        133.78   8.115e-06       0.001      188  LS failed, Hessian reset \n",
      "     199       2659.49    2.7224e-07       87.5428      0.2724      0.2724      274   \n",
      "    Iter      log prob        ||dx||      ||grad||       alpha      alpha0  # evals  Notes \n",
      "     214        2659.5   1.11276e-07       93.6397           1           1      293   \n",
      "Optimization terminated normally: \n",
      "  Convergence detected: relative gradient magnitude is below tolerance\n"
     ]
    },
    {
     "name": "stderr",
     "output_type": "stream",
     "text": [
      "\r",
      " 31%|███       | 115/370 [02:12<04:51,  1.14s/it]"
     ]
    },
    {
     "name": "stdout",
     "output_type": "stream",
     "text": [
      "Initial log joint probability = -11.6225\n",
      "    Iter      log prob        ||dx||      ||grad||       alpha      alpha0  # evals  Notes \n",
      "      99       2419.19   0.000112167        79.396       5.085      0.5085      131   \n",
      "    Iter      log prob        ||dx||      ||grad||       alpha      alpha0  # evals  Notes \n",
      "     119       2419.19   1.26942e-07       76.1108      0.1869           1      158   \n",
      "Optimization terminated normally: \n",
      "  Convergence detected: relative gradient magnitude is below tolerance\n"
     ]
    },
    {
     "name": "stderr",
     "output_type": "stream",
     "text": [
      "\r",
      " 31%|███▏      | 116/370 [02:13<04:54,  1.16s/it]"
     ]
    },
    {
     "name": "stdout",
     "output_type": "stream",
     "text": [
      "Initial log joint probability = -9.18881\n",
      "    Iter      log prob        ||dx||      ||grad||       alpha      alpha0  # evals  Notes \n",
      "      99       2763.19    0.00388759       113.351           1           1      124   \n",
      "    Iter      log prob        ||dx||      ||grad||       alpha      alpha0  # evals  Notes \n",
      "     147       2764.05   0.000497628       142.378   4.947e-06       0.001      213  LS failed, Hessian reset \n",
      "     197       2764.08     8.353e-08       87.2723      0.1953           1      286   \n",
      "Optimization terminated normally: \n",
      "  Convergence detected: relative gradient magnitude is below tolerance\n"
     ]
    },
    {
     "name": "stderr",
     "output_type": "stream",
     "text": [
      "\r",
      " 32%|███▏      | 117/370 [02:15<04:51,  1.15s/it]"
     ]
    },
    {
     "name": "stdout",
     "output_type": "stream",
     "text": [
      "Initial log joint probability = -50.3157\n",
      "    Iter      log prob        ||dx||      ||grad||       alpha      alpha0  # evals  Notes \n",
      "      91        1453.8   4.96387e-06       93.1746   4.651e-08       0.001      164  LS failed, Hessian reset \n",
      "      99        1453.8   2.57695e-07       78.1607      0.2191      0.2191      173   \n",
      "    Iter      log prob        ||dx||      ||grad||       alpha      alpha0  # evals  Notes \n",
      "     119        1453.8   6.58748e-08       85.0327      0.3871           1      195   \n",
      "Optimization terminated normally: \n",
      "  Convergence detected: relative gradient magnitude is below tolerance\n"
     ]
    },
    {
     "name": "stderr",
     "output_type": "stream",
     "text": [
      "\r",
      " 32%|███▏      | 118/370 [02:16<04:46,  1.14s/it]"
     ]
    },
    {
     "name": "stdout",
     "output_type": "stream",
     "text": [
      "Initial log joint probability = -15.9319\n",
      "    Iter      log prob        ||dx||      ||grad||       alpha      alpha0  # evals  Notes \n",
      "      99       2215.93   3.99829e-05       78.7019       0.802       0.802      128   \n",
      "    Iter      log prob        ||dx||      ||grad||       alpha      alpha0  # evals  Notes \n",
      "     111       2215.94   0.000107317       80.3377   1.321e-06       0.001      189  LS failed, Hessian reset \n",
      "     148       2215.95   9.95704e-08       71.3537       0.308           1      238   \n",
      "Optimization terminated normally: \n",
      "  Convergence detected: relative gradient magnitude is below tolerance\n"
     ]
    },
    {
     "name": "stderr",
     "output_type": "stream",
     "text": [
      "\r",
      " 32%|███▏      | 119/370 [02:17<04:42,  1.13s/it]"
     ]
    },
    {
     "name": "stdout",
     "output_type": "stream",
     "text": [
      "Initial log joint probability = -7.61498\n",
      "    Iter      log prob        ||dx||      ||grad||       alpha      alpha0  # evals  Notes \n",
      "      99       2800.06   5.64869e-06       83.7934        2.08       0.208      132   \n",
      "    Iter      log prob        ||dx||      ||grad||       alpha      alpha0  # evals  Notes \n",
      "     120       2800.06   7.67148e-08        66.719      0.4566      0.4566      157   \n",
      "Optimization terminated normally: \n",
      "  Convergence detected: relative gradient magnitude is below tolerance\n"
     ]
    },
    {
     "name": "stderr",
     "output_type": "stream",
     "text": [
      "\r",
      " 32%|███▏      | 120/370 [02:18<04:47,  1.15s/it]"
     ]
    },
    {
     "name": "stdout",
     "output_type": "stream",
     "text": [
      "Initial log joint probability = -7.10304\n",
      "    Iter      log prob        ||dx||      ||grad||       alpha      alpha0  # evals  Notes \n",
      "      85       2886.42   2.19618e-05        88.485   2.168e-07       0.001      139  LS failed, Hessian reset \n",
      "      99       2886.42   6.91318e-07         85.78           1           1      159   \n",
      "    Iter      log prob        ||dx||      ||grad||       alpha      alpha0  # evals  Notes \n",
      "     110       2886.42   5.64647e-08       74.7781      0.6104      0.6104      174   \n",
      "Optimization terminated normally: \n",
      "  Convergence detected: relative gradient magnitude is below tolerance\n"
     ]
    },
    {
     "name": "stderr",
     "output_type": "stream",
     "text": [
      "\r",
      " 33%|███▎      | 121/370 [02:19<04:44,  1.14s/it]"
     ]
    },
    {
     "name": "stdout",
     "output_type": "stream",
     "text": [
      "Initial log joint probability = -9.52808\n",
      "    Iter      log prob        ||dx||      ||grad||       alpha      alpha0  # evals  Notes \n",
      "      87       2602.91   7.06526e-06       86.2613   8.392e-08       0.001      138  LS failed, Hessian reset \n",
      "      99       2602.91    6.7009e-07       75.3829           1           1      154   \n",
      "    Iter      log prob        ||dx||      ||grad||       alpha      alpha0  # evals  Notes \n",
      "     110       2602.91   5.69933e-08       86.4146      0.1895      0.1895      167   \n",
      "Optimization terminated normally: \n",
      "  Convergence detected: relative gradient magnitude is below tolerance\n"
     ]
    },
    {
     "name": "stderr",
     "output_type": "stream",
     "text": [
      "\r",
      " 33%|███▎      | 122/370 [02:20<04:37,  1.12s/it]"
     ]
    },
    {
     "name": "stdout",
     "output_type": "stream",
     "text": [
      "Initial log joint probability = -36.9947\n",
      "    Iter      log prob        ||dx||      ||grad||       alpha      alpha0  # evals  Notes \n",
      "      79       1560.98   0.000175903       101.858   1.716e-06       0.001      129  LS failed, Hessian reset \n",
      "      99       1560.99   8.01909e-07       99.4681      0.5057      0.5057      154   \n",
      "    Iter      log prob        ||dx||      ||grad||       alpha      alpha0  # evals  Notes \n",
      "     116       1560.99   7.64419e-08       94.1912      0.3563           1      176   \n",
      "Optimization terminated normally: \n",
      "  Convergence detected: relative gradient magnitude is below tolerance\n"
     ]
    },
    {
     "name": "stderr",
     "output_type": "stream",
     "text": [
      "\r",
      " 33%|███▎      | 123/370 [02:21<04:32,  1.10s/it]"
     ]
    },
    {
     "name": "stdout",
     "output_type": "stream",
     "text": [
      "Initial log joint probability = -6.05786\n",
      "    Iter      log prob        ||dx||      ||grad||       alpha      alpha0  # evals  Notes \n",
      "      99       3040.76    0.00016087       55.4266      0.0589           1      128   \n",
      "    Iter      log prob        ||dx||      ||grad||       alpha      alpha0  # evals  Notes \n",
      "     128       3040.78   3.60153e-05       55.4816   4.589e-07       0.001      201  LS failed, Hessian reset \n",
      "     146       3040.78   2.36582e-07        50.784       0.291       0.291      227   \n",
      "Optimization terminated normally: \n",
      "  Convergence detected: relative gradient magnitude is below tolerance\n"
     ]
    },
    {
     "name": "stderr",
     "output_type": "stream",
     "text": [
      "\r",
      " 34%|███▎      | 124/370 [02:22<04:31,  1.10s/it]"
     ]
    },
    {
     "name": "stdout",
     "output_type": "stream",
     "text": [
      "Initial log joint probability = -21.7785\n",
      "    Iter      log prob        ||dx||      ||grad||       alpha      alpha0  # evals  Notes \n",
      "      99          1894   8.07471e-06       81.6535      0.4228      0.4228      131   \n",
      "    Iter      log prob        ||dx||      ||grad||       alpha      alpha0  # evals  Notes \n",
      "     109          1894   6.51701e-05       74.0618    7.99e-07       0.001      181  LS failed, Hessian reset \n",
      "     149          1894   2.17129e-07       70.5154           1           1      233   \n",
      "Optimization terminated normally: \n",
      "  Convergence detected: relative gradient magnitude is below tolerance\n"
     ]
    },
    {
     "name": "stderr",
     "output_type": "stream",
     "text": [
      "\r",
      " 34%|███▍      | 125/370 [02:24<04:40,  1.14s/it]"
     ]
    },
    {
     "name": "stdout",
     "output_type": "stream",
     "text": [
      "Initial log joint probability = -50.5459\n",
      "    Iter      log prob        ||dx||      ||grad||       alpha      alpha0  # evals  Notes \n",
      "      99       1735.83   0.000103949       92.2096           1           1      130   \n",
      "    Iter      log prob        ||dx||      ||grad||       alpha      alpha0  # evals  Notes \n",
      "     121       1735.84    5.6092e-05       102.992   5.521e-07       0.001      206  LS failed, Hessian reset \n",
      "     160       1735.85   5.56372e-08       101.888      0.4693      0.4693      258   \n",
      "Optimization terminated normally: \n",
      "  Convergence detected: relative gradient magnitude is below tolerance\n"
     ]
    },
    {
     "name": "stderr",
     "output_type": "stream",
     "text": [
      "\r",
      " 34%|███▍      | 126/370 [02:25<04:36,  1.13s/it]"
     ]
    },
    {
     "name": "stdout",
     "output_type": "stream",
     "text": [
      "Initial log joint probability = -38.1699\n",
      "    Iter      log prob        ||dx||      ||grad||       alpha      alpha0  # evals  Notes \n",
      "      99       1693.02    0.00110013       100.935           1           1      115   \n",
      "    Iter      log prob        ||dx||      ||grad||       alpha      alpha0  # evals  Notes \n",
      "     154       1693.44   3.87479e-08        95.252      0.3566           1      189   \n",
      "Optimization terminated normally: \n",
      "  Convergence detected: relative gradient magnitude is below tolerance\n"
     ]
    },
    {
     "name": "stderr",
     "output_type": "stream",
     "text": [
      "\r",
      " 34%|███▍      | 127/370 [02:26<04:31,  1.12s/it]"
     ]
    },
    {
     "name": "stdout",
     "output_type": "stream",
     "text": [
      "Initial log joint probability = -6.66409\n",
      "    Iter      log prob        ||dx||      ||grad||       alpha      alpha0  # evals  Notes \n",
      "      99        3006.8   4.54945e-05       70.3982           1           1      121   \n",
      "    Iter      log prob        ||dx||      ||grad||       alpha      alpha0  # evals  Notes \n",
      "     111          3007   0.000342772       239.974    2.03e-06       0.001      167  LS failed, Hessian reset \n",
      "     173       3007.53   0.000121511       115.052   7.868e-07       0.001      285  LS failed, Hessian reset \n",
      "     199        3007.6   1.21676e-05       84.3898           1           1      317   \n",
      "    Iter      log prob        ||dx||      ||grad||       alpha      alpha0  # evals  Notes \n",
      "     218        3007.6   1.11566e-07       70.2392      0.6908      0.6908      342   \n",
      "Optimization terminated normally: \n",
      "  Convergence detected: relative gradient magnitude is below tolerance\n"
     ]
    },
    {
     "name": "stderr",
     "output_type": "stream",
     "text": [
      "\r",
      " 35%|███▍      | 128/370 [02:27<04:33,  1.13s/it]"
     ]
    },
    {
     "name": "stdout",
     "output_type": "stream",
     "text": [
      "Initial log joint probability = -34.4572\n",
      "    Iter      log prob        ||dx||      ||grad||       alpha      alpha0  # evals  Notes \n",
      "      99       1681.99   0.000445833       93.6568           1           1      120   \n",
      "    Iter      log prob        ||dx||      ||grad||       alpha      alpha0  # evals  Notes \n",
      "     199        1682.1   3.77507e-07       108.871      0.8532      0.8532      245   \n",
      "    Iter      log prob        ||dx||      ||grad||       alpha      alpha0  # evals  Notes \n",
      "     203        1682.1   6.35716e-07       95.5813   5.505e-09       0.001      289  LS failed, Hessian reset \n",
      "     213        1682.1    5.0689e-08       95.4813      0.8029      0.8029      299   \n",
      "Optimization terminated normally: \n",
      "  Convergence detected: relative gradient magnitude is below tolerance\n"
     ]
    },
    {
     "name": "stderr",
     "output_type": "stream",
     "text": [
      "\r",
      " 35%|███▍      | 129/370 [02:28<04:32,  1.13s/it]"
     ]
    },
    {
     "name": "stdout",
     "output_type": "stream",
     "text": [
      "Initial log joint probability = -14.7961\n",
      "    Iter      log prob        ||dx||      ||grad||       alpha      alpha0  # evals  Notes \n",
      "      99       2201.14   6.55433e-05       95.7005      0.6944      0.6944      122   \n",
      "    Iter      log prob        ||dx||      ||grad||       alpha      alpha0  # evals  Notes \n",
      "     107       2201.16   0.000122186       91.5621   1.358e-06       0.001      163  LS failed, Hessian reset \n",
      "     129       2201.17   3.83865e-08       77.3801      0.1657           1      196   \n",
      "Optimization terminated normally: \n",
      "  Convergence detected: relative gradient magnitude is below tolerance\n"
     ]
    },
    {
     "name": "stderr",
     "output_type": "stream",
     "text": [
      "\r",
      " 35%|███▌      | 130/370 [02:29<04:38,  1.16s/it]"
     ]
    },
    {
     "name": "stdout",
     "output_type": "stream",
     "text": [
      "Initial log joint probability = -31.6101\n",
      "    Iter      log prob        ||dx||      ||grad||       alpha      alpha0  # evals  Notes \n",
      "      99       1885.36   4.24374e-06       98.6016      0.4954      0.4954      122   \n",
      "    Iter      log prob        ||dx||      ||grad||       alpha      alpha0  # evals  Notes \n",
      "     144       1885.39   6.17283e-05       77.7774   7.069e-07       0.001      229  LS failed, Hessian reset \n",
      "     179       1885.39   1.85489e-07       84.5891      0.2922           1      271   \n",
      "Optimization terminated normally: \n",
      "  Convergence detected: relative gradient magnitude is below tolerance\n"
     ]
    },
    {
     "name": "stderr",
     "output_type": "stream",
     "text": [
      "\r",
      " 35%|███▌      | 131/370 [02:30<04:34,  1.15s/it]"
     ]
    },
    {
     "name": "stdout",
     "output_type": "stream",
     "text": [
      "Initial log joint probability = -10.0389\n",
      "    Iter      log prob        ||dx||      ||grad||       alpha      alpha0  # evals  Notes \n",
      "      99       2775.81   0.000466429       131.106      0.7705      0.7705      127   \n",
      "    Iter      log prob        ||dx||      ||grad||       alpha      alpha0  # evals  Notes \n",
      "     181        2776.5   0.000129922       97.1793   1.497e-06       0.001      264  LS failed, Hessian reset \n",
      "     199       2776.51   2.83252e-06       52.0259       1.931      0.4787      287   \n",
      "    Iter      log prob        ||dx||      ||grad||       alpha      alpha0  # evals  Notes \n",
      "     207       2776.51   1.77769e-05       80.8315   1.928e-07       0.001      333  LS failed, Hessian reset \n",
      "     240       2776.51   9.96765e-08       78.3572        0.33        0.33      378   \n",
      "Optimization terminated normally: \n",
      "  Convergence detected: relative gradient magnitude is below tolerance\n"
     ]
    },
    {
     "name": "stderr",
     "output_type": "stream",
     "text": [
      "\r",
      " 36%|███▌      | 132/370 [02:32<04:35,  1.16s/it]"
     ]
    },
    {
     "name": "stdout",
     "output_type": "stream",
     "text": [
      "Initial log joint probability = -15.3336\n",
      "    Iter      log prob        ||dx||      ||grad||       alpha      alpha0  # evals  Notes \n",
      "      84       2160.44   7.15657e-05       93.0493   7.254e-07       0.001      154  LS failed, Hessian reset \n",
      "      99       2160.44   4.60077e-07       68.1485           1           1      176   \n",
      "    Iter      log prob        ||dx||      ||grad||       alpha      alpha0  # evals  Notes \n",
      "     105       2160.44   3.23138e-08       84.5599      0.1002      0.1002      185   \n",
      "Optimization terminated normally: \n",
      "  Convergence detected: relative gradient magnitude is below tolerance\n"
     ]
    },
    {
     "name": "stderr",
     "output_type": "stream",
     "text": [
      "\r",
      " 36%|███▌      | 133/370 [02:33<04:28,  1.13s/it]"
     ]
    },
    {
     "name": "stdout",
     "output_type": "stream",
     "text": [
      "Initial log joint probability = -9.74275\n",
      "    Iter      log prob        ||dx||      ||grad||       alpha      alpha0  # evals  Notes \n",
      "      99       2622.78   1.13854e-05       59.6265           1           1      125   \n",
      "    Iter      log prob        ||dx||      ||grad||       alpha      alpha0  # evals  Notes \n",
      "     142       2622.78   2.66683e-07       54.3095      0.2422           1      182   \n",
      "Optimization terminated normally: \n",
      "  Convergence detected: relative gradient magnitude is below tolerance\n"
     ]
    },
    {
     "name": "stderr",
     "output_type": "stream",
     "text": [
      "\r",
      " 36%|███▌      | 134/370 [02:34<04:33,  1.16s/it]"
     ]
    },
    {
     "name": "stdout",
     "output_type": "stream",
     "text": [
      "Initial log joint probability = -23.1056\n",
      "    Iter      log prob        ||dx||      ||grad||       alpha      alpha0  # evals  Notes \n",
      "      99       2665.59    0.00854572       153.462      0.2348           1      124   \n",
      "    Iter      log prob        ||dx||      ||grad||       alpha      alpha0  # evals  Notes \n",
      "     163       2666.84   0.000198937       84.0222   2.248e-06       0.001      237  LS failed, Hessian reset \n",
      "     199       2666.86   0.000146626       102.563           1           1      281   \n",
      "    Iter      log prob        ||dx||      ||grad||       alpha      alpha0  # evals  Notes \n",
      "     259       2666.87   8.82343e-07         76.55           1           1      355   \n",
      "Optimization terminated normally: \n",
      "  Convergence detected: relative gradient magnitude is below tolerance\n"
     ]
    },
    {
     "name": "stderr",
     "output_type": "stream",
     "text": [
      "\r",
      " 36%|███▋      | 135/370 [02:35<04:33,  1.17s/it]"
     ]
    },
    {
     "name": "stdout",
     "output_type": "stream",
     "text": [
      "Initial log joint probability = -4.87849\n",
      "    Iter      log prob        ||dx||      ||grad||       alpha      alpha0  # evals  Notes \n",
      "      99       3388.89   8.28262e-07       95.1777      0.3222      0.3222      119   \n",
      "    Iter      log prob        ||dx||      ||grad||       alpha      alpha0  # evals  Notes \n",
      "     113       3388.89   9.88252e-08       89.2121      0.6652      0.6652      134   \n",
      "Optimization terminated normally: \n",
      "  Convergence detected: relative gradient magnitude is below tolerance\n"
     ]
    },
    {
     "name": "stderr",
     "output_type": "stream",
     "text": [
      "\r",
      " 37%|███▋      | 136/370 [02:36<04:24,  1.13s/it]"
     ]
    },
    {
     "name": "stdout",
     "output_type": "stream",
     "text": [
      "Initial log joint probability = -18.6288\n",
      "    Iter      log prob        ||dx||      ||grad||       alpha      alpha0  # evals  Notes \n",
      "      99       2058.04   3.43611e-06       91.4882     0.04078           1      128   \n",
      "    Iter      log prob        ||dx||      ||grad||       alpha      alpha0  # evals  Notes \n",
      "     124       2058.04   7.26832e-08       71.9868      0.4414      0.4414      162   \n",
      "Optimization terminated normally: \n",
      "  Convergence detected: relative gradient magnitude is below tolerance\n"
     ]
    },
    {
     "name": "stderr",
     "output_type": "stream",
     "text": [
      "\r",
      " 37%|███▋      | 137/370 [02:37<04:18,  1.11s/it]"
     ]
    },
    {
     "name": "stdout",
     "output_type": "stream",
     "text": [
      "Initial log joint probability = -29.6451\n",
      "    Iter      log prob        ||dx||      ||grad||       alpha      alpha0  # evals  Notes \n",
      "      99       1756.39   0.000133222       75.2388           1           1      131   \n",
      "    Iter      log prob        ||dx||      ||grad||       alpha      alpha0  # evals  Notes \n",
      "     168       1756.41   1.38565e-07       64.6787      0.1597           1      226   \n",
      "Optimization terminated normally: \n",
      "  Convergence detected: relative gradient magnitude is below tolerance\n"
     ]
    },
    {
     "name": "stderr",
     "output_type": "stream",
     "text": [
      "\r",
      " 37%|███▋      | 138/370 [02:38<04:27,  1.15s/it]"
     ]
    },
    {
     "name": "stdout",
     "output_type": "stream",
     "text": [
      "Initial log joint probability = -6.38134\n",
      "    Iter      log prob        ||dx||      ||grad||       alpha      alpha0  # evals  Notes \n",
      "      99       3093.82   0.000777589       97.9988      0.3966           1      131   \n",
      "    Iter      log prob        ||dx||      ||grad||       alpha      alpha0  # evals  Notes \n",
      "     173       3093.91   2.30829e-06       82.1684   2.525e-08       0.001      270  LS failed, Hessian reset \n",
      "     188       3093.91   5.15482e-08       84.3399      0.1422      0.7019      290   \n",
      "Optimization terminated normally: \n",
      "  Convergence detected: relative gradient magnitude is below tolerance\n"
     ]
    },
    {
     "name": "stderr",
     "output_type": "stream",
     "text": [
      "\r",
      " 38%|███▊      | 139/370 [02:40<04:24,  1.15s/it]"
     ]
    },
    {
     "name": "stdout",
     "output_type": "stream",
     "text": [
      "Initial log joint probability = -27.7775\n",
      "    Iter      log prob        ||dx||      ||grad||       alpha      alpha0  # evals  Notes \n",
      "      99       2501.89   0.000143001       95.0448           1           1      135   \n",
      "    Iter      log prob        ||dx||      ||grad||       alpha      alpha0  # evals  Notes \n",
      "     131       2502.01   0.000214317       117.046   1.915e-06       0.001      212  LS failed, Hessian reset \n",
      "     192       2502.06   5.32703e-08       84.3538      0.1091      0.4407      292   \n",
      "Optimization terminated normally: \n",
      "  Convergence detected: relative gradient magnitude is below tolerance\n"
     ]
    },
    {
     "name": "stderr",
     "output_type": "stream",
     "text": [
      "\r",
      " 38%|███▊      | 140/370 [02:41<04:22,  1.14s/it]"
     ]
    },
    {
     "name": "stdout",
     "output_type": "stream",
     "text": [
      "Initial log joint probability = -6.94385\n",
      "    Iter      log prob        ||dx||      ||grad||       alpha      alpha0  # evals  Notes \n",
      "      96          2966   3.05815e-05       71.9427   4.481e-07       0.001      167  LS failed, Hessian reset \n",
      "      99          2966   7.79118e-06       72.0349      0.6842      0.6842      170   \n",
      "    Iter      log prob        ||dx||      ||grad||       alpha      alpha0  # evals  Notes \n",
      "     173       2966.02   2.03586e-07       77.1917      0.3087           1      257   \n",
      "Optimization terminated normally: \n",
      "  Convergence detected: relative gradient magnitude is below tolerance\n"
     ]
    },
    {
     "name": "stderr",
     "output_type": "stream",
     "text": [
      "\r",
      " 38%|███▊      | 141/370 [02:42<04:18,  1.13s/it]"
     ]
    },
    {
     "name": "stdout",
     "output_type": "stream",
     "text": [
      "Initial log joint probability = -6.00126\n",
      "    Iter      log prob        ||dx||      ||grad||       alpha      alpha0  # evals  Notes \n",
      "      99       3037.85   3.84827e-05       93.8101           1           1      130   \n",
      "    Iter      log prob        ||dx||      ||grad||       alpha      alpha0  # evals  Notes \n",
      "     116       3037.85   3.63116e-07       69.5788      0.3662           1      150   \n",
      "Optimization terminated normally: \n",
      "  Convergence detected: relative gradient magnitude is below tolerance\n"
     ]
    },
    {
     "name": "stderr",
     "output_type": "stream",
     "text": [
      "\r",
      " 38%|███▊      | 142/370 [02:43<04:21,  1.15s/it]"
     ]
    },
    {
     "name": "stdout",
     "output_type": "stream",
     "text": [
      "Initial log joint probability = -44.2461\n",
      "    Iter      log prob        ||dx||      ||grad||       alpha      alpha0  # evals  Notes \n",
      "      99       1849.31    4.2943e-07        70.408           1           1      134   \n",
      "    Iter      log prob        ||dx||      ||grad||       alpha      alpha0  # evals  Notes \n",
      "     113       1849.31   6.01053e-07       79.2802   8.063e-09       0.001      191  LS failed, Hessian reset \n",
      "     122       1849.31   1.03146e-07       61.5616      0.6418      0.6418      201   \n",
      "Optimization terminated normally: \n",
      "  Convergence detected: relative gradient magnitude is below tolerance\n"
     ]
    },
    {
     "name": "stderr",
     "output_type": "stream",
     "text": [
      "\r",
      " 39%|███▊      | 143/370 [02:44<04:16,  1.13s/it]"
     ]
    },
    {
     "name": "stdout",
     "output_type": "stream",
     "text": [
      "Initial log joint probability = -11.4243\n",
      "    Iter      log prob        ||dx||      ||grad||       alpha      alpha0  # evals  Notes \n",
      "      99       2801.45   7.07158e-05       69.2643       0.453           1      132   \n",
      "    Iter      log prob        ||dx||      ||grad||       alpha      alpha0  # evals  Notes \n",
      "     154       2801.47    1.0595e-05       90.5732   1.096e-07       0.001      232  LS failed, Hessian reset \n",
      "     175       2801.47    1.7105e-07        70.617      0.8646      0.8646      257   \n",
      "Optimization terminated normally: \n",
      "  Convergence detected: relative gradient magnitude is below tolerance\n"
     ]
    },
    {
     "name": "stderr",
     "output_type": "stream",
     "text": [
      "\r",
      " 39%|███▉      | 144/370 [02:45<04:14,  1.13s/it]"
     ]
    },
    {
     "name": "stdout",
     "output_type": "stream",
     "text": [
      "Initial log joint probability = -14.7746\n",
      "    Iter      log prob        ||dx||      ||grad||       alpha      alpha0  # evals  Notes \n",
      "      99       2248.17   5.96335e-05       83.3203      0.6737      0.6737      117   \n",
      "    Iter      log prob        ||dx||      ||grad||       alpha      alpha0  # evals  Notes \n",
      "     136       2248.19   5.47144e-05       99.7644   8.651e-07       0.001      206  LS failed, Hessian reset \n",
      "     182       2248.19    1.6461e-05       100.401   1.821e-07       0.001      299  LS failed, Hessian reset \n",
      "     199       2248.19   3.14888e-07       85.7718      0.2971           1      321   \n",
      "    Iter      log prob        ||dx||      ||grad||       alpha      alpha0  # evals  Notes \n",
      "     214       2248.19   6.89261e-08       65.2823      0.5971      0.5971      337   \n",
      "Optimization terminated normally: \n",
      "  Convergence detected: relative gradient magnitude is below tolerance\n"
     ]
    },
    {
     "name": "stderr",
     "output_type": "stream",
     "text": [
      "\r",
      " 39%|███▉      | 145/370 [02:46<04:16,  1.14s/it]"
     ]
    },
    {
     "name": "stdout",
     "output_type": "stream",
     "text": [
      "Initial log joint probability = -8.24247\n",
      "    Iter      log prob        ||dx||      ||grad||       alpha      alpha0  # evals  Notes \n",
      "      80       2960.22   1.28701e-07       93.1454     0.05734           1      110   \n",
      "Optimization terminated normally: \n",
      "  Convergence detected: relative gradient magnitude is below tolerance\n"
     ]
    },
    {
     "name": "stderr",
     "output_type": "stream",
     "text": [
      "\r",
      " 39%|███▉      | 146/370 [02:48<04:17,  1.15s/it]"
     ]
    },
    {
     "name": "stdout",
     "output_type": "stream",
     "text": [
      "Initial log joint probability = -25.8901\n",
      "    Iter      log prob        ||dx||      ||grad||       alpha      alpha0  # evals  Notes \n",
      "      99        1821.7   0.000121694       99.4667     0.05426           1      121   \n",
      "    Iter      log prob        ||dx||      ||grad||       alpha      alpha0  # evals  Notes \n",
      "     139       1821.71   5.76249e-08       83.9567      0.6033      0.6033      171   \n",
      "Optimization terminated normally: \n",
      "  Convergence detected: relative gradient magnitude is below tolerance\n"
     ]
    },
    {
     "name": "stderr",
     "output_type": "stream",
     "text": [
      "\r",
      " 40%|███▉      | 147/370 [02:49<04:10,  1.12s/it]"
     ]
    },
    {
     "name": "stdout",
     "output_type": "stream",
     "text": [
      "Initial log joint probability = -16.5827\n",
      "    Iter      log prob        ||dx||      ||grad||       alpha      alpha0  # evals  Notes \n",
      "      99        2365.6   0.000252648       78.2928           1           1      130   \n",
      "    Iter      log prob        ||dx||      ||grad||       alpha      alpha0  # evals  Notes \n",
      "     188       2367.24   0.000871155       94.6322   8.659e-06       0.001      265  LS failed, Hessian reset \n",
      "     199       2367.36    0.00063679       97.2429      0.6886      0.6886      279   \n",
      "    Iter      log prob        ||dx||      ||grad||       alpha      alpha0  # evals  Notes \n",
      "     299       2367.49   2.93289e-05       93.6011           1           1      399   \n",
      "    Iter      log prob        ||dx||      ||grad||       alpha      alpha0  # evals  Notes \n",
      "     317       2367.61   0.000559914       111.727   6.031e-06       0.001      461  LS failed, Hessian reset \n",
      "     399        2367.7   2.06028e-06       92.5135           1           1      563   \n",
      "    Iter      log prob        ||dx||      ||grad||       alpha      alpha0  # evals  Notes \n",
      "     499       2367.75   9.38962e-05       79.2682      0.3462      0.8878      686   \n",
      "    Iter      log prob        ||dx||      ||grad||       alpha      alpha0  # evals  Notes \n",
      "     572        2367.9    0.00044297       141.889   3.777e-06       0.001      857  LS failed, Hessian reset \n",
      "     599          2368   9.68731e-06       100.027       0.523       0.523      886   \n",
      "    Iter      log prob        ||dx||      ||grad||       alpha      alpha0  # evals  Notes \n",
      "     656       2368.01   2.82686e-07       66.5331      0.2173           1      955   \n",
      "Optimization terminated normally: \n",
      "  Convergence detected: relative gradient magnitude is below tolerance\n"
     ]
    },
    {
     "name": "stderr",
     "output_type": "stream",
     "text": [
      "\r",
      " 40%|████      | 148/370 [02:50<04:34,  1.24s/it]"
     ]
    },
    {
     "name": "stdout",
     "output_type": "stream",
     "text": [
      "Initial log joint probability = -9.05093\n",
      "    Iter      log prob        ||dx||      ||grad||       alpha      alpha0  # evals  Notes \n",
      "      90       2771.13   0.000243537       153.241   2.605e-06       0.001      161  LS failed, Hessian reset \n",
      "      99       2771.15   1.08437e-05       80.7294      0.4177      0.4177      175   \n",
      "    Iter      log prob        ||dx||      ||grad||       alpha      alpha0  # evals  Notes \n",
      "     185       2771.16   3.96769e-07       67.9637           1           1      286   \n",
      "Optimization terminated normally: \n",
      "  Convergence detected: relative gradient magnitude is below tolerance\n"
     ]
    },
    {
     "name": "stderr",
     "output_type": "stream",
     "text": [
      "\r",
      " 40%|████      | 149/370 [02:51<04:25,  1.20s/it]"
     ]
    },
    {
     "name": "stdout",
     "output_type": "stream",
     "text": [
      "Initial log joint probability = -14.0233\n",
      "    Iter      log prob        ||dx||      ||grad||       alpha      alpha0  # evals  Notes \n",
      "      99       2302.22   9.38894e-08       66.9922      0.5921      0.5921      129   \n",
      "    Iter      log prob        ||dx||      ||grad||       alpha      alpha0  # evals  Notes \n",
      "     100       2302.22   7.84434e-08       75.6633      0.3672           1      131   \n",
      "Optimization terminated normally: \n",
      "  Convergence detected: relative gradient magnitude is below tolerance\n"
     ]
    },
    {
     "name": "stderr",
     "output_type": "stream",
     "text": [
      "\r",
      " 41%|████      | 150/370 [02:52<04:23,  1.20s/it]"
     ]
    },
    {
     "name": "stdout",
     "output_type": "stream",
     "text": [
      "Initial log joint probability = -9.42252\n",
      "    Iter      log prob        ||dx||      ||grad||       alpha      alpha0  # evals  Notes \n",
      "      99       2781.32   5.40794e-05       109.486      0.4194      0.4194      117   \n",
      "    Iter      log prob        ||dx||      ||grad||       alpha      alpha0  # evals  Notes \n",
      "     109       2781.59   0.000206067       123.301       1e-06       0.001      166  LS failed, Hessian reset \n",
      "     177       2782.06   0.000173682       112.573   1.362e-06       0.001      283  LS failed, Hessian reset \n",
      "     199       2782.12   1.54442e-05       75.0472      0.2829      0.2829      310   \n",
      "    Iter      log prob        ||dx||      ||grad||       alpha      alpha0  # evals  Notes \n",
      "     248       2782.13    1.1741e-07       96.4244           1           1      370   \n",
      "Optimization terminated normally: \n",
      "  Convergence detected: relative gradient magnitude is below tolerance\n"
     ]
    },
    {
     "name": "stderr",
     "output_type": "stream",
     "text": [
      "\r",
      " 41%|████      | 151/370 [02:54<04:20,  1.19s/it]"
     ]
    },
    {
     "name": "stdout",
     "output_type": "stream",
     "text": [
      "Initial log joint probability = -40.2184\n",
      "    Iter      log prob        ||dx||      ||grad||       alpha      alpha0  # evals  Notes \n",
      "      99       1133.43    0.00196314       87.5805           1           1      119   \n",
      "    Iter      log prob        ||dx||      ||grad||       alpha      alpha0  # evals  Notes \n",
      "     144       1135.73    0.00158991       82.3818   1.892e-05       0.001      209  LS failed, Hessian reset \n",
      "     181       1135.89    0.00022188       68.3447   2.738e-06       0.001      297  LS failed, Hessian reset \n",
      "     199        1135.9   2.67793e-06        68.605           1           1      321   \n",
      "    Iter      log prob        ||dx||      ||grad||       alpha      alpha0  # evals  Notes \n",
      "     219       1135.91   4.56879e-05       76.2375   6.355e-07       0.001      381  LS failed, Hessian reset \n",
      "     252       1135.91   3.74209e-06       72.3463   5.102e-08       0.001      464  LS failed, Hessian reset \n",
      "     275       1135.91      2.37e-08       65.9581      0.4883      0.1507      496   \n",
      "Optimization terminated normally: \n",
      "  Convergence detected: relative gradient magnitude is below tolerance\n"
     ]
    },
    {
     "name": "stderr",
     "output_type": "stream",
     "text": [
      "\r",
      " 41%|████      | 152/370 [02:55<04:16,  1.18s/it]"
     ]
    },
    {
     "name": "stdout",
     "output_type": "stream",
     "text": [
      "Initial log joint probability = -34.6186\n",
      "    Iter      log prob        ||dx||      ||grad||       alpha      alpha0  # evals  Notes \n",
      "      99       1719.67   8.21251e-05        101.69           1           1      129   \n",
      "    Iter      log prob        ||dx||      ||grad||       alpha      alpha0  # evals  Notes \n",
      "     104        1719.7   0.000584205       97.2061   4.879e-06       0.001      176  LS failed, Hessian reset \n",
      "     174       1719.73   5.65882e-08        85.353      0.1905      0.6953      268   \n",
      "Optimization terminated normally: \n",
      "  Convergence detected: relative gradient magnitude is below tolerance\n"
     ]
    },
    {
     "name": "stderr",
     "output_type": "stream",
     "text": [
      "\r",
      " 41%|████▏     | 153/370 [02:56<04:11,  1.16s/it]"
     ]
    },
    {
     "name": "stdout",
     "output_type": "stream",
     "text": [
      "Initial log joint probability = -31.696\n",
      "    Iter      log prob        ||dx||      ||grad||       alpha      alpha0  # evals  Notes \n",
      "      99       2188.85   0.000672598       66.9665           1           1      119   \n",
      "    Iter      log prob        ||dx||      ||grad||       alpha      alpha0  # evals  Notes \n",
      "     114       2189.17   0.000742936       110.447   8.977e-06       0.001      178  LS failed, Hessian reset \n",
      "     199       2189.22   2.53293e-06        67.759      0.4666           1      288   \n",
      "    Iter      log prob        ||dx||      ||grad||       alpha      alpha0  # evals  Notes \n",
      "     216       2189.22   1.05166e-06        83.321      0.2499           1      309   \n",
      "Optimization terminated normally: \n",
      "  Convergence detected: relative gradient magnitude is below tolerance\n"
     ]
    },
    {
     "name": "stderr",
     "output_type": "stream",
     "text": [
      "\r",
      " 42%|████▏     | 154/370 [02:57<04:08,  1.15s/it]"
     ]
    },
    {
     "name": "stdout",
     "output_type": "stream",
     "text": [
      "Initial log joint probability = -18.7858\n",
      "    Iter      log prob        ||dx||      ||grad||       alpha      alpha0  # evals  Notes \n",
      "      99       2232.35    0.00396787       150.986      0.9404      0.9404      125   \n",
      "    Iter      log prob        ||dx||      ||grad||       alpha      alpha0  # evals  Notes \n",
      "     199       2232.91   1.20806e-06       82.8619           1           1      262   \n",
      "    Iter      log prob        ||dx||      ||grad||       alpha      alpha0  # evals  Notes \n",
      "     221       2232.92   7.42981e-05       92.7588   7.434e-07       0.001      352  LS failed, Hessian reset \n",
      "     270       2232.92   4.82938e-08       75.2981      0.3216           1      414   \n",
      "Optimization terminated normally: \n",
      "  Convergence detected: relative gradient magnitude is below tolerance\n"
     ]
    },
    {
     "name": "stderr",
     "output_type": "stream",
     "text": [
      "\r",
      " 42%|████▏     | 155/370 [02:58<04:19,  1.21s/it]"
     ]
    },
    {
     "name": "stdout",
     "output_type": "stream",
     "text": [
      "Initial log joint probability = -29.7403\n",
      "    Iter      log prob        ||dx||      ||grad||       alpha      alpha0  # evals  Notes \n",
      "      99       1659.19   4.72387e-08       96.0395      0.3258      0.3258      119   \n",
      "    Iter      log prob        ||dx||      ||grad||       alpha      alpha0  # evals  Notes \n",
      "     125       1659.19   4.99942e-08       101.823      0.4209      0.4209      149   \n",
      "Optimization terminated normally: \n",
      "  Convergence detected: relative gradient magnitude is below tolerance\n"
     ]
    },
    {
     "name": "stderr",
     "output_type": "stream",
     "text": [
      "\r",
      " 42%|████▏     | 156/370 [02:59<04:08,  1.16s/it]"
     ]
    },
    {
     "name": "stdout",
     "output_type": "stream",
     "text": [
      "Initial log joint probability = -20.1258\n",
      "    Iter      log prob        ||dx||      ||grad||       alpha      alpha0  # evals  Notes \n",
      "      62       2008.31   2.95548e-05       71.4506   4.575e-07       0.001      115  LS failed, Hessian reset \n",
      "      99       2008.31   3.21953e-06        78.258       2.482      0.6016      169   \n",
      "    Iter      log prob        ||dx||      ||grad||       alpha      alpha0  # evals  Notes \n",
      "     114       2008.31   7.85579e-08       63.1724      0.2489           1      189   \n",
      "Optimization terminated normally: \n",
      "  Convergence detected: relative gradient magnitude is below tolerance\n"
     ]
    },
    {
     "name": "stderr",
     "output_type": "stream",
     "text": [
      "\r",
      " 42%|████▏     | 157/370 [03:00<04:01,  1.14s/it]"
     ]
    },
    {
     "name": "stdout",
     "output_type": "stream",
     "text": [
      "Initial log joint probability = -20.0975\n",
      "    Iter      log prob        ||dx||      ||grad||       alpha      alpha0  # evals  Notes \n",
      "      99       2001.08   2.90672e-05       52.8127           1           1      131   \n",
      "    Iter      log prob        ||dx||      ||grad||       alpha      alpha0  # evals  Notes \n",
      "     199       2001.19   5.93022e-06       62.8776      0.7599      0.7599      264   \n",
      "    Iter      log prob        ||dx||      ||grad||       alpha      alpha0  # evals  Notes \n",
      "     226       2001.19   5.22619e-08       51.2943      0.2439      0.8428      317   \n",
      "Optimization terminated normally: \n",
      "  Convergence detected: relative gradient magnitude is below tolerance\n"
     ]
    },
    {
     "name": "stderr",
     "output_type": "stream",
     "text": [
      "\r",
      " 43%|████▎     | 158/370 [03:02<04:01,  1.14s/it]"
     ]
    },
    {
     "name": "stdout",
     "output_type": "stream",
     "text": [
      "Initial log joint probability = -6.5738\n",
      "    Iter      log prob        ||dx||      ||grad||       alpha      alpha0  # evals  Notes \n",
      "      99       2929.61   3.23149e-07       91.8771      0.3451           1      127   \n",
      "    Iter      log prob        ||dx||      ||grad||       alpha      alpha0  # evals  Notes \n",
      "     101       2929.61   8.87367e-08       72.4529      0.3163           1      130   \n",
      "Optimization terminated normally: \n",
      "  Convergence detected: relative gradient magnitude is below tolerance\n"
     ]
    },
    {
     "name": "stderr",
     "output_type": "stream",
     "text": [
      "\r",
      " 43%|████▎     | 159/370 [03:03<04:03,  1.15s/it]"
     ]
    },
    {
     "name": "stdout",
     "output_type": "stream",
     "text": [
      "Initial log joint probability = -21.8714\n",
      "    Iter      log prob        ||dx||      ||grad||       alpha      alpha0  # evals  Notes \n",
      "      99       2483.98   3.02825e-08       65.2852      0.2223      0.2223      137   \n",
      "    Iter      log prob        ||dx||      ||grad||       alpha      alpha0  # evals  Notes \n",
      "     101       2483.98   1.01853e-07       69.0506      0.1942           1      140   \n",
      "Optimization terminated normally: \n",
      "  Convergence detected: relative gradient magnitude is below tolerance\n"
     ]
    },
    {
     "name": "stderr",
     "output_type": "stream",
     "text": [
      "\r",
      " 43%|████▎     | 160/370 [03:04<03:55,  1.12s/it]"
     ]
    },
    {
     "name": "stdout",
     "output_type": "stream",
     "text": [
      "Initial log joint probability = -19.0996\n",
      "    Iter      log prob        ||dx||      ||grad||       alpha      alpha0  # evals  Notes \n",
      "      99       2927.31     0.0012164       93.9118      0.9135      0.9135      134   \n",
      "    Iter      log prob        ||dx||      ||grad||       alpha      alpha0  # evals  Notes \n",
      "     194        2928.8   0.000228973       169.403   1.956e-06       0.001      322  LS failed, Hessian reset \n",
      "     199       2928.86   0.000313545       78.3754           1           1      327   \n",
      "    Iter      log prob        ||dx||      ||grad||       alpha      alpha0  # evals  Notes \n",
      "     264       2929.04   0.000139444       94.2033   1.645e-06       0.001      445  LS failed, Hessian reset \n",
      "     299       2929.05   4.22678e-06        94.362      0.6841      0.6841      491   \n",
      "    Iter      log prob        ||dx||      ||grad||       alpha      alpha0  # evals  Notes \n",
      "     342       2929.06   9.15662e-08       76.6868      0.2048      0.5811      542   \n",
      "Optimization terminated normally: \n",
      "  Convergence detected: relative gradient magnitude is below tolerance\n"
     ]
    },
    {
     "name": "stderr",
     "output_type": "stream",
     "text": [
      "\r",
      " 44%|████▎     | 161/370 [03:05<04:03,  1.17s/it]"
     ]
    },
    {
     "name": "stdout",
     "output_type": "stream",
     "text": [
      "Initial log joint probability = -33.1753\n",
      "    Iter      log prob        ||dx||      ||grad||       alpha      alpha0  # evals  Notes \n",
      "      52       1921.46   0.000589613       126.572   3.808e-06       0.001      101  LS failed, Hessian reset \n",
      "      99       1922.11     0.0030688       107.074      0.4779      0.4779      158   \n",
      "    Iter      log prob        ||dx||      ||grad||       alpha      alpha0  # evals  Notes \n",
      "     175       1924.31   0.000648069       113.229   5.897e-06       0.001      280  LS failed, Hessian reset \n",
      "     199       1924.62   0.000106048       66.9748           1           1      307   \n",
      "    Iter      log prob        ||dx||      ||grad||       alpha      alpha0  # evals  Notes \n",
      "     299       1924.69   1.95865e-06       92.4031           1           1      435   \n",
      "    Iter      log prob        ||dx||      ||grad||       alpha      alpha0  # evals  Notes \n",
      "     332       1924.71   8.41954e-05       87.4104   9.116e-07       0.001      534  LS failed, Hessian reset \n",
      "     389       1924.73   7.69657e-07       74.4328   8.978e-09       0.001      645  LS failed, Hessian reset \n",
      "     398       1924.73   5.16221e-08       67.5045       0.304           1      657   \n",
      "Optimization terminated normally: \n",
      "  Convergence detected: relative gradient magnitude is below tolerance\n"
     ]
    },
    {
     "name": "stderr",
     "output_type": "stream",
     "text": [
      "\r",
      " 44%|████▍     | 162/370 [03:06<04:13,  1.22s/it]"
     ]
    },
    {
     "name": "stdout",
     "output_type": "stream",
     "text": [
      "Initial log joint probability = -29.0454\n",
      "    Iter      log prob        ||dx||      ||grad||       alpha      alpha0  # evals  Notes \n",
      "      99       1991.55   0.000135838       97.9374      0.1703      0.1703      134   \n",
      "    Iter      log prob        ||dx||      ||grad||       alpha      alpha0  # evals  Notes \n",
      "     142       1991.59   5.58091e-08       89.3093      0.4082      0.4082      187   \n",
      "Optimization terminated normally: \n",
      "  Convergence detected: relative gradient magnitude is below tolerance\n"
     ]
    },
    {
     "name": "stderr",
     "output_type": "stream",
     "text": [
      "\r",
      " 44%|████▍     | 163/370 [03:08<04:02,  1.17s/it]"
     ]
    },
    {
     "name": "stdout",
     "output_type": "stream",
     "text": [
      "Initial log joint probability = -6.07366\n",
      "    Iter      log prob        ||dx||      ||grad||       alpha      alpha0  # evals  Notes \n",
      "      99       3435.93   0.000149713       191.408      0.0116           1      119   \n",
      "    Iter      log prob        ||dx||      ||grad||       alpha      alpha0  # evals  Notes \n",
      "     165       3436.23   0.000769967       163.277   5.156e-06       0.001      223  LS failed, Hessian reset \n",
      "     199       3436.28   4.42025e-06       81.9593      0.2974      0.7919      264   \n",
      "    Iter      log prob        ||dx||      ||grad||       alpha      alpha0  # evals  Notes \n",
      "     279       3436.29   1.34189e-07       85.1135      0.4077      0.4077      365   \n",
      "Optimization terminated normally: \n",
      "  Convergence detected: relative gradient magnitude is below tolerance\n"
     ]
    },
    {
     "name": "stderr",
     "output_type": "stream",
     "text": [
      "\r",
      " 44%|████▍     | 164/370 [03:09<04:10,  1.22s/it]"
     ]
    },
    {
     "name": "stdout",
     "output_type": "stream",
     "text": [
      "Initial log joint probability = -32.7825\n",
      "    Iter      log prob        ||dx||      ||grad||       alpha      alpha0  # evals  Notes \n",
      "      87       1653.28   8.07565e-06       86.2614   8.365e-08       0.001      164  LS failed, Hessian reset \n",
      "      99       1653.28    4.5198e-07       91.7421      0.2332           1      182   \n",
      "    Iter      log prob        ||dx||      ||grad||       alpha      alpha0  # evals  Notes \n",
      "     120       1653.28   1.32107e-07       64.1608       0.871       0.871      208   \n",
      "Optimization terminated normally: \n",
      "  Convergence detected: relative gradient magnitude is below tolerance\n"
     ]
    },
    {
     "name": "stderr",
     "output_type": "stream",
     "text": [
      "\r",
      " 45%|████▍     | 165/370 [03:10<04:01,  1.18s/it]"
     ]
    },
    {
     "name": "stdout",
     "output_type": "stream",
     "text": [
      "Initial log joint probability = -13.4228\n",
      "    Iter      log prob        ||dx||      ||grad||       alpha      alpha0  # evals  Notes \n",
      "      85       2267.48   1.14881e-07       96.9035           1           1      110   \n",
      "Optimization terminated normally: \n",
      "  Convergence detected: relative gradient magnitude is below tolerance\n"
     ]
    },
    {
     "name": "stderr",
     "output_type": "stream",
     "text": [
      "\r",
      " 45%|████▍     | 166/370 [03:11<03:51,  1.14s/it]"
     ]
    },
    {
     "name": "stdout",
     "output_type": "stream",
     "text": [
      "Initial log joint probability = -14.0642\n",
      "    Iter      log prob        ||dx||      ||grad||       alpha      alpha0  # evals  Notes \n",
      "      76       2276.93    5.1797e-06       87.9139   5.786e-08       0.001      135  LS failed, Hessian reset \n",
      "      97       2276.93   6.22349e-08       87.7814      0.2861      0.2861      160   \n",
      "Optimization terminated normally: \n",
      "  Convergence detected: relative gradient magnitude is below tolerance\n"
     ]
    },
    {
     "name": "stderr",
     "output_type": "stream",
     "text": [
      "\r",
      " 45%|████▌     | 167/370 [03:12<03:46,  1.11s/it]"
     ]
    },
    {
     "name": "stdout",
     "output_type": "stream",
     "text": [
      "Initial log joint probability = -11.1387\n",
      "    Iter      log prob        ||dx||      ||grad||       alpha      alpha0  # evals  Notes \n",
      "      99       2439.28    2.7748e-05       100.834           1           1      133   \n",
      "    Iter      log prob        ||dx||      ||grad||       alpha      alpha0  # evals  Notes \n",
      "     117       2439.29   1.95418e-05       88.0323   2.061e-07       0.001      182  LS failed, Hessian reset \n",
      "     142       2439.29   1.20411e-07       75.6331      0.4437           1      214   \n",
      "Optimization terminated normally: \n",
      "  Convergence detected: relative gradient magnitude is below tolerance\n"
     ]
    },
    {
     "name": "stderr",
     "output_type": "stream",
     "text": [
      "\r",
      " 45%|████▌     | 168/370 [03:13<03:52,  1.15s/it]"
     ]
    },
    {
     "name": "stdout",
     "output_type": "stream",
     "text": [
      "Initial log joint probability = -4.9172\n",
      "    Iter      log prob        ||dx||      ||grad||       alpha      alpha0  # evals  Notes \n",
      "      99       3321.46   6.87431e-07       68.9329      0.4955      0.4955      149   \n",
      "    Iter      log prob        ||dx||      ||grad||       alpha      alpha0  # evals  Notes \n",
      "     112       3321.46   6.21744e-06       71.4601     7.3e-08       0.001      211  LS failed, Hessian reset \n",
      "     125       3321.46   6.01503e-08       74.7504      0.2715           1      227   \n",
      "Optimization terminated normally: \n",
      "  Convergence detected: relative gradient magnitude is below tolerance\n"
     ]
    },
    {
     "name": "stderr",
     "output_type": "stream",
     "text": [
      "\r",
      " 46%|████▌     | 169/370 [03:14<03:47,  1.13s/it]"
     ]
    },
    {
     "name": "stdout",
     "output_type": "stream",
     "text": [
      "Initial log joint probability = -7.77951\n",
      "    Iter      log prob        ||dx||      ||grad||       alpha      alpha0  # evals  Notes \n",
      "      99       3235.93   0.000346483       157.828      0.2284      0.2284      127   \n",
      "    Iter      log prob        ||dx||      ||grad||       alpha      alpha0  # evals  Notes \n",
      "     199       3237.98   7.36322e-06         84.99      0.6158      0.6158      253   \n",
      "    Iter      log prob        ||dx||      ||grad||       alpha      alpha0  # evals  Notes \n",
      "     237       3237.99   1.99239e-05        95.811   2.287e-07       0.001      340  LS failed, Hessian reset \n",
      "     262       3237.99   1.56823e-07       81.5791      0.7435      0.7435      370   \n",
      "Optimization terminated normally: \n",
      "  Convergence detected: relative gradient magnitude is below tolerance\n"
     ]
    },
    {
     "name": "stderr",
     "output_type": "stream",
     "text": [
      "\r",
      " 46%|████▌     | 170/370 [03:16<03:49,  1.15s/it]"
     ]
    },
    {
     "name": "stdout",
     "output_type": "stream",
     "text": [
      "Initial log joint probability = -8.56729\n",
      "    Iter      log prob        ||dx||      ||grad||       alpha      alpha0  # evals  Notes \n",
      "      99       2681.48   6.62096e-05        77.427           1           1      128   \n",
      "    Iter      log prob        ||dx||      ||grad||       alpha      alpha0  # evals  Notes \n",
      "     141        2681.5    7.1774e-06       78.5919   1.045e-07       0.001      222  LS failed, Hessian reset \n",
      "     162        2681.5   6.37833e-08       71.9137      0.3672           1      252   \n",
      "Optimization terminated normally: \n",
      "  Convergence detected: relative gradient magnitude is below tolerance\n"
     ]
    },
    {
     "name": "stderr",
     "output_type": "stream",
     "text": [
      "\r",
      " 46%|████▌     | 171/370 [03:17<03:46,  1.14s/it]"
     ]
    },
    {
     "name": "stdout",
     "output_type": "stream",
     "text": [
      "Initial log joint probability = -6.67432\n",
      "    Iter      log prob        ||dx||      ||grad||       alpha      alpha0  # evals  Notes \n",
      "      58       3186.14   0.000245334       126.454    2.53e-06       0.001      100  LS failed, Hessian reset \n",
      "      99       3186.21     3.666e-05       85.8567      0.3143           1      156   \n",
      "    Iter      log prob        ||dx||      ||grad||       alpha      alpha0  # evals  Notes \n",
      "     199       3187.22    3.8442e-05       80.5458      0.3274      0.3274      279   \n",
      "    Iter      log prob        ||dx||      ||grad||       alpha      alpha0  # evals  Notes \n",
      "     266       3187.32   8.80298e-05       107.571    8.96e-07       0.001      417  LS failed, Hessian reset \n",
      "     299       3187.36   6.08942e-06       47.6963      0.5268      0.5268      457   \n",
      "    Iter      log prob        ||dx||      ||grad||       alpha      alpha0  # evals  Notes \n",
      "     399        3187.4   3.36257e-05       103.739      0.6161      0.6161      573   \n",
      "    Iter      log prob        ||dx||      ||grad||       alpha      alpha0  # evals  Notes \n",
      "     460        3187.4     5.792e-08       77.2174       0.295       0.295      641   \n",
      "Optimization terminated normally: \n",
      "  Convergence detected: relative gradient magnitude is below tolerance\n"
     ]
    },
    {
     "name": "stderr",
     "output_type": "stream",
     "text": [
      "\r",
      " 46%|████▋     | 172/370 [03:18<03:57,  1.20s/it]"
     ]
    },
    {
     "name": "stdout",
     "output_type": "stream",
     "text": [
      "Initial log joint probability = -25.434\n",
      "    Iter      log prob        ||dx||      ||grad||       alpha      alpha0  # evals  Notes \n",
      "      99       1821.16   9.14576e-05        93.111           1           1      121   \n",
      "    Iter      log prob        ||dx||      ||grad||       alpha      alpha0  # evals  Notes \n",
      "     199        1821.2   3.37096e-07       74.7658      0.5621      0.5621      252   \n",
      "    Iter      log prob        ||dx||      ||grad||       alpha      alpha0  # evals  Notes \n",
      "     233       1821.21   1.50277e-07       66.5745           1           1      297   \n",
      "Optimization terminated normally: \n",
      "  Convergence detected: relative gradient magnitude is below tolerance\n"
     ]
    },
    {
     "name": "stderr",
     "output_type": "stream",
     "text": [
      "\r",
      " 47%|████▋     | 173/370 [03:19<04:01,  1.22s/it]"
     ]
    },
    {
     "name": "stdout",
     "output_type": "stream",
     "text": [
      "Initial log joint probability = -23.3319\n",
      "    Iter      log prob        ||dx||      ||grad||       alpha      alpha0  # evals  Notes \n",
      "      99       1917.05   4.94452e-07       96.8206      0.2918           1      122   \n",
      "    Iter      log prob        ||dx||      ||grad||       alpha      alpha0  # evals  Notes \n",
      "     107       1917.05   3.66081e-08       100.903      0.3323           1      133   \n",
      "Optimization terminated normally: \n",
      "  Convergence detected: relative gradient magnitude is below tolerance\n"
     ]
    },
    {
     "name": "stderr",
     "output_type": "stream",
     "text": [
      "\r",
      " 47%|████▋     | 174/370 [03:20<03:49,  1.17s/it]"
     ]
    },
    {
     "name": "stdout",
     "output_type": "stream",
     "text": [
      "Initial log joint probability = -25.4827\n",
      "    Iter      log prob        ||dx||      ||grad||       alpha      alpha0  # evals  Notes \n",
      "      99       2013.82   2.79581e-06       94.8661           1           1      120   \n",
      "    Iter      log prob        ||dx||      ||grad||       alpha      alpha0  # evals  Notes \n",
      "     120       2013.83   2.31354e-05       102.804   2.236e-07       0.001      194  LS failed, Hessian reset \n",
      "     149       2013.83   3.02919e-08       87.3605      0.4328      0.4328      229   \n",
      "Optimization terminated normally: \n",
      "  Convergence detected: relative gradient magnitude is below tolerance\n"
     ]
    },
    {
     "name": "stderr",
     "output_type": "stream",
     "text": [
      "\r",
      " 47%|████▋     | 175/370 [03:21<03:43,  1.15s/it]"
     ]
    },
    {
     "name": "stdout",
     "output_type": "stream",
     "text": [
      "Initial log joint probability = -10.4481\n",
      "    Iter      log prob        ||dx||      ||grad||       alpha      alpha0  # evals  Notes \n",
      "      99       2483.75   5.17758e-07       61.5904      0.4156      0.4156      138   \n",
      "    Iter      log prob        ||dx||      ||grad||       alpha      alpha0  # evals  Notes \n",
      "     125       2483.75   7.31039e-05       79.3646   8.112e-07       0.001      201  LS failed, Hessian reset \n",
      "     159       2483.76   2.37876e-07       65.1607       2.394      0.5235      253   \n",
      "Optimization terminated normally: \n",
      "  Convergence detected: relative gradient magnitude is below tolerance\n"
     ]
    },
    {
     "name": "stderr",
     "output_type": "stream",
     "text": [
      "\r",
      " 48%|████▊     | 176/370 [03:23<03:40,  1.14s/it]"
     ]
    },
    {
     "name": "stdout",
     "output_type": "stream",
     "text": [
      "Initial log joint probability = -13.2221\n",
      "    Iter      log prob        ||dx||      ||grad||       alpha      alpha0  # evals  Notes \n",
      "      99       2415.47    0.00161612       238.388      0.5533      0.5533      124   \n",
      "    Iter      log prob        ||dx||      ||grad||       alpha      alpha0  # evals  Notes \n",
      "     175       2415.68   1.07208e-07       94.5608       1.534       0.579      227   \n",
      "Optimization terminated normally: \n",
      "  Convergence detected: relative gradient magnitude is below tolerance\n"
     ]
    },
    {
     "name": "stderr",
     "output_type": "stream",
     "text": [
      "\r",
      " 48%|████▊     | 177/370 [03:24<03:36,  1.12s/it]"
     ]
    },
    {
     "name": "stdout",
     "output_type": "stream",
     "text": [
      "Initial log joint probability = -15.3076\n",
      "    Iter      log prob        ||dx||      ||grad||       alpha      alpha0  # evals  Notes \n",
      "      99       2196.51   1.28361e-05       85.6415           1           1      127   \n",
      "    Iter      log prob        ||dx||      ||grad||       alpha      alpha0  # evals  Notes \n",
      "     133       2196.52   2.32896e-08       79.9367      0.1469      0.5598      174   \n",
      "Optimization terminated normally: \n",
      "  Convergence detected: relative gradient magnitude is below tolerance\n"
     ]
    },
    {
     "name": "stderr",
     "output_type": "stream",
     "text": [
      "\r",
      " 48%|████▊     | 178/370 [03:25<03:40,  1.15s/it]"
     ]
    },
    {
     "name": "stdout",
     "output_type": "stream",
     "text": [
      "Initial log joint probability = -38.9033\n",
      "    Iter      log prob        ||dx||      ||grad||       alpha      alpha0  # evals  Notes \n",
      "      99       1872.53   5.21788e-06       105.988           1           1      123   \n",
      "    Iter      log prob        ||dx||      ||grad||       alpha      alpha0  # evals  Notes \n",
      "     140       1872.58   0.000751368       139.454   7.998e-06       0.001      205  LS failed, Hessian reset \n",
      "     199       1872.62    2.8418e-06       103.664    0.004318           1      284   \n",
      "    Iter      log prob        ||dx||      ||grad||       alpha      alpha0  # evals  Notes \n",
      "     228       1872.62   6.37252e-08       89.4993      0.3351           1      323   \n",
      "Optimization terminated normally: \n",
      "  Convergence detected: relative gradient magnitude is below tolerance\n"
     ]
    },
    {
     "name": "stderr",
     "output_type": "stream",
     "text": [
      "\r",
      " 48%|████▊     | 179/370 [03:26<03:39,  1.15s/it]"
     ]
    },
    {
     "name": "stdout",
     "output_type": "stream",
     "text": [
      "Initial log joint probability = -12.1635\n",
      "    Iter      log prob        ||dx||      ||grad||       alpha      alpha0  # evals  Notes \n",
      "      88       2376.83   5.96669e-05       94.1642   6.224e-07       0.001      149  LS failed, Hessian reset \n",
      "      99       2376.84   5.76722e-06       109.518      0.3371      0.3371      161   \n",
      "    Iter      log prob        ||dx||      ||grad||       alpha      alpha0  # evals  Notes \n",
      "     131       2376.84   9.16209e-08       93.7064      0.3174           1      198   \n",
      "Optimization terminated normally: \n",
      "  Convergence detected: relative gradient magnitude is below tolerance\n"
     ]
    },
    {
     "name": "stderr",
     "output_type": "stream",
     "text": [
      "\r",
      " 49%|████▊     | 180/370 [03:27<03:34,  1.13s/it]"
     ]
    },
    {
     "name": "stdout",
     "output_type": "stream",
     "text": [
      "Initial log joint probability = -13.2641\n",
      "    Iter      log prob        ||dx||      ||grad||       alpha      alpha0  # evals  Notes \n",
      "      99       2876.44   0.000357937        101.49      0.5523      0.5523      134   \n",
      "    Iter      log prob        ||dx||      ||grad||       alpha      alpha0  # evals  Notes \n",
      "     119       2876.98   0.000173856       109.104   7.882e-07       0.001      194  LS failed, Hessian reset \n",
      "     173       2877.77    0.00210784       271.125   1.608e-05       0.001      295  LS failed, Hessian reset \n",
      "     199       2877.99   1.46964e-05        81.684           1           1      335   \n",
      "    Iter      log prob        ||dx||      ||grad||       alpha      alpha0  # evals  Notes \n",
      "     230       2878.03   0.000100411       69.1899   1.282e-06       0.001      408  LS failed, Hessian reset \n",
      "     282       2878.04   1.82578e-07       85.4072      0.8816      0.2736      480   \n",
      "Optimization terminated normally: \n",
      "  Convergence detected: relative gradient magnitude is below tolerance\n"
     ]
    },
    {
     "name": "stderr",
     "output_type": "stream",
     "text": [
      "\r",
      " 49%|████▉     | 181/370 [03:28<03:47,  1.20s/it]"
     ]
    },
    {
     "name": "stdout",
     "output_type": "stream",
     "text": [
      "Initial log joint probability = -8.30245\n",
      "    Iter      log prob        ||dx||      ||grad||       alpha      alpha0  # evals  Notes \n",
      "      99       2717.89   9.05341e-08       69.1495      0.3634           1      133   \n",
      "Optimization terminated normally: \n",
      "  Convergence detected: relative gradient magnitude is below tolerance\n"
     ]
    },
    {
     "name": "stderr",
     "output_type": "stream",
     "text": [
      "\r",
      " 49%|████▉     | 182/370 [03:29<03:37,  1.16s/it]"
     ]
    },
    {
     "name": "stdout",
     "output_type": "stream",
     "text": [
      "Initial log joint probability = -9.74241\n",
      "    Iter      log prob        ||dx||      ||grad||       alpha      alpha0  # evals  Notes \n",
      "      99       2778.59   1.48769e-05       68.4814      0.5104      0.5104      127   \n",
      "    Iter      log prob        ||dx||      ||grad||       alpha      alpha0  # evals  Notes \n",
      "     124        2778.6   5.78952e-05       76.5861   1.059e-06       0.001      195  LS failed, Hessian reset \n",
      "     199       2778.62   2.83019e-05        82.285       0.445       0.445      286   \n",
      "    Iter      log prob        ||dx||      ||grad||       alpha      alpha0  # evals  Notes \n",
      "     208       2778.62   1.80279e-05       93.6807   2.223e-07       0.001      348  LS failed, Hessian reset \n",
      "     267       2778.62   1.38875e-07       74.8981           1           1      428   \n",
      "Optimization terminated normally: \n",
      "  Convergence detected: relative gradient magnitude is below tolerance\n"
     ]
    },
    {
     "name": "stderr",
     "output_type": "stream",
     "text": [
      "\r",
      " 49%|████▉     | 183/370 [03:31<03:39,  1.17s/it]"
     ]
    },
    {
     "name": "stdout",
     "output_type": "stream",
     "text": [
      "Initial log joint probability = -10.4584\n",
      "    Iter      log prob        ||dx||      ||grad||       alpha      alpha0  # evals  Notes \n",
      "      99       2852.43    0.00447786       144.298           1           1      133   \n",
      "    Iter      log prob        ||dx||      ||grad||       alpha      alpha0  # evals  Notes \n",
      "     199       2853.44   2.77184e-07       97.9605      0.3272           1      257   \n",
      "    Iter      log prob        ||dx||      ||grad||       alpha      alpha0  # evals  Notes \n",
      "     204       2853.44   3.01496e-07       94.7295           1           1      262   \n",
      "Optimization terminated normally: \n",
      "  Convergence detected: relative gradient magnitude is below tolerance\n"
     ]
    },
    {
     "name": "stderr",
     "output_type": "stream",
     "text": [
      "\r",
      " 50%|████▉     | 184/370 [03:32<03:34,  1.15s/it]"
     ]
    },
    {
     "name": "stdout",
     "output_type": "stream",
     "text": [
      "Initial log joint probability = -6.95609\n",
      "    Iter      log prob        ||dx||      ||grad||       alpha      alpha0  # evals  Notes \n",
      "      72       2845.15   0.000210326        101.92   2.311e-06       0.001      125  LS failed, Hessian reset \n",
      "      99       2845.16   9.96536e-07       89.6238      0.8435      0.8435      159   \n",
      "    Iter      log prob        ||dx||      ||grad||       alpha      alpha0  # evals  Notes \n",
      "     106       2845.16   5.84993e-07       80.3478   6.379e-09       0.001      207  LS failed, Hessian reset \n",
      "     109       2845.16   1.88705e-07       71.0218      0.4476           1      211   \n",
      "Optimization terminated normally: \n",
      "  Convergence detected: relative gradient magnitude is below tolerance\n"
     ]
    },
    {
     "name": "stderr",
     "output_type": "stream",
     "text": [
      "\r",
      " 50%|█████     | 185/370 [03:33<03:29,  1.13s/it]"
     ]
    },
    {
     "name": "stdout",
     "output_type": "stream",
     "text": [
      "Initial log joint probability = -8.71081\n",
      "    Iter      log prob        ||dx||      ||grad||       alpha      alpha0  # evals  Notes \n",
      "      99       2802.76   7.71897e-07       84.8245           1           1      125   \n",
      "    Iter      log prob        ||dx||      ||grad||       alpha      alpha0  # evals  Notes \n",
      "     131       2802.76   1.18122e-07       74.2534      0.7462      0.7462      165   \n",
      "Optimization terminated normally: \n",
      "  Convergence detected: relative gradient magnitude is below tolerance\n"
     ]
    },
    {
     "name": "stderr",
     "output_type": "stream",
     "text": [
      "\r",
      " 50%|█████     | 186/370 [03:34<03:32,  1.15s/it]"
     ]
    },
    {
     "name": "stdout",
     "output_type": "stream",
     "text": [
      "Initial log joint probability = -4.93204\n",
      "    Iter      log prob        ||dx||      ||grad||       alpha      alpha0  # evals  Notes \n",
      "      99       3460.35   4.40246e-06       69.9346      0.2219           1      131   \n",
      "    Iter      log prob        ||dx||      ||grad||       alpha      alpha0  # evals  Notes \n",
      "     119       3460.35   2.22265e-07       68.2688           1           1      155   \n",
      "Optimization terminated normally: \n",
      "  Convergence detected: relative gradient magnitude is below tolerance\n"
     ]
    },
    {
     "name": "stderr",
     "output_type": "stream",
     "text": [
      "\r",
      " 51%|█████     | 187/370 [03:35<03:25,  1.12s/it]"
     ]
    },
    {
     "name": "stdout",
     "output_type": "stream",
     "text": [
      "Initial log joint probability = -9.09636\n",
      "    Iter      log prob        ||dx||      ||grad||       alpha      alpha0  # evals  Notes \n",
      "      99       3139.65    0.00114739       146.554           1           1      128   \n",
      "    Iter      log prob        ||dx||      ||grad||       alpha      alpha0  # evals  Notes \n",
      "     103       3139.76   0.000185459       183.608   1.318e-06       0.001      166  LS failed, Hessian reset \n",
      "     157       3140.13   0.000776444       192.809   5.565e-06       0.001      272  LS failed, Hessian reset \n",
      "     199        3140.2    5.5632e-08       64.6908      0.3557           1      333   \n",
      "Optimization terminated normally: \n",
      "  Convergence detected: relative gradient magnitude is below tolerance\n"
     ]
    },
    {
     "name": "stderr",
     "output_type": "stream",
     "text": [
      "\r",
      " 51%|█████     | 188/370 [03:36<03:26,  1.13s/it]"
     ]
    },
    {
     "name": "stdout",
     "output_type": "stream",
     "text": [
      "Initial log joint probability = -12.2479\n",
      "    Iter      log prob        ||dx||      ||grad||       alpha      alpha0  # evals  Notes \n",
      "      99       2694.35   0.000434785       151.663      0.5324      0.5324      138   \n",
      "    Iter      log prob        ||dx||      ||grad||       alpha      alpha0  # evals  Notes \n",
      "     196        2694.7   0.000286767       95.6191   3.014e-06       0.001      299  LS failed, Hessian reset \n",
      "     199       2694.72   0.000179574       80.9274      0.9858      0.9858      302   \n",
      "    Iter      log prob        ||dx||      ||grad||       alpha      alpha0  # evals  Notes \n",
      "     248       2694.74    2.2523e-07       77.7596       0.321           1      368   \n",
      "Optimization terminated normally: \n",
      "  Convergence detected: relative gradient magnitude is below tolerance\n"
     ]
    },
    {
     "name": "stderr",
     "output_type": "stream",
     "text": [
      "\r",
      " 51%|█████     | 189/370 [03:38<03:35,  1.19s/it]"
     ]
    },
    {
     "name": "stdout",
     "output_type": "stream",
     "text": [
      "Initial log joint probability = -23.0769\n",
      "    Iter      log prob        ||dx||      ||grad||       alpha      alpha0  # evals  Notes \n",
      "      99       2434.32    0.00722713       245.325      0.9661      0.9661      129   \n",
      "    Iter      log prob        ||dx||      ||grad||       alpha      alpha0  # evals  Notes \n",
      "     176       2435.13   0.000275527       105.687   3.174e-06       0.001      252  LS failed, Hessian reset \n",
      "     199       2435.15   1.45497e-06       77.4149      0.7456      0.7456      284   \n",
      "    Iter      log prob        ||dx||      ||grad||       alpha      alpha0  # evals  Notes \n",
      "     211       2435.15   9.38879e-08       81.1138      0.3843           1      300   \n",
      "Optimization terminated normally: \n",
      "  Convergence detected: relative gradient magnitude is below tolerance\n"
     ]
    },
    {
     "name": "stderr",
     "output_type": "stream",
     "text": [
      "\r",
      " 51%|█████▏    | 190/370 [03:39<03:31,  1.17s/it]"
     ]
    },
    {
     "name": "stdout",
     "output_type": "stream",
     "text": [
      "Initial log joint probability = -9.34877\n",
      "    Iter      log prob        ||dx||      ||grad||       alpha      alpha0  # evals  Notes \n",
      "      99       2886.41   3.56963e-05       63.7615           1           1      136   \n",
      "    Iter      log prob        ||dx||      ||grad||       alpha      alpha0  # evals  Notes \n",
      "     134       2886.42   4.15033e-08       63.8244     0.09647           1      190   \n",
      "Optimization terminated normally: \n",
      "  Convergence detected: relative gradient magnitude is below tolerance\n"
     ]
    },
    {
     "name": "stderr",
     "output_type": "stream",
     "text": [
      "\r",
      " 52%|█████▏    | 191/370 [03:40<03:24,  1.14s/it]"
     ]
    },
    {
     "name": "stdout",
     "output_type": "stream",
     "text": [
      "Initial log joint probability = -11.7182\n",
      "    Iter      log prob        ||dx||      ||grad||       alpha      alpha0  # evals  Notes \n",
      "      99        2483.8   1.10671e-05        100.43      0.2581           1      123   \n",
      "    Iter      log prob        ||dx||      ||grad||       alpha      alpha0  # evals  Notes \n",
      "     114       2483.81   6.10274e-05       94.3918   6.263e-07       0.001      179  LS failed, Hessian reset \n",
      "     150       2483.81   6.09401e-08       73.7973      0.5613      0.5613      228   \n",
      "Optimization terminated normally: \n",
      "  Convergence detected: relative gradient magnitude is below tolerance\n"
     ]
    },
    {
     "name": "stderr",
     "output_type": "stream",
     "text": [
      "\r",
      " 52%|█████▏    | 192/370 [03:41<03:20,  1.13s/it]"
     ]
    },
    {
     "name": "stdout",
     "output_type": "stream",
     "text": [
      "Initial log joint probability = -22.415\n",
      "    Iter      log prob        ||dx||      ||grad||       alpha      alpha0  # evals  Notes \n",
      "      99       1960.52   4.35713e-07       66.6945      0.3187      0.3187      132   \n",
      "    Iter      log prob        ||dx||      ||grad||       alpha      alpha0  # evals  Notes \n",
      "     158       1960.52   9.76899e-07       74.4211   1.249e-08       0.001      257  LS failed, Hessian reset \n",
      "     167       1960.52   3.21893e-08       73.2056      0.1695      0.1695      268   \n",
      "Optimization terminated normally: \n",
      "  Convergence detected: relative gradient magnitude is below tolerance\n"
     ]
    },
    {
     "name": "stderr",
     "output_type": "stream",
     "text": [
      "\r",
      " 52%|█████▏    | 193/370 [03:42<03:19,  1.13s/it]"
     ]
    },
    {
     "name": "stdout",
     "output_type": "stream",
     "text": [
      "Initial log joint probability = -13.88\n",
      "    Iter      log prob        ||dx||      ||grad||       alpha      alpha0  # evals  Notes \n",
      "      55       2242.23   4.06443e-06        117.47   3.827e-08       0.001      108  LS failed, Hessian reset \n",
      "      68       2242.23   5.00099e-08       85.9522      0.2824      0.2824      123   \n",
      "Optimization terminated normally: \n",
      "  Convergence detected: relative gradient magnitude is below tolerance\n"
     ]
    },
    {
     "name": "stderr",
     "output_type": "stream",
     "text": [
      "\r",
      " 52%|█████▏    | 194/370 [03:43<03:21,  1.14s/it]"
     ]
    },
    {
     "name": "stdout",
     "output_type": "stream",
     "text": [
      "Initial log joint probability = -9.32355\n",
      "    Iter      log prob        ||dx||      ||grad||       alpha      alpha0  # evals  Notes \n",
      "      99          2594   8.69682e-07       87.0271       0.301           1      124   \n",
      "    Iter      log prob        ||dx||      ||grad||       alpha      alpha0  # evals  Notes \n",
      "     158       2594.01   1.24203e-07       81.7016      0.2303           1      198   \n",
      "Optimization terminated normally: \n",
      "  Convergence detected: relative gradient magnitude is below tolerance\n"
     ]
    },
    {
     "name": "stderr",
     "output_type": "stream",
     "text": [
      "\r",
      " 53%|█████▎    | 195/370 [03:44<03:16,  1.13s/it]"
     ]
    },
    {
     "name": "stdout",
     "output_type": "stream",
     "text": [
      "Initial log joint probability = -8.92238\n",
      "    Iter      log prob        ||dx||      ||grad||       alpha      alpha0  # evals  Notes \n",
      "      99       2641.69   5.12138e-06       93.3496           1           1      126   \n",
      "    Iter      log prob        ||dx||      ||grad||       alpha      alpha0  # evals  Notes \n",
      "     111       2641.69   4.82965e-08       82.9583      0.2128      0.2128      141   \n",
      "Optimization terminated normally: \n",
      "  Convergence detected: relative gradient magnitude is below tolerance\n"
     ]
    },
    {
     "name": "stderr",
     "output_type": "stream",
     "text": [
      "\r",
      " 53%|█████▎    | 196/370 [03:45<03:11,  1.10s/it]"
     ]
    },
    {
     "name": "stdout",
     "output_type": "stream",
     "text": [
      "Initial log joint probability = -25.0969\n",
      "    Iter      log prob        ||dx||      ||grad||       alpha      alpha0  # evals  Notes \n",
      "      99       1828.78   1.20056e-05        75.269      0.9441      0.9441      135   \n",
      "    Iter      log prob        ||dx||      ||grad||       alpha      alpha0  # evals  Notes \n",
      "     159       1828.78   6.05146e-07       79.8469   7.503e-09       0.001      260  LS failed, Hessian reset \n",
      "     168       1828.78   8.91684e-08        60.308      0.6032      0.6032      271   \n",
      "Optimization terminated normally: \n",
      "  Convergence detected: relative gradient magnitude is below tolerance\n"
     ]
    },
    {
     "name": "stderr",
     "output_type": "stream",
     "text": [
      "\r",
      " 53%|█████▎    | 197/370 [03:46<03:11,  1.11s/it]"
     ]
    },
    {
     "name": "stdout",
     "output_type": "stream",
     "text": [
      "Initial log joint probability = -15.9307\n",
      "    Iter      log prob        ||dx||      ||grad||       alpha      alpha0  # evals  Notes \n",
      "      99       3066.84   0.000369998       69.1027      0.3224      0.3224      124   \n",
      "    Iter      log prob        ||dx||      ||grad||       alpha      alpha0  # evals  Notes \n",
      "     199       3068.44   1.32709e-06       92.2606       0.446       0.446      243   \n",
      "    Iter      log prob        ||dx||      ||grad||       alpha      alpha0  # evals  Notes \n",
      "     252       3068.45   1.01186e-07        77.998      0.1616      0.1616      316   \n",
      "Optimization terminated normally: \n",
      "  Convergence detected: relative gradient magnitude is below tolerance\n"
     ]
    },
    {
     "name": "stderr",
     "output_type": "stream",
     "text": [
      "\r",
      " 54%|█████▎    | 198/370 [03:48<03:20,  1.17s/it]"
     ]
    },
    {
     "name": "stdout",
     "output_type": "stream",
     "text": [
      "Initial log joint probability = -60.1671\n",
      "    Iter      log prob        ||dx||      ||grad||       alpha      alpha0  # evals  Notes \n",
      "      99          1753    0.00691512       123.948      0.6623      0.6623      115   \n",
      "    Iter      log prob        ||dx||      ||grad||       alpha      alpha0  # evals  Notes \n",
      "     161       1754.01   0.000750475       87.4354   7.795e-06       0.001      223  LS failed, Hessian reset \n",
      "     199       1754.04   1.79108e-05        82.423      0.9222      0.9222      274   \n",
      "    Iter      log prob        ||dx||      ||grad||       alpha      alpha0  # evals  Notes \n",
      "     276       1754.04   9.11683e-08       95.2067      0.2336      0.2336      378   \n",
      "Optimization terminated normally: \n",
      "  Convergence detected: relative gradient magnitude is below tolerance\n"
     ]
    },
    {
     "name": "stderr",
     "output_type": "stream",
     "text": [
      "\r",
      " 54%|█████▍    | 199/370 [03:49<03:21,  1.18s/it]"
     ]
    },
    {
     "name": "stdout",
     "output_type": "stream",
     "text": [
      "Initial log joint probability = -17.1765\n",
      "    Iter      log prob        ||dx||      ||grad||       alpha      alpha0  # evals  Notes \n",
      "      99       2275.09   4.07589e-07       96.8146      0.2914           1      131   \n",
      "    Iter      log prob        ||dx||      ||grad||       alpha      alpha0  # evals  Notes \n",
      "     110       2275.09   1.94103e-07       87.0719           1           1      145   \n",
      "Optimization terminated normally: \n",
      "  Convergence detected: relative gradient magnitude is below tolerance\n"
     ]
    },
    {
     "name": "stderr",
     "output_type": "stream",
     "text": [
      "\r",
      " 54%|█████▍    | 200/370 [03:50<03:15,  1.15s/it]"
     ]
    },
    {
     "name": "stdout",
     "output_type": "stream",
     "text": [
      "Initial log joint probability = -9.98298\n",
      "    Iter      log prob        ||dx||      ||grad||       alpha      alpha0  # evals  Notes \n",
      "      99       2703.89   0.000678624       60.9235      0.4031           1      125   \n",
      "    Iter      log prob        ||dx||      ||grad||       alpha      alpha0  # evals  Notes \n",
      "     171       2703.96    5.3243e-05       64.8557   8.342e-07       0.001      258  LS failed, Hessian reset \n",
      "     199       2703.96   8.09495e-06       64.9761           1           1      297   \n",
      "    Iter      log prob        ||dx||      ||grad||       alpha      alpha0  # evals  Notes \n",
      "     210       2703.97   2.29713e-06       73.3091   3.201e-08       0.001      368  LS failed, Hessian reset \n",
      "     222       2703.97   2.25469e-07       55.1151           1           1      384   \n",
      "Optimization terminated normally: \n",
      "  Convergence detected: relative gradient magnitude is below tolerance\n"
     ]
    },
    {
     "name": "stderr",
     "output_type": "stream",
     "text": [
      "\r",
      " 54%|█████▍    | 201/370 [03:51<03:15,  1.16s/it]"
     ]
    },
    {
     "name": "stdout",
     "output_type": "stream",
     "text": [
      "Initial log joint probability = -29.0815\n",
      "    Iter      log prob        ||dx||      ||grad||       alpha      alpha0  # evals  Notes \n",
      "      99       1718.08   2.40846e-05       85.0514        0.82        0.82      118   \n",
      "    Iter      log prob        ||dx||      ||grad||       alpha      alpha0  # evals  Notes \n",
      "     141       1718.08   8.34228e-08       65.6866      0.9429      0.9429      171   \n",
      "Optimization terminated normally: \n",
      "  Convergence detected: relative gradient magnitude is below tolerance\n"
     ]
    },
    {
     "name": "stderr",
     "output_type": "stream",
     "text": [
      "\r",
      " 55%|█████▍    | 202/370 [03:52<03:10,  1.13s/it]"
     ]
    },
    {
     "name": "stdout",
     "output_type": "stream",
     "text": [
      "Initial log joint probability = -24.579\n",
      "    Iter      log prob        ||dx||      ||grad||       alpha      alpha0  # evals  Notes \n",
      "      99       2446.17   9.50099e-05       78.6229     0.07127           1      130   \n",
      "    Iter      log prob        ||dx||      ||grad||       alpha      alpha0  # evals  Notes \n",
      "     159       2446.68   8.58458e-05       73.7447   1.017e-06       0.001      252  LS failed, Hessian reset \n",
      "     199       2446.69   1.08643e-06       69.7922      0.3124      0.8539      304   \n",
      "    Iter      log prob        ||dx||      ||grad||       alpha      alpha0  # evals  Notes \n",
      "     236       2446.69    1.5973e-05       71.3447   1.573e-07       0.001      401  LS failed, Hessian reset \n",
      "     249       2446.69   1.11061e-07        64.418      0.4105      0.4105      417   \n",
      "Optimization terminated normally: \n",
      "  Convergence detected: relative gradient magnitude is below tolerance\n"
     ]
    },
    {
     "name": "stderr",
     "output_type": "stream",
     "text": [
      "\r",
      " 55%|█████▍    | 203/370 [03:54<03:19,  1.20s/it]"
     ]
    },
    {
     "name": "stdout",
     "output_type": "stream",
     "text": [
      "Initial log joint probability = -6.97668\n",
      "    Iter      log prob        ||dx||      ||grad||       alpha      alpha0  # evals  Notes \n",
      "      98       2861.02   1.52528e-06       77.7393   1.725e-08       0.001      162  LS failed, Hessian reset \n",
      "      99       2861.02   9.22188e-07       71.9771           1           1      163   \n",
      "    Iter      log prob        ||dx||      ||grad||       alpha      alpha0  # evals  Notes \n",
      "     108       2861.02   2.01908e-07       72.0627           1           1      175   \n",
      "Optimization terminated normally: \n",
      "  Convergence detected: relative gradient magnitude is below tolerance\n"
     ]
    },
    {
     "name": "stderr",
     "output_type": "stream",
     "text": [
      "\r",
      " 55%|█████▌    | 204/370 [03:55<03:12,  1.16s/it]"
     ]
    },
    {
     "name": "stdout",
     "output_type": "stream",
     "text": [
      "Initial log joint probability = -21.2847\n",
      "    Iter      log prob        ||dx||      ||grad||       alpha      alpha0  # evals  Notes \n",
      "      76       2063.73   0.000266034        112.98   2.835e-06       0.001      139  LS failed, Hessian reset \n",
      "      99       2063.74    5.0778e-07       107.001      0.2588           1      169   \n",
      "    Iter      log prob        ||dx||      ||grad||       alpha      alpha0  # evals  Notes \n",
      "     110       2063.74   4.10138e-08       85.2122      0.3171      0.3171      182   \n",
      "Optimization terminated normally: \n",
      "  Convergence detected: relative gradient magnitude is below tolerance\n"
     ]
    },
    {
     "name": "stderr",
     "output_type": "stream",
     "text": [
      "\r",
      " 55%|█████▌    | 205/370 [03:56<03:07,  1.13s/it]"
     ]
    },
    {
     "name": "stdout",
     "output_type": "stream",
     "text": [
      "Initial log joint probability = -5.95588\n",
      "    Iter      log prob        ||dx||      ||grad||       alpha      alpha0  # evals  Notes \n",
      "      83       3023.95   9.26237e-05       64.0893   1.235e-06       0.001      155  LS failed, Hessian reset \n",
      "      99       3023.96   3.10223e-05       80.7884      0.9598      0.9598      173   \n",
      "    Iter      log prob        ||dx||      ||grad||       alpha      alpha0  # evals  Notes \n",
      "     132       3023.96   1.40507e-07       74.9902      0.1993           1      220   \n",
      "Optimization terminated normally: \n",
      "  Convergence detected: relative gradient magnitude is below tolerance\n"
     ]
    },
    {
     "name": "stderr",
     "output_type": "stream",
     "text": [
      "\r",
      " 56%|█████▌    | 206/370 [03:57<03:03,  1.12s/it]"
     ]
    },
    {
     "name": "stdout",
     "output_type": "stream",
     "text": [
      "Initial log joint probability = -25.8367\n",
      "    Iter      log prob        ||dx||      ||grad||       alpha      alpha0  # evals  Notes \n",
      "      99        1834.2    9.2084e-05       66.9897           1           1      138   \n",
      "    Iter      log prob        ||dx||      ||grad||       alpha      alpha0  # evals  Notes \n",
      "     170       1834.28   9.48816e-08       66.2042      0.5638      0.5638      240   \n",
      "Optimization terminated normally: \n",
      "  Convergence detected: relative gradient magnitude is below tolerance\n"
     ]
    },
    {
     "name": "stderr",
     "output_type": "stream",
     "text": [
      "\r",
      " 56%|█████▌    | 207/370 [03:58<03:09,  1.16s/it]"
     ]
    },
    {
     "name": "stdout",
     "output_type": "stream",
     "text": [
      "Initial log joint probability = -19.491\n",
      "    Iter      log prob        ||dx||      ||grad||       alpha      alpha0  # evals  Notes \n",
      "      99       2244.37   0.000889108       100.819      0.1698           1      136   \n",
      "    Iter      log prob        ||dx||      ||grad||       alpha      alpha0  # evals  Notes \n",
      "     154       2244.61   0.000217445       79.5285   2.429e-06       0.001      249  LS failed, Hessian reset \n",
      "     199       2244.63   1.69476e-06       79.4316      0.2173      0.2173      313   \n",
      "    Iter      log prob        ||dx||      ||grad||       alpha      alpha0  # evals  Notes \n",
      "     215       2244.63   9.28093e-08       82.3857      0.2429           1      337   \n",
      "Optimization terminated normally: \n",
      "  Convergence detected: relative gradient magnitude is below tolerance\n"
     ]
    },
    {
     "name": "stderr",
     "output_type": "stream",
     "text": [
      "\r",
      " 56%|█████▌    | 208/370 [03:59<03:07,  1.16s/it]"
     ]
    },
    {
     "name": "stdout",
     "output_type": "stream",
     "text": [
      "Initial log joint probability = -8.52974\n",
      "    Iter      log prob        ||dx||      ||grad||       alpha      alpha0  # evals  Notes \n",
      "      79       2869.93   2.62913e-07       73.2437      0.2596           1      109   \n",
      "Optimization terminated normally: \n",
      "  Convergence detected: relative gradient magnitude is below tolerance\n"
     ]
    },
    {
     "name": "stderr",
     "output_type": "stream",
     "text": [
      "\r",
      " 56%|█████▋    | 209/370 [04:00<03:00,  1.12s/it]"
     ]
    },
    {
     "name": "stdout",
     "output_type": "stream",
     "text": [
      "Initial log joint probability = -10.378\n",
      "    Iter      log prob        ||dx||      ||grad||       alpha      alpha0  # evals  Notes \n",
      "      99        2557.6   4.23808e-05       77.7809      0.3384      0.3384      121   \n",
      "    Iter      log prob        ||dx||      ||grad||       alpha      alpha0  # evals  Notes \n",
      "     117       2557.72   0.000353659       171.867   3.092e-06       0.001      174  LS failed, Hessian reset \n",
      "     199       2557.78   5.57985e-07       67.1503      0.7173      0.7173      268   \n",
      "    Iter      log prob        ||dx||      ||grad||       alpha      alpha0  # evals  Notes \n",
      "     286       2557.85   1.42179e-05       57.5988   2.253e-07       0.001      423  LS failed, Hessian reset \n",
      "     299       2557.86   4.48278e-05       72.0761           1           1      437   \n",
      "    Iter      log prob        ||dx||      ||grad||       alpha      alpha0  # evals  Notes \n",
      "     378       2557.88   6.92965e-08       90.5931      0.4478           1      540   \n",
      "Optimization terminated normally: \n",
      "  Convergence detected: relative gradient magnitude is below tolerance\n"
     ]
    },
    {
     "name": "stderr",
     "output_type": "stream",
     "text": [
      "\r",
      " 57%|█████▋    | 210/370 [04:02<03:06,  1.17s/it]"
     ]
    },
    {
     "name": "stdout",
     "output_type": "stream",
     "text": [
      "Initial log joint probability = -9.25332\n",
      "    Iter      log prob        ||dx||      ||grad||       alpha      alpha0  # evals  Notes \n",
      "      99       2659.92   2.91525e-05        81.018           1           1      132   \n",
      "    Iter      log prob        ||dx||      ||grad||       alpha      alpha0  # evals  Notes \n",
      "     117       2659.94   0.000122794       73.5436   1.552e-06       0.001      190  LS failed, Hessian reset \n",
      "     173       2659.95   6.89693e-08       85.8556      0.1814           1      261   \n",
      "Optimization terminated normally: \n",
      "  Convergence detected: relative gradient magnitude is below tolerance\n"
     ]
    },
    {
     "name": "stderr",
     "output_type": "stream",
     "text": [
      "\r",
      " 57%|█████▋    | 211/370 [04:03<03:02,  1.15s/it]"
     ]
    },
    {
     "name": "stdout",
     "output_type": "stream",
     "text": [
      "Initial log joint probability = -24.0977\n",
      "    Iter      log prob        ||dx||      ||grad||       alpha      alpha0  # evals  Notes \n",
      "      99        1847.4   4.62021e-05       96.2528           1           1      125   \n",
      "    Iter      log prob        ||dx||      ||grad||       alpha      alpha0  # evals  Notes \n",
      "     108       1847.43   0.000175793       99.4241   1.712e-06       0.001      174  LS failed, Hessian reset \n",
      "     159       1847.44   1.30605e-07       77.0613      0.9925      0.9925      237   \n",
      "Optimization terminated normally: \n",
      "  Convergence detected: relative gradient magnitude is below tolerance\n"
     ]
    },
    {
     "name": "stderr",
     "output_type": "stream",
     "text": [
      "\r",
      " 57%|█████▋    | 212/370 [04:04<03:06,  1.18s/it]"
     ]
    },
    {
     "name": "stdout",
     "output_type": "stream",
     "text": [
      "Initial log joint probability = -12.4509\n",
      "    Iter      log prob        ||dx||      ||grad||       alpha      alpha0  # evals  Notes \n",
      "      99       548.141    1.0242e-05       95.0239      0.3824           1      123   \n",
      "    Iter      log prob        ||dx||      ||grad||       alpha      alpha0  # evals  Notes \n",
      "     180       548.144    6.0604e-08       93.0454      0.3259       0.943      229   \n",
      "Optimization terminated normally: \n",
      "  Convergence detected: relative gradient magnitude is below tolerance\n"
     ]
    },
    {
     "name": "stderr",
     "output_type": "stream",
     "text": [
      "\r",
      " 58%|█████▊    | 213/370 [04:05<02:56,  1.13s/it]"
     ]
    },
    {
     "name": "stdout",
     "output_type": "stream",
     "text": [
      "Initial log joint probability = -11.8125\n",
      "    Iter      log prob        ||dx||      ||grad||       alpha      alpha0  # evals  Notes \n",
      "      99       2681.05    0.00187698       92.2875           1           1      130   \n",
      "    Iter      log prob        ||dx||      ||grad||       alpha      alpha0  # evals  Notes \n",
      "     105       2681.23   0.000197825       110.769   1.455e-06       0.001      176  LS failed, Hessian reset \n",
      "     153       2681.63     0.0010925       97.9542   1.048e-05       0.001      274  LS failed, Hessian reset \n",
      "     189       2681.68   9.27039e-05       81.3059   9.984e-07       0.001      364  LS failed, Hessian reset \n",
      "     199       2681.69    9.4275e-06       72.1643           1           1      381   \n",
      "    Iter      log prob        ||dx||      ||grad||       alpha      alpha0  # evals  Notes \n",
      "     221       2681.69   6.53886e-08       81.3037       0.234           1      412   \n",
      "Optimization terminated normally: \n",
      "  Convergence detected: relative gradient magnitude is below tolerance\n"
     ]
    },
    {
     "name": "stderr",
     "output_type": "stream",
     "text": [
      "\r",
      " 58%|█████▊    | 214/370 [04:06<02:59,  1.15s/it]"
     ]
    },
    {
     "name": "stdout",
     "output_type": "stream",
     "text": [
      "Initial log joint probability = -7.62004\n",
      "    Iter      log prob        ||dx||      ||grad||       alpha      alpha0  # evals  Notes \n",
      "      70       3037.04   0.000146045       146.803   1.379e-06       0.001      129  LS failed, Hessian reset \n",
      "      99       3037.13   3.92352e-05       96.4355           1           1      163   \n",
      "    Iter      log prob        ||dx||      ||grad||       alpha      alpha0  # evals  Notes \n",
      "     199       3038.55   0.000137509       88.7584           1           1      283   \n",
      "    Iter      log prob        ||dx||      ||grad||       alpha      alpha0  # evals  Notes \n",
      "     239       3038.56    1.4258e-07        95.812      0.3807           1      335   \n",
      "Optimization terminated normally: \n",
      "  Convergence detected: relative gradient magnitude is below tolerance\n"
     ]
    },
    {
     "name": "stderr",
     "output_type": "stream",
     "text": [
      "\r",
      " 58%|█████▊    | 215/370 [04:07<02:58,  1.15s/it]"
     ]
    },
    {
     "name": "stdout",
     "output_type": "stream",
     "text": [
      "Initial log joint probability = -10.7993\n",
      "    Iter      log prob        ||dx||      ||grad||       alpha      alpha0  # evals  Notes \n",
      "      99       2466.22   1.26273e-05       93.1615      0.5652      0.5652      125   \n",
      "    Iter      log prob        ||dx||      ||grad||       alpha      alpha0  # evals  Notes \n",
      "     112       2466.23   2.25442e-05       94.5582   2.234e-07       0.001      169  LS failed, Hessian reset \n",
      "     141       2466.23   8.14355e-08       80.1282      0.7326      0.7326      208   \n",
      "Optimization terminated normally: \n",
      "  Convergence detected: relative gradient magnitude is below tolerance\n"
     ]
    },
    {
     "name": "stderr",
     "output_type": "stream",
     "text": [
      "\r",
      " 58%|█████▊    | 216/370 [04:09<03:00,  1.17s/it]"
     ]
    },
    {
     "name": "stdout",
     "output_type": "stream",
     "text": [
      "Initial log joint probability = -9.88908\n",
      "    Iter      log prob        ||dx||      ||grad||       alpha      alpha0  # evals  Notes \n",
      "      99       2638.64    0.00068822       94.8527      0.5866      0.5866      124   \n",
      "    Iter      log prob        ||dx||      ||grad||       alpha      alpha0  # evals  Notes \n",
      "     136       2638.79   0.000145806       63.3813   2.146e-06       0.001      205  LS failed, Hessian reset \n",
      "     199       2638.82   6.74401e-06       85.6365      0.2455      0.9824      288   \n",
      "    Iter      log prob        ||dx||      ||grad||       alpha      alpha0  # evals  Notes \n",
      "     212       2638.82   2.75656e-06       76.1943   2.873e-08       0.001      359  LS failed, Hessian reset \n",
      "     235       2638.82   3.78697e-06       82.7083   4.211e-08       0.001      431  LS failed, Hessian reset \n",
      "     249       2638.82   9.93064e-08        84.381      0.3735           1      451   \n",
      "Optimization terminated normally: \n",
      "  Convergence detected: relative gradient magnitude is below tolerance\n"
     ]
    },
    {
     "name": "stderr",
     "output_type": "stream",
     "text": [
      "\r",
      " 59%|█████▊    | 217/370 [04:10<03:01,  1.19s/it]"
     ]
    },
    {
     "name": "stdout",
     "output_type": "stream",
     "text": [
      "Initial log joint probability = -21.0216\n",
      "    Iter      log prob        ||dx||      ||grad||       alpha      alpha0  # evals  Notes \n",
      "      99       2149.14   7.29682e-05       83.3403           1           1      128   \n",
      "    Iter      log prob        ||dx||      ||grad||       alpha      alpha0  # evals  Notes \n",
      "     134       2149.15   2.91604e-08       79.9408      0.1613      0.4656      178   \n",
      "Optimization terminated normally: \n",
      "  Convergence detected: relative gradient magnitude is below tolerance\n"
     ]
    },
    {
     "name": "stderr",
     "output_type": "stream",
     "text": [
      "\r",
      " 59%|█████▉    | 218/370 [04:11<02:54,  1.15s/it]"
     ]
    },
    {
     "name": "stdout",
     "output_type": "stream",
     "text": [
      "Initial log joint probability = -33.1498\n",
      "    Iter      log prob        ||dx||      ||grad||       alpha      alpha0  # evals  Notes \n",
      "      99        1668.5   1.79061e-05       79.5402           1           1      130   \n",
      "    Iter      log prob        ||dx||      ||grad||       alpha      alpha0  # evals  Notes \n",
      "     148       1668.55   0.000253323       92.0939   2.656e-06       0.001      227  LS failed, Hessian reset \n",
      "     186       1668.56   6.84175e-08         63.84      0.1819           1      282   \n",
      "Optimization terminated normally: \n",
      "  Convergence detected: relative gradient magnitude is below tolerance\n"
     ]
    },
    {
     "name": "stderr",
     "output_type": "stream",
     "text": [
      "\r",
      " 59%|█████▉    | 219/370 [04:12<02:52,  1.14s/it]"
     ]
    },
    {
     "name": "stdout",
     "output_type": "stream",
     "text": [
      "Initial log joint probability = -29.4851\n",
      "    Iter      log prob        ||dx||      ||grad||       alpha      alpha0  # evals  Notes \n",
      "      99       1764.01   4.08642e-06       93.2573       0.952       0.952      125   \n",
      "    Iter      log prob        ||dx||      ||grad||       alpha      alpha0  # evals  Notes \n",
      "     165       1764.04   6.75023e-08       76.1498      0.7771      0.7771      212   \n",
      "Optimization terminated normally: \n",
      "  Convergence detected: relative gradient magnitude is below tolerance\n"
     ]
    },
    {
     "name": "stderr",
     "output_type": "stream",
     "text": [
      "\r",
      " 59%|█████▉    | 220/370 [04:13<02:49,  1.13s/it]"
     ]
    },
    {
     "name": "stdout",
     "output_type": "stream",
     "text": [
      "Initial log joint probability = -16.0233\n",
      "    Iter      log prob        ||dx||      ||grad||       alpha      alpha0  # evals  Notes \n",
      "      99       2264.64   0.000472253       66.9814           1           1      127   \n",
      "    Iter      log prob        ||dx||      ||grad||       alpha      alpha0  # evals  Notes \n",
      "     110       2264.77    0.00101988       98.2833   1.125e-05       0.001      183  LS failed, Hessian reset \n",
      "     134       2264.82   0.000152159       94.6485   1.802e-06       0.001      247  LS failed, Hessian reset \n",
      "     199       2264.84   2.80519e-05       78.2702           1           1      325   \n",
      "    Iter      log prob        ||dx||      ||grad||       alpha      alpha0  # evals  Notes \n",
      "     215       2264.84   2.30668e-06       76.7437           1           1      345   \n",
      "Optimization terminated normally: \n",
      "  Convergence detected: relative gradient magnitude is below tolerance\n"
     ]
    },
    {
     "name": "stderr",
     "output_type": "stream",
     "text": [
      "\r",
      " 60%|█████▉    | 221/370 [04:14<02:55,  1.18s/it]"
     ]
    },
    {
     "name": "stdout",
     "output_type": "stream",
     "text": [
      "Initial log joint probability = -5.86665\n",
      "    Iter      log prob        ||dx||      ||grad||       alpha      alpha0  # evals  Notes \n",
      "      97       3089.49   1.23189e-07       80.2861      0.7725      0.7725      128   \n",
      "Optimization terminated normally: \n",
      "  Convergence detected: relative gradient magnitude is below tolerance\n"
     ]
    },
    {
     "name": "stderr",
     "output_type": "stream",
     "text": [
      "\r",
      " 60%|██████    | 222/370 [04:15<02:48,  1.14s/it]"
     ]
    },
    {
     "name": "stdout",
     "output_type": "stream",
     "text": [
      "Initial log joint probability = -36.2448\n",
      "    Iter      log prob        ||dx||      ||grad||       alpha      alpha0  # evals  Notes \n",
      "      99       1588.86   4.40307e-06       96.1658           1           1      126   \n",
      "    Iter      log prob        ||dx||      ||grad||       alpha      alpha0  # evals  Notes \n",
      "     118       1588.86   2.43176e-08       87.7474      0.3104      0.3104      153   \n",
      "Optimization terminated normally: \n",
      "  Convergence detected: relative gradient magnitude is below tolerance\n"
     ]
    },
    {
     "name": "stderr",
     "output_type": "stream",
     "text": [
      "\r",
      " 60%|██████    | 223/370 [04:16<02:43,  1.11s/it]"
     ]
    },
    {
     "name": "stdout",
     "output_type": "stream",
     "text": [
      "Initial log joint probability = -13.8424\n",
      "    Iter      log prob        ||dx||      ||grad||       alpha      alpha0  # evals  Notes \n",
      "      97       1051.45   1.24684e-05       70.8672   1.972e-07       0.001      171  LS failed, Hessian reset \n",
      "      99       1051.45   1.14902e-05       49.9183      0.3578           1      174   \n",
      "    Iter      log prob        ||dx||      ||grad||       alpha      alpha0  # evals  Notes \n",
      "     126       1051.45   1.78262e-05       60.9316   1.978e-07       0.001      250  LS failed, Hessian reset \n",
      "     143       1051.45   5.58731e-08       62.2952      0.2335           1      273   \n",
      "Optimization terminated normally: \n",
      "  Convergence detected: relative gradient magnitude is below tolerance\n"
     ]
    },
    {
     "name": "stderr",
     "output_type": "stream",
     "text": [
      "\r",
      " 61%|██████    | 224/370 [04:17<02:39,  1.09s/it]"
     ]
    },
    {
     "name": "stdout",
     "output_type": "stream",
     "text": [
      "Initial log joint probability = -30.938\n",
      "    Iter      log prob        ||dx||      ||grad||       alpha      alpha0  # evals  Notes \n",
      "      98       2418.14   0.000670547       200.933   5.686e-06       0.001      168  LS failed, Hessian reset \n",
      "      99       2418.17   0.000520177       132.662           1           1      169   \n",
      "    Iter      log prob        ||dx||      ||grad||       alpha      alpha0  # evals  Notes \n",
      "     144       2419.35     0.0004842        182.79   2.909e-06       0.001      263  LS failed, Hessian reset \n",
      "     193       2420.37     0.0013607       105.059   1.603e-05       0.001      359  LS failed, Hessian reset \n",
      "     199       2420.41   9.18071e-05       85.1291      0.4703      0.4703      366   \n",
      "    Iter      log prob        ||dx||      ||grad||       alpha      alpha0  # evals  Notes \n",
      "     292       2420.47   2.25123e-05       91.2603   2.214e-07       0.001      529  LS failed, Hessian reset \n",
      "     299       2420.47   9.86145e-07       74.5554      0.2357           1      538   \n",
      "    Iter      log prob        ||dx||      ||grad||       alpha      alpha0  # evals  Notes \n",
      "     317       2420.47   1.60731e-07       84.3555      0.7748      0.2651      564   \n",
      "Optimization terminated normally: \n",
      "  Convergence detected: relative gradient magnitude is below tolerance\n"
     ]
    },
    {
     "name": "stderr",
     "output_type": "stream",
     "text": [
      "\r",
      " 61%|██████    | 225/370 [04:19<02:47,  1.15s/it]"
     ]
    },
    {
     "name": "stdout",
     "output_type": "stream",
     "text": [
      "Initial log joint probability = -21.6519\n",
      "    Iter      log prob        ||dx||      ||grad||       alpha      alpha0  # evals  Notes \n",
      "      99        1892.6   3.06986e-06       102.703      0.5395      0.5395      130   \n",
      "    Iter      log prob        ||dx||      ||grad||       alpha      alpha0  # evals  Notes \n",
      "     120       1892.61    8.0406e-05       103.872   7.072e-07       0.001      197  LS failed, Hessian reset \n",
      "     148       1892.62    4.5009e-08        99.694      0.3826      0.3826      233   \n",
      "Optimization terminated normally: \n",
      "  Convergence detected: relative gradient magnitude is below tolerance\n"
     ]
    },
    {
     "name": "stderr",
     "output_type": "stream",
     "text": [
      "\r",
      " 61%|██████    | 226/370 [04:20<02:53,  1.21s/it]"
     ]
    },
    {
     "name": "stdout",
     "output_type": "stream",
     "text": [
      "Initial log joint probability = -9.47105\n",
      "    Iter      log prob        ||dx||      ||grad||       alpha      alpha0  # evals  Notes \n",
      "      84          2580   0.000258917       94.2794   2.569e-06       0.001      150  LS failed, Hessian reset \n",
      "      99       2580.01   1.79029e-05       92.3378      0.7752      0.7752      167   \n",
      "    Iter      log prob        ||dx||      ||grad||       alpha      alpha0  # evals  Notes \n",
      "     158       2580.05   6.78136e-08       79.3719      0.5091      0.5091      246   \n",
      "Optimization terminated normally: \n",
      "  Convergence detected: relative gradient magnitude is below tolerance\n"
     ]
    },
    {
     "name": "stderr",
     "output_type": "stream",
     "text": [
      "\r",
      " 61%|██████▏   | 227/370 [04:21<02:48,  1.18s/it]"
     ]
    },
    {
     "name": "stdout",
     "output_type": "stream",
     "text": [
      "Initial log joint probability = -50.466\n",
      "    Iter      log prob        ||dx||      ||grad||       alpha      alpha0  # evals  Notes \n",
      "      99       1959.45   0.000407437       182.324       0.377       0.377      119   \n",
      "    Iter      log prob        ||dx||      ||grad||       alpha      alpha0  # evals  Notes \n",
      "     152       1959.89   1.41322e-05       92.8065   1.796e-07       0.001      232  LS failed, Hessian reset \n",
      "     199       1959.94    0.00747376       151.108           1           1      292   \n",
      "    Iter      log prob        ||dx||      ||grad||       alpha      alpha0  # evals  Notes \n",
      "     251       1960.06   8.18301e-08       101.273           1           1      362   \n",
      "Optimization terminated normally: \n",
      "  Convergence detected: relative gradient magnitude is below tolerance\n"
     ]
    },
    {
     "name": "stderr",
     "output_type": "stream",
     "text": [
      "\r",
      " 62%|██████▏   | 228/370 [04:22<02:47,  1.18s/it]"
     ]
    },
    {
     "name": "stdout",
     "output_type": "stream",
     "text": [
      "Initial log joint probability = -9.49607\n",
      "    Iter      log prob        ||dx||      ||grad||       alpha      alpha0  # evals  Notes \n",
      "      99       1719.62   6.62157e-06       79.9081      0.5035      0.5035      133   \n",
      "    Iter      log prob        ||dx||      ||grad||       alpha      alpha0  # evals  Notes \n",
      "     108       1719.63   7.56745e-05       97.0904   6.898e-07       0.001      194  LS failed, Hessian reset \n",
      "     160       1719.63   9.34486e-08       70.9812      0.2416           1      263   \n",
      "Optimization terminated normally: \n",
      "  Convergence detected: relative gradient magnitude is below tolerance\n"
     ]
    },
    {
     "name": "stderr",
     "output_type": "stream",
     "text": [
      "\r",
      " 62%|██████▏   | 229/370 [04:23<02:41,  1.15s/it]"
     ]
    },
    {
     "name": "stdout",
     "output_type": "stream",
     "text": [
      "Initial log joint probability = -23.0097\n",
      "    Iter      log prob        ||dx||      ||grad||       alpha      alpha0  # evals  Notes \n",
      "      99       2335.36    0.00199712       104.038      0.4538      0.4538      120   \n",
      "    Iter      log prob        ||dx||      ||grad||       alpha      alpha0  # evals  Notes \n",
      "     179       2336.67    1.2287e-05       91.5016   1.279e-07       0.001      255  LS failed, Hessian reset \n",
      "     199       2336.68    2.1332e-06       105.477           1           1      278   \n",
      "    Iter      log prob        ||dx||      ||grad||       alpha      alpha0  # evals  Notes \n",
      "     226       2336.68   1.82254e-08       88.8101      0.1716     0.01716      312   \n",
      "Optimization terminated normally: \n",
      "  Convergence detected: relative gradient magnitude is below tolerance\n"
     ]
    },
    {
     "name": "stderr",
     "output_type": "stream",
     "text": [
      "\r",
      " 62%|██████▏   | 230/370 [04:25<02:46,  1.19s/it]"
     ]
    },
    {
     "name": "stdout",
     "output_type": "stream",
     "text": [
      "Initial log joint probability = -12.9866\n",
      "    Iter      log prob        ||dx||      ||grad||       alpha      alpha0  # evals  Notes \n",
      "      99       529.132   3.32541e-05       111.924      0.4642           1      125   \n",
      "    Iter      log prob        ||dx||      ||grad||       alpha      alpha0  # evals  Notes \n",
      "     101       529.132    1.5446e-05        99.587   1.376e-07       0.001      161  LS failed, Hessian reset \n",
      "     136       529.133   7.91512e-09       99.1733      0.3426           1      211   \n",
      "Optimization terminated normally: \n",
      "  Convergence detected: absolute parameter change was below tolerance\n"
     ]
    },
    {
     "name": "stderr",
     "output_type": "stream",
     "text": [
      "\r",
      " 62%|██████▏   | 231/370 [04:26<02:37,  1.13s/it]"
     ]
    },
    {
     "name": "stdout",
     "output_type": "stream",
     "text": [
      "Initial log joint probability = -24.7729\n",
      "    Iter      log prob        ||dx||      ||grad||       alpha      alpha0  # evals  Notes \n",
      "      99        1779.8   5.89931e-06       87.0857      0.5105      0.5105      124   \n",
      "    Iter      log prob        ||dx||      ||grad||       alpha      alpha0  # evals  Notes \n",
      "     106        1779.8    1.8924e-05       100.389   2.289e-07       0.001      186  LS failed, Hessian reset \n",
      "     129       1779.81    5.0085e-08       87.7471      0.2426           1      215   \n",
      "Optimization terminated normally: \n",
      "  Convergence detected: relative gradient magnitude is below tolerance\n"
     ]
    },
    {
     "name": "stderr",
     "output_type": "stream",
     "text": [
      "\r",
      " 63%|██████▎   | 232/370 [04:27<02:34,  1.12s/it]"
     ]
    },
    {
     "name": "stdout",
     "output_type": "stream",
     "text": [
      "Initial log joint probability = -8.72586\n",
      "    Iter      log prob        ||dx||      ||grad||       alpha      alpha0  # evals  Notes \n",
      "      99       2794.65   0.000762162       104.019      0.7247      0.7247      129   \n",
      "    Iter      log prob        ||dx||      ||grad||       alpha      alpha0  # evals  Notes \n",
      "     165       2795.19   0.000174076       109.614   1.783e-06       0.001      251  LS failed, Hessian reset \n",
      "     199       2795.25   5.40833e-05       81.3394       0.668       0.668      287   \n",
      "    Iter      log prob        ||dx||      ||grad||       alpha      alpha0  # evals  Notes \n",
      "     243       2795.26   1.17062e-05       95.8708   1.179e-07       0.001      381  LS failed, Hessian reset \n",
      "     268       2795.26   1.18699e-07       86.4207      0.3111           1      414   \n",
      "Optimization terminated normally: \n",
      "  Convergence detected: relative gradient magnitude is below tolerance\n"
     ]
    },
    {
     "name": "stderr",
     "output_type": "stream",
     "text": [
      "\r",
      " 63%|██████▎   | 233/370 [04:28<02:37,  1.15s/it]"
     ]
    },
    {
     "name": "stdout",
     "output_type": "stream",
     "text": [
      "Initial log joint probability = -12.8799\n",
      "    Iter      log prob        ||dx||      ||grad||       alpha      alpha0  # evals  Notes \n",
      "      99        2384.7   2.14359e-06       91.4768     0.06215           1      124   \n",
      "    Iter      log prob        ||dx||      ||grad||       alpha      alpha0  # evals  Notes \n",
      "     128        2384.7   1.04348e-06       79.1793   9.705e-09       0.001      202  LS failed, Hessian reset \n",
      "     133        2384.7   1.00676e-07       85.0754      0.3174           1      210   \n",
      "Optimization terminated normally: \n",
      "  Convergence detected: relative gradient magnitude is below tolerance\n"
     ]
    },
    {
     "name": "stderr",
     "output_type": "stream",
     "text": [
      "\r",
      " 63%|██████▎   | 234/370 [04:29<02:40,  1.18s/it]"
     ]
    },
    {
     "name": "stdout",
     "output_type": "stream",
     "text": [
      "Initial log joint probability = -7.83246\n",
      "    Iter      log prob        ||dx||      ||grad||       alpha      alpha0  # evals  Notes \n",
      "      94       2763.69   0.000360657       103.929   3.821e-06       0.001      168  LS failed, Hessian reset \n",
      "      99       2763.71   3.93536e-05        86.975      0.5504      0.5504      175   \n",
      "    Iter      log prob        ||dx||      ||grad||       alpha      alpha0  # evals  Notes \n",
      "     107       2763.72   7.20588e-05        87.713   7.924e-07       0.001      228  LS failed, Hessian reset \n",
      "     141       2763.73   8.33047e-08       81.7452      0.2487           1      274   \n",
      "Optimization terminated normally: \n",
      "  Convergence detected: relative gradient magnitude is below tolerance\n"
     ]
    },
    {
     "name": "stderr",
     "output_type": "stream",
     "text": [
      "\r",
      " 64%|██████▎   | 235/370 [04:30<02:37,  1.16s/it]"
     ]
    },
    {
     "name": "stdout",
     "output_type": "stream",
     "text": [
      "Initial log joint probability = -15.6426\n",
      "    Iter      log prob        ||dx||      ||grad||       alpha      alpha0  # evals  Notes \n",
      "      99       2429.71    0.00106878       95.0225      0.6531      0.6531      124   \n",
      "    Iter      log prob        ||dx||      ||grad||       alpha      alpha0  # evals  Notes \n",
      "     121       2429.98   0.000288151        73.171   4.295e-06       0.001      187  LS failed, Hessian reset \n",
      "     199        2430.1   2.08904e-05       86.4522           1           1      286   \n",
      "    Iter      log prob        ||dx||      ||grad||       alpha      alpha0  # evals  Notes \n",
      "     212        2430.1   3.37517e-06       64.5192   4.765e-08       0.001      335  LS failed, Hessian reset \n",
      "     232        2430.1   5.10252e-08       72.8681     0.03288           1      364   \n",
      "Optimization terminated normally: \n",
      "  Convergence detected: relative gradient magnitude is below tolerance\n"
     ]
    },
    {
     "name": "stderr",
     "output_type": "stream",
     "text": [
      "\r",
      " 64%|██████▍   | 236/370 [04:32<02:37,  1.17s/it]"
     ]
    },
    {
     "name": "stdout",
     "output_type": "stream",
     "text": [
      "Initial log joint probability = -12.3747\n",
      "    Iter      log prob        ||dx||      ||grad||       alpha      alpha0  # evals  Notes \n",
      "      99       2369.69   2.73179e-05       86.9765      0.4648           1      128   \n",
      "    Iter      log prob        ||dx||      ||grad||       alpha      alpha0  # evals  Notes \n",
      "     150       2369.69    8.8517e-08       68.7941           1           1      201   \n",
      "Optimization terminated normally: \n",
      "  Convergence detected: relative gradient magnitude is below tolerance\n"
     ]
    },
    {
     "name": "stderr",
     "output_type": "stream",
     "text": [
      "\r",
      " 64%|██████▍   | 237/370 [04:33<02:32,  1.15s/it]"
     ]
    },
    {
     "name": "stdout",
     "output_type": "stream",
     "text": [
      "Initial log joint probability = -10.8465\n",
      "    Iter      log prob        ||dx||      ||grad||       alpha      alpha0  # evals  Notes \n",
      "      99       2446.24   2.37222e-07       87.2896       0.374       0.374      126   \n",
      "    Iter      log prob        ||dx||      ||grad||       alpha      alpha0  # evals  Notes \n",
      "     105       2446.24   3.75994e-08       92.7274      0.2742      0.7165      134   \n",
      "Optimization terminated normally: \n",
      "  Convergence detected: relative gradient magnitude is below tolerance\n"
     ]
    },
    {
     "name": "stderr",
     "output_type": "stream",
     "text": [
      "\r",
      " 64%|██████▍   | 238/370 [04:34<02:27,  1.12s/it]"
     ]
    },
    {
     "name": "stdout",
     "output_type": "stream",
     "text": [
      "Initial log joint probability = -8.36686\n",
      "    Iter      log prob        ||dx||      ||grad||       alpha      alpha0  # evals  Notes \n",
      "      99       3205.64    0.00135649       157.951           1           1      134   \n",
      "    Iter      log prob        ||dx||      ||grad||       alpha      alpha0  # evals  Notes \n",
      "     199       3205.92   2.43799e-05       78.5422      0.1723           1      257   \n",
      "    Iter      log prob        ||dx||      ||grad||       alpha      alpha0  # evals  Notes \n",
      "     220       3205.93   3.73401e-07       67.2739      0.7963      0.7963      294   \n",
      "Optimization terminated normally: \n",
      "  Convergence detected: relative gradient magnitude is below tolerance\n"
     ]
    },
    {
     "name": "stderr",
     "output_type": "stream",
     "text": [
      "\r",
      " 65%|██████▍   | 239/370 [04:35<02:32,  1.17s/it]"
     ]
    },
    {
     "name": "stdout",
     "output_type": "stream",
     "text": [
      "Initial log joint probability = -22.9839\n",
      "    Iter      log prob        ||dx||      ||grad||       alpha      alpha0  # evals  Notes \n",
      "      99       1986.81   0.000219037         71.11      0.2876           1      132   \n",
      "    Iter      log prob        ||dx||      ||grad||       alpha      alpha0  # evals  Notes \n",
      "     119       1986.91   0.000166867       96.4939   1.742e-06       0.001      194  LS failed, Hessian reset \n",
      "     178       1986.93   4.88009e-05       98.3756   5.818e-07       0.001      310  LS failed, Hessian reset \n",
      "     199       1986.93   2.07319e-06       98.7044           1           1      337   \n",
      "    Iter      log prob        ||dx||      ||grad||       alpha      alpha0  # evals  Notes \n",
      "     213       1986.93   2.10193e-07       77.5102      0.2859           1      353   \n",
      "Optimization terminated normally: \n",
      "  Convergence detected: relative gradient magnitude is below tolerance\n"
     ]
    },
    {
     "name": "stderr",
     "output_type": "stream",
     "text": [
      "\r",
      " 65%|██████▍   | 240/370 [04:36<02:31,  1.17s/it]"
     ]
    },
    {
     "name": "stdout",
     "output_type": "stream",
     "text": [
      "Initial log joint probability = -20.0038\n",
      "    Iter      log prob        ||dx||      ||grad||       alpha      alpha0  # evals  Notes \n",
      "      61        2233.3   0.000581584       158.746   5.927e-06       0.001      110  LS failed, Hessian reset \n",
      "      99       2233.62    0.00079316       131.144           1           1      155   \n",
      "    Iter      log prob        ||dx||      ||grad||       alpha      alpha0  # evals  Notes \n",
      "     130       2234.01   0.000668708       114.543   6.148e-06       0.001      235  LS failed, Hessian reset \n",
      "     199       2234.07   5.89483e-08       74.8118      0.3357           1      327   \n",
      "Optimization terminated normally: \n",
      "  Convergence detected: relative gradient magnitude is below tolerance\n"
     ]
    },
    {
     "name": "stderr",
     "output_type": "stream",
     "text": [
      "\r",
      " 65%|██████▌   | 241/370 [04:37<02:30,  1.16s/it]"
     ]
    },
    {
     "name": "stdout",
     "output_type": "stream",
     "text": [
      "Initial log joint probability = -24.8989\n",
      "    Iter      log prob        ||dx||      ||grad||       alpha      alpha0  # evals  Notes \n",
      "      99       1838.74   4.16071e-06       76.4113           1           1      123   \n",
      "    Iter      log prob        ||dx||      ||grad||       alpha      alpha0  # evals  Notes \n",
      "     135       1838.75   2.24672e-05       88.2885    2.83e-07       0.001      207  LS failed, Hessian reset \n",
      "     162       1838.75   5.99901e-08        73.176      0.2543           1      248   \n",
      "Optimization terminated normally: \n",
      "  Convergence detected: relative gradient magnitude is below tolerance\n"
     ]
    },
    {
     "name": "stderr",
     "output_type": "stream",
     "text": [
      "\r",
      " 65%|██████▌   | 242/370 [04:39<02:27,  1.15s/it]"
     ]
    },
    {
     "name": "stdout",
     "output_type": "stream",
     "text": [
      "Initial log joint probability = -14.4287\n",
      "    Iter      log prob        ||dx||      ||grad||       alpha      alpha0  # evals  Notes \n",
      "      83       2209.03   7.38133e-08        76.189      0.7561      0.7561      113   \n",
      "Optimization terminated normally: \n",
      "  Convergence detected: relative gradient magnitude is below tolerance\n"
     ]
    },
    {
     "name": "stderr",
     "output_type": "stream",
     "text": [
      "\r",
      " 66%|██████▌   | 243/370 [04:40<02:27,  1.16s/it]"
     ]
    },
    {
     "name": "stdout",
     "output_type": "stream",
     "text": [
      "Initial log joint probability = -26.7242\n",
      "    Iter      log prob        ||dx||      ||grad||       alpha      alpha0  # evals  Notes \n",
      "      99       1728.31   7.28702e-08        84.415           1           1      120   \n",
      "Optimization terminated normally: \n",
      "  Convergence detected: relative gradient magnitude is below tolerance\n"
     ]
    },
    {
     "name": "stderr",
     "output_type": "stream",
     "text": [
      "\r",
      " 66%|██████▌   | 244/370 [04:41<02:21,  1.13s/it]"
     ]
    },
    {
     "name": "stdout",
     "output_type": "stream",
     "text": [
      "Initial log joint probability = -13.5068\n",
      "    Iter      log prob        ||dx||      ||grad||       alpha      alpha0  # evals  Notes \n",
      "      99        2440.5   4.13528e-07       95.2477      0.4053           1      140   \n",
      "    Iter      log prob        ||dx||      ||grad||       alpha      alpha0  # evals  Notes \n",
      "     106        2440.5   1.34891e-07       71.0811           1           1      150   \n",
      "Optimization terminated normally: \n",
      "  Convergence detected: relative gradient magnitude is below tolerance\n"
     ]
    },
    {
     "name": "stderr",
     "output_type": "stream",
     "text": [
      "\r",
      " 66%|██████▌   | 245/370 [04:42<02:18,  1.10s/it]"
     ]
    },
    {
     "name": "stdout",
     "output_type": "stream",
     "text": [
      "Initial log joint probability = -31.3606\n",
      "    Iter      log prob        ||dx||      ||grad||       alpha      alpha0  # evals  Notes \n",
      "      65       1784.93    0.00104308       95.9866   1.238e-05       0.001      121  LS failed, Hessian reset \n",
      "      99       1784.99   1.92515e-05       70.7643       2.403      0.2403      167   \n",
      "    Iter      log prob        ||dx||      ||grad||       alpha      alpha0  # evals  Notes \n",
      "     147       1784.99   1.50807e-05         68.91   1.812e-07       0.001      280  LS failed, Hessian reset \n",
      "     178       1784.99   6.69272e-07       70.8212   7.452e-09       0.001      373  LS failed, Hessian reset \n",
      "     183       1784.99   8.50548e-08       48.8604      0.3597           1      379   \n",
      "Optimization terminated normally: \n",
      "  Convergence detected: relative gradient magnitude is below tolerance\n"
     ]
    },
    {
     "name": "stderr",
     "output_type": "stream",
     "text": [
      "\r",
      " 66%|██████▋   | 246/370 [04:43<02:20,  1.13s/it]"
     ]
    },
    {
     "name": "stdout",
     "output_type": "stream",
     "text": [
      "Initial log joint probability = -41.6827\n",
      "    Iter      log prob        ||dx||      ||grad||       alpha      alpha0  # evals  Notes \n",
      "      99       1746.16   0.000609289       94.2453      0.2685           1      132   \n",
      "    Iter      log prob        ||dx||      ||grad||       alpha      alpha0  # evals  Notes \n",
      "     135       1746.99    0.00240184       263.567    1.82e-05       0.001      226  LS failed, Hessian reset \n",
      "     197       1747.67   0.000715435       90.9858   7.811e-06       0.001      336  LS failed, Hessian reset \n",
      "     199       1747.71   0.000786104       79.4618           1           1      338   \n",
      "    Iter      log prob        ||dx||      ||grad||       alpha      alpha0  # evals  Notes \n",
      "     261       1747.92   9.30295e-06       61.6939   1.188e-07       0.001      459  LS failed, Hessian reset \n",
      "     280       1747.92   1.09654e-07       63.7151           1           1      487   \n",
      "Optimization terminated normally: \n",
      "  Convergence detected: relative gradient magnitude is below tolerance\n"
     ]
    },
    {
     "name": "stderr",
     "output_type": "stream",
     "text": [
      "\r",
      " 67%|██████▋   | 247/370 [04:44<02:23,  1.17s/it]"
     ]
    },
    {
     "name": "stdout",
     "output_type": "stream",
     "text": [
      "Initial log joint probability = -36.8098\n",
      "    Iter      log prob        ||dx||      ||grad||       alpha      alpha0  # evals  Notes \n",
      "      99       921.275   0.000166133       88.8573      0.9573      0.9573      126   \n",
      "    Iter      log prob        ||dx||      ||grad||       alpha      alpha0  # evals  Notes \n",
      "     111       921.424   0.000991205       98.0632   8.982e-06       0.001      180  LS failed, Hessian reset \n",
      "     166       921.486   6.33937e-06       95.8761   6.289e-08       0.001      282  LS failed, Hessian reset \n",
      "     190       921.486   2.17703e-08       70.0559      0.2421      0.9591      314   \n",
      "Optimization terminated normally: \n",
      "  Convergence detected: relative gradient magnitude is below tolerance\n"
     ]
    },
    {
     "name": "stderr",
     "output_type": "stream",
     "text": [
      "\r",
      " 67%|██████▋   | 248/370 [04:45<02:23,  1.18s/it]"
     ]
    },
    {
     "name": "stdout",
     "output_type": "stream",
     "text": [
      "Initial log joint probability = -50.6847\n",
      "    Iter      log prob        ||dx||      ||grad||       alpha      alpha0  # evals  Notes \n",
      "      97       1706.02   0.000378292       96.7688    4.45e-06       0.001      146  LS failed, Hessian reset \n",
      "      99       1706.03   0.000184434       81.6307           1           1      148   \n",
      "    Iter      log prob        ||dx||      ||grad||       alpha      alpha0  # evals  Notes \n",
      "     199       1706.13   1.21559e-07       96.5161           1           1      275   \n",
      "    Iter      log prob        ||dx||      ||grad||       alpha      alpha0  # evals  Notes \n",
      "     206       1706.13   9.62616e-08        98.026           1           1      283   \n",
      "Optimization terminated normally: \n",
      "  Convergence detected: relative gradient magnitude is below tolerance\n"
     ]
    },
    {
     "name": "stderr",
     "output_type": "stream",
     "text": [
      "\r",
      " 67%|██████▋   | 249/370 [04:47<02:20,  1.16s/it]"
     ]
    },
    {
     "name": "stdout",
     "output_type": "stream",
     "text": [
      "Initial log joint probability = -7.57958\n",
      "    Iter      log prob        ||dx||      ||grad||       alpha      alpha0  # evals  Notes \n",
      "      99       3150.78   5.39826e-05       99.3636      0.3065      0.3065      128   \n",
      "    Iter      log prob        ||dx||      ||grad||       alpha      alpha0  # evals  Notes \n",
      "     127       3150.99   0.000157982       128.231   2.086e-06       0.001      196  LS failed, Hessian reset \n",
      "     199        3151.3   9.53024e-07       76.9059      0.2401           1      284   \n",
      "    Iter      log prob        ||dx||      ||grad||       alpha      alpha0  # evals  Notes \n",
      "     210        3151.3   2.42394e-07       72.9024      0.7612      0.7612      299   \n",
      "Optimization terminated normally: \n",
      "  Convergence detected: relative gradient magnitude is below tolerance\n"
     ]
    },
    {
     "name": "stderr",
     "output_type": "stream",
     "text": [
      "\r",
      " 68%|██████▊   | 250/370 [04:48<02:18,  1.16s/it]"
     ]
    },
    {
     "name": "stdout",
     "output_type": "stream",
     "text": [
      "Initial log joint probability = -18.148\n",
      "    Iter      log prob        ||dx||      ||grad||       alpha      alpha0  # evals  Notes \n",
      "      99       2106.23   2.59548e-08       85.1368      0.1996      0.1996      126   \n",
      "    Iter      log prob        ||dx||      ||grad||       alpha      alpha0  # evals  Notes \n",
      "     100       2106.23   1.04296e-07       87.5278       0.339       0.339      127   \n",
      "Optimization terminated normally: \n",
      "  Convergence detected: relative gradient magnitude is below tolerance\n"
     ]
    },
    {
     "name": "stderr",
     "output_type": "stream",
     "text": [
      "\r",
      " 68%|██████▊   | 251/370 [04:49<02:13,  1.12s/it]"
     ]
    },
    {
     "name": "stdout",
     "output_type": "stream",
     "text": [
      "Initial log joint probability = -18.6939\n",
      "    Iter      log prob        ||dx||      ||grad||       alpha      alpha0  # evals  Notes \n",
      "      99       2290.28   6.79692e-05       55.7178           1           1      136   \n",
      "    Iter      log prob        ||dx||      ||grad||       alpha      alpha0  # evals  Notes \n",
      "     110       2290.33   0.000704788       93.9053   1.777e-05       0.001      188  LS failed, Hessian reset \n",
      "     120       2290.34   0.000110919       58.5334   2.524e-06       0.001      235  LS failed, Hessian reset \n",
      "     158       2290.35   1.80209e-05       76.1318   2.666e-07       0.001      330  LS failed, Hessian reset \n",
      "     172       2290.35   1.07001e-07       52.0178     0.04914           1      351   \n",
      "Optimization terminated normally: \n",
      "  Convergence detected: relative gradient magnitude is below tolerance\n"
     ]
    },
    {
     "name": "stderr",
     "output_type": "stream",
     "text": [
      "\r",
      " 68%|██████▊   | 252/370 [04:50<02:19,  1.18s/it]"
     ]
    },
    {
     "name": "stdout",
     "output_type": "stream",
     "text": [
      "Initial log joint probability = -11.7935\n",
      "    Iter      log prob        ||dx||      ||grad||       alpha      alpha0  # evals  Notes \n",
      "      99       2571.28   0.000350846       89.9932           1           1      116   \n",
      "    Iter      log prob        ||dx||      ||grad||       alpha      alpha0  # evals  Notes \n",
      "     104       2571.37    0.00027242       115.725   2.254e-06       0.001      154  LS failed, Hessian reset \n",
      "     149       2571.43   1.36157e-07       90.5851           1           1      214   \n",
      "Optimization terminated normally: \n",
      "  Convergence detected: relative gradient magnitude is below tolerance\n"
     ]
    },
    {
     "name": "stderr",
     "output_type": "stream",
     "text": [
      "\r",
      " 68%|██████▊   | 253/370 [04:51<02:15,  1.16s/it]"
     ]
    },
    {
     "name": "stdout",
     "output_type": "stream",
     "text": [
      "Initial log joint probability = -6.0525\n",
      "    Iter      log prob        ||dx||      ||grad||       alpha      alpha0  # evals  Notes \n",
      "      99       3088.46   1.60897e-05       91.1985      0.6986      0.6986      121   \n",
      "    Iter      log prob        ||dx||      ||grad||       alpha      alpha0  # evals  Notes \n",
      "     112       3088.46   2.12746e-05       87.5952   2.033e-07       0.001      177  LS failed, Hessian reset \n",
      "     132       3088.46   4.52446e-08       93.4939      0.1972      0.5328      203   \n",
      "Optimization terminated normally: \n",
      "  Convergence detected: relative gradient magnitude is below tolerance\n"
     ]
    },
    {
     "name": "stderr",
     "output_type": "stream",
     "text": [
      "\r",
      " 69%|██████▊   | 254/370 [04:52<02:12,  1.14s/it]"
     ]
    },
    {
     "name": "stdout",
     "output_type": "stream",
     "text": [
      "Initial log joint probability = -17.643\n",
      "    Iter      log prob        ||dx||      ||grad||       alpha      alpha0  # evals  Notes \n",
      "      99       2135.07   5.50148e-06       66.3144       0.684       0.684      122   \n",
      "    Iter      log prob        ||dx||      ||grad||       alpha      alpha0  # evals  Notes \n",
      "     146       2135.07   1.75402e-07       77.8043           1           1      186   \n",
      "Optimization terminated normally: \n",
      "  Convergence detected: relative gradient magnitude is below tolerance\n"
     ]
    },
    {
     "name": "stderr",
     "output_type": "stream",
     "text": [
      "\r",
      " 69%|██████▉   | 255/370 [04:53<02:09,  1.12s/it]"
     ]
    },
    {
     "name": "stdout",
     "output_type": "stream",
     "text": [
      "Initial log joint probability = -24.1728\n",
      "    Iter      log prob        ||dx||      ||grad||       alpha      alpha0  # evals  Notes \n",
      "      99        1845.3   1.48321e-06       89.9211           1           1      117   \n",
      "    Iter      log prob        ||dx||      ||grad||       alpha      alpha0  # evals  Notes \n",
      "     119       1845.31   4.58582e-05       86.9874   4.561e-07       0.001      190  LS failed, Hessian reset \n",
      "     158       1845.31   1.30339e-07        81.443           1           1      241   \n",
      "Optimization terminated normally: \n",
      "  Convergence detected: relative gradient magnitude is below tolerance\n"
     ]
    },
    {
     "name": "stderr",
     "output_type": "stream",
     "text": [
      "\r",
      " 69%|██████▉   | 256/370 [04:54<02:07,  1.12s/it]"
     ]
    },
    {
     "name": "stdout",
     "output_type": "stream",
     "text": [
      "Initial log joint probability = -17.7199\n",
      "    Iter      log prob        ||dx||      ||grad||       alpha      alpha0  # evals  Notes \n",
      "      99       2619.72   0.000181906       93.6881           1           1      128   \n",
      "    Iter      log prob        ||dx||      ||grad||       alpha      alpha0  # evals  Notes \n",
      "     133       2619.75    1.9694e-05       92.4441   1.881e-07       0.001      200  LS failed, Hessian reset \n",
      "     155       2619.75   1.56502e-07       79.8142           1           1      225   \n",
      "Optimization terminated normally: \n",
      "  Convergence detected: relative gradient magnitude is below tolerance\n"
     ]
    },
    {
     "name": "stderr",
     "output_type": "stream",
     "text": [
      "\r",
      " 69%|██████▉   | 257/370 [04:56<02:10,  1.16s/it]"
     ]
    },
    {
     "name": "stdout",
     "output_type": "stream",
     "text": [
      "Initial log joint probability = -41.2796\n",
      "    Iter      log prob        ||dx||      ||grad||       alpha      alpha0  # evals  Notes \n",
      "      99       2060.83   0.000473537       83.5332      0.5483      0.5483      128   \n",
      "    Iter      log prob        ||dx||      ||grad||       alpha      alpha0  # evals  Notes \n",
      "     140       2061.06   0.000329265       76.4343   2.633e-06       0.001      212  LS failed, Hessian reset \n",
      "     199       2061.13   2.33076e-05        100.16      0.1242      0.1242      288   \n",
      "    Iter      log prob        ||dx||      ||grad||       alpha      alpha0  # evals  Notes \n",
      "     263       2061.14   9.70277e-08       95.8364           1           1      377   \n",
      "Optimization terminated normally: \n",
      "  Convergence detected: relative gradient magnitude is below tolerance\n"
     ]
    },
    {
     "name": "stderr",
     "output_type": "stream",
     "text": [
      "\r",
      " 70%|██████▉   | 258/370 [04:57<02:10,  1.17s/it]"
     ]
    },
    {
     "name": "stdout",
     "output_type": "stream",
     "text": [
      "Initial log joint probability = -5.13048\n",
      "    Iter      log prob        ||dx||      ||grad||       alpha      alpha0  # evals  Notes \n",
      "      99          3197     4.245e-05       76.0212      0.6649      0.6649      130   \n",
      "    Iter      log prob        ||dx||      ||grad||       alpha      alpha0  # evals  Notes \n",
      "     199       3197.05    0.00102107       60.9931           1           1      247   \n",
      "    Iter      log prob        ||dx||      ||grad||       alpha      alpha0  # evals  Notes \n",
      "     203       3197.05   0.000153474        64.169   2.455e-06       0.001      303  LS failed, Hessian reset \n",
      "     258       3197.08   6.82014e-09       94.2769     0.03796     0.03796      374   \n",
      "Optimization terminated normally: \n",
      "  Convergence detected: absolute parameter change was below tolerance\n"
     ]
    },
    {
     "name": "stderr",
     "output_type": "stream",
     "text": [
      "\r",
      " 70%|███████   | 259/370 [04:58<02:09,  1.17s/it]"
     ]
    },
    {
     "name": "stdout",
     "output_type": "stream",
     "text": [
      "Initial log joint probability = -32.7832\n",
      "    Iter      log prob        ||dx||      ||grad||       alpha      alpha0  # evals  Notes \n",
      "      99       2174.16    0.00045535       72.3693      0.7149      0.7149      133   \n",
      "    Iter      log prob        ||dx||      ||grad||       alpha      alpha0  # evals  Notes \n",
      "     125       2174.42    0.00073413       126.351   7.068e-06       0.001      216  LS failed, Hessian reset \n",
      "     186        2174.5   1.41444e-05        79.677   1.393e-07       0.001      327  LS failed, Hessian reset \n",
      "     199        2174.5   3.62762e-07       70.5383      0.7933      0.7933      342   \n",
      "    Iter      log prob        ||dx||      ||grad||       alpha      alpha0  # evals  Notes \n",
      "     213        2174.5   1.28263e-07       65.0554      0.7711      0.7711      362   \n",
      "Optimization terminated normally: \n",
      "  Convergence detected: relative gradient magnitude is below tolerance\n"
     ]
    },
    {
     "name": "stderr",
     "output_type": "stream",
     "text": [
      "\r",
      " 70%|███████   | 260/370 [04:59<02:08,  1.17s/it]"
     ]
    },
    {
     "name": "stdout",
     "output_type": "stream",
     "text": [
      "Initial log joint probability = -13.172\n",
      "    Iter      log prob        ||dx||      ||grad||       alpha      alpha0  # evals  Notes \n",
      "      99        2531.2   0.000914805        78.885       1.396      0.3014      136   \n",
      "    Iter      log prob        ||dx||      ||grad||       alpha      alpha0  # evals  Notes \n",
      "     147       2531.31   4.10927e-05        93.528   5.164e-07       0.001      234  LS failed, Hessian reset \n",
      "     171       2531.31   8.38319e-08       75.4962      0.3092      0.3092      262   \n",
      "Optimization terminated normally: \n",
      "  Convergence detected: relative gradient magnitude is below tolerance\n"
     ]
    },
    {
     "name": "stderr",
     "output_type": "stream",
     "text": [
      "\r",
      " 71%|███████   | 261/370 [05:01<02:10,  1.20s/it]"
     ]
    },
    {
     "name": "stdout",
     "output_type": "stream",
     "text": [
      "Initial log joint probability = -9.624\n",
      "    Iter      log prob        ||dx||      ||grad||       alpha      alpha0  # evals  Notes \n",
      "      99       2578.81   1.93498e-06       78.1759      0.4117      0.4117      136   \n",
      "    Iter      log prob        ||dx||      ||grad||       alpha      alpha0  # evals  Notes \n",
      "     199       2578.84   4.82655e-06       93.6592           1           1      260   \n",
      "    Iter      log prob        ||dx||      ||grad||       alpha      alpha0  # evals  Notes \n",
      "     259       2578.84   2.35334e-06       66.9417      0.3848           1      331   \n",
      "Optimization terminated normally: \n",
      "  Convergence detected: relative gradient magnitude is below tolerance\n"
     ]
    },
    {
     "name": "stderr",
     "output_type": "stream",
     "text": [
      "\r",
      " 71%|███████   | 262/370 [05:02<02:07,  1.18s/it]"
     ]
    },
    {
     "name": "stdout",
     "output_type": "stream",
     "text": [
      "Initial log joint probability = -70.3907\n",
      "    Iter      log prob        ||dx||      ||grad||       alpha      alpha0  # evals  Notes \n",
      "      99       1444.23    0.00223975       60.5961           1           1      131   \n",
      "    Iter      log prob        ||dx||      ||grad||       alpha      alpha0  # evals  Notes \n",
      "     157       1444.58   4.15361e-05       76.2978    5.42e-07       0.001      250  LS failed, Hessian reset \n",
      "     199       1444.58   1.60192e-06       77.3578           1           1      307   \n",
      "    Iter      log prob        ||dx||      ||grad||       alpha      alpha0  # evals  Notes \n",
      "     222       1444.59   5.88839e-05       85.4616   6.873e-07       0.001      384  LS failed, Hessian reset \n",
      "     255       1444.59   5.06097e-08       66.2654      0.2367           1      433   \n",
      "Optimization terminated normally: \n",
      "  Convergence detected: relative gradient magnitude is below tolerance\n"
     ]
    },
    {
     "name": "stderr",
     "output_type": "stream",
     "text": [
      "\r",
      " 71%|███████   | 263/370 [05:03<02:07,  1.19s/it]"
     ]
    },
    {
     "name": "stdout",
     "output_type": "stream",
     "text": [
      "Initial log joint probability = -78.242\n",
      "    Iter      log prob        ||dx||      ||grad||       alpha      alpha0  # evals  Notes \n",
      "      99       1604.49    0.00683198       98.8907      0.2297           1      120   \n",
      "    Iter      log prob        ||dx||      ||grad||       alpha      alpha0  # evals  Notes \n",
      "     143       1605.96    0.00126308       145.005   1.172e-05       0.001      213  LS failed, Hessian reset \n",
      "     199       1606.49   1.66949e-05       89.4842      0.2297           1      285   \n",
      "    Iter      log prob        ||dx||      ||grad||       alpha      alpha0  # evals  Notes \n",
      "     214       1606.49   3.40615e-05         82.14   3.753e-07       0.001      344  LS failed, Hessian reset \n",
      "     243       1606.49   1.54417e-07       73.8863           1           1      384   \n",
      "Optimization terminated normally: \n",
      "  Convergence detected: relative gradient magnitude is below tolerance\n"
     ]
    },
    {
     "name": "stderr",
     "output_type": "stream",
     "text": [
      "\r",
      " 71%|███████▏  | 264/370 [05:04<02:06,  1.19s/it]"
     ]
    },
    {
     "name": "stdout",
     "output_type": "stream",
     "text": [
      "Initial log joint probability = -11.2399\n",
      "    Iter      log prob        ||dx||      ||grad||       alpha      alpha0  # evals  Notes \n",
      "      79        2614.4   0.000318115       155.087   3.355e-06       0.001      152  LS failed, Hessian reset \n",
      "      99       2614.44   6.44845e-06       65.3028      0.3056      0.3056      178   \n",
      "    Iter      log prob        ||dx||      ||grad||       alpha      alpha0  # evals  Notes \n",
      "     145       2614.45   3.50926e-08       83.9643     0.04341       0.816      238   \n",
      "Optimization terminated normally: \n",
      "  Convergence detected: relative gradient magnitude is below tolerance\n"
     ]
    },
    {
     "name": "stderr",
     "output_type": "stream",
     "text": [
      "\r",
      " 72%|███████▏  | 265/370 [05:05<02:02,  1.16s/it]"
     ]
    },
    {
     "name": "stdout",
     "output_type": "stream",
     "text": [
      "Initial log joint probability = -7.35683\n",
      "    Iter      log prob        ||dx||      ||grad||       alpha      alpha0  # evals  Notes \n",
      "      99       2811.63    3.2796e-06       65.0474      0.4971      0.4971      136   \n",
      "    Iter      log prob        ||dx||      ||grad||       alpha      alpha0  # evals  Notes \n",
      "     128       2811.63   6.07635e-08       61.2368      0.1588           1      180   \n",
      "Optimization terminated normally: \n",
      "  Convergence detected: relative gradient magnitude is below tolerance\n"
     ]
    },
    {
     "name": "stderr",
     "output_type": "stream",
     "text": [
      "\r",
      " 72%|███████▏  | 266/370 [05:06<02:02,  1.18s/it]"
     ]
    },
    {
     "name": "stdout",
     "output_type": "stream",
     "text": [
      "Initial log joint probability = -20.4885\n",
      "    Iter      log prob        ||dx||      ||grad||       alpha      alpha0  # evals  Notes \n",
      "      99       2179.13   0.000118017         79.52      0.4016      0.9675      136   \n",
      "    Iter      log prob        ||dx||      ||grad||       alpha      alpha0  # evals  Notes \n",
      "     134       2179.14    7.2723e-08       79.5358      0.3333           1      189   \n",
      "Optimization terminated normally: \n",
      "  Convergence detected: relative gradient magnitude is below tolerance\n"
     ]
    },
    {
     "name": "stderr",
     "output_type": "stream",
     "text": [
      "\r",
      " 72%|███████▏  | 267/370 [05:07<01:58,  1.15s/it]"
     ]
    },
    {
     "name": "stdout",
     "output_type": "stream",
     "text": [
      "Initial log joint probability = -9.17241\n",
      "    Iter      log prob        ||dx||      ||grad||       alpha      alpha0  # evals  Notes \n",
      "      92       2638.89   2.01399e-07       86.0494      0.7795      0.7795      123   \n",
      "Optimization terminated normally: \n",
      "  Convergence detected: relative gradient magnitude is below tolerance\n"
     ]
    },
    {
     "name": "stderr",
     "output_type": "stream",
     "text": [
      "\r",
      " 72%|███████▏  | 268/370 [05:09<01:54,  1.12s/it]"
     ]
    },
    {
     "name": "stdout",
     "output_type": "stream",
     "text": [
      "Initial log joint probability = -12.8697\n",
      "    Iter      log prob        ||dx||      ||grad||       alpha      alpha0  # evals  Notes \n",
      "      99       2723.49   0.000554317       114.627           1           1      127   \n",
      "    Iter      log prob        ||dx||      ||grad||       alpha      alpha0  # evals  Notes \n",
      "     119       2723.79    0.00020611       136.101   2.016e-06       0.001      185  LS failed, Hessian reset \n",
      "     199        2723.9   1.45259e-06       86.0694      0.6207      0.6207      286   \n",
      "    Iter      log prob        ||dx||      ||grad||       alpha      alpha0  # evals  Notes \n",
      "     208        2723.9     1.466e-07       80.7679      0.2266           1      299   \n",
      "Optimization terminated normally: \n",
      "  Convergence detected: relative gradient magnitude is below tolerance\n"
     ]
    },
    {
     "name": "stderr",
     "output_type": "stream",
     "text": [
      "\r",
      " 73%|███████▎  | 269/370 [05:10<01:53,  1.13s/it]"
     ]
    },
    {
     "name": "stdout",
     "output_type": "stream",
     "text": [
      "Initial log joint probability = -90.8865\n",
      "    Iter      log prob        ||dx||      ||grad||       alpha      alpha0  # evals  Notes \n",
      "      64       2584.66   0.000437167       223.115   3.433e-06       0.001      129  LS failed, Hessian reset \n",
      "      99       2586.85   0.000265305       75.3289      0.5716      0.5716      170   \n",
      "    Iter      log prob        ||dx||      ||grad||       alpha      alpha0  # evals  Notes \n",
      "     122       2588.31    0.00232959       122.322   1.302e-05       0.001      227  LS failed, Hessian reset \n",
      "     177       2590.04   0.000720175         282.4   4.492e-06       0.001      331  LS failed, Hessian reset \n",
      "     199       2590.59   0.000777837       111.464           1           1      355   \n",
      "    Iter      log prob        ||dx||      ||grad||       alpha      alpha0  # evals  Notes \n",
      "     291       2590.88   2.47608e-09       96.7293   1.694e-05           1      478   \n",
      "Optimization terminated normally: \n",
      "  Convergence detected: absolute parameter change was below tolerance\n"
     ]
    },
    {
     "name": "stderr",
     "output_type": "stream",
     "text": [
      "\r",
      " 73%|███████▎  | 270/370 [05:11<01:55,  1.16s/it]"
     ]
    },
    {
     "name": "stdout",
     "output_type": "stream",
     "text": [
      "Initial log joint probability = -28.0221\n",
      "    Iter      log prob        ||dx||      ||grad||       alpha      alpha0  # evals  Notes \n",
      "      99       1767.12   9.11051e-05       98.9662      0.1983           1      137   \n",
      "    Iter      log prob        ||dx||      ||grad||       alpha      alpha0  # evals  Notes \n",
      "     118       1767.15   6.68681e-05       68.3713   7.905e-07       0.001      191  LS failed, Hessian reset \n",
      "     157       1767.15   6.89983e-06        76.962   8.094e-08       0.001      284  LS failed, Hessian reset \n",
      "     177       1767.15   6.89028e-08       66.4473      0.2317           1      314   \n",
      "Optimization terminated normally: \n",
      "  Convergence detected: relative gradient magnitude is below tolerance\n"
     ]
    },
    {
     "name": "stderr",
     "output_type": "stream",
     "text": [
      "\r",
      " 73%|███████▎  | 271/370 [05:12<01:58,  1.19s/it]"
     ]
    },
    {
     "name": "stdout",
     "output_type": "stream",
     "text": [
      "Initial log joint probability = -6.773\n",
      "    Iter      log prob        ||dx||      ||grad||       alpha      alpha0  # evals  Notes \n",
      "      75       2943.21   0.000167785       88.3177   2.233e-06       0.001      131  LS failed, Hessian reset \n",
      "      99       2943.23   3.07542e-06       66.3175           1           1      165   \n",
      "    Iter      log prob        ||dx||      ||grad||       alpha      alpha0  # evals  Notes \n",
      "     121       2943.23   7.07952e-08       64.0907      0.3455      0.3455      196   \n",
      "Optimization terminated normally: \n",
      "  Convergence detected: relative gradient magnitude is below tolerance\n"
     ]
    },
    {
     "name": "stderr",
     "output_type": "stream",
     "text": [
      "\r",
      " 74%|███████▎  | 272/370 [05:13<01:53,  1.16s/it]"
     ]
    },
    {
     "name": "stdout",
     "output_type": "stream",
     "text": [
      "Initial log joint probability = -6.92765\n",
      "    Iter      log prob        ||dx||      ||grad||       alpha      alpha0  # evals  Notes \n",
      "      99       3006.06   3.11413e-06       72.5656      0.4226      0.4226      135   \n",
      "    Iter      log prob        ||dx||      ||grad||       alpha      alpha0  # evals  Notes \n",
      "     135       3006.06   9.18027e-08       60.2203       0.419           1      192   \n",
      "Optimization terminated normally: \n",
      "  Convergence detected: relative gradient magnitude is below tolerance\n"
     ]
    },
    {
     "name": "stderr",
     "output_type": "stream",
     "text": [
      "\r",
      " 74%|███████▍  | 273/370 [05:14<01:50,  1.14s/it]"
     ]
    },
    {
     "name": "stdout",
     "output_type": "stream",
     "text": [
      "Initial log joint probability = -32.5588\n",
      "    Iter      log prob        ||dx||      ||grad||       alpha      alpha0  # evals  Notes \n",
      "      99       1891.17   2.45814e-05       73.0576           1           1      132   \n",
      "    Iter      log prob        ||dx||      ||grad||       alpha      alpha0  # evals  Notes \n",
      "     123        1891.2   8.58471e-05        78.645   1.183e-06       0.001      198  LS failed, Hessian reset \n",
      "     155       1891.22   0.000176817       80.6309   2.038e-06       0.001      278  LS failed, Hessian reset \n",
      "     199       1891.22   1.03653e-06       75.4363           1           1      334   \n",
      "    Iter      log prob        ||dx||      ||grad||       alpha      alpha0  # evals  Notes \n",
      "     202       1891.22    2.3017e-06       76.3048   3.154e-08       0.001      374  LS failed, Hessian reset \n",
      "     216       1891.22   1.01318e-07       72.6602      0.9212      0.9212      396   \n",
      "Optimization terminated normally: \n",
      "  Convergence detected: relative gradient magnitude is below tolerance\n"
     ]
    },
    {
     "name": "stderr",
     "output_type": "stream",
     "text": [
      "\r",
      " 74%|███████▍  | 274/370 [05:16<01:50,  1.15s/it]"
     ]
    },
    {
     "name": "stdout",
     "output_type": "stream",
     "text": [
      "Initial log joint probability = -60.9375\n",
      "    Iter      log prob        ||dx||      ||grad||       alpha      alpha0  # evals  Notes \n",
      "      99       1612.32    0.00744197       111.197      0.8765      0.8765      127   \n",
      "    Iter      log prob        ||dx||      ||grad||       alpha      alpha0  # evals  Notes \n",
      "     140       1612.94    3.7642e-05       87.6395   6.057e-07       0.001      214  LS failed, Hessian reset \n",
      "     186       1612.94   1.91199e-06       63.5815   2.603e-08       0.001      322  LS failed, Hessian reset \n",
      "     197       1612.94   8.05961e-08       56.2311      0.5236      0.5236      335   \n",
      "Optimization terminated normally: \n",
      "  Convergence detected: relative gradient magnitude is below tolerance\n"
     ]
    },
    {
     "name": "stderr",
     "output_type": "stream",
     "text": [
      "\r",
      " 74%|███████▍  | 275/370 [05:17<01:49,  1.15s/it]"
     ]
    },
    {
     "name": "stdout",
     "output_type": "stream",
     "text": [
      "Initial log joint probability = -19.572\n",
      "    Iter      log prob        ||dx||      ||grad||       alpha      alpha0  # evals  Notes \n",
      "      99       1965.85   8.56031e-08       96.5852      0.4369      0.4369      121   \n",
      "    Iter      log prob        ||dx||      ||grad||       alpha      alpha0  # evals  Notes \n",
      "     102       1965.85    6.3894e-08       98.7937      0.4538           1      125   \n",
      "Optimization terminated normally: \n",
      "  Convergence detected: relative gradient magnitude is below tolerance\n"
     ]
    },
    {
     "name": "stderr",
     "output_type": "stream",
     "text": [
      "\r",
      " 75%|███████▍  | 276/370 [05:18<01:49,  1.16s/it]"
     ]
    },
    {
     "name": "stdout",
     "output_type": "stream",
     "text": [
      "Initial log joint probability = -15.5021\n",
      "    Iter      log prob        ||dx||      ||grad||       alpha      alpha0  # evals  Notes \n",
      "      38        1581.9   1.74786e-05       58.4738   2.342e-07       0.001       84  LS failed, Hessian reset \n",
      "      74       1581.91   4.99939e-08       54.2722      0.3254           1      132   \n",
      "Optimization terminated normally: \n",
      "  Convergence detected: relative gradient magnitude is below tolerance\n"
     ]
    },
    {
     "name": "stderr",
     "output_type": "stream",
     "text": [
      "\r",
      " 75%|███████▍  | 277/370 [05:19<01:44,  1.12s/it]"
     ]
    },
    {
     "name": "stdout",
     "output_type": "stream",
     "text": [
      "Initial log joint probability = -74.6425\n",
      "    Iter      log prob        ||dx||      ||grad||       alpha      alpha0  # evals  Notes \n",
      "      99       1668.38   3.25469e-05       62.9746      0.9196      0.9196      137   \n",
      "    Iter      log prob        ||dx||      ||grad||       alpha      alpha0  # evals  Notes \n",
      "     116        1668.4   8.14842e-05        71.011   9.532e-07       0.001      194  LS failed, Hessian reset \n",
      "     155        1668.4   1.16543e-06        57.648   1.568e-08       0.001      286  LS failed, Hessian reset \n",
      "     169        1668.4   8.09967e-09       66.5634     0.07054     0.07054      305   \n",
      "Optimization terminated normally: \n",
      "  Convergence detected: absolute parameter change was below tolerance\n"
     ]
    },
    {
     "name": "stderr",
     "output_type": "stream",
     "text": [
      "\r",
      " 75%|███████▌  | 278/370 [05:20<01:44,  1.13s/it]"
     ]
    },
    {
     "name": "stdout",
     "output_type": "stream",
     "text": [
      "Initial log joint probability = -84.1573\n",
      "    Iter      log prob        ||dx||      ||grad||       alpha      alpha0  # evals  Notes \n",
      "      99       1523.34    0.00385831       97.0389      0.7913      0.7913      123   \n",
      "    Iter      log prob        ||dx||      ||grad||       alpha      alpha0  # evals  Notes \n",
      "     137       1524.31    0.00197623       103.091   2.255e-05       0.001      205  LS failed, Hessian reset \n",
      "     192       1524.52   5.59721e-05       94.5378   6.151e-07       0.001      308  LS failed, Hessian reset \n",
      "     199       1524.52    1.7557e-06       72.9191      0.5433      0.5433      316   \n",
      "    Iter      log prob        ||dx||      ||grad||       alpha      alpha0  # evals  Notes \n",
      "     247       1524.52    2.5205e-07       88.1242      0.9992      0.9992      372   \n",
      "Optimization terminated normally: \n",
      "  Convergence detected: relative gradient magnitude is below tolerance\n"
     ]
    },
    {
     "name": "stderr",
     "output_type": "stream",
     "text": [
      "\r",
      " 75%|███████▌  | 279/370 [05:21<01:43,  1.13s/it]"
     ]
    },
    {
     "name": "stdout",
     "output_type": "stream",
     "text": [
      "Initial log joint probability = -26.289\n",
      "    Iter      log prob        ||dx||      ||grad||       alpha      alpha0  # evals  Notes \n",
      "      99       1873.48   0.000173893       82.3079           1           1      126   \n",
      "    Iter      log prob        ||dx||      ||grad||       alpha      alpha0  # evals  Notes \n",
      "     147        1873.5   3.44044e-08       84.4503      0.3024      0.3024      187   \n",
      "Optimization terminated normally: \n",
      "  Convergence detected: relative gradient magnitude is below tolerance\n"
     ]
    },
    {
     "name": "stderr",
     "output_type": "stream",
     "text": [
      "\r",
      " 76%|███████▌  | 280/370 [05:22<01:40,  1.12s/it]"
     ]
    },
    {
     "name": "stdout",
     "output_type": "stream",
     "text": [
      "Initial log joint probability = -5.73205\n",
      "    Iter      log prob        ||dx||      ||grad||       alpha      alpha0  # evals  Notes \n",
      "      99       3071.35   3.72008e-07       70.8102      0.6553      0.6553      136   \n",
      "    Iter      log prob        ||dx||      ||grad||       alpha      alpha0  # evals  Notes \n",
      "     107       3071.35   2.71456e-07       77.4866           1           1      147   \n",
      "Optimization terminated normally: \n",
      "  Convergence detected: relative gradient magnitude is below tolerance\n"
     ]
    },
    {
     "name": "stderr",
     "output_type": "stream",
     "text": [
      "\r",
      " 76%|███████▌  | 281/370 [05:23<01:41,  1.14s/it]"
     ]
    },
    {
     "name": "stdout",
     "output_type": "stream",
     "text": [
      "Initial log joint probability = -16.7726\n",
      "    Iter      log prob        ||dx||      ||grad||       alpha      alpha0  # evals  Notes \n",
      "      99        2114.7   0.000323414       110.237     0.09203           1      126   \n",
      "    Iter      log prob        ||dx||      ||grad||       alpha      alpha0  # evals  Notes \n",
      "     167       2114.73   5.58811e-08       84.9053      0.5531      0.5531      214   \n",
      "Optimization terminated normally: \n",
      "  Convergence detected: relative gradient magnitude is below tolerance\n"
     ]
    },
    {
     "name": "stderr",
     "output_type": "stream",
     "text": [
      "\r",
      " 76%|███████▌  | 282/370 [05:25<01:39,  1.13s/it]"
     ]
    },
    {
     "name": "stdout",
     "output_type": "stream",
     "text": [
      "Initial log joint probability = -21.2969\n",
      "    Iter      log prob        ||dx||      ||grad||       alpha      alpha0  # evals  Notes \n",
      "      99       2019.53    0.00652422       75.8463           1           1      143   \n",
      "    Iter      log prob        ||dx||      ||grad||       alpha      alpha0  # evals  Notes \n",
      "     102       2019.83    0.00237867       289.883   2.647e-05       0.001      177  LS failed, Hessian reset \n",
      "     199       2020.84    9.0316e-06       67.7972           1           1      307   \n",
      "    Iter      log prob        ||dx||      ||grad||       alpha      alpha0  # evals  Notes \n",
      "     217       2020.84   2.33482e-05       59.9294   2.454e-07       0.001      374  LS failed, Hessian reset \n",
      "     242       2020.84   7.06686e-08       71.7334      0.1505      0.7326      410   \n",
      "Optimization terminated normally: \n",
      "  Convergence detected: relative gradient magnitude is below tolerance\n"
     ]
    },
    {
     "name": "stderr",
     "output_type": "stream",
     "text": [
      "\r",
      " 76%|███████▋  | 283/370 [05:26<01:38,  1.13s/it]"
     ]
    },
    {
     "name": "stdout",
     "output_type": "stream",
     "text": [
      "Initial log joint probability = -10.5382\n",
      "    Iter      log prob        ||dx||      ||grad||       alpha      alpha0  # evals  Notes \n",
      "      99       2524.41   1.67826e-05       90.9178           1           1      128   \n",
      "    Iter      log prob        ||dx||      ||grad||       alpha      alpha0  # evals  Notes \n",
      "     117       2524.41   1.83024e-07       73.8495      0.2747           1      156   \n",
      "Optimization terminated normally: \n",
      "  Convergence detected: relative gradient magnitude is below tolerance\n"
     ]
    },
    {
     "name": "stderr",
     "output_type": "stream",
     "text": [
      "\r",
      " 77%|███████▋  | 284/370 [05:27<01:35,  1.11s/it]"
     ]
    },
    {
     "name": "stdout",
     "output_type": "stream",
     "text": [
      "Initial log joint probability = -8.2913\n",
      "    Iter      log prob        ||dx||      ||grad||       alpha      alpha0  # evals  Notes \n",
      "      99       2712.58   9.24261e-07       77.7148       0.359           1      136   \n",
      "    Iter      log prob        ||dx||      ||grad||       alpha      alpha0  # evals  Notes \n",
      "     110       2712.58   1.09355e-07       76.5902      0.6786      0.6786      151   \n",
      "Optimization terminated normally: \n",
      "  Convergence detected: relative gradient magnitude is below tolerance\n"
     ]
    },
    {
     "name": "stderr",
     "output_type": "stream",
     "text": [
      "\r",
      " 77%|███████▋  | 285/370 [05:28<01:36,  1.14s/it]"
     ]
    },
    {
     "name": "stdout",
     "output_type": "stream",
     "text": [
      "Initial log joint probability = -22.0369\n",
      "    Iter      log prob        ||dx||      ||grad||       alpha      alpha0  # evals  Notes \n",
      "      99       2844.85    0.00884246       152.207           1           1      132   \n",
      "    Iter      log prob        ||dx||      ||grad||       alpha      alpha0  # evals  Notes \n",
      "     199       2847.61   0.000130842        86.123      0.4136      0.4136      251   \n",
      "    Iter      log prob        ||dx||      ||grad||       alpha      alpha0  # evals  Notes \n",
      "     269        2847.8   3.14233e-05       83.4602   2.943e-07       0.001      380  LS failed, Hessian reset \n",
      "     299        2847.8   6.06748e-08       81.6891      0.4715      0.4715      418   \n",
      "    Iter      log prob        ||dx||      ||grad||       alpha      alpha0  # evals  Notes \n",
      "     326        2847.8   7.68538e-07       94.4799   7.572e-09       0.001      496  LS failed, Hessian reset \n",
      "     335        2847.8   1.17716e-07        72.305           1           1      507   \n",
      "Optimization terminated normally: \n",
      "  Convergence detected: relative gradient magnitude is below tolerance\n"
     ]
    },
    {
     "name": "stderr",
     "output_type": "stream",
     "text": [
      "\r",
      " 77%|███████▋  | 286/370 [05:29<01:38,  1.17s/it]"
     ]
    },
    {
     "name": "stdout",
     "output_type": "stream",
     "text": [
      "Initial log joint probability = -16.3552\n",
      "    Iter      log prob        ||dx||      ||grad||       alpha      alpha0  # evals  Notes \n",
      "      88       2257.59   0.000179722       87.9344   1.523e-06       0.001      155  LS failed, Hessian reset \n",
      "      99       2257.61   2.06944e-05        90.272      0.7642      0.7642      167   \n",
      "    Iter      log prob        ||dx||      ||grad||       alpha      alpha0  # evals  Notes \n",
      "     119       2257.62   6.71108e-05       101.317   6.247e-07       0.001      234  LS failed, Hessian reset \n",
      "     151       2257.62   8.63106e-08        93.131      0.6974      0.6974      271   \n",
      "Optimization terminated normally: \n",
      "  Convergence detected: relative gradient magnitude is below tolerance\n"
     ]
    },
    {
     "name": "stderr",
     "output_type": "stream",
     "text": [
      "\r",
      " 78%|███████▊  | 287/370 [05:30<01:36,  1.16s/it]"
     ]
    },
    {
     "name": "stdout",
     "output_type": "stream",
     "text": [
      "Initial log joint probability = -8.99846\n",
      "    Iter      log prob        ||dx||      ||grad||       alpha      alpha0  # evals  Notes \n",
      "      60       2865.81   0.000252524       166.217   2.527e-06       0.001      115  LS failed, Hessian reset \n",
      "      99       2866.04   0.000614079       94.2686           1           1      162   \n",
      "    Iter      log prob        ||dx||      ||grad||       alpha      alpha0  # evals  Notes \n",
      "     163       2866.49   5.79146e-05       73.4836    7.39e-07       0.001      291  LS failed, Hessian reset \n",
      "     184       2866.49   3.75936e-08       50.4414      0.2222      0.2222      321   \n",
      "Optimization terminated normally: \n",
      "  Convergence detected: relative gradient magnitude is below tolerance\n"
     ]
    },
    {
     "name": "stderr",
     "output_type": "stream",
     "text": [
      "\r",
      " 78%|███████▊  | 288/370 [05:31<01:34,  1.15s/it]"
     ]
    },
    {
     "name": "stdout",
     "output_type": "stream",
     "text": [
      "Initial log joint probability = -9.02834\n",
      "    Iter      log prob        ||dx||      ||grad||       alpha      alpha0  # evals  Notes \n",
      "      99       2656.39   5.99563e-06        90.215      0.8124      0.8124      123   \n",
      "    Iter      log prob        ||dx||      ||grad||       alpha      alpha0  # evals  Notes \n",
      "     165        2656.4   3.39428e-06       84.3309   3.327e-08       0.001      251  LS failed, Hessian reset \n",
      "     179        2656.4   1.85073e-07       74.2143      0.4512      0.4512      268   \n",
      "Optimization terminated normally: \n",
      "  Convergence detected: relative gradient magnitude is below tolerance\n"
     ]
    },
    {
     "name": "stderr",
     "output_type": "stream",
     "text": [
      "\r",
      " 78%|███████▊  | 289/370 [05:33<01:32,  1.14s/it]"
     ]
    },
    {
     "name": "stdout",
     "output_type": "stream",
     "text": [
      "Initial log joint probability = -23.7338\n",
      "    Iter      log prob        ||dx||      ||grad||       alpha      alpha0  # evals  Notes \n",
      "      99       1891.03   0.000186445       88.2089      0.5831      0.5831      124   \n",
      "    Iter      log prob        ||dx||      ||grad||       alpha      alpha0  # evals  Notes \n",
      "     139       1891.05   5.57839e-06       75.3899     6.8e-08       0.001      215  LS failed, Hessian reset \n",
      "     159       1891.05   4.07984e-08       70.6606      0.1666      0.5606      242   \n",
      "Optimization terminated normally: \n",
      "  Convergence detected: relative gradient magnitude is below tolerance\n"
     ]
    },
    {
     "name": "stderr",
     "output_type": "stream",
     "text": [
      "\r",
      " 78%|███████▊  | 290/370 [05:34<01:34,  1.18s/it]"
     ]
    },
    {
     "name": "stdout",
     "output_type": "stream",
     "text": [
      "Initial log joint probability = -34.0768\n",
      "    Iter      log prob        ||dx||      ||grad||       alpha      alpha0  # evals  Notes \n",
      "      99       484.829   1.02024e-05       99.8681      0.2306      0.7028      123   \n",
      "    Iter      log prob        ||dx||      ||grad||       alpha      alpha0  # evals  Notes \n",
      "     136       484.833   7.25049e-09       91.8522      0.2108      0.2108      170   \n",
      "Optimization terminated normally: \n",
      "  Convergence detected: absolute parameter change was below tolerance\n"
     ]
    },
    {
     "name": "stderr",
     "output_type": "stream",
     "text": [
      "\r",
      " 79%|███████▊  | 291/370 [05:35<01:28,  1.12s/it]"
     ]
    },
    {
     "name": "stdout",
     "output_type": "stream",
     "text": [
      "Initial log joint probability = -14.6349\n",
      "    Iter      log prob        ||dx||      ||grad||       alpha      alpha0  # evals  Notes \n",
      "      76       2256.65   4.42188e-05       73.3917   4.876e-07       0.001      136  LS failed, Hessian reset \n",
      "      99       2256.65   1.11351e-06       68.2121           1           1      166   \n",
      "    Iter      log prob        ||dx||      ||grad||       alpha      alpha0  # evals  Notes \n",
      "     110       2256.65    3.1127e-07       64.9519   4.126e-09       0.001      219  LS failed, Hessian reset \n",
      "     111       2256.65   1.52878e-07       47.8559           1           1      220   \n",
      "Optimization terminated normally: \n",
      "  Convergence detected: relative gradient magnitude is below tolerance\n"
     ]
    },
    {
     "name": "stderr",
     "output_type": "stream",
     "text": [
      "\r",
      " 79%|███████▉  | 292/370 [05:36<01:26,  1.11s/it]"
     ]
    },
    {
     "name": "stdout",
     "output_type": "stream",
     "text": [
      "Initial log joint probability = -8.78217\n",
      "    Iter      log prob        ||dx||      ||grad||       alpha      alpha0  # evals  Notes \n",
      "      99       2691.66   1.03337e-06       66.4886      0.3909      0.3909      125   \n",
      "    Iter      log prob        ||dx||      ||grad||       alpha      alpha0  # evals  Notes \n",
      "     137       2691.66   3.92452e-06       98.4184   4.468e-08       0.001      208  LS failed, Hessian reset \n",
      "     153       2691.66   8.21918e-08        90.374      0.2541      0.2541      228   \n",
      "Optimization terminated normally: \n",
      "  Convergence detected: relative gradient magnitude is below tolerance\n"
     ]
    },
    {
     "name": "stderr",
     "output_type": "stream",
     "text": [
      "\r",
      " 79%|███████▉  | 293/370 [05:37<01:25,  1.11s/it]"
     ]
    },
    {
     "name": "stdout",
     "output_type": "stream",
     "text": [
      "Initial log joint probability = -6.34506\n",
      "    Iter      log prob        ||dx||      ||grad||       alpha      alpha0  # evals  Notes \n",
      "      99       3062.45   0.000252628       69.0231      0.9088      0.9088      135   \n",
      "    Iter      log prob        ||dx||      ||grad||       alpha      alpha0  # evals  Notes \n",
      "     123       3062.64   0.000281247       141.802    3.53e-06       0.001      214  LS failed, Hessian reset \n",
      "     172       3062.75   8.71258e-05       85.6663   7.993e-07       0.001      313  LS failed, Hessian reset \n",
      "     199       3062.76   3.44427e-07       77.1111     0.05117      0.7006      353   \n",
      "    Iter      log prob        ||dx||      ||grad||       alpha      alpha0  # evals  Notes \n",
      "     205       3062.76   1.58135e-07       65.1084      0.5502      0.5502      360   \n",
      "Optimization terminated normally: \n",
      "  Convergence detected: relative gradient magnitude is below tolerance\n"
     ]
    },
    {
     "name": "stderr",
     "output_type": "stream",
     "text": [
      "\r",
      " 79%|███████▉  | 294/370 [05:38<01:28,  1.17s/it]"
     ]
    },
    {
     "name": "stdout",
     "output_type": "stream",
     "text": [
      "Initial log joint probability = -12.1624\n",
      "    Iter      log prob        ||dx||      ||grad||       alpha      alpha0  # evals  Notes \n",
      "      99       2165.53   2.20708e-05       87.6304       0.219           1      132   \n",
      "    Iter      log prob        ||dx||      ||grad||       alpha      alpha0  # evals  Notes \n",
      "     146       2165.54   4.54557e-08       65.5371      0.2107           1      198   \n",
      "Optimization terminated normally: \n",
      "  Convergence detected: relative gradient magnitude is below tolerance\n"
     ]
    },
    {
     "name": "stderr",
     "output_type": "stream",
     "text": [
      "\r",
      " 80%|███████▉  | 295/370 [05:39<01:25,  1.14s/it]"
     ]
    },
    {
     "name": "stdout",
     "output_type": "stream",
     "text": [
      "Initial log joint probability = -25.4766\n",
      "    Iter      log prob        ||dx||      ||grad||       alpha      alpha0  # evals  Notes \n",
      "      99       1638.61   1.13831e-05       92.0118      0.4473           1      120   \n",
      "    Iter      log prob        ||dx||      ||grad||       alpha      alpha0  # evals  Notes \n",
      "     133       1638.66    0.00017069       70.8656   2.516e-06       0.001      195  LS failed, Hessian reset \n",
      "     199       1638.78   9.73412e-07       100.925      0.4206      0.4206      278   \n",
      "    Iter      log prob        ||dx||      ||grad||       alpha      alpha0  # evals  Notes \n",
      "     225       1638.78   1.04765e-07       101.818      0.7441      0.7441      311   \n",
      "Optimization terminated normally: \n",
      "  Convergence detected: relative gradient magnitude is below tolerance\n"
     ]
    },
    {
     "name": "stderr",
     "output_type": "stream",
     "text": [
      "\r",
      " 80%|████████  | 296/370 [05:41<01:23,  1.13s/it]"
     ]
    },
    {
     "name": "stdout",
     "output_type": "stream",
     "text": [
      "Initial log joint probability = -54.7793\n",
      "    Iter      log prob        ||dx||      ||grad||       alpha      alpha0  # evals  Notes \n",
      "      99       1923.24     0.0266892       131.591           1           1      143   \n",
      "    Iter      log prob        ||dx||      ||grad||       alpha      alpha0  # evals  Notes \n",
      "     151       1924.52   0.000968173       76.2863   6.789e-06       0.001      256  LS failed, Hessian reset \n",
      "     199       1924.59   5.29826e-05       65.6931       1.783      0.4673      320   \n",
      "    Iter      log prob        ||dx||      ||grad||       alpha      alpha0  # evals  Notes \n",
      "     257        1924.6   2.21159e-05       87.8487   2.205e-07       0.001      441  LS failed, Hessian reset \n",
      "     299        1924.6   1.51437e-06       93.3831      0.6741           1      494   \n",
      "    Iter      log prob        ||dx||      ||grad||       alpha      alpha0  # evals  Notes \n",
      "     343        1924.6   1.54508e-07       66.4582      0.2403           1      554   \n",
      "Optimization terminated normally: \n",
      "  Convergence detected: relative gradient magnitude is below tolerance\n"
     ]
    },
    {
     "name": "stderr",
     "output_type": "stream",
     "text": [
      "\r",
      " 80%|████████  | 297/370 [05:42<01:25,  1.18s/it]"
     ]
    },
    {
     "name": "stdout",
     "output_type": "stream",
     "text": [
      "Initial log joint probability = -15.2952\n",
      "    Iter      log prob        ||dx||      ||grad||       alpha      alpha0  # evals  Notes \n",
      "      99       2238.16   1.24501e-06        92.647       0.361           1      132   \n",
      "    Iter      log prob        ||dx||      ||grad||       alpha      alpha0  # evals  Notes \n",
      "     115       2238.16   3.67034e-06       109.105   3.919e-08       0.001      186  LS failed, Hessian reset \n",
      "     130       2238.16   6.99199e-08       101.157       0.266      0.8415      205   \n",
      "Optimization terminated normally: \n",
      "  Convergence detected: relative gradient magnitude is below tolerance\n"
     ]
    },
    {
     "name": "stderr",
     "output_type": "stream",
     "text": [
      "\r",
      " 81%|████████  | 298/370 [05:43<01:22,  1.15s/it]"
     ]
    },
    {
     "name": "stdout",
     "output_type": "stream",
     "text": [
      "Initial log joint probability = -34.9765\n",
      "    Iter      log prob        ||dx||      ||grad||       alpha      alpha0  # evals  Notes \n",
      "      99       1850.22    0.00430124       85.4737       1.627       0.476      126   \n",
      "    Iter      log prob        ||dx||      ||grad||       alpha      alpha0  # evals  Notes \n",
      "     199       1850.44   0.000152426       92.0874      0.4822      0.4822      249   \n",
      "    Iter      log prob        ||dx||      ||grad||       alpha      alpha0  # evals  Notes \n",
      "     242       1850.59   0.000195441       92.9923   2.114e-06       0.001      339  LS failed, Hessian reset \n",
      "     299       1850.63   0.000453668       94.0318           1           1      404   \n",
      "    Iter      log prob        ||dx||      ||grad||       alpha      alpha0  # evals  Notes \n",
      "     318       1850.69   0.000108512       87.0467   1.016e-06       0.001      461  LS failed, Hessian reset \n",
      "     394       1850.72   9.54247e-08       97.2236      0.6214      0.6214      551   \n",
      "Optimization terminated normally: \n",
      "  Convergence detected: relative gradient magnitude is below tolerance\n"
     ]
    },
    {
     "name": "stderr",
     "output_type": "stream",
     "text": [
      "\r",
      " 81%|████████  | 299/370 [05:44<01:27,  1.23s/it]"
     ]
    },
    {
     "name": "stdout",
     "output_type": "stream",
     "text": [
      "Initial log joint probability = -10.512\n",
      "    Iter      log prob        ||dx||      ||grad||       alpha      alpha0  # evals  Notes \n",
      "      99       2677.23    0.00353604       150.811      0.2952           1      127   \n",
      "    Iter      log prob        ||dx||      ||grad||       alpha      alpha0  # evals  Notes \n",
      "     130        2677.9    0.00172306       237.026   1.024e-05       0.001      186  LS failed, Hessian reset \n",
      "     197       2678.28   1.16592e-07       87.1522      0.1797           1      273   \n",
      "Optimization terminated normally: \n",
      "  Convergence detected: relative gradient magnitude is below tolerance\n"
     ]
    },
    {
     "name": "stderr",
     "output_type": "stream",
     "text": [
      "\r",
      " 81%|████████  | 300/370 [05:45<01:24,  1.20s/it]"
     ]
    },
    {
     "name": "stdout",
     "output_type": "stream",
     "text": [
      "Initial log joint probability = -23.609\n",
      "    Iter      log prob        ||dx||      ||grad||       alpha      alpha0  # evals  Notes \n",
      "      99       1822.66   2.79292e-05       82.5124      0.8184      0.8184      118   \n",
      "    Iter      log prob        ||dx||      ||grad||       alpha      alpha0  # evals  Notes \n",
      "     121       1822.67   1.07226e-07       90.4905      0.3759           1      151   \n",
      "Optimization terminated normally: \n",
      "  Convergence detected: relative gradient magnitude is below tolerance\n"
     ]
    },
    {
     "name": "stderr",
     "output_type": "stream",
     "text": [
      "\r",
      " 81%|████████▏ | 301/370 [05:47<01:19,  1.16s/it]"
     ]
    },
    {
     "name": "stdout",
     "output_type": "stream",
     "text": [
      "Initial log joint probability = -37.9931\n",
      "    Iter      log prob        ||dx||      ||grad||       alpha      alpha0  # evals  Notes \n",
      "      99       2173.56    0.00167299       66.6053           1           1      136   \n",
      "    Iter      log prob        ||dx||      ||grad||       alpha      alpha0  # evals  Notes \n",
      "     104       2173.73     0.0004793       148.663   5.624e-06       0.001      177  LS failed, Hessian reset \n",
      "     178       2173.96   0.000282754       62.0302   3.166e-06       0.001      313  LS failed, Hessian reset \n",
      "     199       2173.98   1.34858e-05       74.7447       2.874      0.2874      343   \n",
      "    Iter      log prob        ||dx||      ||grad||       alpha      alpha0  # evals  Notes \n",
      "     213       2173.98   2.09255e-05       67.4358   2.438e-07       0.001      397  LS failed, Hessian reset \n",
      "     234       2173.98   6.72297e-08       53.6412      0.2495           1      426   \n",
      "Optimization terminated normally: \n",
      "  Convergence detected: relative gradient magnitude is below tolerance\n"
     ]
    },
    {
     "name": "stderr",
     "output_type": "stream",
     "text": [
      "\r",
      " 82%|████████▏ | 302/370 [05:48<01:19,  1.18s/it]"
     ]
    },
    {
     "name": "stdout",
     "output_type": "stream",
     "text": [
      "Initial log joint probability = -10.0524\n",
      "    Iter      log prob        ||dx||      ||grad||       alpha      alpha0  # evals  Notes \n",
      "      99       2717.93   9.45995e-06       81.0232       0.634       0.634      131   \n",
      "    Iter      log prob        ||dx||      ||grad||       alpha      alpha0  # evals  Notes \n",
      "     138       2717.93   4.52639e-08       87.7648      0.3894      0.3894      176   \n",
      "Optimization terminated normally: \n",
      "  Convergence detected: relative gradient magnitude is below tolerance\n"
     ]
    },
    {
     "name": "stderr",
     "output_type": "stream",
     "text": [
      "\r",
      " 82%|████████▏ | 303/370 [05:49<01:16,  1.14s/it]"
     ]
    },
    {
     "name": "stdout",
     "output_type": "stream",
     "text": [
      "Initial log joint probability = -12.3582\n",
      "    Iter      log prob        ||dx||      ||grad||       alpha      alpha0  # evals  Notes \n",
      "      99       2522.43    0.00168049       103.593           1           1      126   \n",
      "    Iter      log prob        ||dx||      ||grad||       alpha      alpha0  # evals  Notes \n",
      "     102       2522.48   0.000829926       122.576   1.019e-05       0.001      178  LS failed, Hessian reset \n",
      "     199       2522.56   1.30319e-07       84.1704      0.2558           1      302   \n",
      "Optimization terminated normally: \n",
      "  Convergence detected: relative gradient magnitude is below tolerance\n"
     ]
    },
    {
     "name": "stderr",
     "output_type": "stream",
     "text": [
      "\r",
      " 82%|████████▏ | 304/370 [05:50<01:18,  1.19s/it]"
     ]
    },
    {
     "name": "stdout",
     "output_type": "stream",
     "text": [
      "Initial log joint probability = -23.5107\n",
      "    Iter      log prob        ||dx||      ||grad||       alpha      alpha0  # evals  Notes \n",
      "      99       597.927   5.03625e-05       95.0968      0.6154      0.6154      118   \n",
      "    Iter      log prob        ||dx||      ||grad||       alpha      alpha0  # evals  Notes \n",
      "     151       597.941   7.14368e-09       90.3807      0.2799      0.2799      185   \n",
      "Optimization terminated normally: \n",
      "  Convergence detected: absolute parameter change was below tolerance\n"
     ]
    },
    {
     "name": "stderr",
     "output_type": "stream",
     "text": [
      "\r",
      " 82%|████████▏ | 305/370 [05:51<01:13,  1.13s/it]"
     ]
    },
    {
     "name": "stdout",
     "output_type": "stream",
     "text": [
      "Initial log joint probability = -15.4108\n",
      "    Iter      log prob        ||dx||      ||grad||       alpha      alpha0  # evals  Notes \n",
      "      99       2895.51    0.00102645       68.2082           1           1      131   \n",
      "    Iter      log prob        ||dx||      ||grad||       alpha      alpha0  # evals  Notes \n",
      "     118       2895.85   0.000141033       116.158   8.891e-07       0.001      189  LS failed, Hessian reset \n",
      "     173        2895.9   2.07598e-06       69.5162   2.714e-08       0.001      310  LS failed, Hessian reset \n",
      "     182        2895.9   7.53891e-08       69.7327      0.3935      0.3935      324   \n",
      "Optimization terminated normally: \n",
      "  Convergence detected: relative gradient magnitude is below tolerance\n"
     ]
    },
    {
     "name": "stderr",
     "output_type": "stream",
     "text": [
      "\r",
      " 83%|████████▎ | 306/370 [05:52<01:12,  1.14s/it]"
     ]
    },
    {
     "name": "stdout",
     "output_type": "stream",
     "text": [
      "Initial log joint probability = -19.5615\n",
      "    Iter      log prob        ||dx||      ||grad||       alpha      alpha0  # evals  Notes \n",
      "      99       1970.56   0.000205218        86.898           1           1      121   \n",
      "    Iter      log prob        ||dx||      ||grad||       alpha      alpha0  # evals  Notes \n",
      "     175       1970.59   1.84794e-07       66.9182     0.02906           1      221   \n",
      "Optimization terminated normally: \n",
      "  Convergence detected: relative gradient magnitude is below tolerance\n"
     ]
    },
    {
     "name": "stderr",
     "output_type": "stream",
     "text": [
      "\r",
      " 83%|████████▎ | 307/370 [05:53<01:10,  1.12s/it]"
     ]
    },
    {
     "name": "stdout",
     "output_type": "stream",
     "text": [
      "Initial log joint probability = -11.9924\n",
      "    Iter      log prob        ||dx||      ||grad||       alpha      alpha0  # evals  Notes \n",
      "      99       2400.77   1.01362e-05       36.8553      0.3973           1      125   \n",
      "    Iter      log prob        ||dx||      ||grad||       alpha      alpha0  # evals  Notes \n",
      "     118       2400.77   1.42719e-07       58.9491      0.2634      0.5676      156   \n",
      "Optimization terminated normally: \n",
      "  Convergence detected: relative gradient magnitude is below tolerance\n"
     ]
    },
    {
     "name": "stderr",
     "output_type": "stream",
     "text": [
      "\r",
      " 83%|████████▎ | 308/370 [05:55<01:11,  1.15s/it]"
     ]
    },
    {
     "name": "stdout",
     "output_type": "stream",
     "text": [
      "Initial log joint probability = -5.45735\n",
      "    Iter      log prob        ||dx||      ||grad||       alpha      alpha0  # evals  Notes \n",
      "      99       3202.25    0.00020857       61.4117      0.8016      0.8016      123   \n",
      "    Iter      log prob        ||dx||      ||grad||       alpha      alpha0  # evals  Notes \n",
      "     136       3202.29   7.21369e-06       72.3688   8.369e-08       0.001      202  LS failed, Hessian reset \n",
      "     149       3202.29   4.83708e-08       68.7497      0.2773      0.2773      220   \n",
      "Optimization terminated normally: \n",
      "  Convergence detected: relative gradient magnitude is below tolerance\n"
     ]
    },
    {
     "name": "stderr",
     "output_type": "stream",
     "text": [
      "\r",
      " 84%|████████▎ | 309/370 [05:56<01:08,  1.13s/it]"
     ]
    },
    {
     "name": "stdout",
     "output_type": "stream",
     "text": [
      "Initial log joint probability = -241.416\n",
      "    Iter      log prob        ||dx||      ||grad||       alpha      alpha0  # evals  Notes \n",
      "      99        3029.3    0.00662268       463.413      0.6834      0.6834      128   \n",
      "    Iter      log prob        ||dx||      ||grad||       alpha      alpha0  # evals  Notes \n",
      "     189       3037.34    0.00040054       310.062   1.809e-06       0.001      302  LS failed, Hessian reset \n",
      "     199       3038.31    0.00327157       128.755           1           1      312   \n",
      "    Iter      log prob        ||dx||      ||grad||       alpha      alpha0  # evals  Notes \n",
      "     297       3042.07      0.012192       256.295    0.000118       0.001      523  LS failed, Hessian reset \n",
      "     299       3042.21   0.000514205       306.308       1.145      0.1145      527   \n",
      "    Iter      log prob        ||dx||      ||grad||       alpha      alpha0  # evals  Notes \n",
      "     365       3043.99    4.1814e-07       70.3465      0.7512      0.7512      612   \n",
      "Optimization terminated normally: \n",
      "  Convergence detected: relative gradient magnitude is below tolerance\n"
     ]
    },
    {
     "name": "stderr",
     "output_type": "stream",
     "text": [
      "\r",
      " 84%|████████▍ | 310/370 [05:57<01:10,  1.18s/it]"
     ]
    },
    {
     "name": "stdout",
     "output_type": "stream",
     "text": [
      "Initial log joint probability = -13.0769\n",
      "    Iter      log prob        ||dx||      ||grad||       alpha      alpha0  # evals  Notes \n",
      "      99       1132.27   5.87163e-08        89.862     0.06004     0.06004      118   \n",
      "    Iter      log prob        ||dx||      ||grad||       alpha      alpha0  # evals  Notes \n",
      "     124       1132.27   1.53416e-07       97.9987      0.1845           1      149   \n",
      "Optimization terminated normally: \n",
      "  Convergence detected: relative gradient magnitude is below tolerance\n"
     ]
    },
    {
     "name": "stderr",
     "output_type": "stream",
     "text": [
      "\r",
      " 84%|████████▍ | 311/370 [05:58<01:06,  1.13s/it]"
     ]
    },
    {
     "name": "stdout",
     "output_type": "stream",
     "text": [
      "Initial log joint probability = -22.4283\n",
      "    Iter      log prob        ||dx||      ||grad||       alpha      alpha0  # evals  Notes \n",
      "      99       2180.33    0.00308417       180.664      0.2526      0.2526      123   \n",
      "    Iter      log prob        ||dx||      ||grad||       alpha      alpha0  # evals  Notes \n",
      "     179       2182.18   5.58686e-05       64.5917     7.8e-07       0.001      302  LS failed, Hessian reset \n",
      "     199       2182.18   5.02931e-06       60.9091           1           1      331   \n",
      "    Iter      log prob        ||dx||      ||grad||       alpha      alpha0  # evals  Notes \n",
      "     233       2182.19   3.11907e-08       55.3252      0.1745           1      387   \n",
      "Optimization terminated normally: \n",
      "  Convergence detected: relative gradient magnitude is below tolerance\n"
     ]
    },
    {
     "name": "stderr",
     "output_type": "stream",
     "text": [
      "\r",
      " 84%|████████▍ | 312/370 [05:59<01:06,  1.14s/it]"
     ]
    },
    {
     "name": "stdout",
     "output_type": "stream",
     "text": [
      "Initial log joint probability = -7.03693\n",
      "    Iter      log prob        ||dx||      ||grad||       alpha      alpha0  # evals  Notes \n",
      "      98       2866.46   4.01734e-05         94.79   4.277e-07       0.001      184  LS failed, Hessian reset \n",
      "      99       2866.47   3.49119e-05       88.2844           1           1      185   \n",
      "    Iter      log prob        ||dx||      ||grad||       alpha      alpha0  # evals  Notes \n",
      "     131       2866.47   1.08964e-07        77.498   1.529e-09       0.001      265  LS failed, Hessian reset \n",
      "Optimization terminated normally: \n",
      "  Convergence detected: relative gradient magnitude is below tolerance\n"
     ]
    },
    {
     "name": "stderr",
     "output_type": "stream",
     "text": [
      "\r",
      " 85%|████████▍ | 313/370 [06:00<01:07,  1.18s/it]"
     ]
    },
    {
     "name": "stdout",
     "output_type": "stream",
     "text": [
      "Initial log joint probability = -21.0963\n",
      "    Iter      log prob        ||dx||      ||grad||       alpha      alpha0  # evals  Notes \n",
      "      99       431.011   1.26975e-07       94.5641      0.2265      0.2265      129   \n",
      "    Iter      log prob        ||dx||      ||grad||       alpha      alpha0  # evals  Notes \n",
      "     121       431.011   1.82312e-07       99.8989   1.787e-09       0.001      197  LS failed, Hessian reset \n",
      "     130       431.011   8.25657e-09       95.3382       0.541       0.541      209   \n",
      "Optimization terminated normally: \n",
      "  Convergence detected: absolute parameter change was below tolerance\n"
     ]
    },
    {
     "name": "stderr",
     "output_type": "stream",
     "text": [
      "\r",
      " 85%|████████▍ | 314/370 [06:01<01:03,  1.13s/it]"
     ]
    },
    {
     "name": "stdout",
     "output_type": "stream",
     "text": [
      "Initial log joint probability = -27.8571\n",
      "    Iter      log prob        ||dx||      ||grad||       alpha      alpha0  # evals  Notes \n",
      "      99       2480.27   4.45149e-05       104.776       2.087      0.2087      135   \n",
      "    Iter      log prob        ||dx||      ||grad||       alpha      alpha0  # evals  Notes \n",
      "     108       2480.35   0.000289613       145.252   1.438e-06       0.001      178  LS failed, Hessian reset \n",
      "     152       2480.42   3.34131e-08       77.0087      0.1567           1      240   \n",
      "Optimization terminated normally: \n",
      "  Convergence detected: relative gradient magnitude is below tolerance\n"
     ]
    },
    {
     "name": "stderr",
     "output_type": "stream",
     "text": [
      "\r",
      " 85%|████████▌ | 315/370 [06:02<01:01,  1.11s/it]"
     ]
    },
    {
     "name": "stdout",
     "output_type": "stream",
     "text": [
      "Initial log joint probability = -38.4593\n",
      "    Iter      log prob        ||dx||      ||grad||       alpha      alpha0  # evals  Notes \n",
      "      99       1410.31    1.0476e-05       93.7271           1           1      124   \n",
      "    Iter      log prob        ||dx||      ||grad||       alpha      alpha0  # evals  Notes \n",
      "     135       1410.31   2.31547e-08       93.1306      0.1625           1      171   \n",
      "Optimization terminated normally: \n",
      "  Convergence detected: relative gradient magnitude is below tolerance\n"
     ]
    },
    {
     "name": "stderr",
     "output_type": "stream",
     "text": [
      "\r",
      " 85%|████████▌ | 316/370 [06:04<00:59,  1.10s/it]"
     ]
    },
    {
     "name": "stdout",
     "output_type": "stream",
     "text": [
      "Initial log joint probability = -43.5171\n",
      "    Iter      log prob        ||dx||      ||grad||       alpha      alpha0  # evals  Notes \n",
      "      99       1625.46   0.000198652       103.708      0.3289           1      121   \n",
      "    Iter      log prob        ||dx||      ||grad||       alpha      alpha0  # evals  Notes \n",
      "     176        1625.7   3.58081e-08       73.2412      0.2254      0.2254      216   \n",
      "Optimization terminated normally: \n",
      "  Convergence detected: relative gradient magnitude is below tolerance\n"
     ]
    },
    {
     "name": "stderr",
     "output_type": "stream",
     "text": [
      "\r",
      " 86%|████████▌ | 317/370 [06:05<00:59,  1.13s/it]"
     ]
    },
    {
     "name": "stdout",
     "output_type": "stream",
     "text": [
      "Initial log joint probability = -21.4583\n",
      "    Iter      log prob        ||dx||      ||grad||       alpha      alpha0  # evals  Notes \n",
      "      93       1919.21   0.000168785       81.8139   1.804e-06       0.001      168  LS failed, Hessian reset \n",
      "      99       1919.22   1.48139e-05       75.2271      0.3151           1      179   \n",
      "    Iter      log prob        ||dx||      ||grad||       alpha      alpha0  # evals  Notes \n",
      "     120       1919.22   4.60611e-08        74.206      0.3172      0.3172      211   \n",
      "Optimization terminated normally: \n",
      "  Convergence detected: relative gradient magnitude is below tolerance\n"
     ]
    },
    {
     "name": "stderr",
     "output_type": "stream",
     "text": [
      "\r",
      " 86%|████████▌ | 318/370 [06:06<00:58,  1.12s/it]"
     ]
    },
    {
     "name": "stdout",
     "output_type": "stream",
     "text": [
      "Initial log joint probability = -125.329\n",
      "    Iter      log prob        ||dx||      ||grad||       alpha      alpha0  # evals  Notes \n",
      "      99        1014.5    0.00861282       111.439      0.3673           1      127   \n",
      "    Iter      log prob        ||dx||      ||grad||       alpha      alpha0  # evals  Notes \n",
      "     188       1018.05   9.53923e-09        75.068   0.0002308           1      247   \n",
      "Optimization terminated normally: \n",
      "  Convergence detected: absolute parameter change was below tolerance\n"
     ]
    },
    {
     "name": "stderr",
     "output_type": "stream",
     "text": [
      "\r",
      " 86%|████████▌ | 319/370 [06:07<00:55,  1.09s/it]"
     ]
    },
    {
     "name": "stdout",
     "output_type": "stream",
     "text": [
      "Initial log joint probability = -18.8603\n",
      "    Iter      log prob        ||dx||      ||grad||       alpha      alpha0  # evals  Notes \n",
      "      99        1471.7    8.1309e-08       92.1151      0.2302           1      126   \n",
      "Optimization terminated normally: \n",
      "  Convergence detected: relative gradient magnitude is below tolerance\n"
     ]
    },
    {
     "name": "stderr",
     "output_type": "stream",
     "text": [
      "\r",
      " 86%|████████▋ | 320/370 [06:08<00:53,  1.07s/it]"
     ]
    },
    {
     "name": "stdout",
     "output_type": "stream",
     "text": [
      "Initial log joint probability = -6.03201\n",
      "    Iter      log prob        ||dx||      ||grad||       alpha      alpha0  # evals  Notes \n",
      "      45       2572.34   8.39258e-05       75.7352   9.268e-07       0.001      102  LS failed, Hessian reset \n",
      "      76       2572.34   1.00108e-07       57.8899      0.3142      0.8338      141   \n",
      "Optimization terminated normally: \n",
      "  Convergence detected: relative gradient magnitude is below tolerance\n"
     ]
    },
    {
     "name": "stderr",
     "output_type": "stream",
     "text": [
      "\r",
      " 87%|████████▋ | 321/370 [06:09<00:53,  1.10s/it]"
     ]
    },
    {
     "name": "stdout",
     "output_type": "stream",
     "text": [
      "Initial log joint probability = -18.9512\n",
      "    Iter      log prob        ||dx||      ||grad||       alpha      alpha0  # evals  Notes \n",
      "      99       1267.21   0.000219705       80.4955           1           1      126   \n",
      "    Iter      log prob        ||dx||      ||grad||       alpha      alpha0  # evals  Notes \n",
      "     147       1267.23   9.09059e-08       89.6949      0.4054      0.4054      186   \n",
      "Optimization terminated normally: \n",
      "  Convergence detected: relative gradient magnitude is below tolerance\n"
     ]
    },
    {
     "name": "stderr",
     "output_type": "stream",
     "text": [
      "\r",
      " 87%|████████▋ | 322/370 [06:10<00:51,  1.08s/it]"
     ]
    },
    {
     "name": "stdout",
     "output_type": "stream",
     "text": [
      "Initial log joint probability = -6.71175\n",
      "    Iter      log prob        ||dx||      ||grad||       alpha      alpha0  # evals  Notes \n",
      "      99        2656.6   0.000605405       62.9681           1           1      129   \n",
      "    Iter      log prob        ||dx||      ||grad||       alpha      alpha0  # evals  Notes \n",
      "     172       2656.73   7.57965e-06       71.1117   1.028e-07       0.001      272  LS failed, Hessian reset \n",
      "     199       2656.73   7.06204e-07       82.5774      0.1476      0.1476      314   \n",
      "    Iter      log prob        ||dx||      ||grad||       alpha      alpha0  # evals  Notes \n",
      "     211       2656.74   8.85853e-08       59.7421      0.2507           1      331   \n",
      "Optimization terminated normally: \n",
      "  Convergence detected: relative gradient magnitude is below tolerance\n"
     ]
    },
    {
     "name": "stderr",
     "output_type": "stream",
     "text": [
      "\r",
      " 87%|████████▋ | 323/370 [06:11<00:51,  1.09s/it]"
     ]
    },
    {
     "name": "stdout",
     "output_type": "stream",
     "text": [
      "Initial log joint probability = -5.90038\n",
      "    Iter      log prob        ||dx||      ||grad||       alpha      alpha0  # evals  Notes \n",
      "      99       2258.24   2.07103e-06       80.3516           1           1      136   \n",
      "    Iter      log prob        ||dx||      ||grad||       alpha      alpha0  # evals  Notes \n",
      "     129       2258.24   1.96873e-06       88.1497   2.474e-08       0.001      211  LS failed, Hessian reset \n",
      "     149       2258.25    2.2863e-08       75.5996     0.07389           1      238   \n",
      "Optimization terminated normally: \n",
      "  Convergence detected: relative gradient magnitude is below tolerance\n"
     ]
    },
    {
     "name": "stderr",
     "output_type": "stream",
     "text": [
      "\r",
      " 88%|████████▊ | 324/370 [06:12<00:49,  1.08s/it]"
     ]
    },
    {
     "name": "stdout",
     "output_type": "stream",
     "text": [
      "Initial log joint probability = -40.0189\n",
      "    Iter      log prob        ||dx||      ||grad||       alpha      alpha0  # evals  Notes \n",
      "      99       1852.22    0.00230292       90.3494      0.4563           1      125   \n",
      "    Iter      log prob        ||dx||      ||grad||       alpha      alpha0  # evals  Notes \n",
      "     134       1852.91   0.000177905       76.2305   2.703e-06       0.001      209  LS failed, Hessian reset \n",
      "     160       1852.93   5.86908e-06       50.7535   1.219e-07       0.001      282  LS failed, Hessian reset \n",
      "     199       1852.93   1.34645e-06       58.3953      0.4293           1      342   \n",
      "    Iter      log prob        ||dx||      ||grad||       alpha      alpha0  # evals  Notes \n",
      "     213       1852.93   2.24273e-06       40.8616   3.144e-08       0.001      396  LS failed, Hessian reset \n",
      "     224       1852.93   2.39789e-08       49.2722      0.0217      0.4127      413   \n",
      "Optimization terminated normally: \n",
      "  Convergence detected: relative gradient magnitude is below tolerance\n"
     ]
    },
    {
     "name": "stderr",
     "output_type": "stream",
     "text": [
      "\r",
      " 88%|████████▊ | 325/370 [06:13<00:49,  1.10s/it]"
     ]
    },
    {
     "name": "stdout",
     "output_type": "stream",
     "text": [
      "Initial log joint probability = -21.9785\n",
      "    Iter      log prob        ||dx||      ||grad||       alpha      alpha0  # evals  Notes \n",
      "      99       1330.08   1.41888e-06       94.4155      0.3758           1      130   \n",
      "    Iter      log prob        ||dx||      ||grad||       alpha      alpha0  # evals  Notes \n",
      "     116       1330.08   4.56311e-08       86.7586      0.3674           1      152   \n",
      "Optimization terminated normally: \n",
      "  Convergence detected: relative gradient magnitude is below tolerance\n"
     ]
    },
    {
     "name": "stderr",
     "output_type": "stream",
     "text": [
      "\r",
      " 88%|████████▊ | 326/370 [06:15<00:49,  1.12s/it]"
     ]
    },
    {
     "name": "stdout",
     "output_type": "stream",
     "text": [
      "Initial log joint probability = -15.2685\n",
      "    Iter      log prob        ||dx||      ||grad||       alpha      alpha0  # evals  Notes \n",
      "      99       1515.37   5.91532e-07       97.2959      0.5406      0.5406      123   \n",
      "    Iter      log prob        ||dx||      ||grad||       alpha      alpha0  # evals  Notes \n",
      "     127       1515.37   6.58914e-08       88.1891      0.7939      0.7939      160   \n",
      "Optimization terminated normally: \n",
      "  Convergence detected: relative gradient magnitude is below tolerance\n"
     ]
    },
    {
     "name": "stderr",
     "output_type": "stream",
     "text": [
      "\r",
      " 88%|████████▊ | 327/370 [06:16<00:47,  1.09s/it]"
     ]
    },
    {
     "name": "stdout",
     "output_type": "stream",
     "text": [
      "Initial log joint probability = -4.80342\n",
      "    Iter      log prob        ||dx||      ||grad||       alpha      alpha0  # evals  Notes \n",
      "      99       1441.16   6.77682e-05       66.8086      0.6134      0.6134      130   \n",
      "    Iter      log prob        ||dx||      ||grad||       alpha      alpha0  # evals  Notes \n",
      "     147       1441.18   4.77689e-08       73.4123      0.3417           1      202   \n",
      "Optimization terminated normally: \n",
      "  Convergence detected: relative gradient magnitude is below tolerance\n"
     ]
    },
    {
     "name": "stderr",
     "output_type": "stream",
     "text": [
      "\r",
      " 89%|████████▊ | 328/370 [06:17<00:45,  1.07s/it]"
     ]
    },
    {
     "name": "stdout",
     "output_type": "stream",
     "text": [
      "Initial log joint probability = -56.8696\n",
      "    Iter      log prob        ||dx||      ||grad||       alpha      alpha0  # evals  Notes \n",
      "      99       1067.48   0.000309678       71.7294      0.3343      0.9522      126   \n",
      "    Iter      log prob        ||dx||      ||grad||       alpha      alpha0  # evals  Notes \n",
      "     196       1067.82   6.19737e-09       101.018      0.1116      0.1116      252   \n",
      "Optimization terminated normally: \n",
      "  Convergence detected: absolute parameter change was below tolerance\n"
     ]
    },
    {
     "name": "stderr",
     "output_type": "stream",
     "text": [
      "\r",
      " 89%|████████▉ | 329/370 [06:18<00:43,  1.07s/it]"
     ]
    },
    {
     "name": "stdout",
     "output_type": "stream",
     "text": [
      "Initial log joint probability = -15.0038\n",
      "    Iter      log prob        ||dx||      ||grad||       alpha      alpha0  # evals  Notes \n",
      "      97       562.683    0.00053921       107.095   5.595e-06       0.001      158  LS failed, Hessian reset \n",
      "      99       562.702   0.000224422       89.3028      0.8511      0.8511      160   \n",
      "    Iter      log prob        ||dx||      ||grad||       alpha      alpha0  # evals  Notes \n",
      "     199       562.742   3.31547e-06       91.1557           1           1      284   \n",
      "    Iter      log prob        ||dx||      ||grad||       alpha      alpha0  # evals  Notes \n",
      "     246       562.742   6.68322e-07       109.283   7.068e-09       0.001      380  LS failed, Hessian reset \n",
      "     262       562.742   1.04597e-08       86.5209      0.3234      0.7644      401   \n",
      "Optimization terminated normally: \n",
      "  Convergence detected: relative gradient magnitude is below tolerance\n"
     ]
    },
    {
     "name": "stderr",
     "output_type": "stream",
     "text": [
      "\r",
      " 89%|████████▉ | 330/370 [06:19<00:44,  1.11s/it]"
     ]
    },
    {
     "name": "stdout",
     "output_type": "stream",
     "text": [
      "Initial log joint probability = -65.0948\n",
      "    Iter      log prob        ||dx||      ||grad||       alpha      alpha0  # evals  Notes \n",
      "      99       988.827   4.47406e-06       84.6142       0.567       0.567      122   \n",
      "    Iter      log prob        ||dx||      ||grad||       alpha      alpha0  # evals  Notes \n",
      "     157       988.829   4.91175e-08       83.0647      0.3072           1      188   \n",
      "Optimization terminated normally: \n",
      "  Convergence detected: relative gradient magnitude is below tolerance\n"
     ]
    },
    {
     "name": "stderr",
     "output_type": "stream",
     "text": [
      "\r",
      " 89%|████████▉ | 331/370 [06:20<00:43,  1.11s/it]"
     ]
    },
    {
     "name": "stdout",
     "output_type": "stream",
     "text": [
      "Initial log joint probability = -27.1145\n",
      "    Iter      log prob        ||dx||      ||grad||       alpha      alpha0  # evals  Notes \n",
      "      99       1605.36   3.09325e-05       68.4546    0.009649           1      140   \n",
      "    Iter      log prob        ||dx||      ||grad||       alpha      alpha0  # evals  Notes \n",
      "     121       1605.38   5.29733e-05       67.0286   7.186e-07       0.001      215  LS failed, Hessian reset \n",
      "     148       1605.38   7.35361e-08       60.4327      0.1142       0.411      248   \n",
      "Optimization terminated normally: \n",
      "  Convergence detected: relative gradient magnitude is below tolerance\n"
     ]
    },
    {
     "name": "stderr",
     "output_type": "stream",
     "text": [
      "\r",
      " 90%|████████▉ | 332/370 [06:21<00:41,  1.10s/it]"
     ]
    },
    {
     "name": "stdout",
     "output_type": "stream",
     "text": [
      "Initial log joint probability = -10.7985\n",
      "    Iter      log prob        ||dx||      ||grad||       alpha      alpha0  # evals  Notes \n",
      "      75       930.045   6.06098e-09       90.2382       0.153       0.153       96   \n",
      "Optimization terminated normally: \n",
      "  Convergence detected: absolute parameter change was below tolerance\n"
     ]
    },
    {
     "name": "stderr",
     "output_type": "stream",
     "text": [
      "\r",
      " 90%|█████████ | 333/370 [06:22<00:39,  1.07s/it]"
     ]
    },
    {
     "name": "stdout",
     "output_type": "stream",
     "text": [
      "Initial log joint probability = -21.1822\n",
      "    Iter      log prob        ||dx||      ||grad||       alpha      alpha0  # evals  Notes \n",
      "      99       1144.18   0.000249836       110.243   2.791e-06       0.001      169  LS failed, Hessian reset \n",
      "    Iter      log prob        ||dx||      ||grad||       alpha      alpha0  # evals  Notes \n",
      "     173        1144.2   6.47802e-09       72.7407      0.1337      0.1337      267   \n",
      "Optimization terminated normally: \n",
      "  Convergence detected: absolute parameter change was below tolerance\n"
     ]
    },
    {
     "name": "stderr",
     "output_type": "stream",
     "text": [
      "\r",
      " 90%|█████████ | 334/370 [06:23<00:38,  1.07s/it]"
     ]
    },
    {
     "name": "stdout",
     "output_type": "stream",
     "text": [
      "Initial log joint probability = -157.566\n",
      "    Iter      log prob        ||dx||      ||grad||       alpha      alpha0  # evals  Notes \n",
      "      99       1905.96    0.00158895       106.849       0.494       0.494      118   \n",
      "    Iter      log prob        ||dx||      ||grad||       alpha      alpha0  # evals  Notes \n",
      "     158          1910   0.000585518       191.988   1.117e-06       0.001      229  LS failed, Hessian reset \n",
      "     199       1912.12    0.00405041       122.331      0.3075      0.7602      279   \n",
      "    Iter      log prob        ||dx||      ||grad||       alpha      alpha0  # evals  Notes \n",
      "     246       1914.33   0.000670629       302.676   2.928e-06       0.001      370  LS failed, Hessian reset \n",
      "     299       1917.42    0.00016694       76.8136        1.26       0.126      435   \n",
      "    Iter      log prob        ||dx||      ||grad||       alpha      alpha0  # evals  Notes \n",
      "     334       1918.21   0.000369076       176.726   1.469e-06       0.001      523  LS failed, Hessian reset \n",
      "     399        1919.4   3.47556e-05       81.9891      0.2885           1      601   \n",
      "    Iter      log prob        ||dx||      ||grad||       alpha      alpha0  # evals  Notes \n",
      "     478        1919.5   6.53495e-08       90.1737      0.2616           1      703   \n",
      "Optimization terminated normally: \n",
      "  Convergence detected: relative gradient magnitude is below tolerance\n"
     ]
    },
    {
     "name": "stderr",
     "output_type": "stream",
     "text": [
      "\r",
      " 91%|█████████ | 335/370 [06:25<00:40,  1.16s/it]"
     ]
    },
    {
     "name": "stdout",
     "output_type": "stream",
     "text": [
      "Initial log joint probability = -15.3425\n",
      "    Iter      log prob        ||dx||      ||grad||       alpha      alpha0  # evals  Notes \n",
      "      47       1441.15    0.00017183       76.7024   1.966e-06       0.001      102  LS failed, Hessian reset \n",
      "      99       1441.17   3.32326e-07       85.2522      0.3636      0.3636      175   \n",
      "    Iter      log prob        ||dx||      ||grad||       alpha      alpha0  # evals  Notes \n",
      "     107       1441.17   4.72923e-05       89.6078   5.573e-07       0.001      222  LS failed, Hessian reset \n",
      "     186        1441.2   0.000180781       85.2563   2.137e-06       0.001      361  LS failed, Hessian reset \n",
      "     199       1441.21   5.44064e-06       75.7009           1           1      378   \n",
      "    Iter      log prob        ||dx||      ||grad||       alpha      alpha0  # evals  Notes \n",
      "     230       1441.21   8.62564e-09       85.5966      0.1056      0.1056      424   \n",
      "Optimization terminated normally: \n",
      "  Convergence detected: absolute parameter change was below tolerance\n"
     ]
    },
    {
     "name": "stderr",
     "output_type": "stream",
     "text": [
      "\r",
      " 91%|█████████ | 336/370 [06:26<00:39,  1.15s/it]"
     ]
    },
    {
     "name": "stdout",
     "output_type": "stream",
     "text": [
      "Initial log joint probability = -10.5301\n",
      "    Iter      log prob        ||dx||      ||grad||       alpha      alpha0  # evals  Notes \n",
      "      99       1624.89   6.32855e-05       62.1218           1           1      126   \n",
      "    Iter      log prob        ||dx||      ||grad||       alpha      alpha0  # evals  Notes \n",
      "     173        1625.1   6.34748e-08       80.3741           1           1      222   \n",
      "Optimization terminated normally: \n",
      "  Convergence detected: relative gradient magnitude is below tolerance\n"
     ]
    },
    {
     "name": "stderr",
     "output_type": "stream",
     "text": [
      "\r",
      " 91%|█████████ | 337/370 [06:27<00:36,  1.12s/it]"
     ]
    },
    {
     "name": "stdout",
     "output_type": "stream",
     "text": [
      "Initial log joint probability = -26.4282\n",
      "    Iter      log prob        ||dx||      ||grad||       alpha      alpha0  # evals  Notes \n",
      "      99       775.168   0.000202898       71.9172      0.6965      0.6965      119   \n",
      "    Iter      log prob        ||dx||      ||grad||       alpha      alpha0  # evals  Notes \n",
      "     161       775.584   0.000193055         75.56   2.077e-06       0.001      236  LS failed, Hessian reset \n",
      "     199       775.592   2.66186e-06       88.7599           1           1      284   \n",
      "    Iter      log prob        ||dx||      ||grad||       alpha      alpha0  # evals  Notes \n",
      "     299       775.599   5.60581e-07        59.239       0.484       0.484      423   \n",
      "    Iter      log prob        ||dx||      ||grad||       alpha      alpha0  # evals  Notes \n",
      "     363       775.621   1.16623e-05        48.584   1.442e-07       0.001      567  LS failed, Hessian reset \n",
      "     399       775.628   0.000152813       73.2629           1           1      621   \n",
      "    Iter      log prob        ||dx||      ||grad||       alpha      alpha0  # evals  Notes \n",
      "     442       775.639   6.32278e-06       63.9102   9.108e-08       0.001      725  LS failed, Hessian reset \n",
      "     466       775.639   5.16903e-08       65.7031      0.4124           1      758   \n",
      "Optimization terminated normally: \n",
      "  Convergence detected: relative gradient magnitude is below tolerance\n"
     ]
    },
    {
     "name": "stderr",
     "output_type": "stream",
     "text": [
      "\r",
      " 91%|█████████▏| 338/370 [06:28<00:35,  1.11s/it]"
     ]
    },
    {
     "name": "stdout",
     "output_type": "stream",
     "text": [
      "Initial log joint probability = -13.0003\n",
      "    Iter      log prob        ||dx||      ||grad||       alpha      alpha0  # evals  Notes \n",
      "      99        966.82    3.3227e-06       92.7477           1           1      124   \n",
      "    Iter      log prob        ||dx||      ||grad||       alpha      alpha0  # evals  Notes \n",
      "     115       966.822   1.99329e-05       87.5521   1.933e-07       0.001      186  LS failed, Hessian reset \n",
      "     159       966.824   8.29135e-09       97.2308     0.08684           1      252   \n",
      "Optimization terminated normally: \n",
      "  Convergence detected: absolute parameter change was below tolerance\n"
     ]
    },
    {
     "name": "stderr",
     "output_type": "stream",
     "text": [
      "\r",
      " 92%|█████████▏| 339/370 [06:29<00:35,  1.13s/it]"
     ]
    },
    {
     "name": "stdout",
     "output_type": "stream",
     "text": [
      "Initial log joint probability = -11.6102\n",
      "    Iter      log prob        ||dx||      ||grad||       alpha      alpha0  # evals  Notes \n",
      "      99       1322.82   7.90614e-06       69.9885           1           1      137   \n",
      "    Iter      log prob        ||dx||      ||grad||       alpha      alpha0  # evals  Notes \n",
      "     103       1322.82    2.3375e-05       77.0407   2.681e-07       0.001      185  LS failed, Hessian reset \n",
      "     138       1322.83   6.89237e-08       76.5984       0.071           1      234   \n",
      "Optimization terminated normally: \n",
      "  Convergence detected: relative gradient magnitude is below tolerance\n"
     ]
    },
    {
     "name": "stderr",
     "output_type": "stream",
     "text": [
      "\r",
      " 92%|█████████▏| 340/370 [06:30<00:33,  1.11s/it]"
     ]
    },
    {
     "name": "stdout",
     "output_type": "stream",
     "text": [
      "Initial log joint probability = -73.6761\n",
      "    Iter      log prob        ||dx||      ||grad||       alpha      alpha0  # evals  Notes \n",
      "      99        452.45    0.00270257       97.4449      0.2699           1      118   \n",
      "    Iter      log prob        ||dx||      ||grad||       alpha      alpha0  # evals  Notes \n",
      "     189       452.688   1.27028e-07       93.7326   1.217e-09       0.001      272  LS failed, Hessian reset \n",
      "     195       452.688   2.09018e-08       85.1792      0.1551           1      281   \n",
      "Optimization terminated normally: \n",
      "  Convergence detected: relative gradient magnitude is below tolerance\n"
     ]
    },
    {
     "name": "stderr",
     "output_type": "stream",
     "text": [
      "\r",
      " 92%|█████████▏| 341/370 [06:31<00:31,  1.07s/it]"
     ]
    },
    {
     "name": "stdout",
     "output_type": "stream",
     "text": [
      "Initial log joint probability = -12.3341\n",
      "    Iter      log prob        ||dx||      ||grad||       alpha      alpha0  # evals  Notes \n",
      "      99       821.577    5.0818e-06       96.5984      0.2587      0.2587      124   \n",
      "    Iter      log prob        ||dx||      ||grad||       alpha      alpha0  # evals  Notes \n",
      "     150       821.579   5.49106e-07       102.026    6.03e-09       0.001      220  LS failed, Hessian reset \n",
      "     160       821.579   4.37099e-09       81.4455      0.1475      0.1475      234   \n",
      "Optimization terminated normally: \n",
      "  Convergence detected: absolute parameter change was below tolerance\n"
     ]
    },
    {
     "name": "stderr",
     "output_type": "stream",
     "text": [
      "\r",
      " 92%|█████████▏| 342/370 [06:32<00:29,  1.06s/it]"
     ]
    },
    {
     "name": "stdout",
     "output_type": "stream",
     "text": [
      "Initial log joint probability = -11.0069\n",
      "    Iter      log prob        ||dx||      ||grad||       alpha      alpha0  # evals  Notes \n",
      "      99       287.423    2.0837e-06       102.992           1           1      126   \n",
      "    Iter      log prob        ||dx||      ||grad||       alpha      alpha0  # evals  Notes \n",
      "     120       287.424   9.71565e-09       101.595           1           1      151   \n",
      "Optimization terminated normally: \n",
      "  Convergence detected: absolute parameter change was below tolerance\n"
     ]
    },
    {
     "name": "stderr",
     "output_type": "stream",
     "text": [
      "\r",
      " 93%|█████████▎| 343/370 [06:33<00:27,  1.04s/it]"
     ]
    },
    {
     "name": "stdout",
     "output_type": "stream",
     "text": [
      "Initial log joint probability = -99.6154\n",
      "    Iter      log prob        ||dx||      ||grad||       alpha      alpha0  # evals  Notes \n",
      "      99       1186.84     0.0060923       98.1994      0.4689      0.4689      129   \n",
      "    Iter      log prob        ||dx||      ||grad||       alpha      alpha0  # evals  Notes \n",
      "     154       1187.53   0.000150389        57.839   1.588e-06       0.001      243  LS failed, Hessian reset \n",
      "     199       1187.57    0.00162693       97.1164           1           1      301   \n",
      "    Iter      log prob        ||dx||      ||grad||       alpha      alpha0  # evals  Notes \n",
      "     208       1187.61    0.00049947       104.365   4.911e-06       0.001      349  LS failed, Hessian reset \n",
      "     273       1187.65   2.56565e-06       83.9107   4.222e-08       0.001      467  LS failed, Hessian reset \n",
      "     292       1187.65   1.99629e-08       81.3695      0.5389      0.5389      492   \n",
      "Optimization terminated normally: \n",
      "  Convergence detected: relative gradient magnitude is below tolerance\n"
     ]
    },
    {
     "name": "stderr",
     "output_type": "stream",
     "text": [
      "\r",
      " 93%|█████████▎| 344/370 [06:34<00:28,  1.10s/it]"
     ]
    },
    {
     "name": "stdout",
     "output_type": "stream",
     "text": [
      "Initial log joint probability = -25.983\n",
      "    Iter      log prob        ||dx||      ||grad||       alpha      alpha0  # evals  Notes \n",
      "      99       1142.68    0.00312964       129.551      0.4608      0.4608      124   \n",
      "    Iter      log prob        ||dx||      ||grad||       alpha      alpha0  # evals  Notes \n",
      "     140       1143.75   8.42272e-05       81.6363   8.766e-07       0.001      216  LS failed, Hessian reset \n",
      "     173       1143.75   4.59197e-08       82.2691      0.8593      0.8593      257   \n",
      "Optimization terminated normally: \n",
      "  Convergence detected: relative gradient magnitude is below tolerance\n"
     ]
    },
    {
     "name": "stderr",
     "output_type": "stream",
     "text": [
      "\r",
      " 93%|█████████▎| 345/370 [06:35<00:27,  1.09s/it]"
     ]
    },
    {
     "name": "stdout",
     "output_type": "stream",
     "text": [
      "Initial log joint probability = -51.9602\n",
      "    Iter      log prob        ||dx||      ||grad||       alpha      alpha0  # evals  Notes \n",
      "      99       1401.49   3.63966e-05       77.6096      0.2244      0.2244      123   \n",
      "    Iter      log prob        ||dx||      ||grad||       alpha      alpha0  # evals  Notes \n",
      "     160       1401.51   5.24726e-06       81.1946   6.426e-08       0.001      240  LS failed, Hessian reset \n",
      "     194       1401.51   5.36914e-08       83.9459      0.4024           1      285   \n",
      "Optimization terminated normally: \n",
      "  Convergence detected: relative gradient magnitude is below tolerance\n"
     ]
    },
    {
     "name": "stderr",
     "output_type": "stream",
     "text": [
      "\r",
      " 94%|█████████▎| 346/370 [06:36<00:25,  1.08s/it]"
     ]
    },
    {
     "name": "stdout",
     "output_type": "stream",
     "text": [
      "Initial log joint probability = -38.5936\n",
      "    Iter      log prob        ||dx||      ||grad||       alpha      alpha0  # evals  Notes \n",
      "      99       1150.86     0.0222482       111.527      0.6384           1      121   \n",
      "    Iter      log prob        ||dx||      ||grad||       alpha      alpha0  # evals  Notes \n",
      "     199       1153.07   4.77915e-06       85.1112      0.6101      0.6101      243   \n",
      "    Iter      log prob        ||dx||      ||grad||       alpha      alpha0  # evals  Notes \n",
      "     218       1153.08   1.93379e-05       80.8639   2.506e-07       0.001      303  LS failed, Hessian reset \n",
      "     243       1153.08   2.24365e-08       65.8145      0.3981           1      342   \n",
      "Optimization terminated normally: \n",
      "  Convergence detected: relative gradient magnitude is below tolerance\n"
     ]
    },
    {
     "name": "stderr",
     "output_type": "stream",
     "text": [
      "\r",
      " 94%|█████████▍| 347/370 [06:37<00:24,  1.08s/it]"
     ]
    },
    {
     "name": "stdout",
     "output_type": "stream",
     "text": [
      "Initial log joint probability = -49.9231\n",
      "    Iter      log prob        ||dx||      ||grad||       alpha      alpha0  # evals  Notes \n",
      "      99       982.081   0.000247434       84.4354           1           1      127   \n",
      "    Iter      log prob        ||dx||      ||grad||       alpha      alpha0  # evals  Notes \n",
      "     138       982.318    0.00100332       107.073   9.685e-06       0.001      211  LS failed, Hessian reset \n",
      "     199       982.423   8.85263e-06       87.5334           1           1      299   \n",
      "    Iter      log prob        ||dx||      ||grad||       alpha      alpha0  # evals  Notes \n",
      "     239       982.425   4.37242e-08       70.6377       0.311           1      348   \n",
      "Optimization terminated normally: \n",
      "  Convergence detected: relative gradient magnitude is below tolerance\n"
     ]
    },
    {
     "name": "stderr",
     "output_type": "stream",
     "text": [
      "\r",
      " 94%|█████████▍| 348/370 [06:39<00:24,  1.11s/it]"
     ]
    },
    {
     "name": "stdout",
     "output_type": "stream",
     "text": [
      "Initial log joint probability = -19.2081\n",
      "    Iter      log prob        ||dx||      ||grad||       alpha      alpha0  # evals  Notes \n",
      "      84       334.112   3.22687e-09       100.044      0.1979      0.1979      112   \n",
      "Optimization terminated normally: \n",
      "  Convergence detected: absolute parameter change was below tolerance\n"
     ]
    },
    {
     "name": "stderr",
     "output_type": "stream",
     "text": [
      "\r",
      " 94%|█████████▍| 349/370 [06:40<00:22,  1.07s/it]"
     ]
    },
    {
     "name": "stdout",
     "output_type": "stream",
     "text": [
      "Initial log joint probability = -19.2733\n",
      "    Iter      log prob        ||dx||      ||grad||       alpha      alpha0  # evals  Notes \n",
      "      99       986.408   1.23589e-06       74.0172      0.1061      0.1061      129   \n",
      "    Iter      log prob        ||dx||      ||grad||       alpha      alpha0  # evals  Notes \n",
      "     138        986.41   9.09476e-09       68.8698      0.2371      0.2371      184   \n",
      "Optimization terminated normally: \n",
      "  Convergence detected: absolute parameter change was below tolerance\n"
     ]
    },
    {
     "name": "stderr",
     "output_type": "stream",
     "text": [
      "\r",
      " 95%|█████████▍| 350/370 [06:41<00:21,  1.05s/it]"
     ]
    },
    {
     "name": "stdout",
     "output_type": "stream",
     "text": [
      "Initial log joint probability = -7.46565\n",
      "    Iter      log prob        ||dx||      ||grad||       alpha      alpha0  # evals  Notes \n",
      "      55       1162.94   0.000835965       69.7431   1.279e-05       0.001      107  LS failed, Hessian reset \n",
      "      77       1162.97   2.26158e-05       54.7509   4.213e-07       0.001      184  LS failed, Hessian reset \n",
      "      90       1162.97   1.16833e-07       44.0826       1.142      0.1142      209   \n",
      "Optimization terminated normally: \n",
      "  Convergence detected: relative gradient magnitude is below tolerance\n"
     ]
    },
    {
     "name": "stderr",
     "output_type": "stream",
     "text": [
      "\r",
      " 95%|█████████▍| 351/370 [06:42<00:19,  1.04s/it]"
     ]
    },
    {
     "name": "stdout",
     "output_type": "stream",
     "text": [
      "Initial log joint probability = -36.2098\n",
      "    Iter      log prob        ||dx||      ||grad||       alpha      alpha0  # evals  Notes \n",
      "      99       859.319   0.000554302       89.4392           1           1      123   \n",
      "    Iter      log prob        ||dx||      ||grad||       alpha      alpha0  # evals  Notes \n",
      "     136       859.351   0.000136384       98.2833   1.595e-06       0.001      200  LS failed, Hessian reset \n",
      "     191       859.358   1.78826e-08       78.3166       0.326       0.326      272   \n",
      "Optimization terminated normally: \n",
      "  Convergence detected: relative gradient magnitude is below tolerance\n"
     ]
    },
    {
     "name": "stderr",
     "output_type": "stream",
     "text": [
      "\r",
      " 95%|█████████▌| 352/370 [06:43<00:18,  1.04s/it]"
     ]
    },
    {
     "name": "stdout",
     "output_type": "stream",
     "text": [
      "Initial log joint probability = -4.72486\n",
      "    Iter      log prob        ||dx||      ||grad||       alpha      alpha0  # evals  Notes \n",
      "      89       1428.59   1.30409e-05       79.0171   1.693e-07       0.001      150  LS failed, Hessian reset \n",
      "      99       1428.59   6.41366e-07       73.7855       0.482       0.482      163   \n",
      "    Iter      log prob        ||dx||      ||grad||       alpha      alpha0  # evals  Notes \n",
      "     111       1428.59   6.87908e-08       71.6811      0.4902      0.4902      179   \n",
      "Optimization terminated normally: \n",
      "  Convergence detected: relative gradient magnitude is below tolerance\n"
     ]
    },
    {
     "name": "stderr",
     "output_type": "stream",
     "text": [
      "\r",
      " 95%|█████████▌| 353/370 [06:44<00:18,  1.07s/it]"
     ]
    },
    {
     "name": "stdout",
     "output_type": "stream",
     "text": [
      "Initial log joint probability = -77.5347\n",
      "    Iter      log prob        ||dx||      ||grad||       alpha      alpha0  # evals  Notes \n",
      "      99       696.892     0.0548823       124.003           1           1      119   \n",
      "    Iter      log prob        ||dx||      ||grad||       alpha      alpha0  # evals  Notes \n",
      "     164       698.677   2.02545e-08       99.6785      0.3087      0.8925      210   \n",
      "Optimization terminated normally: \n",
      "  Convergence detected: relative gradient magnitude is below tolerance\n"
     ]
    },
    {
     "name": "stderr",
     "output_type": "stream",
     "text": [
      "\r",
      " 96%|█████████▌| 354/370 [06:45<00:16,  1.06s/it]"
     ]
    },
    {
     "name": "stdout",
     "output_type": "stream",
     "text": [
      "Initial log joint probability = -5.87592\n",
      "    Iter      log prob        ||dx||      ||grad||       alpha      alpha0  # evals  Notes \n",
      "      86       1077.22   1.31014e-08       80.5968      0.2062      0.2062      103   \n",
      "Optimization terminated normally: \n",
      "  Convergence detected: relative gradient magnitude is below tolerance\n"
     ]
    },
    {
     "name": "stderr",
     "output_type": "stream",
     "text": [
      "\r",
      " 96%|█████████▌| 355/370 [06:46<00:15,  1.04s/it]"
     ]
    },
    {
     "name": "stdout",
     "output_type": "stream",
     "text": [
      "Initial log joint probability = -17.4351\n",
      "    Iter      log prob        ||dx||      ||grad||       alpha      alpha0  # evals  Notes \n",
      "      99       766.199   0.000268741       105.413      0.6814      0.6814      130   \n",
      "    Iter      log prob        ||dx||      ||grad||       alpha      alpha0  # evals  Notes \n",
      "     157       766.208   5.14515e-06       86.5729   5.147e-08       0.001      233  LS failed, Hessian reset \n",
      "     182       766.208   4.12387e-08        92.416           1           1      265   \n",
      "Optimization terminated normally: \n",
      "  Convergence detected: relative gradient magnitude is below tolerance\n"
     ]
    },
    {
     "name": "stderr",
     "output_type": "stream",
     "text": [
      "\r",
      " 96%|█████████▌| 356/370 [06:47<00:14,  1.04s/it]"
     ]
    },
    {
     "name": "stdout",
     "output_type": "stream",
     "text": [
      "Initial log joint probability = -59.8329\n",
      "    Iter      log prob        ||dx||      ||grad||       alpha      alpha0  # evals  Notes \n",
      "      99       700.042    0.00565665        101.47           1           1      115   \n",
      "    Iter      log prob        ||dx||      ||grad||       alpha      alpha0  # evals  Notes \n",
      "     174        702.24   0.000571222       104.408   4.931e-06       0.001      236  LS failed, Hessian reset \n",
      "     199       702.285    3.9009e-06       74.4276      0.5189      0.5189      266   \n",
      "    Iter      log prob        ||dx||      ||grad||       alpha      alpha0  # evals  Notes \n",
      "     299       702.672   2.13657e-07       94.5569           1           1      388   \n",
      "    Iter      log prob        ||dx||      ||grad||       alpha      alpha0  # evals  Notes \n",
      "     304       702.672   6.63913e-09       97.8609      0.2254      0.2254      394   \n",
      "Optimization terminated normally: \n",
      "  Convergence detected: absolute parameter change was below tolerance\n"
     ]
    },
    {
     "name": "stderr",
     "output_type": "stream",
     "text": [
      "\r",
      " 96%|█████████▋| 357/370 [06:48<00:14,  1.08s/it]"
     ]
    },
    {
     "name": "stdout",
     "output_type": "stream",
     "text": [
      "Initial log joint probability = -5.40881\n",
      "    Iter      log prob        ||dx||      ||grad||       alpha      alpha0  # evals  Notes \n",
      "      99       395.109   1.43004e-05       104.155           1           1      133   \n",
      "    Iter      log prob        ||dx||      ||grad||       alpha      alpha0  # evals  Notes \n",
      "     138       395.111   7.92754e-09       93.1621      0.3271      0.3271      185   \n",
      "Optimization terminated normally: \n",
      "  Convergence detected: absolute parameter change was below tolerance\n"
     ]
    },
    {
     "name": "stderr",
     "output_type": "stream",
     "text": [
      "\r",
      " 97%|█████████▋| 358/370 [06:49<00:12,  1.05s/it]"
     ]
    },
    {
     "name": "stdout",
     "output_type": "stream",
     "text": [
      "Initial log joint probability = -36.7441\n",
      "    Iter      log prob        ||dx||      ||grad||       alpha      alpha0  # evals  Notes \n",
      "      99       604.355     0.0276847       103.098      0.4274           1      124   \n",
      "    Iter      log prob        ||dx||      ||grad||       alpha      alpha0  # evals  Notes \n",
      "     198       607.393   3.22692e-05        76.799   4.986e-07       0.001      288  LS failed, Hessian reset \n",
      "     199       607.393    1.2314e-05       62.7276           1           1      289   \n",
      "    Iter      log prob        ||dx||      ||grad||       alpha      alpha0  # evals  Notes \n",
      "     299       607.397   2.78061e-06       66.2528      0.4777      0.4777      427   \n",
      "    Iter      log prob        ||dx||      ||grad||       alpha      alpha0  # evals  Notes \n",
      "     304       607.397   2.50123e-06        86.849   3.148e-08       0.001      479  LS failed, Hessian reset \n",
      "     320       607.397   1.92964e-08       47.0445      0.3812      0.3812      501   \n",
      "Optimization terminated normally: \n",
      "  Convergence detected: relative gradient magnitude is below tolerance\n"
     ]
    },
    {
     "name": "stderr",
     "output_type": "stream",
     "text": [
      "\r",
      " 97%|█████████▋| 359/370 [06:50<00:11,  1.04s/it]"
     ]
    },
    {
     "name": "stdout",
     "output_type": "stream",
     "text": [
      "Initial log joint probability = -13.0257\n",
      "    Iter      log prob        ||dx||      ||grad||       alpha      alpha0  # evals  Notes \n",
      "      99       553.066   1.35264e-06       102.985           1           1      122   \n",
      "    Iter      log prob        ||dx||      ||grad||       alpha      alpha0  # evals  Notes \n",
      "     108       553.066   1.32924e-06       92.0541   1.258e-08       0.001      177  LS failed, Hessian reset \n",
      "     129       553.066   2.71891e-08       90.2431           1           1      203   \n",
      "Optimization terminated normally: \n",
      "  Convergence detected: relative gradient magnitude is below tolerance\n"
     ]
    },
    {
     "name": "stderr",
     "output_type": "stream",
     "text": [
      "\r",
      " 97%|█████████▋| 360/370 [06:51<00:10,  1.03s/it]"
     ]
    },
    {
     "name": "stdout",
     "output_type": "stream",
     "text": [
      "Initial log joint probability = -16.3283\n",
      "    Iter      log prob        ||dx||      ||grad||       alpha      alpha0  # evals  Notes \n",
      "      74       233.303    2.7194e-09       99.8854        0.33        0.33      105   \n",
      "Optimization terminated normally: \n",
      "  Convergence detected: absolute parameter change was below tolerance\n"
     ]
    },
    {
     "name": "stderr",
     "output_type": "stream",
     "text": [
      "\r",
      " 98%|█████████▊| 361/370 [06:52<00:09,  1.06s/it]"
     ]
    },
    {
     "name": "stdout",
     "output_type": "stream",
     "text": [
      "Initial log joint probability = -6.80233\n",
      "    Iter      log prob        ||dx||      ||grad||       alpha      alpha0  # evals  Notes \n",
      "      99       830.038   3.55494e-05       81.3572      0.4175      0.4175      135   \n",
      "    Iter      log prob        ||dx||      ||grad||       alpha      alpha0  # evals  Notes \n",
      "     142       830.048   1.02369e-08       77.5618      0.0404           1      190   \n",
      "Optimization terminated normally: \n",
      "  Convergence detected: relative gradient magnitude is below tolerance\n"
     ]
    },
    {
     "name": "stderr",
     "output_type": "stream",
     "text": [
      "\r",
      " 98%|█████████▊| 362/370 [06:53<00:08,  1.04s/it]"
     ]
    },
    {
     "name": "stdout",
     "output_type": "stream",
     "text": [
      "Initial log joint probability = -47.7702\n",
      "    Iter      log prob        ||dx||      ||grad||       alpha      alpha0  # evals  Notes \n",
      "      96       512.274    0.00104241       100.483   9.113e-06       0.001      176  LS failed, Hessian reset \n",
      "      99       512.311    0.00023652       93.5956      0.9079      0.9079      179   \n",
      "    Iter      log prob        ||dx||      ||grad||       alpha      alpha0  # evals  Notes \n",
      "     162       512.332   9.75661e-09       101.117       0.398       0.398      262   \n",
      "Optimization terminated normally: \n",
      "  Convergence detected: absolute parameter change was below tolerance\n"
     ]
    },
    {
     "name": "stderr",
     "output_type": "stream",
     "text": [
      "\r",
      " 98%|█████████▊| 363/370 [06:54<00:07,  1.04s/it]"
     ]
    },
    {
     "name": "stdout",
     "output_type": "stream",
     "text": [
      "Initial log joint probability = -15.95\n",
      "    Iter      log prob        ||dx||      ||grad||       alpha      alpha0  # evals  Notes \n",
      "      99       334.778   0.000404192       101.227      0.3775      0.3775      122   \n",
      "    Iter      log prob        ||dx||      ||grad||       alpha      alpha0  # evals  Notes \n",
      "     131       334.821   2.11395e-05       100.294   2.076e-07       0.001      192  LS failed, Hessian reset \n",
      "     158       334.824    3.9423e-06       101.778   3.899e-08       0.001      279  LS failed, Hessian reset \n",
      "     184        334.83   4.33737e-05       100.844   4.345e-07       0.001      347  LS failed, Hessian reset \n",
      "     199       334.832   1.42612e-06        101.08       2.557      0.2557      369   \n",
      "    Iter      log prob        ||dx||      ||grad||       alpha      alpha0  # evals  Notes \n",
      "     212       334.833   3.85347e-06       100.614   3.805e-08       0.001      432  LS failed, Hessian reset \n",
      "     235       334.834   1.28793e-08       101.108       0.919       0.919      460   \n",
      "Optimization terminated normally: \n",
      "  Convergence detected: relative gradient magnitude is below tolerance\n"
     ]
    },
    {
     "name": "stderr",
     "output_type": "stream",
     "text": [
      "\r",
      " 98%|█████████▊| 364/370 [06:55<00:06,  1.03s/it]"
     ]
    },
    {
     "name": "stdout",
     "output_type": "stream",
     "text": [
      "Initial log joint probability = -8.29236\n",
      "    Iter      log prob        ||dx||      ||grad||       alpha      alpha0  # evals  Notes \n",
      "      53       291.179   0.000368924       102.922   3.533e-06       0.001      104  LS failed, Hessian reset \n",
      "      95       291.202   3.29763e-09        100.45      0.1677      0.1677      159   \n",
      "Optimization terminated normally: \n",
      "  Convergence detected: absolute parameter change was below tolerance\n"
     ]
    },
    {
     "name": "stderr",
     "output_type": "stream",
     "text": [
      "\r",
      " 99%|█████████▊| 365/370 [06:56<00:05,  1.01s/it]"
     ]
    },
    {
     "name": "stdout",
     "output_type": "stream",
     "text": [
      "Initial log joint probability = -12.6054\n",
      "    Iter      log prob        ||dx||      ||grad||       alpha      alpha0  # evals  Notes \n",
      "      99        277.54   7.27948e-08       91.1579           1           1      134   \n",
      "    Iter      log prob        ||dx||      ||grad||       alpha      alpha0  # evals  Notes \n",
      "     103        277.54   5.97118e-09       95.7816       0.386       0.386      138   \n",
      "Optimization terminated normally: \n",
      "  Convergence detected: absolute parameter change was below tolerance\n"
     ]
    },
    {
     "name": "stderr",
     "output_type": "stream",
     "text": [
      "\r",
      " 99%|█████████▉| 366/370 [06:57<00:04,  1.05s/it]"
     ]
    },
    {
     "name": "stdout",
     "output_type": "stream",
     "text": [
      "Initial log joint probability = -36.6698\n",
      "    Iter      log prob        ||dx||      ||grad||       alpha      alpha0  # evals  Notes \n",
      "      83       389.092    0.00471632       196.827   4.056e-05       0.001      133  LS failed, Hessian reset \n",
      "      99       391.251    0.00142354       98.2455      0.8893      0.8893      151   \n",
      "    Iter      log prob        ||dx||      ||grad||       alpha      alpha0  # evals  Notes \n",
      "     118       391.728    0.00211037       116.432   1.532e-05       0.001      207  LS failed, Hessian reset \n",
      "     199       392.284   1.41243e-05        96.791      0.5317      0.5317      309   \n",
      "    Iter      log prob        ||dx||      ||grad||       alpha      alpha0  # evals  Notes \n",
      "     299       392.328   2.26636e-06       84.6207      0.4534      0.4534      430   \n",
      "    Iter      log prob        ||dx||      ||grad||       alpha      alpha0  # evals  Notes \n",
      "     399       392.449   3.19504e-08        93.899           1           1      552   \n",
      "Optimization terminated normally: \n",
      "  Convergence detected: relative gradient magnitude is below tolerance\n"
     ]
    },
    {
     "name": "stderr",
     "output_type": "stream",
     "text": [
      "\r",
      " 99%|█████████▉| 367/370 [06:58<00:03,  1.05s/it]"
     ]
    },
    {
     "name": "stdout",
     "output_type": "stream",
     "text": [
      "Initial log joint probability = -43.4582\n",
      "    Iter      log prob        ||dx||      ||grad||       alpha      alpha0  # evals  Notes \n",
      "      99       243.682   1.85676e-06       97.3982      0.3888      0.8228      124   \n",
      "    Iter      log prob        ||dx||      ||grad||       alpha      alpha0  # evals  Notes \n",
      "     122       243.682   1.68405e-08        98.571      0.1286           1      154   \n",
      "Optimization terminated normally: \n",
      "  Convergence detected: relative gradient magnitude is below tolerance\n"
     ]
    },
    {
     "name": "stderr",
     "output_type": "stream",
     "text": [
      "\r",
      " 99%|█████████▉| 368/370 [06:59<00:02,  1.03s/it]"
     ]
    },
    {
     "name": "stdout",
     "output_type": "stream",
     "text": [
      "Initial log joint probability = -42.3031\n",
      "    Iter      log prob        ||dx||      ||grad||       alpha      alpha0  # evals  Notes \n",
      "      90       233.589   9.84254e-05       97.9978   9.025e-07       0.001      141  LS failed, Hessian reset \n",
      "      99       233.595    7.9222e-06       94.5327      0.5161      0.5161      151   \n",
      "    Iter      log prob        ||dx||      ||grad||       alpha      alpha0  # evals  Notes \n",
      "     139       233.596   1.02032e-07       99.9393   1.054e-09       0.001      244  LS failed, Hessian reset \n",
      "     142       233.596   6.56306e-09       87.5592      0.3921      0.3921      248   \n",
      "Optimization terminated normally: \n",
      "  Convergence detected: absolute parameter change was below tolerance\n"
     ]
    },
    {
     "name": "stderr",
     "output_type": "stream",
     "text": [
      "\r",
      "100%|█████████▉| 369/370 [07:00<00:01,  1.02s/it]"
     ]
    },
    {
     "name": "stdout",
     "output_type": "stream",
     "text": [
      "Initial log joint probability = -4.96646\n",
      "    Iter      log prob        ||dx||      ||grad||       alpha      alpha0  # evals  Notes \n",
      "      96       3237.71   1.35881e-07       85.1331      0.3404           1      124   \n",
      "Optimization terminated normally: \n",
      "  Convergence detected: relative gradient magnitude is below tolerance\n"
     ]
    },
    {
     "name": "stderr",
     "output_type": "stream",
     "text": [
      "100%|██████████| 370/370 [07:02<00:00,  1.14s/it]\n"
     ]
    },
    {
     "data": {
      "text/plain": [
       "[0     54.985533\n",
       " 1    131.509236\n",
       " 2    125.515085\n",
       " 3    110.732822\n",
       " 4     84.184707\n",
       " Name: yhat, dtype: float64,\n",
       " 0    75.105228\n",
       " 1    62.659302\n",
       " 2   -15.594561\n",
       " 3   -71.959169\n",
       " 4   -73.229754\n",
       " Name: yhat, dtype: float64,\n",
       " 0    226.526310\n",
       " 1    184.815120\n",
       " 2    162.912008\n",
       " 3    112.211086\n",
       " 4    192.645937\n",
       " Name: yhat, dtype: float64,\n",
       " 0    1483.321535\n",
       " 1    -573.396442\n",
       " 2    -531.122700\n",
       " 3    -565.246080\n",
       " 4    -327.203437\n",
       " Name: yhat, dtype: float64,\n",
       " 0    675.045490\n",
       " 1    734.556499\n",
       " 2    534.675149\n",
       " 3    531.129274\n",
       " 4    501.185552\n",
       " Name: yhat, dtype: float64,\n",
       " 0    29.960816\n",
       " 1    26.912021\n",
       " 2    -1.722916\n",
       " 3   -20.523228\n",
       " 4   -33.605518\n",
       " Name: yhat, dtype: float64,\n",
       " 0     42.090696\n",
       " 1     74.556316\n",
       " 2     78.364454\n",
       " 3     -1.905491\n",
       " 4    140.568288\n",
       " Name: yhat, dtype: float64,\n",
       " 0    219.448286\n",
       " 1    311.457977\n",
       " 2    200.466828\n",
       " 3    109.940276\n",
       " 4    119.453109\n",
       " Name: yhat, dtype: float64,\n",
       " 0    296.829235\n",
       " 1    469.197263\n",
       " 2    142.473262\n",
       " 3    237.545820\n",
       " 4    136.010066\n",
       " Name: yhat, dtype: float64,\n",
       " 0    1482.215556\n",
       " 1    3190.153070\n",
       " 2    2055.199080\n",
       " 3    3409.851802\n",
       " 4    3088.622683\n",
       " Name: yhat, dtype: float64,\n",
       " 0    125.320865\n",
       " 1    193.722686\n",
       " 2    -95.227526\n",
       " 3     71.309569\n",
       " 4    105.746133\n",
       " Name: yhat, dtype: float64,\n",
       " 0   -227.971503\n",
       " 1    229.729707\n",
       " 2     82.826079\n",
       " 3   -133.618160\n",
       " 4     81.582012\n",
       " Name: yhat, dtype: float64,\n",
       " 0   -33.852305\n",
       " 1    94.135902\n",
       " 2   -15.106065\n",
       " 3   -25.233536\n",
       " 4    -7.082273\n",
       " Name: yhat, dtype: float64,\n",
       " 0    210.352656\n",
       " 1    194.945575\n",
       " 2    142.050568\n",
       " 3     92.449962\n",
       " 4     49.250171\n",
       " Name: yhat, dtype: float64,\n",
       " 0    25.622018\n",
       " 1    64.924432\n",
       " 2    27.552378\n",
       " 3    11.089620\n",
       " 4    25.879490\n",
       " Name: yhat, dtype: float64,\n",
       " 0     8.877848\n",
       " 1     6.458234\n",
       " 2    -0.316250\n",
       " 3     0.092704\n",
       " 4    11.029537\n",
       " Name: yhat, dtype: float64,\n",
       " 0   -160.830171\n",
       " 1    -81.418160\n",
       " 2    -98.156356\n",
       " 3   -112.459456\n",
       " 4    -72.702328\n",
       " Name: yhat, dtype: float64,\n",
       " 0    12.974221\n",
       " 1    19.247466\n",
       " 2     3.310533\n",
       " 3     6.500978\n",
       " 4     6.405603\n",
       " Name: yhat, dtype: float64,\n",
       " 0    449.247820\n",
       " 1    851.589814\n",
       " 2   -111.660914\n",
       " 3    115.070474\n",
       " 4    273.576184\n",
       " Name: yhat, dtype: float64,\n",
       " 0     82.606109\n",
       " 1   -128.161179\n",
       " 2   -247.033501\n",
       " 3   -376.847453\n",
       " 4   -402.953775\n",
       " Name: yhat, dtype: float64,\n",
       " 0     81.015375\n",
       " 1    147.611030\n",
       " 2      7.283424\n",
       " 3     21.834014\n",
       " 4     39.951434\n",
       " Name: yhat, dtype: float64,\n",
       " 0     65.218407\n",
       " 1    183.308030\n",
       " 2   -114.055038\n",
       " 3     12.085156\n",
       " 4      2.879750\n",
       " Name: yhat, dtype: float64,\n",
       " 0    24.269060\n",
       " 1    38.151325\n",
       " 2    51.630440\n",
       " 3    29.415223\n",
       " 4    33.115871\n",
       " Name: yhat, dtype: float64,\n",
       " 0    35.043714\n",
       " 1    17.734159\n",
       " 2    20.506396\n",
       " 3    10.768068\n",
       " 4    26.755268\n",
       " Name: yhat, dtype: float64,\n",
       " 0     64.380041\n",
       " 1    120.784201\n",
       " 2    110.287899\n",
       " 3     69.610913\n",
       " 4     81.545239\n",
       " Name: yhat, dtype: float64,\n",
       " 0    349.050783\n",
       " 1    343.476760\n",
       " 2    564.741770\n",
       " 3    496.767448\n",
       " 4    430.680407\n",
       " Name: yhat, dtype: float64,\n",
       " 0    154.053847\n",
       " 1     76.260643\n",
       " 2     23.661309\n",
       " 3    -75.218011\n",
       " 4     11.467170\n",
       " Name: yhat, dtype: float64,\n",
       " 0    229.631762\n",
       " 1    261.798419\n",
       " 2    311.158653\n",
       " 3    151.823794\n",
       " 4    404.345006\n",
       " Name: yhat, dtype: float64,\n",
       " 0    -39.394481\n",
       " 1     -9.318951\n",
       " 2   -112.476618\n",
       " 3    -99.717132\n",
       " 4    -71.548382\n",
       " Name: yhat, dtype: float64,\n",
       " 0    1913.998942\n",
       " 1    1824.130843\n",
       " 2    1054.124609\n",
       " 3     627.224950\n",
       " 4    1789.056480\n",
       " Name: yhat, dtype: float64,\n",
       " 0    2645.395841\n",
       " 1    1358.579807\n",
       " 2     768.688907\n",
       " 3    1114.575964\n",
       " 4     757.248776\n",
       " Name: yhat, dtype: float64,\n",
       " 0    284.236264\n",
       " 1    325.375992\n",
       " 2    297.854712\n",
       " 3    180.240559\n",
       " 4    292.771564\n",
       " Name: yhat, dtype: float64,\n",
       " 0   -201.154943\n",
       " 1     77.318364\n",
       " 2     53.412918\n",
       " 3     19.532003\n",
       " 4   -241.090416\n",
       " Name: yhat, dtype: float64,\n",
       " 0      9.507996\n",
       " 1    282.764130\n",
       " 2     41.188481\n",
       " 3     48.890081\n",
       " 4    -22.544120\n",
       " Name: yhat, dtype: float64,\n",
       " 0    412.489949\n",
       " 1    385.786677\n",
       " 2    321.198918\n",
       " 3    196.666662\n",
       " 4    337.337771\n",
       " Name: yhat, dtype: float64,\n",
       " 0     68.767869\n",
       " 1    138.059732\n",
       " 2     74.804325\n",
       " 3     73.577606\n",
       " 4     21.444629\n",
       " Name: yhat, dtype: float64,\n",
       " 0    1152.522137\n",
       " 1     200.351639\n",
       " 2    -287.313505\n",
       " 3    -104.034290\n",
       " 4    -356.084634\n",
       " Name: yhat, dtype: float64,\n",
       " 0    -44.288943\n",
       " 1    376.513009\n",
       " 2    -44.079602\n",
       " 3   -341.716749\n",
       " 4    -54.392300\n",
       " Name: yhat, dtype: float64,\n",
       " 0   -132.343988\n",
       " 1    125.466209\n",
       " 2    -87.652245\n",
       " 3    -98.454468\n",
       " 4   -190.143589\n",
       " Name: yhat, dtype: float64,\n",
       " 0    -22.581002\n",
       " 1    120.837825\n",
       " 2     18.122254\n",
       " 3   -111.483809\n",
       " 4   -227.191358\n",
       " Name: yhat, dtype: float64,\n",
       " 0    211.961012\n",
       " 1    162.012422\n",
       " 2   -552.206695\n",
       " 3   -653.612061\n",
       " 4   -639.647817\n",
       " Name: yhat, dtype: float64,\n",
       " 0    -92.918506\n",
       " 1    -79.047437\n",
       " 2   -136.372282\n",
       " 3   -109.261378\n",
       " 4    -32.450275\n",
       " Name: yhat, dtype: float64,\n",
       " 0    41.200487\n",
       " 1    94.544631\n",
       " 2    72.420064\n",
       " 3    35.688944\n",
       " 4    81.545829\n",
       " Name: yhat, dtype: float64,\n",
       " 0     66.208171\n",
       " 1    171.920677\n",
       " 2      6.622180\n",
       " 3     26.550131\n",
       " 4      3.887289\n",
       " Name: yhat, dtype: float64,\n",
       " 0     84.747675\n",
       " 1    159.935613\n",
       " 2     31.337991\n",
       " 3     18.144112\n",
       " 4    -17.099495\n",
       " Name: yhat, dtype: float64,\n",
       " 0    28.917890\n",
       " 1    33.639301\n",
       " 2     9.408038\n",
       " 3    10.138545\n",
       " 4    21.739650\n",
       " Name: yhat, dtype: float64,\n",
       " 0     11.067670\n",
       " 1      0.970743\n",
       " 2   -133.854046\n",
       " 3    -67.032885\n",
       " 4   -131.046394\n",
       " Name: yhat, dtype: float64,\n",
       " 0    2619.937524\n",
       " 1    2003.275370\n",
       " 2     363.873592\n",
       " 3     605.943773\n",
       " 4     795.944923\n",
       " Name: yhat, dtype: float64,\n",
       " 0    24.428534\n",
       " 1    85.914941\n",
       " 2   -97.164658\n",
       " 3   -38.384945\n",
       " 4    -4.037861\n",
       " Name: yhat, dtype: float64,\n",
       " 0    1959.149725\n",
       " 1    3016.280082\n",
       " 2    1331.798515\n",
       " 3    1320.143932\n",
       " 4    1746.924505\n",
       " Name: yhat, dtype: float64,\n",
       " 0   -431.114179\n",
       " 1    448.275044\n",
       " 2   -104.967907\n",
       " 3    746.640682\n",
       " 4    458.403115\n",
       " Name: yhat, dtype: float64,\n",
       " 0    -7.305310\n",
       " 1    57.749063\n",
       " 2    48.151281\n",
       " 3    44.565905\n",
       " 4    47.065757\n",
       " Name: yhat, dtype: float64,\n",
       " 0    11.252608\n",
       " 1    27.091760\n",
       " 2    15.960318\n",
       " 3     7.536132\n",
       " 4    25.707691\n",
       " Name: yhat, dtype: float64,\n",
       " 0    135.020600\n",
       " 1    139.166772\n",
       " 2     11.979355\n",
       " 3    -74.426442\n",
       " 4      9.593078\n",
       " Name: yhat, dtype: float64,\n",
       " 0    2055.356744\n",
       " 1    2699.893646\n",
       " 2    1359.221000\n",
       " 3    1345.225350\n",
       " 4    2539.686474\n",
       " Name: yhat, dtype: float64,\n",
       " 0    102.987638\n",
       " 1    142.598610\n",
       " 2     70.564396\n",
       " 3    187.244946\n",
       " 4    131.519753\n",
       " Name: yhat, dtype: float64,\n",
       " 0    15.201489\n",
       " 1    18.010570\n",
       " 2    10.882643\n",
       " 3     8.440709\n",
       " 4    16.439281\n",
       " Name: yhat, dtype: float64,\n",
       " 0    261.174034\n",
       " 1    440.036087\n",
       " 2    238.847998\n",
       " 3    230.800452\n",
       " 4    311.593730\n",
       " Name: yhat, dtype: float64,\n",
       " 0    472.676689\n",
       " 1    497.954010\n",
       " 2    383.640993\n",
       " 3    180.206425\n",
       " 4    338.282920\n",
       " Name: yhat, dtype: float64,\n",
       " 0    335.922161\n",
       " 1    627.278215\n",
       " 2     94.730216\n",
       " 3    121.862647\n",
       " 4    444.153248\n",
       " Name: yhat, dtype: float64,\n",
       " 0   -204.480653\n",
       " 1    427.696623\n",
       " 2     -1.909556\n",
       " 3    337.222744\n",
       " 4     67.391648\n",
       " Name: yhat, dtype: float64,\n",
       " 0     85.917108\n",
       " 1    735.466862\n",
       " 2   -283.366087\n",
       " 3    431.910560\n",
       " 4    271.046131\n",
       " Name: yhat, dtype: float64,\n",
       " 0   -64.469736\n",
       " 1    43.095647\n",
       " 2    14.473127\n",
       " 3     6.531372\n",
       " 4   -62.068809\n",
       " Name: yhat, dtype: float64,\n",
       " 0    -965.467852\n",
       " 1   -1175.387972\n",
       " 2   -1837.975962\n",
       " 3   -1652.227815\n",
       " 4   -1853.036437\n",
       " Name: yhat, dtype: float64,\n",
       " 0    214.923123\n",
       " 1    364.240220\n",
       " 2     83.697484\n",
       " 3     28.313611\n",
       " 4   -337.405965\n",
       " Name: yhat, dtype: float64,\n",
       " 0    132.369259\n",
       " 1     88.718746\n",
       " 2    110.861780\n",
       " 3    129.092206\n",
       " 4     32.271145\n",
       " Name: yhat, dtype: float64,\n",
       " 0   -613.812294\n",
       " 1    459.227380\n",
       " 2   -734.240326\n",
       " 3   -138.725918\n",
       " 4   -837.035808\n",
       " Name: yhat, dtype: float64,\n",
       " 0    311.878752\n",
       " 1    316.510943\n",
       " 2     56.472046\n",
       " 3    101.454466\n",
       " 4    227.972716\n",
       " Name: yhat, dtype: float64,\n",
       " 0    20.677505\n",
       " 1    45.669905\n",
       " 2    54.403150\n",
       " 3    -7.414068\n",
       " 4    36.816340\n",
       " Name: yhat, dtype: float64,\n",
       " 0   -224.764261\n",
       " 1    -45.474648\n",
       " 2   -406.127784\n",
       " 3   -357.795955\n",
       " 4   -474.569838\n",
       " Name: yhat, dtype: float64,\n",
       " 0    57.412025\n",
       " 1    66.958668\n",
       " 2    70.962100\n",
       " 3   -18.449987\n",
       " 4    79.680391\n",
       " Name: yhat, dtype: float64,\n",
       " 0     56.666477\n",
       " 1    146.396836\n",
       " 2   -211.355022\n",
       " 3   -423.950292\n",
       " 4   -136.653419\n",
       " Name: yhat, dtype: float64,\n",
       " 0    492.358877\n",
       " 1    138.525187\n",
       " 2   -494.164284\n",
       " 3    331.636414\n",
       " 4   -194.260628\n",
       " Name: yhat, dtype: float64,\n",
       " 0    -25.586374\n",
       " 1     77.594133\n",
       " 2    104.554130\n",
       " 3     71.840251\n",
       " 4     59.941909\n",
       " Name: yhat, dtype: float64,\n",
       " 0    -55.956674\n",
       " 1    191.356774\n",
       " 2     75.616852\n",
       " 3     40.906320\n",
       " 4      0.673665\n",
       " Name: yhat, dtype: float64,\n",
       " 0    187.863185\n",
       " 1    252.415611\n",
       " 2    283.400355\n",
       " 3    670.712399\n",
       " 4     72.781168\n",
       " Name: yhat, dtype: float64,\n",
       " 0   -499.981044\n",
       " 1     -9.833122\n",
       " 2   -264.256659\n",
       " 3   -805.171253\n",
       " 4   -685.100752\n",
       " Name: yhat, dtype: float64,\n",
       " 0   -70.885166\n",
       " 1    64.579723\n",
       " 2   -31.349127\n",
       " 3   -10.070651\n",
       " 4   -20.583042\n",
       " Name: yhat, dtype: float64,\n",
       " 0   -258.636939\n",
       " 1   -167.393161\n",
       " 2    -74.520089\n",
       " 3   -368.663873\n",
       " 4   -176.025509\n",
       " Name: yhat, dtype: float64,\n",
       " 0   -169.168993\n",
       " 1    148.288014\n",
       " 2    -12.381885\n",
       " 3   -120.726658\n",
       " 4     22.818537\n",
       " Name: yhat, dtype: float64,\n",
       " 0    20.137211\n",
       " 1    -5.896892\n",
       " 2   -12.970333\n",
       " 3    -0.658679\n",
       " 4    -3.418483\n",
       " Name: yhat, dtype: float64,\n",
       " 0     865.169469\n",
       " 1    1041.304110\n",
       " 2     716.034440\n",
       " 3     758.709030\n",
       " 4    1146.214185\n",
       " Name: yhat, dtype: float64,\n",
       " 0     940.125390\n",
       " 1    1121.981311\n",
       " 2     732.580058\n",
       " 3    1419.761079\n",
       " 4    1287.918494\n",
       " Name: yhat, dtype: float64,\n",
       " 0    50.701097\n",
       " 1    26.862257\n",
       " 2    13.028220\n",
       " 3    15.301082\n",
       " 4     9.727444\n",
       " Name: yhat, dtype: float64,\n",
       " 0    76.525880\n",
       " 1    15.231645\n",
       " 2   -26.619684\n",
       " 3   -43.780663\n",
       " 4     6.545714\n",
       " Name: yhat, dtype: float64,\n",
       " 0    220.545163\n",
       " 1    170.661337\n",
       " 2     98.529202\n",
       " 3    145.848849\n",
       " 4    106.480568\n",
       " Name: yhat, dtype: float64,\n",
       " 0    738.139530\n",
       " 1    158.641007\n",
       " 2     65.237842\n",
       " 3    101.769883\n",
       " 4    139.850903\n",
       " Name: yhat, dtype: float64,\n",
       " 0    -99.833479\n",
       " 1    139.753830\n",
       " 2    -66.577529\n",
       " 3     32.799141\n",
       " 4    373.629060\n",
       " Name: yhat, dtype: float64,\n",
       " 0   -260.667387\n",
       " 1    165.502675\n",
       " 2     48.120567\n",
       " 3     86.090407\n",
       " 4    371.375512\n",
       " Name: yhat, dtype: float64,\n",
       " 0   -847.382117\n",
       " 1   -438.316249\n",
       " 2   -544.147922\n",
       " 3   -765.077600\n",
       " 4   -961.060169\n",
       " Name: yhat, dtype: float64,\n",
       " 0     1.818252\n",
       " 1    21.336907\n",
       " 2    30.901724\n",
       " 3     8.098378\n",
       " 4    27.909954\n",
       " Name: yhat, dtype: float64,\n",
       " 0   -665.298481\n",
       " 1   -948.864816\n",
       " 2   -444.023441\n",
       " 3   -423.894459\n",
       " 4   -573.537721\n",
       " Name: yhat, dtype: float64,\n",
       " 0    337.143189\n",
       " 1    319.326924\n",
       " 2    258.340049\n",
       " 3    256.894642\n",
       " 4    240.134627\n",
       " Name: yhat, dtype: float64,\n",
       " 0    426.632514\n",
       " 1    -71.320173\n",
       " 2     19.870175\n",
       " 3     67.715392\n",
       " 4    116.700001\n",
       " Name: yhat, dtype: float64,\n",
       " 0    -8.456824\n",
       " 1    22.594844\n",
       " 2     3.702433\n",
       " 3    14.732581\n",
       " 4    -4.882273\n",
       " Name: yhat, dtype: float64,\n",
       " 0    486.047736\n",
       " 1    706.501800\n",
       " 2    120.951441\n",
       " 3    345.836951\n",
       " 4    542.590935\n",
       " Name: yhat, dtype: float64,\n",
       " 0    54.343683\n",
       " 1    -0.928723\n",
       " 2    15.942382\n",
       " 3   -24.287686\n",
       " 4     5.309316\n",
       " Name: yhat, dtype: float64,\n",
       " 0    152.738527\n",
       " 1    156.934890\n",
       " 2    202.932169\n",
       " 3    266.405475\n",
       " 4    178.469878\n",
       " Name: yhat, dtype: float64,\n",
       " 0    30.325160\n",
       " 1    41.189352\n",
       " 2    13.710989\n",
       " 3   -71.544962\n",
       " 4    23.087645\n",
       " Name: yhat, dtype: float64,\n",
       " 0    81.706545\n",
       " 1    56.674715\n",
       " 2    65.514086\n",
       " 3    12.019796\n",
       " 4    27.395275\n",
       " Name: yhat, dtype: float64,\n",
       " 0   -0.726736\n",
       " 1   -3.771477\n",
       " 2   -3.831314\n",
       " 3   -1.373844\n",
       " 4   -8.131508\n",
       " Name: yhat, dtype: float64,\n",
       " 0     85.886584\n",
       " 1    105.005259\n",
       " 2     70.498703\n",
       " 3     47.612041\n",
       " 4     53.981772\n",
       " Name: yhat, dtype: float64,\n",
       " 0   -345.258356\n",
       " 1      6.575940\n",
       " 2   -575.969911\n",
       " 3   -560.196360\n",
       " 4   -342.540217\n",
       " Name: yhat, dtype: float64,\n",
       " 0   -149.898730\n",
       " 1   -194.857145\n",
       " 2   -152.298948\n",
       " 3    -71.511435\n",
       " 4   -127.214169\n",
       " Name: yhat, dtype: float64,\n",
       " 0    -9.385502\n",
       " 1     7.844418\n",
       " 2    -1.903285\n",
       " 3     0.947872\n",
       " 4    11.621377\n",
       " Name: yhat, dtype: float64,\n",
       " 0   -37.211754\n",
       " 1   -42.373617\n",
       " 2     8.172599\n",
       " 3     8.769972\n",
       " 4   -32.300897\n",
       " Name: yhat, dtype: float64,\n",
       " 0    159.844861\n",
       " 1     64.027661\n",
       " 2      2.446935\n",
       " 3    -34.835333\n",
       " 4     -1.189564\n",
       " Name: yhat, dtype: float64,\n",
       " 0     43.075910\n",
       " 1    107.757496\n",
       " 2     83.343701\n",
       " 3     44.044935\n",
       " 4     98.002031\n",
       " Name: yhat, dtype: float64,\n",
       " 0    21.728697\n",
       " 1    27.230170\n",
       " 2     5.755833\n",
       " 3   -48.265393\n",
       " 4   -15.560895\n",
       " Name: yhat, dtype: float64,\n",
       " 0    59.691463\n",
       " 1    73.556400\n",
       " 2    24.088751\n",
       " 3    58.081910\n",
       " 4    -4.570075\n",
       " Name: yhat, dtype: float64,\n",
       " 0    342.111230\n",
       " 1    271.272758\n",
       " 2     73.260228\n",
       " 3     36.964305\n",
       " 4    211.335152\n",
       " Name: yhat, dtype: float64,\n",
       " 0    179.633719\n",
       " 1    972.522762\n",
       " 2    643.600510\n",
       " 3    117.718275\n",
       " 4    348.781197\n",
       " Name: yhat, dtype: float64,\n",
       " 0   -20.638493\n",
       " 1    94.363768\n",
       " 2    66.771628\n",
       " 3    76.019147\n",
       " 4    55.987490\n",
       " Name: yhat, dtype: float64,\n",
       " 0    -963.335421\n",
       " 1    -333.701618\n",
       " 2   -1126.857932\n",
       " 3    -812.091798\n",
       " 4   -1210.917427\n",
       " Name: yhat, dtype: float64,\n",
       " 0    43.623106\n",
       " 1    81.867208\n",
       " 2     6.737457\n",
       " 3    51.807545\n",
       " 4    69.169842\n",
       " Name: yhat, dtype: float64,\n",
       " 0   -167.589992\n",
       " 1    -59.607524\n",
       " 2     33.081873\n",
       " 3   -167.368344\n",
       " 4     35.425190\n",
       " Name: yhat, dtype: float64,\n",
       " 0    33.586166\n",
       " 1    29.532811\n",
       " 2     8.867480\n",
       " 3    22.798661\n",
       " 4    19.074329\n",
       " Name: yhat, dtype: float64,\n",
       " 0   -58.301588\n",
       " 1   -31.213563\n",
       " 2   -26.593107\n",
       " 3   -49.251112\n",
       " 4   -23.852521\n",
       " Name: yhat, dtype: float64,\n",
       " 0    267.806587\n",
       " 1    174.588049\n",
       " 2    107.600311\n",
       " 3     35.776886\n",
       " 4     42.423927\n",
       " Name: yhat, dtype: float64,\n",
       " 0    -6.781452\n",
       " 1     8.321683\n",
       " 2    -5.171653\n",
       " 3   -22.645948\n",
       " 4    -8.381827\n",
       " Name: yhat, dtype: float64,\n",
       " 0    10.469378\n",
       " 1    19.618271\n",
       " 2    -3.408969\n",
       " 3    53.267097\n",
       " 4    35.511740\n",
       " Name: yhat, dtype: float64,\n",
       " 0   -21.166144\n",
       " 1    22.165205\n",
       " 2    24.544727\n",
       " 3    -1.449889\n",
       " 4    60.569002\n",
       " Name: yhat, dtype: float64,\n",
       " 0    151.017781\n",
       " 1     95.268187\n",
       " 2     10.037436\n",
       " 3     17.640752\n",
       " 4     62.148250\n",
       " Name: yhat, dtype: float64,\n",
       " 0     67.666875\n",
       " 1     94.650797\n",
       " 2     45.086006\n",
       " 3    107.373868\n",
       " 4     80.378885\n",
       " Name: yhat, dtype: float64,\n",
       " 0     25.384669\n",
       " 1    175.317903\n",
       " 2     13.860751\n",
       " 3     12.019056\n",
       " 4     19.307116\n",
       " Name: yhat, dtype: float64,\n",
       " 0     39.630839\n",
       " 1    179.072378\n",
       " 2    120.819417\n",
       " 3     60.405357\n",
       " 4     60.183475\n",
       " Name: yhat, dtype: float64,\n",
       " 0    1701.823495\n",
       " 1    1461.756004\n",
       " 2     870.714737\n",
       " 3     791.222188\n",
       " 4     923.555175\n",
       " Name: yhat, dtype: float64,\n",
       " 0    29.952990\n",
       " 1    13.234790\n",
       " 2    13.907906\n",
       " 3    10.274814\n",
       " 4     9.949872\n",
       " Name: yhat, dtype: float64,\n",
       " 0    58.510978\n",
       " 1    50.430890\n",
       " 2     8.602770\n",
       " 3     3.557422\n",
       " 4    -2.547914\n",
       " Name: yhat, dtype: float64,\n",
       " 0    125.506664\n",
       " 1     55.605342\n",
       " 2    125.049376\n",
       " 3    443.154341\n",
       " 4    -47.509850\n",
       " Name: yhat, dtype: float64,\n",
       " 0     26.776002\n",
       " 1    115.326999\n",
       " 2     65.409714\n",
       " 3     53.996420\n",
       " 4     67.519630\n",
       " Name: yhat, dtype: float64,\n",
       " 0    432.627933\n",
       " 1    547.863911\n",
       " 2    432.063457\n",
       " 3    431.821626\n",
       " 4    355.862204\n",
       " Name: yhat, dtype: float64,\n",
       " 0   -675.028897\n",
       " 1   -412.141594\n",
       " 2   -184.368979\n",
       " 3   -606.237219\n",
       " 4   -487.406757\n",
       " Name: yhat, dtype: float64,\n",
       " 0    6.438769\n",
       " 1    5.660825\n",
       " 2    3.665408\n",
       " 3    0.247420\n",
       " 4    5.703253\n",
       " Name: yhat, dtype: float64,\n",
       " 0    156.172913\n",
       " 1    252.050473\n",
       " 2    198.395059\n",
       " 3    115.233192\n",
       " 4    143.484888\n",
       " Name: yhat, dtype: float64,\n",
       " 0     1.099855\n",
       " 1     5.277806\n",
       " 2     4.007930\n",
       " 3    10.034644\n",
       " 4   -18.371112\n",
       " Name: yhat, dtype: float64,\n",
       " 0    27.056046\n",
       " 1    60.770180\n",
       " 2   -88.054385\n",
       " 3     8.538706\n",
       " 4   -40.057000\n",
       " Name: yhat, dtype: float64,\n",
       " 0     946.794240\n",
       " 1     816.865685\n",
       " 2    1099.597138\n",
       " 3     578.998265\n",
       " 4     499.190311\n",
       " Name: yhat, dtype: float64,\n",
       " 0    19.574459\n",
       " 1    41.874283\n",
       " 2    16.662808\n",
       " 3    31.031297\n",
       " 4     9.740278\n",
       " Name: yhat, dtype: float64,\n",
       " 0     501.152913\n",
       " 1     -78.075803\n",
       " 2     -64.255454\n",
       " 3   -1412.984480\n",
       " 4    -897.672677\n",
       " Name: yhat, dtype: float64,\n",
       " 0    41.024678\n",
       " 1    67.599908\n",
       " 2     3.647121\n",
       " 3    84.359428\n",
       " 4    49.155524\n",
       " Name: yhat, dtype: float64,\n",
       " 0   -156.710696\n",
       " 1    -92.762974\n",
       " 2   -236.140473\n",
       " 3    -88.028684\n",
       " 4   -135.865944\n",
       " Name: yhat, dtype: float64,\n",
       " 0    65.693113\n",
       " 1    61.460428\n",
       " 2    49.617060\n",
       " 3    36.225692\n",
       " 4     0.970093\n",
       " Name: yhat, dtype: float64,\n",
       " 0    15.684908\n",
       " 1    27.062715\n",
       " 2    27.584278\n",
       " 3    16.216039\n",
       " 4    19.048588\n",
       " Name: yhat, dtype: float64,\n",
       " 0    699.067205\n",
       " 1    651.523695\n",
       " 2    682.845009\n",
       " 3    450.185430\n",
       " 4    497.793719\n",
       " Name: yhat, dtype: float64,\n",
       " 0    412.585225\n",
       " 1    380.422651\n",
       " 2    371.207331\n",
       " 3    215.726542\n",
       " 4    338.127583\n",
       " Name: yhat, dtype: float64,\n",
       " 0    564.724811\n",
       " 1    488.564733\n",
       " 2    316.853408\n",
       " 3    399.438096\n",
       " 4    320.281004\n",
       " Name: yhat, dtype: float64,\n",
       " 0    255.654822\n",
       " 1    130.278885\n",
       " 2    138.446632\n",
       " 3    167.729938\n",
       " 4     75.951135\n",
       " Name: yhat, dtype: float64,\n",
       " 0    20.895797\n",
       " 1    40.586399\n",
       " 2    28.345006\n",
       " 3     1.768975\n",
       " 4    29.402456\n",
       " Name: yhat, dtype: float64,\n",
       " 0    388.204455\n",
       " 1    453.104162\n",
       " 2    349.550765\n",
       " 3    267.727409\n",
       " 4    286.437418\n",
       " Name: yhat, dtype: float64,\n",
       " 0    137.631330\n",
       " 1     62.423261\n",
       " 2    -28.060092\n",
       " 3    105.709722\n",
       " 4     13.259728\n",
       " Name: yhat, dtype: float64,\n",
       " 0   -1039.489491\n",
       " 1    -609.802201\n",
       " 2    -269.342846\n",
       " 3    -472.609633\n",
       " 4    -468.993918\n",
       " Name: yhat, dtype: float64,\n",
       " 0     94.012706\n",
       " 1    136.974366\n",
       " 2      3.481953\n",
       " 3     70.259793\n",
       " 4     99.055055\n",
       " Name: yhat, dtype: float64,\n",
       " 0     80.601293\n",
       " 1     91.538113\n",
       " 2     52.883289\n",
       " 3     93.568266\n",
       " 4    102.780938\n",
       " Name: yhat, dtype: float64,\n",
       " 0    215.203636\n",
       " 1    221.703653\n",
       " 2    154.420769\n",
       " 3     91.080456\n",
       " 4     26.544615\n",
       " Name: yhat, dtype: float64,\n",
       " 0     56.774025\n",
       " 1    145.962408\n",
       " 2    108.080750\n",
       " 3     42.662471\n",
       " 4     48.596258\n",
       " Name: yhat, dtype: float64,\n",
       " 0   -28.156537\n",
       " 1   -12.471638\n",
       " 2   -41.699324\n",
       " 3   -21.105260\n",
       " 4   -26.979831\n",
       " Name: yhat, dtype: float64,\n",
       " 0    53.464485\n",
       " 1    54.340384\n",
       " 2   -29.256462\n",
       " 3    77.090691\n",
       " 4    -5.668344\n",
       " Name: yhat, dtype: float64,\n",
       " 0    51.488071\n",
       " 1    94.764758\n",
       " 2   -84.805954\n",
       " 3    81.808601\n",
       " 4    -6.954070\n",
       " Name: yhat, dtype: float64,\n",
       " 0    -31.337520\n",
       " 1    512.509002\n",
       " 2    368.495007\n",
       " 3    414.605462\n",
       " 4    266.022906\n",
       " Name: yhat, dtype: float64,\n",
       " 0     18.762765\n",
       " 1    123.731913\n",
       " 2    -41.997967\n",
       " 3     35.953507\n",
       " 4    -70.623334\n",
       " Name: yhat, dtype: float64,\n",
       " 0    361.550419\n",
       " 1    289.964050\n",
       " 2    138.820415\n",
       " 3    195.769810\n",
       " 4    136.284146\n",
       " Name: yhat, dtype: float64,\n",
       " 0     81.576992\n",
       " 1    157.415737\n",
       " 2    153.944463\n",
       " 3    116.084599\n",
       " 4    126.814669\n",
       " Name: yhat, dtype: float64,\n",
       " 0     40.382688\n",
       " 1    105.218246\n",
       " 2    -45.270092\n",
       " 3    162.173614\n",
       " 4    140.387562\n",
       " Name: yhat, dtype: float64,\n",
       " 0   -1666.246349\n",
       " 1    1813.237013\n",
       " 2    -774.886514\n",
       " 3     508.763886\n",
       " 4   -2180.017755\n",
       " Name: yhat, dtype: float64,\n",
       " 0     958.735547\n",
       " 1     948.275309\n",
       " 2    1539.654286\n",
       " 3     704.667785\n",
       " 4    -124.537448\n",
       " Name: yhat, dtype: float64,\n",
       " 0     410.892483\n",
       " 1     953.522597\n",
       " 2     121.879446\n",
       " 3    2321.853295\n",
       " 4    1348.018389\n",
       " Name: yhat, dtype: float64,\n",
       " 0   -420.892056\n",
       " 1    125.276175\n",
       " 2   -522.447088\n",
       " 3    166.286305\n",
       " 4     25.632866\n",
       " Name: yhat, dtype: float64,\n",
       " 0   -210.109393\n",
       " 1    -51.712964\n",
       " 2   -141.375444\n",
       " 3   -106.031636\n",
       " 4   -130.070862\n",
       " Name: yhat, dtype: float64,\n",
       " 0    481.157752\n",
       " 1    688.854837\n",
       " 2    539.504554\n",
       " 3    670.902684\n",
       " 4    586.607815\n",
       " Name: yhat, dtype: float64,\n",
       " 0    92.219415\n",
       " 1    92.140415\n",
       " 2    66.645454\n",
       " 3    84.395114\n",
       " 4    63.386453\n",
       " Name: yhat, dtype: float64,\n",
       " 0     43.253241\n",
       " 1     44.228230\n",
       " 2    250.203250\n",
       " 3    359.744831\n",
       " 4    202.058603\n",
       " Name: yhat, dtype: float64,\n",
       " 0     -4.004184\n",
       " 1    -22.544821\n",
       " 2    -46.093274\n",
       " 3   -123.374090\n",
       " 4   -119.058183\n",
       " Name: yhat, dtype: float64,\n",
       " 0    156.799765\n",
       " 1    117.878662\n",
       " 2    117.289844\n",
       " 3     10.625560\n",
       " 4     74.238693\n",
       " Name: yhat, dtype: float64,\n",
       " 0     83.206244\n",
       " 1    409.935764\n",
       " 2    212.287887\n",
       " 3    259.443278\n",
       " 4    245.775984\n",
       " Name: yhat, dtype: float64,\n",
       " 0    41.345306\n",
       " 1    67.116869\n",
       " 2    46.583373\n",
       " 3    34.824978\n",
       " 4    36.337688\n",
       " Name: yhat, dtype: float64,\n",
       " 0    39.360353\n",
       " 1    53.940162\n",
       " 2    42.991364\n",
       " 3    19.215931\n",
       " 4    35.521443\n",
       " Name: yhat, dtype: float64,\n",
       " 0    144.313756\n",
       " 1     39.633872\n",
       " 2    134.487174\n",
       " 3     86.474820\n",
       " 4     61.251400\n",
       " Name: yhat, dtype: float64,\n",
       " 0    180.212005\n",
       " 1    166.281929\n",
       " 2    168.433385\n",
       " 3    164.653739\n",
       " 4    118.459959\n",
       " Name: yhat, dtype: float64,\n",
       " 0     7.734558\n",
       " 1    59.317489\n",
       " 2     2.389190\n",
       " 3   -13.692324\n",
       " 4    41.798781\n",
       " Name: yhat, dtype: float64,\n",
       " 0    13.972401\n",
       " 1    23.772367\n",
       " 2    14.939554\n",
       " 3    13.908540\n",
       " 4    -7.463426\n",
       " Name: yhat, dtype: float64,\n",
       " 0     20.576379\n",
       " 1     96.690189\n",
       " 2    -43.329302\n",
       " 3     -8.069259\n",
       " 4    104.816956\n",
       " Name: yhat, dtype: float64,\n",
       " 0    25.680887\n",
       " 1    23.991610\n",
       " 2   -63.054533\n",
       " 3   -29.405125\n",
       " 4    12.854632\n",
       " Name: yhat, dtype: float64,\n",
       " 0    396.682269\n",
       " 1    565.157697\n",
       " 2    312.613942\n",
       " 3    415.117254\n",
       " 4     96.569733\n",
       " Name: yhat, dtype: float64,\n",
       " 0     18.484003\n",
       " 1    276.437020\n",
       " 2    281.569523\n",
       " 3    101.782969\n",
       " 4    128.618706\n",
       " Name: yhat, dtype: float64,\n",
       " 0    312.063658\n",
       " 1    223.079582\n",
       " 2    354.735455\n",
       " 3    102.597284\n",
       " 4     62.932852\n",
       " Name: yhat, dtype: float64,\n",
       " 0    192.583229\n",
       " 1     93.172591\n",
       " 2    123.957233\n",
       " 3    176.903394\n",
       " 4     62.230919\n",
       " Name: yhat, dtype: float64,\n",
       " 0    1204.464441\n",
       " 1    1191.755209\n",
       " 2    1260.295391\n",
       " 3    1285.418738\n",
       " 4    1240.048135\n",
       " Name: yhat, dtype: float64,\n",
       " 0    45.733867\n",
       " 1    59.721649\n",
       " 2    45.770953\n",
       " 3    12.104872\n",
       " 4    19.571386\n",
       " Name: yhat, dtype: float64,\n",
       " 0    1516.488669\n",
       " 1    1657.447130\n",
       " 2    1296.797047\n",
       " 3    1301.810093\n",
       " 4     991.091514\n",
       " Name: yhat, dtype: float64,\n",
       " 0    115.221960\n",
       " 1    100.647088\n",
       " 2     94.654585\n",
       " 3    118.133009\n",
       " 4    105.729853\n",
       " Name: yhat, dtype: float64,\n",
       " 0   -29.698872\n",
       " 1   -77.505033\n",
       " 2   -16.568828\n",
       " 3   -40.255528\n",
       " 4   -47.558930\n",
       " Name: yhat, dtype: float64,\n",
       " 0    138.709609\n",
       " 1    167.047922\n",
       " 2    112.509089\n",
       " 3     79.424808\n",
       " 4    112.880617\n",
       " Name: yhat, dtype: float64,\n",
       " 0     554.392643\n",
       " 1     852.740663\n",
       " 2     221.808963\n",
       " 3     958.754606\n",
       " 4    1207.241258\n",
       " Name: yhat, dtype: float64,\n",
       " 0     661.713908\n",
       " 1     708.223163\n",
       " 2     676.186999\n",
       " 3    1023.422227\n",
       " 4    1014.839679\n",
       " Name: yhat, dtype: float64,\n",
       " 0    77.040254\n",
       " 1    39.303109\n",
       " 2    98.004490\n",
       " 3   -66.884220\n",
       " 4    33.279728\n",
       " Name: yhat, dtype: float64,\n",
       " 0    52.584053\n",
       " 1    90.822926\n",
       " 2    23.995042\n",
       " 3    26.728745\n",
       " 4    25.011361\n",
       " Name: yhat, dtype: float64,\n",
       " 0    2417.819959\n",
       " 1     795.024519\n",
       " 2     318.786836\n",
       " 3     229.813245\n",
       " 4     820.758191\n",
       " Name: yhat, dtype: float64,\n",
       " 0    526.595331\n",
       " 1    217.369431\n",
       " 2    -19.140851\n",
       " 3    -94.785058\n",
       " 4    220.403113\n",
       " Name: yhat, dtype: float64,\n",
       " 0    320.496995\n",
       " 1    268.836002\n",
       " 2    182.926029\n",
       " 3    156.351281\n",
       " 4    278.794436\n",
       " Name: yhat, dtype: float64,\n",
       " 0   -16.148449\n",
       " 1    29.832474\n",
       " 2     8.901697\n",
       " 3   -11.088636\n",
       " 4    -4.759523\n",
       " Name: yhat, dtype: float64,\n",
       " 0     97.690883\n",
       " 1    102.175860\n",
       " 2     93.150568\n",
       " 3     81.215571\n",
       " 4     69.693636\n",
       " Name: yhat, dtype: float64,\n",
       " 0     4.025646\n",
       " 1    33.125144\n",
       " 2    30.064612\n",
       " 3    32.810580\n",
       " 4    29.624351\n",
       " Name: yhat, dtype: float64,\n",
       " 0    12.298790\n",
       " 1    33.370805\n",
       " 2     8.504169\n",
       " 3    10.180461\n",
       " 4    13.186136\n",
       " Name: yhat, dtype: float64,\n",
       " 0   -181.963753\n",
       " 1      4.103066\n",
       " 2   -368.403175\n",
       " 3    -49.672207\n",
       " 4   -110.653492\n",
       " Name: yhat, dtype: float64,\n",
       " 0    488.943647\n",
       " 1    463.449316\n",
       " 2    470.563534\n",
       " 3    476.326768\n",
       " 4    597.830147\n",
       " Name: yhat, dtype: float64,\n",
       " 0    59.468212\n",
       " 1    82.768213\n",
       " 2   -66.538760\n",
       " 3   -57.974168\n",
       " 4   -49.899108\n",
       " Name: yhat, dtype: float64,\n",
       " 0     92.675149\n",
       " 1    213.574799\n",
       " 2    105.447294\n",
       " 3    -63.985463\n",
       " 4     32.940398\n",
       " Name: yhat, dtype: float64,\n",
       " 0      3.010069\n",
       " 1     74.624812\n",
       " 2     42.892409\n",
       " 3     52.448796\n",
       " 4    142.548448\n",
       " Name: yhat, dtype: float64,\n",
       " 0    65.793587\n",
       " 1    70.089165\n",
       " 2    59.061518\n",
       " 3    38.797383\n",
       " 4    25.040073\n",
       " Name: yhat, dtype: float64,\n",
       " 0     54.459560\n",
       " 1    230.302990\n",
       " 2    297.692371\n",
       " 3    185.421626\n",
       " 4    130.767357\n",
       " Name: yhat, dtype: float64,\n",
       " 0    139.272833\n",
       " 1    128.892385\n",
       " 2     97.194846\n",
       " 3     65.123762\n",
       " 4     72.068303\n",
       " Name: yhat, dtype: float64,\n",
       " 0    565.506095\n",
       " 1    863.803241\n",
       " 2    734.721697\n",
       " 3    569.435231\n",
       " 4    379.211234\n",
       " Name: yhat, dtype: float64,\n",
       " 0    918.781190\n",
       " 1    840.159963\n",
       " 2    424.191896\n",
       " 3    193.726598\n",
       " 4    382.418618\n",
       " Name: yhat, dtype: float64,\n",
       " 0    186.109683\n",
       " 1    169.881081\n",
       " 2     43.624713\n",
       " 3     43.935355\n",
       " 4     89.240526\n",
       " Name: yhat, dtype: float64,\n",
       " 0    -64.662293\n",
       " 1    145.204211\n",
       " 2   -346.315001\n",
       " 3   -324.370599\n",
       " 4   -330.406041\n",
       " Name: yhat, dtype: float64,\n",
       " 0    81.996430\n",
       " 1    60.350880\n",
       " 2    35.413507\n",
       " 3    49.907327\n",
       " 4    -0.040618\n",
       " Name: yhat, dtype: float64,\n",
       " 0    114.327749\n",
       " 1     63.187054\n",
       " 2     53.918368\n",
       " 3     20.961263\n",
       " 4     45.763431\n",
       " Name: yhat, dtype: float64,\n",
       " 0    20.576067\n",
       " 1   -43.984460\n",
       " 2   -38.160577\n",
       " 3   -49.174441\n",
       " 4   -49.394222\n",
       " Name: yhat, dtype: float64,\n",
       " 0    2540.149132\n",
       " 1    1849.701039\n",
       " 2    1809.996606\n",
       " 3     575.767515\n",
       " 4     968.646264\n",
       " Name: yhat, dtype: float64,\n",
       " 0    12.699278\n",
       " 1    10.159584\n",
       " 2    11.196221\n",
       " 3     2.264541\n",
       " 4    17.600548\n",
       " Name: yhat, dtype: float64,\n",
       " 0   -15.936230\n",
       " 1    -8.485165\n",
       " 2   -38.079216\n",
       " 3   -71.008459\n",
       " 4    16.053573\n",
       " Name: yhat, dtype: float64,\n",
       " 0     59.891264\n",
       " 1    124.689360\n",
       " 2     48.667343\n",
       " 3     26.359272\n",
       " 4     32.479160\n",
       " Name: yhat, dtype: float64,\n",
       " 0    14.787468\n",
       " 1    64.971420\n",
       " 2   -14.188567\n",
       " 3    11.315883\n",
       " 4    36.828297\n",
       " Name: yhat, dtype: float64,\n",
       " 0    324.624942\n",
       " 1    191.354412\n",
       " 2    154.692270\n",
       " 3    247.410174\n",
       " 4    137.174596\n",
       " Name: yhat, dtype: float64,\n",
       " 0    -98.824359\n",
       " 1    456.846265\n",
       " 2    -64.608471\n",
       " 3   -212.316198\n",
       " 4   -774.660822\n",
       " Name: yhat, dtype: float64,\n",
       " 0    19.293318\n",
       " 1    79.190580\n",
       " 2    87.794863\n",
       " 3    22.154144\n",
       " 4    31.857068\n",
       " Name: yhat, dtype: float64,\n",
       " 0    94.736017\n",
       " 1    56.137293\n",
       " 2     4.231924\n",
       " 3   -12.828819\n",
       " 4    -4.690251\n",
       " Name: yhat, dtype: float64,\n",
       " 0    350.598866\n",
       " 1    564.570549\n",
       " 2    268.107219\n",
       " 3    733.339091\n",
       " 4    890.358487\n",
       " Name: yhat, dtype: float64,\n",
       " 0    459.815368\n",
       " 1    325.710245\n",
       " 2    269.159589\n",
       " 3    108.303773\n",
       " 4    215.922831\n",
       " Name: yhat, dtype: float64,\n",
       " 0   -207.008196\n",
       " 1    -95.660729\n",
       " 2    -39.314570\n",
       " 3     43.504029\n",
       " 4     19.415866\n",
       " Name: yhat, dtype: float64,\n",
       " 0    168.554056\n",
       " 1    244.804165\n",
       " 2    178.241110\n",
       " 3    107.132379\n",
       " 4     67.836049\n",
       " Name: yhat, dtype: float64,\n",
       " 0    41.160446\n",
       " 1    65.542452\n",
       " 2    -2.142493\n",
       " 3   -44.447574\n",
       " 4   -34.382678\n",
       " Name: yhat, dtype: float64,\n",
       " 0    304.113855\n",
       " 1    358.405394\n",
       " 2    375.759884\n",
       " 3    534.243903\n",
       " 4    496.468545\n",
       " Name: yhat, dtype: float64,\n",
       " 0   -565.027101\n",
       " 1   -959.694173\n",
       " 2   -696.963470\n",
       " 3   -428.450216\n",
       " 4   -886.462094\n",
       " Name: yhat, dtype: float64,\n",
       " 0    173.922706\n",
       " 1    644.705902\n",
       " 2     31.882071\n",
       " 3    137.020923\n",
       " 4      7.789863\n",
       " Name: yhat, dtype: float64,\n",
       " 0     927.657187\n",
       " 1    1128.491451\n",
       " 2     514.480104\n",
       " 3     981.584282\n",
       " 4     777.010764\n",
       " Name: yhat, dtype: float64,\n",
       " 0    32.396430\n",
       " 1    44.443302\n",
       " 2    54.952655\n",
       " 3    26.589889\n",
       " 4   -33.466229\n",
       " Name: yhat, dtype: float64,\n",
       " 0     -2.370740\n",
       " 1     62.694630\n",
       " 2    -78.549440\n",
       " 3    104.772017\n",
       " 4      4.370525\n",
       " Name: yhat, dtype: float64,\n",
       " 0    47.481613\n",
       " 1    48.543483\n",
       " 2    43.272562\n",
       " 3    50.270573\n",
       " 4    31.385659\n",
       " Name: yhat, dtype: float64,\n",
       " 0    172.697819\n",
       " 1    214.061156\n",
       " 2    175.076193\n",
       " 3    215.283477\n",
       " 4    201.860201\n",
       " Name: yhat, dtype: float64,\n",
       " 0    51.646566\n",
       " 1    90.973580\n",
       " 2    22.551076\n",
       " 3    25.637427\n",
       " 4    26.329630\n",
       " Name: yhat, dtype: float64,\n",
       " 0     96.562026\n",
       " 1     84.938612\n",
       " 2     25.549749\n",
       " 3    100.922249\n",
       " 4    -74.254463\n",
       " Name: yhat, dtype: float64,\n",
       " 0    12.083266\n",
       " 1    23.220763\n",
       " 2     6.679433\n",
       " 3     3.864234\n",
       " 4    10.251898\n",
       " Name: yhat, dtype: float64,\n",
       " 0   -13.479829\n",
       " 1     0.473339\n",
       " 2   -16.790570\n",
       " 3    -1.590211\n",
       " 4   -16.119246\n",
       " Name: yhat, dtype: float64,\n",
       " 0   -28.830576\n",
       " 1   -49.755577\n",
       " 2   -39.351384\n",
       " 3   -82.253346\n",
       " 4   -29.555029\n",
       " Name: yhat, dtype: float64,\n",
       " 0    168.935246\n",
       " 1    522.524578\n",
       " 2    552.795643\n",
       " 3    419.516676\n",
       " 4    325.620477\n",
       " Name: yhat, dtype: float64,\n",
       " 0    219.729095\n",
       " 1     27.290237\n",
       " 2      9.322284\n",
       " 3     16.946563\n",
       " 4      2.950886\n",
       " Name: yhat, dtype: float64,\n",
       " 0   -215.431912\n",
       " 1     37.328954\n",
       " 2    -29.110138\n",
       " 3    -80.658426\n",
       " 4     18.592485\n",
       " Name: yhat, dtype: float64,\n",
       " 0     888.491613\n",
       " 1    1084.261482\n",
       " 2     865.931250\n",
       " 3     821.095259\n",
       " 4     974.186970\n",
       " Name: yhat, dtype: float64,\n",
       " 0     74.017420\n",
       " 1    124.969678\n",
       " 2    124.564063\n",
       " 3     68.207101\n",
       " 4     53.526543\n",
       " Name: yhat, dtype: float64,\n",
       " 0    309.567290\n",
       " 1    286.184413\n",
       " 2    285.074429\n",
       " 3      1.149469\n",
       " 4    191.680023\n",
       " Name: yhat, dtype: float64,\n",
       " 0      9.909708\n",
       " 1     94.808687\n",
       " 2     81.742198\n",
       " 3     73.535783\n",
       " 4    107.564527\n",
       " Name: yhat, dtype: float64,\n",
       " 0    -5.358413\n",
       " 1   -23.817317\n",
       " 2     2.569191\n",
       " 3   -25.574217\n",
       " 4   -24.819325\n",
       " Name: yhat, dtype: float64,\n",
       " 0    35.867153\n",
       " 1    86.193817\n",
       " 2    17.462539\n",
       " 3    28.328762\n",
       " 4    21.061004\n",
       " Name: yhat, dtype: float64,\n",
       " 0    251.291321\n",
       " 1    352.057275\n",
       " 2    272.159902\n",
       " 3    210.034681\n",
       " 4     72.047385\n",
       " Name: yhat, dtype: float64,\n",
       " 0    4458.658724\n",
       " 1    4000.157474\n",
       " 2    2991.906385\n",
       " 3    1594.365735\n",
       " 4    2955.092491\n",
       " Name: yhat, dtype: float64,\n",
       " 0    235.749051\n",
       " 1    259.504217\n",
       " 2    278.082958\n",
       " 3    319.750033\n",
       " 4    245.111132\n",
       " Name: yhat, dtype: float64,\n",
       " 0    -8.388067\n",
       " 1   -26.678413\n",
       " 2    18.483544\n",
       " 3    -1.361576\n",
       " 4   -16.643341\n",
       " Name: yhat, dtype: float64,\n",
       " 0    115.233420\n",
       " 1    174.749375\n",
       " 2    134.835493\n",
       " 3    145.745336\n",
       " 4    131.895354\n",
       " Name: yhat, dtype: float64,\n",
       " 0    106.723828\n",
       " 1    100.832752\n",
       " 2     80.314998\n",
       " 3    100.456413\n",
       " 4     71.662116\n",
       " Name: yhat, dtype: float64,\n",
       " 0    156.902407\n",
       " 1    199.444522\n",
       " 2    162.720145\n",
       " 3    178.954790\n",
       " 4    132.652558\n",
       " Name: yhat, dtype: float64,\n",
       " 0     4.879984\n",
       " 1     0.201465\n",
       " 2   -12.722379\n",
       " 3   -11.006368\n",
       " 4   -10.814460\n",
       " Name: yhat, dtype: float64,\n",
       " 0    30.420771\n",
       " 1    -9.442702\n",
       " 2   -18.590771\n",
       " 3   -20.456614\n",
       " 4    14.203916\n",
       " Name: yhat, dtype: float64,\n",
       " 0     649.341075\n",
       " 1     942.533634\n",
       " 2     780.398978\n",
       " 3     624.094048\n",
       " 4    1161.683309\n",
       " Name: yhat, dtype: float64,\n",
       " 0    125.939848\n",
       " 1    734.377384\n",
       " 2   -344.643522\n",
       " 3   -520.939135\n",
       " 4   -587.384953\n",
       " Name: yhat, dtype: float64,\n",
       " 0    395.872782\n",
       " 1    495.841011\n",
       " 2    387.860322\n",
       " 3    483.312237\n",
       " 4    310.673188\n",
       " Name: yhat, dtype: float64,\n",
       " 0    219.437236\n",
       " 1    274.598448\n",
       " 2    193.792210\n",
       " 3     71.532392\n",
       " 4    106.169440\n",
       " Name: yhat, dtype: float64,\n",
       " 0    108.672413\n",
       " 1    183.886301\n",
       " 2    149.842903\n",
       " 3    123.810802\n",
       " 4    125.183329\n",
       " Name: yhat, dtype: float64,\n",
       " 0    2889.701372\n",
       " 1    1023.363027\n",
       " 2     922.932977\n",
       " 3    1120.898280\n",
       " 4    1317.981543\n",
       " Name: yhat, dtype: float64,\n",
       " 0    685.241685\n",
       " 1    540.812749\n",
       " 2    433.997661\n",
       " 3    -27.389131\n",
       " 4     62.352645\n",
       " Name: yhat, dtype: float64,\n",
       " 0    34.843946\n",
       " 1    74.433222\n",
       " 2    27.846452\n",
       " 3    49.674994\n",
       " 4    36.052249\n",
       " Name: yhat, dtype: float64,\n",
       " 0   -31.907993\n",
       " 1   -25.249280\n",
       " 2     0.047135\n",
       " 3    -8.107737\n",
       " 4    27.380528\n",
       " Name: yhat, dtype: float64,\n",
       " 0   -0.273100\n",
       " 1   -3.150263\n",
       " 2   -1.796858\n",
       " 3    3.441529\n",
       " 4   -3.036145\n",
       " Name: yhat, dtype: float64,\n",
       " 0    217.761282\n",
       " 1     48.341079\n",
       " 2    -20.944055\n",
       " 3    -90.204803\n",
       " 4   -195.106177\n",
       " Name: yhat, dtype: float64,\n",
       " 0   -185.054026\n",
       " 1   -168.154452\n",
       " 2   -153.217393\n",
       " 3   -137.072601\n",
       " 4   -178.798641\n",
       " Name: yhat, dtype: float64,\n",
       " 0    112.559919\n",
       " 1    214.690100\n",
       " 2    133.321641\n",
       " 3    170.754794\n",
       " 4    108.164482\n",
       " Name: yhat, dtype: float64,\n",
       " 0    5.987655\n",
       " 1    5.279286\n",
       " 2   -0.033140\n",
       " 3    3.878852\n",
       " 4    1.797556\n",
       " Name: yhat, dtype: float64,\n",
       " 0      1.721454\n",
       " 1    135.713722\n",
       " 2    147.473001\n",
       " 3     83.484341\n",
       " 4    237.507889\n",
       " Name: yhat, dtype: float64,\n",
       " 0      6.734283\n",
       " 1     26.123282\n",
       " 2    149.491411\n",
       " 3    -44.823299\n",
       " 4     93.939334\n",
       " Name: yhat, dtype: float64,\n",
       " 0     -3.505553\n",
       " 1    147.137558\n",
       " 2    -21.306730\n",
       " 3    -25.260815\n",
       " 4      3.260693\n",
       " Name: yhat, dtype: float64,\n",
       " 0    381.465591\n",
       " 1    440.523535\n",
       " 2    355.145823\n",
       " 3    211.805628\n",
       " 4    264.880222\n",
       " Name: yhat, dtype: float64,\n",
       " 0    299.504382\n",
       " 1    267.421966\n",
       " 2    264.263494\n",
       " 3    192.128021\n",
       " 4     70.655196\n",
       " Name: yhat, dtype: float64,\n",
       " 0    479.652822\n",
       " 1    322.601242\n",
       " 2    158.712310\n",
       " 3    397.163941\n",
       " 4    559.779350\n",
       " Name: yhat, dtype: float64,\n",
       " 0     91.712882\n",
       " 1     18.030551\n",
       " 2     27.454083\n",
       " 3     63.517280\n",
       " 4    108.064114\n",
       " Name: yhat, dtype: float64,\n",
       " 0    2116.356017\n",
       " 1     654.949546\n",
       " 2     427.887165\n",
       " 3     133.142155\n",
       " 4     630.122214\n",
       " Name: yhat, dtype: float64,\n",
       " 0   -393.045648\n",
       " 1   -261.671997\n",
       " 2   -266.968764\n",
       " 3    -42.714086\n",
       " 4     62.463063\n",
       " Name: yhat, dtype: float64,\n",
       " 0    224.812961\n",
       " 1     98.935472\n",
       " 2    101.958303\n",
       " 3    123.284375\n",
       " 4     79.467414\n",
       " Name: yhat, dtype: float64,\n",
       " 0     68.011780\n",
       " 1    186.135111\n",
       " 2    -33.329784\n",
       " 3     61.680519\n",
       " 4    110.170869\n",
       " Name: yhat, dtype: float64,\n",
       " 0   -195.716548\n",
       " 1   -162.591707\n",
       " 2   -315.381019\n",
       " 3   -261.107698\n",
       " 4   -282.461944\n",
       " Name: yhat, dtype: float64,\n",
       " 0    147.806532\n",
       " 1     10.932697\n",
       " 2     27.071191\n",
       " 3      2.115558\n",
       " 4     27.935864\n",
       " Name: yhat, dtype: float64,\n",
       " 0     99.351044\n",
       " 1    157.067683\n",
       " 2     23.329003\n",
       " 3    -18.943630\n",
       " 4    -52.897312\n",
       " Name: yhat, dtype: float64,\n",
       " 0    11.605044\n",
       " 1   -10.006704\n",
       " 2    18.801629\n",
       " 3   -10.273128\n",
       " 4    32.206625\n",
       " Name: yhat, dtype: float64,\n",
       " 0     37.618010\n",
       " 1    -44.431352\n",
       " 2    -49.019402\n",
       " 3     24.554037\n",
       " 4   -136.175370\n",
       " Name: yhat, dtype: float64,\n",
       " 0    -68.548530\n",
       " 1    -41.556181\n",
       " 2    139.202116\n",
       " 3     72.328676\n",
       " 4     40.822762\n",
       " Name: yhat, dtype: float64,\n",
       " 0    3556.131442\n",
       " 1    2136.563251\n",
       " 2     927.468119\n",
       " 3     144.848064\n",
       " 4    2091.225584\n",
       " Name: yhat, dtype: float64,\n",
       " 0    190.137032\n",
       " 1    230.124288\n",
       " 2    141.878316\n",
       " 3    211.325867\n",
       " 4     82.774067\n",
       " Name: yhat, dtype: float64,\n",
       " 0     56.647115\n",
       " 1    110.288768\n",
       " 2     47.244886\n",
       " 3     76.283708\n",
       " 4     47.072950\n",
       " Name: yhat, dtype: float64,\n",
       " 0    146.992641\n",
       " 1     58.129417\n",
       " 2     13.395978\n",
       " 3   -178.951115\n",
       " 4   -173.400566\n",
       " Name: yhat, dtype: float64,\n",
       " 0    453.581400\n",
       " 1    175.180865\n",
       " 2    117.219345\n",
       " 3    308.982433\n",
       " 4     97.375561\n",
       " Name: yhat, dtype: float64,\n",
       " 0    141.059137\n",
       " 1    277.139328\n",
       " 2    214.801924\n",
       " 3     96.549850\n",
       " 4    113.197908\n",
       " Name: yhat, dtype: float64,\n",
       " 0    0.631247\n",
       " 1   -2.367077\n",
       " 2   -1.693816\n",
       " 3    3.736371\n",
       " 4   -2.536993\n",
       " Name: yhat, dtype: float64,\n",
       " 0    865.631343\n",
       " 1    839.427409\n",
       " 2    812.818612\n",
       " 3    775.377445\n",
       " 4    714.537985\n",
       " Name: yhat, dtype: float64,\n",
       " 0    167.406242\n",
       " 1    260.802625\n",
       " 2    244.727806\n",
       " 3    153.545185\n",
       " 4    218.451070\n",
       " Name: yhat, dtype: float64,\n",
       " 0    261.556709\n",
       " 1    -16.008943\n",
       " 2   -171.684572\n",
       " 3    180.018011\n",
       " 4    -96.682693\n",
       " Name: yhat, dtype: float64,\n",
       " 0     69.714354\n",
       " 1     85.171329\n",
       " 2    129.605445\n",
       " 3    194.650998\n",
       " 4     56.859131\n",
       " Name: yhat, dtype: float64,\n",
       " 0    -7.504918\n",
       " 1    26.812517\n",
       " 2    87.132828\n",
       " 3   -15.555203\n",
       " 4    67.242766\n",
       " Name: yhat, dtype: float64,\n",
       " 0     8.793247\n",
       " 1    15.985305\n",
       " 2    10.335790\n",
       " 3     3.537823\n",
       " 4     3.390532\n",
       " Name: yhat, dtype: float64,\n",
       " 0    30.564495\n",
       " 1    33.496900\n",
       " 2    23.671897\n",
       " 3    50.078528\n",
       " 4     4.008529\n",
       " Name: yhat, dtype: float64,\n",
       " 0    197.361440\n",
       " 1    239.912072\n",
       " 2    173.861337\n",
       " 3    235.645485\n",
       " 4    175.071255\n",
       " Name: yhat, dtype: float64,\n",
       " 0    481.429707\n",
       " 1    596.887324\n",
       " 2    414.155182\n",
       " 3    309.536025\n",
       " 4    669.873619\n",
       " Name: yhat, dtype: float64,\n",
       " 0   -185.681017\n",
       " 1     -3.955792\n",
       " 2      0.446672\n",
       " 3    -39.554029\n",
       " 4    -13.915729\n",
       " Name: yhat, dtype: float64,\n",
       " 0    49.778228\n",
       " 1    67.684486\n",
       " 2    57.052101\n",
       " 3    68.639528\n",
       " 4    46.228524\n",
       " Name: yhat, dtype: float64,\n",
       " 0   -102.501127\n",
       " 1    411.133823\n",
       " 2   -195.895897\n",
       " 3    339.570911\n",
       " 4    322.294810\n",
       " Name: yhat, dtype: float64,\n",
       " 0   -380.086547\n",
       " 1    205.856898\n",
       " 2    335.556330\n",
       " 3    326.242501\n",
       " 4    536.020776\n",
       " Name: yhat, dtype: float64,\n",
       " 0    180.494268\n",
       " 1    205.332828\n",
       " 2    130.323319\n",
       " 3     42.311906\n",
       " 4     11.553973\n",
       " Name: yhat, dtype: float64,\n",
       " 0   -201.083144\n",
       " 1    130.037565\n",
       " 2    -44.185843\n",
       " 3   -117.371679\n",
       " 4    -74.886576\n",
       " Name: yhat, dtype: float64,\n",
       " 0    145.255628\n",
       " 1    481.247855\n",
       " 2    457.673616\n",
       " 3    279.476678\n",
       " 4    239.304905\n",
       " Name: yhat, dtype: float64,\n",
       " 0    5637.030788\n",
       " 1    4371.638135\n",
       " 2    4573.401202\n",
       " 3    5036.595100\n",
       " 4    4994.858546\n",
       " Name: yhat, dtype: float64,\n",
       " 0     475.287841\n",
       " 1    1080.429577\n",
       " 2     664.592688\n",
       " 3     325.986961\n",
       " 4     695.147317\n",
       " Name: yhat, dtype: float64,\n",
       " 0    -9.352084\n",
       " 1   -33.821422\n",
       " 2    -2.571734\n",
       " 3     4.034438\n",
       " 4   -10.064901\n",
       " Name: yhat, dtype: float64,\n",
       " 0    235.877982\n",
       " 1    570.537757\n",
       " 2    506.746804\n",
       " 3    308.355496\n",
       " 4    106.274204\n",
       " Name: yhat, dtype: float64,\n",
       " 0   -27.768081\n",
       " 1   -10.124326\n",
       " 2   -13.679230\n",
       " 3   -35.312534\n",
       " 4   -97.142357\n",
       " Name: yhat, dtype: float64,\n",
       " 0    -38.716023\n",
       " 1    214.250797\n",
       " 2     69.926015\n",
       " 3     89.504859\n",
       " 4     23.531771\n",
       " Name: yhat, dtype: float64,\n",
       " 0    496.427575\n",
       " 1    293.091468\n",
       " 2    134.196907\n",
       " 3    470.905854\n",
       " 4    421.585567\n",
       " Name: yhat, dtype: float64,\n",
       " 0   -130.373361\n",
       " 1    110.304013\n",
       " 2    -83.402943\n",
       " 3    -65.124150\n",
       " 4    -65.412863\n",
       " Name: yhat, dtype: float64,\n",
       " 0    -85.372748\n",
       " 1    163.029513\n",
       " 2    -51.795278\n",
       " 3   -119.281406\n",
       " 4   -130.347163\n",
       " Name: yhat, dtype: float64,\n",
       " 0    -86.620335\n",
       " 1   -485.051748\n",
       " 2   -413.702987\n",
       " 3    -25.719432\n",
       " 4   -244.552431\n",
       " Name: yhat, dtype: float64,\n",
       " 0    824.134494\n",
       " 1     47.637268\n",
       " 2     64.633007\n",
       " 3   -111.185527\n",
       " 4    164.018803\n",
       " Name: yhat, dtype: float64,\n",
       " 0    76.850632\n",
       " 1    38.782235\n",
       " 2    16.903636\n",
       " 3    49.525169\n",
       " 4    -6.166784\n",
       " Name: yhat, dtype: float64,\n",
       " 0     66.714933\n",
       " 1    200.451510\n",
       " 2    217.032904\n",
       " 3    130.650761\n",
       " 4     70.921147\n",
       " Name: yhat, dtype: float64,\n",
       " 0   -16.341103\n",
       " 1   -25.268679\n",
       " 2     8.526979\n",
       " 3    36.032961\n",
       " 4   -11.496418\n",
       " Name: yhat, dtype: float64,\n",
       " 0    675.692932\n",
       " 1    580.699315\n",
       " 2    572.643761\n",
       " 3    559.301872\n",
       " 4    853.600382\n",
       " Name: yhat, dtype: float64,\n",
       " 0    35.748509\n",
       " 1    52.130545\n",
       " 2    24.560671\n",
       " 3    18.664821\n",
       " 4    29.351381\n",
       " Name: yhat, dtype: float64,\n",
       " 0    7327.982510\n",
       " 1     398.934466\n",
       " 2    -338.553254\n",
       " 3    -172.424927\n",
       " 4     -93.398541\n",
       " Name: yhat, dtype: float64,\n",
       " 0     633.973332\n",
       " 1    1328.641101\n",
       " 2    1050.207008\n",
       " 3    1448.095161\n",
       " 4    1237.824761\n",
       " Name: yhat, dtype: float64,\n",
       " 0    -1.740533\n",
       " 1     3.973447\n",
       " 2   -15.365523\n",
       " 3    11.980987\n",
       " 4     1.361314\n",
       " Name: yhat, dtype: float64,\n",
       " 0    -74.515804\n",
       " 1     99.264076\n",
       " 2    122.497979\n",
       " 3    101.380058\n",
       " 4     -4.155456\n",
       " Name: yhat, dtype: float64,\n",
       " 0   -183.133220\n",
       " 1   -112.713128\n",
       " 2   -170.478896\n",
       " 3   -179.812962\n",
       " 4   -129.946854\n",
       " Name: yhat, dtype: float64,\n",
       " 0    14.689758\n",
       " 1    46.206354\n",
       " 2    22.657869\n",
       " 3    28.020107\n",
       " 4    28.080126\n",
       " Name: yhat, dtype: float64,\n",
       " 0    4207.930786\n",
       " 1    1473.566535\n",
       " 2    1326.432574\n",
       " 3    1718.975297\n",
       " 4    2128.854774\n",
       " Name: yhat, dtype: float64,\n",
       " 0     65.049486\n",
       " 1    260.486255\n",
       " 2    255.976141\n",
       " 3    509.768065\n",
       " 4    326.978909\n",
       " Name: yhat, dtype: float64,\n",
       " 0   -574.751800\n",
       " 1     90.123512\n",
       " 2   -416.904777\n",
       " 3    -63.132028\n",
       " 4   -743.393489\n",
       " Name: yhat, dtype: float64,\n",
       " 0   -601.223065\n",
       " 1    114.149736\n",
       " 2     30.639551\n",
       " 3   -123.712862\n",
       " 4     31.244600\n",
       " Name: yhat, dtype: float64,\n",
       " 0     768.247636\n",
       " 1   -1434.925228\n",
       " 2    -745.253281\n",
       " 3    -142.526258\n",
       " 4   -1538.967677\n",
       " Name: yhat, dtype: float64,\n",
       " 0   -3640.544851\n",
       " 1     338.463768\n",
       " 2     395.144356\n",
       " 3     649.835199\n",
       " 4    -169.756510\n",
       " Name: yhat, dtype: float64,\n",
       " 0    1426.682571\n",
       " 1     371.489211\n",
       " 2    -315.918747\n",
       " 3     403.155683\n",
       " 4      97.889458\n",
       " Name: yhat, dtype: float64,\n",
       " 0    665.757341\n",
       " 1    370.371209\n",
       " 2     90.474458\n",
       " 3     12.732694\n",
       " 4    -61.846591\n",
       " Name: yhat, dtype: float64,\n",
       " 0     260.644186\n",
       " 1    1326.259155\n",
       " 2    1705.000356\n",
       " 3    1279.552734\n",
       " 4    2438.475594\n",
       " Name: yhat, dtype: float64,\n",
       " 0    228.644566\n",
       " 1    357.474358\n",
       " 2    713.649418\n",
       " 3    299.500574\n",
       " 4    364.518298\n",
       " Name: yhat, dtype: float64,\n",
       " 0    292.407999\n",
       " 1    327.349746\n",
       " 2    287.846530\n",
       " 3    207.266421\n",
       " 4    210.850744\n",
       " Name: yhat, dtype: float64,\n",
       " 0   -406.540380\n",
       " 1    686.826560\n",
       " 2    622.508369\n",
       " 3    853.546134\n",
       " 4    281.357960\n",
       " Name: yhat, dtype: float64,\n",
       " 0    291.145860\n",
       " 1    268.204288\n",
       " 2    130.040963\n",
       " 3    528.452624\n",
       " 4    508.519276\n",
       " Name: yhat, dtype: float64,\n",
       " 0    142.852841\n",
       " 1     68.404661\n",
       " 2     55.019998\n",
       " 3     16.372432\n",
       " 4     -6.520873\n",
       " Name: yhat, dtype: float64,\n",
       " 0    -1.655363\n",
       " 1    -9.496104\n",
       " 2    19.164372\n",
       " 3    26.061828\n",
       " 4    12.308752\n",
       " Name: yhat, dtype: float64,\n",
       " 0    170.643730\n",
       " 1    457.737949\n",
       " 2    303.513645\n",
       " 3    399.274877\n",
       " 4    224.617414\n",
       " Name: yhat, dtype: float64,\n",
       " 0    680.059556\n",
       " 1    257.715421\n",
       " 2    214.242081\n",
       " 3    199.870431\n",
       " 4     98.728087\n",
       " Name: yhat, dtype: float64,\n",
       " 0     357.809294\n",
       " 1    1223.820081\n",
       " 2     110.107762\n",
       " 3    1766.862399\n",
       " 4    -662.754083\n",
       " Name: yhat, dtype: float64,\n",
       " 0    4403.705774\n",
       " 1    -217.478735\n",
       " 2    -609.996693\n",
       " 3    -447.787131\n",
       " 4     542.471063\n",
       " Name: yhat, dtype: float64,\n",
       " 0     6.329115\n",
       " 1    13.550107\n",
       " 2    14.385587\n",
       " 3    -0.656119\n",
       " 4     3.758286\n",
       " Name: yhat, dtype: float64,\n",
       " 0    1410.731289\n",
       " 1    1518.422583\n",
       " 2    1865.312800\n",
       " 3    2403.158579\n",
       " 4    2894.753982\n",
       " Name: yhat, dtype: float64,\n",
       " 0    148.258164\n",
       " 1    135.141835\n",
       " 2      7.217164\n",
       " 3    -39.355255\n",
       " 4   -130.172441\n",
       " Name: yhat, dtype: float64,\n",
       " 0    709.270117\n",
       " 1    617.370278\n",
       " 2    582.804081\n",
       " 3    404.219582\n",
       " 4    611.406491\n",
       " Name: yhat, dtype: float64,\n",
       " 0   -1343.410804\n",
       " 1   -2121.879678\n",
       " 2   -2438.697765\n",
       " 3   -2659.509465\n",
       " 4   -2833.889983\n",
       " Name: yhat, dtype: float64,\n",
       " 0    1829.877252\n",
       " 1    2572.071194\n",
       " 2    2182.930397\n",
       " 3    2827.669044\n",
       " 4    2980.102986\n",
       " Name: yhat, dtype: float64,\n",
       " 0    -14.974586\n",
       " 1   -143.131495\n",
       " 2   -149.165858\n",
       " 3    242.328818\n",
       " 4     13.376497\n",
       " Name: yhat, dtype: float64,\n",
       " 0     7470.217003\n",
       " 1    16476.872170\n",
       " 2    13456.956850\n",
       " 3    16660.180270\n",
       " 4    13848.004566\n",
       " Name: yhat, dtype: float64,\n",
       " 0    2057.894721\n",
       " 1    -388.699729\n",
       " 2    -769.298411\n",
       " 3     967.636666\n",
       " 4     564.437358\n",
       " Name: yhat, dtype: float64,\n",
       " 0    109.603503\n",
       " 1    567.641593\n",
       " 2    372.505870\n",
       " 3    360.712391\n",
       " 4    287.484954\n",
       " Name: yhat, dtype: float64,\n",
       " 0   -141.422055\n",
       " 1   -194.729873\n",
       " 2   -155.282395\n",
       " 3   -175.058480\n",
       " 4   -219.280372\n",
       " Name: yhat, dtype: float64]"
      ]
     },
     "execution_count": 79,
     "metadata": {},
     "output_type": "execute_result"
    }
   ],
   "source": [
    "result = []\n",
    "for index in tqdm(range(370)):\n",
    "    pred_list = None\n",
    "    train = data_diff.iloc[:, index].reset_index()\n",
    "    train.columns = [\"ds\", \"y\"]\n",
    "    pred = prophet_pred_model(train)\n",
    "    result.append(pred)\n",
    "result"
   ]
  },
  {
   "cell_type": "code",
   "execution_count": 80,
   "id": "10aaa83b",
   "metadata": {},
   "outputs": [
    {
     "data": {
      "text/html": [
       "<div>\n",
       "<style scoped>\n",
       "    .dataframe tbody tr th:only-of-type {\n",
       "        vertical-align: middle;\n",
       "    }\n",
       "\n",
       "    .dataframe tbody tr th {\n",
       "        vertical-align: top;\n",
       "    }\n",
       "\n",
       "    .dataframe thead th {\n",
       "        text-align: right;\n",
       "    }\n",
       "</style>\n",
       "<table border=\"1\" class=\"dataframe\">\n",
       "  <thead>\n",
       "    <tr style=\"text-align: right;\">\n",
       "      <th></th>\n",
       "      <th>Day</th>\n",
       "      <th>000060</th>\n",
       "      <th>000080</th>\n",
       "      <th>000100</th>\n",
       "      <th>000120</th>\n",
       "      <th>000150</th>\n",
       "      <th>000240</th>\n",
       "      <th>000250</th>\n",
       "      <th>000270</th>\n",
       "      <th>000660</th>\n",
       "      <th>...</th>\n",
       "      <th>330860</th>\n",
       "      <th>336260</th>\n",
       "      <th>336370</th>\n",
       "      <th>347860</th>\n",
       "      <th>348150</th>\n",
       "      <th>348210</th>\n",
       "      <th>352820</th>\n",
       "      <th>357780</th>\n",
       "      <th>363280</th>\n",
       "      <th>950130</th>\n",
       "    </tr>\n",
       "  </thead>\n",
       "  <tbody>\n",
       "    <tr>\n",
       "      <th>0</th>\n",
       "      <td>2021-11-01</td>\n",
       "      <td>29604.985533</td>\n",
       "      <td>33525.105228</td>\n",
       "      <td>60826.526310</td>\n",
       "      <td>145983.321535</td>\n",
       "      <td>134175.045490</td>\n",
       "      <td>17329.960816</td>\n",
       "      <td>50442.090696</td>\n",
       "      <td>88219.448286</td>\n",
       "      <td>107296.829235</td>\n",
       "      <td>...</td>\n",
       "      <td>51210.731289</td>\n",
       "      <td>54048.258164</td>\n",
       "      <td>85809.270117</td>\n",
       "      <td>34156.589196</td>\n",
       "      <td>26929.877252</td>\n",
       "      <td>50185.025414</td>\n",
       "      <td>390970.217003</td>\n",
       "      <td>249857.894721</td>\n",
       "      <td>26159.603503</td>\n",
       "      <td>17408.577945</td>\n",
       "    </tr>\n",
       "    <tr>\n",
       "      <th>1</th>\n",
       "      <td>2021-11-02</td>\n",
       "      <td>29681.509236</td>\n",
       "      <td>33512.659302</td>\n",
       "      <td>60784.815120</td>\n",
       "      <td>143926.603558</td>\n",
       "      <td>134234.556499</td>\n",
       "      <td>17326.912021</td>\n",
       "      <td>50474.556316</td>\n",
       "      <td>88311.457977</td>\n",
       "      <td>107469.197263</td>\n",
       "      <td>...</td>\n",
       "      <td>51318.422583</td>\n",
       "      <td>54035.141835</td>\n",
       "      <td>85717.370278</td>\n",
       "      <td>33378.120322</td>\n",
       "      <td>27672.071194</td>\n",
       "      <td>50056.868505</td>\n",
       "      <td>399976.872170</td>\n",
       "      <td>247411.300271</td>\n",
       "      <td>26617.641593</td>\n",
       "      <td>17355.270127</td>\n",
       "    </tr>\n",
       "    <tr>\n",
       "      <th>2</th>\n",
       "      <td>2021-11-03</td>\n",
       "      <td>29675.515085</td>\n",
       "      <td>33434.405439</td>\n",
       "      <td>60762.912008</td>\n",
       "      <td>143968.877300</td>\n",
       "      <td>134034.675149</td>\n",
       "      <td>17298.277084</td>\n",
       "      <td>50478.364454</td>\n",
       "      <td>88200.466828</td>\n",
       "      <td>107142.473262</td>\n",
       "      <td>...</td>\n",
       "      <td>51665.312800</td>\n",
       "      <td>53907.217164</td>\n",
       "      <td>85682.804081</td>\n",
       "      <td>33061.302235</td>\n",
       "      <td>27282.930397</td>\n",
       "      <td>50050.834142</td>\n",
       "      <td>396956.956850</td>\n",
       "      <td>247030.701589</td>\n",
       "      <td>26422.505870</td>\n",
       "      <td>17394.717605</td>\n",
       "    </tr>\n",
       "    <tr>\n",
       "      <th>3</th>\n",
       "      <td>2021-11-04</td>\n",
       "      <td>29660.732822</td>\n",
       "      <td>33378.040831</td>\n",
       "      <td>60712.211086</td>\n",
       "      <td>143934.753920</td>\n",
       "      <td>134031.129274</td>\n",
       "      <td>17279.476772</td>\n",
       "      <td>50398.094509</td>\n",
       "      <td>88109.940276</td>\n",
       "      <td>107237.545820</td>\n",
       "      <td>...</td>\n",
       "      <td>52203.158579</td>\n",
       "      <td>53860.644745</td>\n",
       "      <td>85504.219582</td>\n",
       "      <td>32840.490535</td>\n",
       "      <td>27927.669044</td>\n",
       "      <td>50442.328818</td>\n",
       "      <td>400160.180270</td>\n",
       "      <td>248767.636666</td>\n",
       "      <td>26410.712391</td>\n",
       "      <td>17374.941520</td>\n",
       "    </tr>\n",
       "    <tr>\n",
       "      <th>4</th>\n",
       "      <td>2021-11-05</td>\n",
       "      <td>29634.184707</td>\n",
       "      <td>33376.770246</td>\n",
       "      <td>60792.645937</td>\n",
       "      <td>144172.796563</td>\n",
       "      <td>134001.185552</td>\n",
       "      <td>17266.394482</td>\n",
       "      <td>50540.568288</td>\n",
       "      <td>88119.453109</td>\n",
       "      <td>107136.010066</td>\n",
       "      <td>...</td>\n",
       "      <td>52694.753982</td>\n",
       "      <td>53769.827559</td>\n",
       "      <td>85711.406491</td>\n",
       "      <td>32666.110017</td>\n",
       "      <td>28080.102986</td>\n",
       "      <td>50213.376497</td>\n",
       "      <td>397348.004566</td>\n",
       "      <td>248364.437358</td>\n",
       "      <td>26337.484954</td>\n",
       "      <td>17330.719628</td>\n",
       "    </tr>\n",
       "    <tr>\n",
       "      <th>5</th>\n",
       "      <td>2021-11-29</td>\n",
       "      <td>0.000000</td>\n",
       "      <td>0.000000</td>\n",
       "      <td>0.000000</td>\n",
       "      <td>0.000000</td>\n",
       "      <td>0.000000</td>\n",
       "      <td>0.000000</td>\n",
       "      <td>0.000000</td>\n",
       "      <td>0.000000</td>\n",
       "      <td>0.000000</td>\n",
       "      <td>...</td>\n",
       "      <td>0.000000</td>\n",
       "      <td>0.000000</td>\n",
       "      <td>0.000000</td>\n",
       "      <td>0.000000</td>\n",
       "      <td>0.000000</td>\n",
       "      <td>0.000000</td>\n",
       "      <td>0.000000</td>\n",
       "      <td>0.000000</td>\n",
       "      <td>0.000000</td>\n",
       "      <td>0.000000</td>\n",
       "    </tr>\n",
       "    <tr>\n",
       "      <th>6</th>\n",
       "      <td>2021-11-30</td>\n",
       "      <td>0.000000</td>\n",
       "      <td>0.000000</td>\n",
       "      <td>0.000000</td>\n",
       "      <td>0.000000</td>\n",
       "      <td>0.000000</td>\n",
       "      <td>0.000000</td>\n",
       "      <td>0.000000</td>\n",
       "      <td>0.000000</td>\n",
       "      <td>0.000000</td>\n",
       "      <td>...</td>\n",
       "      <td>0.000000</td>\n",
       "      <td>0.000000</td>\n",
       "      <td>0.000000</td>\n",
       "      <td>0.000000</td>\n",
       "      <td>0.000000</td>\n",
       "      <td>0.000000</td>\n",
       "      <td>0.000000</td>\n",
       "      <td>0.000000</td>\n",
       "      <td>0.000000</td>\n",
       "      <td>0.000000</td>\n",
       "    </tr>\n",
       "    <tr>\n",
       "      <th>7</th>\n",
       "      <td>2021-12-01</td>\n",
       "      <td>0.000000</td>\n",
       "      <td>0.000000</td>\n",
       "      <td>0.000000</td>\n",
       "      <td>0.000000</td>\n",
       "      <td>0.000000</td>\n",
       "      <td>0.000000</td>\n",
       "      <td>0.000000</td>\n",
       "      <td>0.000000</td>\n",
       "      <td>0.000000</td>\n",
       "      <td>...</td>\n",
       "      <td>0.000000</td>\n",
       "      <td>0.000000</td>\n",
       "      <td>0.000000</td>\n",
       "      <td>0.000000</td>\n",
       "      <td>0.000000</td>\n",
       "      <td>0.000000</td>\n",
       "      <td>0.000000</td>\n",
       "      <td>0.000000</td>\n",
       "      <td>0.000000</td>\n",
       "      <td>0.000000</td>\n",
       "    </tr>\n",
       "    <tr>\n",
       "      <th>8</th>\n",
       "      <td>2021-12-02</td>\n",
       "      <td>0.000000</td>\n",
       "      <td>0.000000</td>\n",
       "      <td>0.000000</td>\n",
       "      <td>0.000000</td>\n",
       "      <td>0.000000</td>\n",
       "      <td>0.000000</td>\n",
       "      <td>0.000000</td>\n",
       "      <td>0.000000</td>\n",
       "      <td>0.000000</td>\n",
       "      <td>...</td>\n",
       "      <td>0.000000</td>\n",
       "      <td>0.000000</td>\n",
       "      <td>0.000000</td>\n",
       "      <td>0.000000</td>\n",
       "      <td>0.000000</td>\n",
       "      <td>0.000000</td>\n",
       "      <td>0.000000</td>\n",
       "      <td>0.000000</td>\n",
       "      <td>0.000000</td>\n",
       "      <td>0.000000</td>\n",
       "    </tr>\n",
       "    <tr>\n",
       "      <th>9</th>\n",
       "      <td>2021-12-03</td>\n",
       "      <td>0.000000</td>\n",
       "      <td>0.000000</td>\n",
       "      <td>0.000000</td>\n",
       "      <td>0.000000</td>\n",
       "      <td>0.000000</td>\n",
       "      <td>0.000000</td>\n",
       "      <td>0.000000</td>\n",
       "      <td>0.000000</td>\n",
       "      <td>0.000000</td>\n",
       "      <td>...</td>\n",
       "      <td>0.000000</td>\n",
       "      <td>0.000000</td>\n",
       "      <td>0.000000</td>\n",
       "      <td>0.000000</td>\n",
       "      <td>0.000000</td>\n",
       "      <td>0.000000</td>\n",
       "      <td>0.000000</td>\n",
       "      <td>0.000000</td>\n",
       "      <td>0.000000</td>\n",
       "      <td>0.000000</td>\n",
       "    </tr>\n",
       "  </tbody>\n",
       "</table>\n",
       "<p>10 rows × 371 columns</p>\n",
       "</div>"
      ],
      "text/plain": [
       "          Day        000060        000080        000100         000120  \\\n",
       "0  2021-11-01  29604.985533  33525.105228  60826.526310  145983.321535   \n",
       "1  2021-11-02  29681.509236  33512.659302  60784.815120  143926.603558   \n",
       "2  2021-11-03  29675.515085  33434.405439  60762.912008  143968.877300   \n",
       "3  2021-11-04  29660.732822  33378.040831  60712.211086  143934.753920   \n",
       "4  2021-11-05  29634.184707  33376.770246  60792.645937  144172.796563   \n",
       "5  2021-11-29      0.000000      0.000000      0.000000       0.000000   \n",
       "6  2021-11-30      0.000000      0.000000      0.000000       0.000000   \n",
       "7  2021-12-01      0.000000      0.000000      0.000000       0.000000   \n",
       "8  2021-12-02      0.000000      0.000000      0.000000       0.000000   \n",
       "9  2021-12-03      0.000000      0.000000      0.000000       0.000000   \n",
       "\n",
       "          000150        000240        000250        000270         000660  \\\n",
       "0  134175.045490  17329.960816  50442.090696  88219.448286  107296.829235   \n",
       "1  134234.556499  17326.912021  50474.556316  88311.457977  107469.197263   \n",
       "2  134034.675149  17298.277084  50478.364454  88200.466828  107142.473262   \n",
       "3  134031.129274  17279.476772  50398.094509  88109.940276  107237.545820   \n",
       "4  134001.185552  17266.394482  50540.568288  88119.453109  107136.010066   \n",
       "5       0.000000      0.000000      0.000000      0.000000       0.000000   \n",
       "6       0.000000      0.000000      0.000000      0.000000       0.000000   \n",
       "7       0.000000      0.000000      0.000000      0.000000       0.000000   \n",
       "8       0.000000      0.000000      0.000000      0.000000       0.000000   \n",
       "9       0.000000      0.000000      0.000000      0.000000       0.000000   \n",
       "\n",
       "   ...        330860        336260        336370        347860        348150  \\\n",
       "0  ...  51210.731289  54048.258164  85809.270117  34156.589196  26929.877252   \n",
       "1  ...  51318.422583  54035.141835  85717.370278  33378.120322  27672.071194   \n",
       "2  ...  51665.312800  53907.217164  85682.804081  33061.302235  27282.930397   \n",
       "3  ...  52203.158579  53860.644745  85504.219582  32840.490535  27927.669044   \n",
       "4  ...  52694.753982  53769.827559  85711.406491  32666.110017  28080.102986   \n",
       "5  ...      0.000000      0.000000      0.000000      0.000000      0.000000   \n",
       "6  ...      0.000000      0.000000      0.000000      0.000000      0.000000   \n",
       "7  ...      0.000000      0.000000      0.000000      0.000000      0.000000   \n",
       "8  ...      0.000000      0.000000      0.000000      0.000000      0.000000   \n",
       "9  ...      0.000000      0.000000      0.000000      0.000000      0.000000   \n",
       "\n",
       "         348210         352820         357780        363280        950130  \n",
       "0  50185.025414  390970.217003  249857.894721  26159.603503  17408.577945  \n",
       "1  50056.868505  399976.872170  247411.300271  26617.641593  17355.270127  \n",
       "2  50050.834142  396956.956850  247030.701589  26422.505870  17394.717605  \n",
       "3  50442.328818  400160.180270  248767.636666  26410.712391  17374.941520  \n",
       "4  50213.376497  397348.004566  248364.437358  26337.484954  17330.719628  \n",
       "5      0.000000       0.000000       0.000000      0.000000      0.000000  \n",
       "6      0.000000       0.000000       0.000000      0.000000      0.000000  \n",
       "7      0.000000       0.000000       0.000000      0.000000      0.000000  \n",
       "8      0.000000       0.000000       0.000000      0.000000      0.000000  \n",
       "9      0.000000       0.000000       0.000000      0.000000      0.000000  \n",
       "\n",
       "[10 rows x 371 columns]"
      ]
     },
     "execution_count": 80,
     "metadata": {},
     "output_type": "execute_result"
    }
   ],
   "source": [
    "sub = pd.read_csv(\"sample_submission.csv\")\n",
    "result = pd.DataFrame(result).T\n",
    "for i in range(1,371):\n",
    "    sub.iloc[:, i] = np.pad(result.iloc[:, i-1] +  data.iloc[-1, i - 1], (0, 5), 'constant', constant_values=0)\n",
    "sub"
   ]
  },
  {
   "cell_type": "code",
   "execution_count": 81,
   "id": "3a891cda",
   "metadata": {},
   "outputs": [
    {
     "data": {
      "text/plain": [
       "3061.782478307521"
      ]
     },
     "execution_count": 81,
     "metadata": {},
     "output_type": "execute_result"
    }
   ],
   "source": [
    "valid_data = pd.DataFrame()\n",
    "\n",
    "start_date = '20211108'\n",
    "end_date = '20211112'\n",
    "for stock_code in stock_list[\"종목코드\"]:\n",
    "    stock = fdr.DataReader(stock_code, start = start_date, end = end_date)\n",
    "    valid_data = pd.concat([valid_data,stock[\"Close\"]], axis=1)\n",
    "valid_data.columns = stock_list[\"종목코드\"]\n",
    "valid_data = valid_data[stock_list.sort_values(\"종목코드\")[\"종목코드\"]]\n",
    "valid_data\n",
    "\n",
    "from sklearn.metrics import mean_absolute_error\n",
    "mean_absolute_error(valid_data, sub.iloc[:5, 1:])"
   ]
  },
  {
   "cell_type": "code",
   "execution_count": 68,
   "id": "df9989e1",
   "metadata": {},
   "outputs": [],
   "source": [
    "sub.to_csv(\"prophet_5.csv\", index=0)"
   ]
  },
  {
   "cell_type": "code",
   "execution_count": null,
   "id": "c2558724",
   "metadata": {},
   "outputs": [],
   "source": []
  },
  {
   "cell_type": "code",
   "execution_count": null,
   "id": "eb897e6f",
   "metadata": {},
   "outputs": [],
   "source": [
    "'''\n",
    "2951.940868644006\n",
    "2817.600236005654\n",
    "2801.6621159447204\n",
    "2788.0299358650095\n",
    "2763.855672652166\n",
    "'''\n"
   ]
  }
 ],
 "metadata": {
  "kernelspec": {
   "display_name": "Python 3 (ipykernel)",
   "language": "python",
   "name": "python3"
  },
  "language_info": {
   "codemirror_mode": {
    "name": "ipython",
    "version": 3
   },
   "file_extension": ".py",
   "mimetype": "text/x-python",
   "name": "python",
   "nbconvert_exporter": "python",
   "pygments_lexer": "ipython3",
   "version": "3.9.7"
  }
 },
 "nbformat": 4,
 "nbformat_minor": 5
}
